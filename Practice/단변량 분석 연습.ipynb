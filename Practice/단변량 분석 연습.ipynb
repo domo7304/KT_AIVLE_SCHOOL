{
 "cells": [
  {
   "cell_type": "markdown",
   "id": "20cea504-ac81-457a-ac7c-c4b0847faf73",
   "metadata": {},
   "source": [
    "### Info : 서울시 구별 코드정보\n",
    "'01': '종로구', '02': '중구', '03': '용산구', '04': '성동구', '05': '광진구', '06': '동대문구', '07': '중랑구', '08': '성북구', '09': '강북구', '10': '도봉구', '11': '노원구', '12': '은평구', '13': '서대문구', '14': '마포구', '15': '양천구', '16': '강서구', '17': '구로구', '18': '금천구', '19': '영등포구', '20': '동작구', '21': '관악구', '22': '서초구', '23': '강남구', '24': '송파구', '25': '강동구'"
   ]
  },
  {
   "cell_type": "code",
   "execution_count": 10,
   "id": "00f0042c-8bf3-40c4-b51f-3ef8e72fe323",
   "metadata": {},
   "outputs": [],
   "source": [
    "import numpy as np\n",
    "import pandas as pd\n",
    "import matplotlib.pyplot as plt\n",
    "import seaborn as sns"
   ]
  },
  {
   "cell_type": "code",
   "execution_count": 33,
   "id": "ca4cb8ed-feb7-4843-adbf-d586cc643df5",
   "metadata": {},
   "outputs": [],
   "source": [
    "bus_boarding = pd.read_csv('1.1 bus_station_boarding.csv', encoding='cp949')"
   ]
  },
  {
   "cell_type": "code",
   "execution_count": 17,
   "id": "11677b2a-7f7a-416a-9630-8ddd169a2987",
   "metadata": {},
   "outputs": [],
   "source": [
    "seoul_bus_station = pd.read_csv('1.2 bus_station_seoul.csv')"
   ]
  },
  {
   "cell_type": "markdown",
   "id": "9d55c010-ff01-49f6-a457-e6fc8f03cdc6",
   "metadata": {},
   "source": [
    "### 1. 데이터 특성 파악 (info(), head(), tail() 등)"
   ]
  },
  {
   "cell_type": "code",
   "execution_count": 15,
   "id": "9b0502af-efe7-4303-86b0-1fa84c2a4904",
   "metadata": {},
   "outputs": [
    {
     "name": "stdout",
     "output_type": "stream",
     "text": [
      "<class 'pandas.core.frame.DataFrame'>\n",
      "RangeIndex: 1169878 entries, 0 to 1169877\n",
      "Data columns (total 8 columns):\n",
      " #   Column      Non-Null Count    Dtype \n",
      "---  ------      --------------    ----- \n",
      " 0   사용일자        1169878 non-null  int64 \n",
      " 1   노선번호        1169878 non-null  object\n",
      " 2   노선명         1169878 non-null  object\n",
      " 3   버스정류장ARS번호  1169878 non-null  object\n",
      " 4   역명          1169878 non-null  object\n",
      " 5   승차총승객수      1169878 non-null  int64 \n",
      " 6   하차총승객수      1169878 non-null  int64 \n",
      " 7   등록일자        1169878 non-null  int64 \n",
      "dtypes: int64(4), object(4)\n",
      "memory usage: 71.4+ MB\n"
     ]
    }
   ],
   "source": [
    "bus_boarding.info()"
   ]
  },
  {
   "cell_type": "code",
   "execution_count": 18,
   "id": "a3f9f1ee-629c-429f-af67-6a0efda8edc2",
   "metadata": {},
   "outputs": [
    {
     "data": {
      "text/html": [
       "<div>\n",
       "<style scoped>\n",
       "    .dataframe tbody tr th:only-of-type {\n",
       "        vertical-align: middle;\n",
       "    }\n",
       "\n",
       "    .dataframe tbody tr th {\n",
       "        vertical-align: top;\n",
       "    }\n",
       "\n",
       "    .dataframe thead th {\n",
       "        text-align: right;\n",
       "    }\n",
       "</style>\n",
       "<table border=\"1\" class=\"dataframe\">\n",
       "  <thead>\n",
       "    <tr style=\"text-align: right;\">\n",
       "      <th></th>\n",
       "      <th>사용일자</th>\n",
       "      <th>노선번호</th>\n",
       "      <th>노선명</th>\n",
       "      <th>버스정류장ARS번호</th>\n",
       "      <th>역명</th>\n",
       "      <th>승차총승객수</th>\n",
       "      <th>하차총승객수</th>\n",
       "      <th>등록일자</th>\n",
       "    </tr>\n",
       "  </thead>\n",
       "  <tbody>\n",
       "    <tr>\n",
       "      <th>0</th>\n",
       "      <td>20220401</td>\n",
       "      <td>2112</td>\n",
       "      <td>2112번(면목동~성북동)</td>\n",
       "      <td>06243</td>\n",
       "      <td>장안동삼성쉐르빌아파트</td>\n",
       "      <td>31</td>\n",
       "      <td>156</td>\n",
       "      <td>20220404</td>\n",
       "    </tr>\n",
       "    <tr>\n",
       "      <th>1</th>\n",
       "      <td>20220401</td>\n",
       "      <td>2112</td>\n",
       "      <td>2112번(면목동~성북동)</td>\n",
       "      <td>06242</td>\n",
       "      <td>새서울병원</td>\n",
       "      <td>46</td>\n",
       "      <td>153</td>\n",
       "      <td>20220404</td>\n",
       "    </tr>\n",
       "    <tr>\n",
       "      <th>2</th>\n",
       "      <td>20220401</td>\n",
       "      <td>2112</td>\n",
       "      <td>2112번(면목동~성북동)</td>\n",
       "      <td>06238</td>\n",
       "      <td>장안동근린공원</td>\n",
       "      <td>11</td>\n",
       "      <td>80</td>\n",
       "      <td>20220404</td>\n",
       "    </tr>\n",
       "    <tr>\n",
       "      <th>3</th>\n",
       "      <td>20220401</td>\n",
       "      <td>2112</td>\n",
       "      <td>2112번(면목동~성북동)</td>\n",
       "      <td>06309</td>\n",
       "      <td>휘경공고휘경주공아파트</td>\n",
       "      <td>56</td>\n",
       "      <td>65</td>\n",
       "      <td>20220404</td>\n",
       "    </tr>\n",
       "    <tr>\n",
       "      <th>4</th>\n",
       "      <td>20220401</td>\n",
       "      <td>100</td>\n",
       "      <td>100번(하계동~용산구청)</td>\n",
       "      <td>11428</td>\n",
       "      <td>한성여객종점</td>\n",
       "      <td>9</td>\n",
       "      <td>5</td>\n",
       "      <td>20220404</td>\n",
       "    </tr>\n",
       "  </tbody>\n",
       "</table>\n",
       "</div>"
      ],
      "text/plain": [
       "       사용일자  노선번호             노선명 버스정류장ARS번호           역명  승차총승객수  하차총승객수  \\\n",
       "0  20220401  2112  2112번(면목동~성북동)      06243  장안동삼성쉐르빌아파트      31     156   \n",
       "1  20220401  2112  2112번(면목동~성북동)      06242        새서울병원      46     153   \n",
       "2  20220401  2112  2112번(면목동~성북동)      06238      장안동근린공원      11      80   \n",
       "3  20220401  2112  2112번(면목동~성북동)      06309  휘경공고휘경주공아파트      56      65   \n",
       "4  20220401   100  100번(하계동~용산구청)      11428       한성여객종점       9       5   \n",
       "\n",
       "       등록일자  \n",
       "0  20220404  \n",
       "1  20220404  \n",
       "2  20220404  \n",
       "3  20220404  \n",
       "4  20220404  "
      ]
     },
     "execution_count": 18,
     "metadata": {},
     "output_type": "execute_result"
    }
   ],
   "source": [
    "bus_boarding.head()"
   ]
  },
  {
   "cell_type": "code",
   "execution_count": 19,
   "id": "2b447542-792a-416f-9f59-35f4a37a5e0b",
   "metadata": {},
   "outputs": [
    {
     "data": {
      "text/html": [
       "<div>\n",
       "<style scoped>\n",
       "    .dataframe tbody tr th:only-of-type {\n",
       "        vertical-align: middle;\n",
       "    }\n",
       "\n",
       "    .dataframe tbody tr th {\n",
       "        vertical-align: top;\n",
       "    }\n",
       "\n",
       "    .dataframe thead th {\n",
       "        text-align: right;\n",
       "    }\n",
       "</style>\n",
       "<table border=\"1\" class=\"dataframe\">\n",
       "  <thead>\n",
       "    <tr style=\"text-align: right;\">\n",
       "      <th></th>\n",
       "      <th>사용일자</th>\n",
       "      <th>노선번호</th>\n",
       "      <th>노선명</th>\n",
       "      <th>버스정류장ARS번호</th>\n",
       "      <th>역명</th>\n",
       "      <th>승차총승객수</th>\n",
       "      <th>하차총승객수</th>\n",
       "      <th>등록일자</th>\n",
       "    </tr>\n",
       "  </thead>\n",
       "  <tbody>\n",
       "    <tr>\n",
       "      <th>1169873</th>\n",
       "      <td>20220430</td>\n",
       "      <td>7738</td>\n",
       "      <td>7738번(은평공영차고지~홍제역)</td>\n",
       "      <td>12004</td>\n",
       "      <td>수색교</td>\n",
       "      <td>2</td>\n",
       "      <td>32</td>\n",
       "      <td>20220503</td>\n",
       "    </tr>\n",
       "    <tr>\n",
       "      <th>1169874</th>\n",
       "      <td>20220430</td>\n",
       "      <td>201</td>\n",
       "      <td>201번(구리~서울역)</td>\n",
       "      <td>06278</td>\n",
       "      <td>세종대왕기념관</td>\n",
       "      <td>153</td>\n",
       "      <td>43</td>\n",
       "      <td>20220503</td>\n",
       "    </tr>\n",
       "    <tr>\n",
       "      <th>1169875</th>\n",
       "      <td>20220430</td>\n",
       "      <td>강서01</td>\n",
       "      <td>강서01(약수터~등촌역)</td>\n",
       "      <td>16555</td>\n",
       "      <td>화곡본동시장</td>\n",
       "      <td>133</td>\n",
       "      <td>6</td>\n",
       "      <td>20220503</td>\n",
       "    </tr>\n",
       "    <tr>\n",
       "      <th>1169876</th>\n",
       "      <td>20220430</td>\n",
       "      <td>3321</td>\n",
       "      <td>3321번(강동차고지~강동구청)</td>\n",
       "      <td>25236</td>\n",
       "      <td>굽은다리사거리</td>\n",
       "      <td>36</td>\n",
       "      <td>41</td>\n",
       "      <td>20220503</td>\n",
       "    </tr>\n",
       "    <tr>\n",
       "      <th>1169877</th>\n",
       "      <td>20220430</td>\n",
       "      <td>201</td>\n",
       "      <td>201번(구리~서울역)</td>\n",
       "      <td>06280</td>\n",
       "      <td>영휘원사거리.(구)홍릉사거리</td>\n",
       "      <td>122</td>\n",
       "      <td>49</td>\n",
       "      <td>20220503</td>\n",
       "    </tr>\n",
       "  </tbody>\n",
       "</table>\n",
       "</div>"
      ],
      "text/plain": [
       "             사용일자  노선번호                 노선명 버스정류장ARS번호               역명  \\\n",
       "1169873  20220430  7738  7738번(은평공영차고지~홍제역)      12004              수색교   \n",
       "1169874  20220430   201        201번(구리~서울역)      06278          세종대왕기념관   \n",
       "1169875  20220430  강서01       강서01(약수터~등촌역)      16555           화곡본동시장   \n",
       "1169876  20220430  3321   3321번(강동차고지~강동구청)      25236          굽은다리사거리   \n",
       "1169877  20220430   201        201번(구리~서울역)      06280  영휘원사거리.(구)홍릉사거리   \n",
       "\n",
       "         승차총승객수  하차총승객수      등록일자  \n",
       "1169873       2      32  20220503  \n",
       "1169874     153      43  20220503  \n",
       "1169875     133       6  20220503  \n",
       "1169876      36      41  20220503  \n",
       "1169877     122      49  20220503  "
      ]
     },
     "execution_count": 19,
     "metadata": {},
     "output_type": "execute_result"
    }
   ],
   "source": [
    "bus_boarding.tail()"
   ]
  },
  {
   "cell_type": "markdown",
   "id": "1d2cfa65-793d-40fb-aa1d-36bd9427ea68",
   "metadata": {},
   "source": [
    "### 1.1 데이터 특성 파악 후 해야할 작업들 구상"
   ]
  },
  {
   "cell_type": "markdown",
   "id": "8e99daef-f0f0-44a3-948d-e665faad8eae",
   "metadata": {},
   "source": [
    "- 등록일자는 필요하지 않기 때문에 제거\n",
    "- 사용일자는 datetime 자료형으로 바꿔주자\n",
    "- 버스정류장ARS번호는 int 자료형으로 바꿔주자"
   ]
  },
  {
   "cell_type": "code",
   "execution_count": 34,
   "id": "741b7929-1802-4911-8c4c-29e595801602",
   "metadata": {},
   "outputs": [
    {
     "data": {
      "text/html": [
       "<div>\n",
       "<style scoped>\n",
       "    .dataframe tbody tr th:only-of-type {\n",
       "        vertical-align: middle;\n",
       "    }\n",
       "\n",
       "    .dataframe tbody tr th {\n",
       "        vertical-align: top;\n",
       "    }\n",
       "\n",
       "    .dataframe thead th {\n",
       "        text-align: right;\n",
       "    }\n",
       "</style>\n",
       "<table border=\"1\" class=\"dataframe\">\n",
       "  <thead>\n",
       "    <tr style=\"text-align: right;\">\n",
       "      <th></th>\n",
       "      <th>사용일자</th>\n",
       "      <th>노선번호</th>\n",
       "      <th>노선명</th>\n",
       "      <th>버스정류장ARS번호</th>\n",
       "      <th>역명</th>\n",
       "      <th>승차총승객수</th>\n",
       "      <th>하차총승객수</th>\n",
       "    </tr>\n",
       "  </thead>\n",
       "  <tbody>\n",
       "    <tr>\n",
       "      <th>0</th>\n",
       "      <td>20220401</td>\n",
       "      <td>2112</td>\n",
       "      <td>2112번(면목동~성북동)</td>\n",
       "      <td>06243</td>\n",
       "      <td>장안동삼성쉐르빌아파트</td>\n",
       "      <td>31</td>\n",
       "      <td>156</td>\n",
       "    </tr>\n",
       "    <tr>\n",
       "      <th>1</th>\n",
       "      <td>20220401</td>\n",
       "      <td>2112</td>\n",
       "      <td>2112번(면목동~성북동)</td>\n",
       "      <td>06242</td>\n",
       "      <td>새서울병원</td>\n",
       "      <td>46</td>\n",
       "      <td>153</td>\n",
       "    </tr>\n",
       "    <tr>\n",
       "      <th>2</th>\n",
       "      <td>20220401</td>\n",
       "      <td>2112</td>\n",
       "      <td>2112번(면목동~성북동)</td>\n",
       "      <td>06238</td>\n",
       "      <td>장안동근린공원</td>\n",
       "      <td>11</td>\n",
       "      <td>80</td>\n",
       "    </tr>\n",
       "    <tr>\n",
       "      <th>3</th>\n",
       "      <td>20220401</td>\n",
       "      <td>2112</td>\n",
       "      <td>2112번(면목동~성북동)</td>\n",
       "      <td>06309</td>\n",
       "      <td>휘경공고휘경주공아파트</td>\n",
       "      <td>56</td>\n",
       "      <td>65</td>\n",
       "    </tr>\n",
       "    <tr>\n",
       "      <th>4</th>\n",
       "      <td>20220401</td>\n",
       "      <td>100</td>\n",
       "      <td>100번(하계동~용산구청)</td>\n",
       "      <td>11428</td>\n",
       "      <td>한성여객종점</td>\n",
       "      <td>9</td>\n",
       "      <td>5</td>\n",
       "    </tr>\n",
       "  </tbody>\n",
       "</table>\n",
       "</div>"
      ],
      "text/plain": [
       "       사용일자  노선번호             노선명 버스정류장ARS번호           역명  승차총승객수  하차총승객수\n",
       "0  20220401  2112  2112번(면목동~성북동)      06243  장안동삼성쉐르빌아파트      31     156\n",
       "1  20220401  2112  2112번(면목동~성북동)      06242        새서울병원      46     153\n",
       "2  20220401  2112  2112번(면목동~성북동)      06238      장안동근린공원      11      80\n",
       "3  20220401  2112  2112번(면목동~성북동)      06309  휘경공고휘경주공아파트      56      65\n",
       "4  20220401   100  100번(하계동~용산구청)      11428       한성여객종점       9       5"
      ]
     },
     "execution_count": 34,
     "metadata": {},
     "output_type": "execute_result"
    }
   ],
   "source": [
    "# 1. 등록일자 열 제거\n",
    "bus_boarding.drop('등록일자', axis=1, inplace=True)\n",
    "bus_boarding.head()"
   ]
  },
  {
   "cell_type": "code",
   "execution_count": 37,
   "id": "c1adb002-1a91-4cd7-8b1e-81ec2dd49729",
   "metadata": {},
   "outputs": [
    {
     "name": "stdout",
     "output_type": "stream",
     "text": [
      "<class 'pandas.core.frame.DataFrame'>\n",
      "RangeIndex: 1169878 entries, 0 to 1169877\n",
      "Data columns (total 7 columns):\n",
      " #   Column      Non-Null Count    Dtype         \n",
      "---  ------      --------------    -----         \n",
      " 0   사용일자        1169878 non-null  datetime64[ns]\n",
      " 1   노선번호        1169878 non-null  object        \n",
      " 2   노선명         1169878 non-null  object        \n",
      " 3   버스정류장ARS번호  1169878 non-null  object        \n",
      " 4   역명          1169878 non-null  object        \n",
      " 5   승차총승객수      1169878 non-null  int64         \n",
      " 6   하차총승객수      1169878 non-null  int64         \n",
      "dtypes: datetime64[ns](1), int64(2), object(4)\n",
      "memory usage: 62.5+ MB\n"
     ]
    }
   ],
   "source": [
    "# 2. 사용일자 자료형 변경\n",
    "bus_boarding['사용일자'] = pd.to_datetime(bus_boarding['사용일자'])\n",
    "bus_boarding.info()"
   ]
  },
  {
   "cell_type": "code",
   "execution_count": null,
   "id": "d7815853-595f-4a63-9964-66ec9f801877",
   "metadata": {},
   "outputs": [],
   "source": [
    "# 3. 노선번호, 버스정류장ARS 번호 자료형 변경\n",
    "# bus_boarding['버스정류장ARS번호'] = bus_boarding['버스정류장ARS번호'].astype('int')\n",
    "# bus_boarding.info()\n",
    "# 시도 결과 어딘가 이상한 값이 있음을 파악 제거 작업 수행\n"
   ]
  },
  {
   "cell_type": "code",
   "execution_count": null,
   "id": "a28ec0cd-9b94-44c5-bff3-8ac458147459",
   "metadata": {},
   "outputs": [],
   "source": []
  }
 ],
 "metadata": {
  "kernelspec": {
   "display_name": "lecture",
   "language": "python",
   "name": "lecture"
  },
  "language_info": {
   "codemirror_mode": {
    "name": "ipython",
    "version": 3
   },
   "file_extension": ".py",
   "mimetype": "text/x-python",
   "name": "python",
   "nbconvert_exporter": "python",
   "pygments_lexer": "ipython3",
   "version": "3.7.16"
  }
 },
 "nbformat": 4,
 "nbformat_minor": 5
}
