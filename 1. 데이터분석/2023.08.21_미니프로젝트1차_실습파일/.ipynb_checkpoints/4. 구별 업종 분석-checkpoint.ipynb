{
 "cells": [
  {
   "cell_type": "markdown",
   "id": "6e5ac192-b467-4b77-832f-282cd98c0977",
   "metadata": {},
   "source": [
    "## AIVLE School [AI 미니프로젝트] '서울시 생활정보 기반 대중교통 수요 분석'"
   ]
  },
  {
   "cell_type": "markdown",
   "id": "ef575059",
   "metadata": {},
   "source": [
    "---"
   ]
  },
  {
   "cell_type": "markdown",
   "id": "d4432995-cf83-4bf0-b2ea-e2691a735fd3",
   "metadata": {},
   "source": [
    "# 4. 구 별 업종 분석\n",
    "### 서울시 내 각 구 별로 등록업종을 분석합니다."
   ]
  },
  {
   "cell_type": "markdown",
   "id": "0f5d22b8-fc14-488c-aa36-62553981a5ad",
   "metadata": {},
   "source": [
    "## 데이터 안내\n",
    "\n",
    "[데이터 파일명]\n",
    "* 4. seoul_people.csv\n",
    "\n",
    "[데이터 정보]\n",
    "* 서울 시 구별 등록 업종 상위 10개 데이터\n",
    "    * 택시운송업\n",
    "    * 한식일반음식점업\n",
    "    * 용달 화물자동차 운송업\n",
    "    * 부동산 중개 및 대리업\n",
    "    * 두발미용업\n",
    "    * 커피전문점\n",
    "    * 남녀용 겉옷 및 셔츠 도매업\n",
    "    * 기타주점업\n",
    "    * 일반 교과 학원\n",
    "    * 한식 육류요리 전문점\n",
    "\n",
    "[데이터 컬럼 정보]\n",
    "* 다수 업종 상위 1~10"
   ]
  },
  {
   "cell_type": "code",
   "execution_count": null,
   "id": "4c6ced42",
   "metadata": {},
   "outputs": [],
   "source": [
    "# 필요 라이브러리를 설치합니다.\n",
    "%pip install pandas seaborn"
   ]
  },
  {
   "cell_type": "markdown",
   "id": "matched-broad",
   "metadata": {},
   "source": [
    "---"
   ]
  },
  {
   "cell_type": "markdown",
   "id": "ecd49e73-152e-4ce8-89cc-62484af2a059",
   "metadata": {},
   "source": [
    "# 4.1.데이터 불러오기"
   ]
  },
  {
   "cell_type": "markdown",
   "id": "2162496e-7b4e-460d-9241-cc2877830c3a",
   "metadata": {},
   "source": [
    "#### [4.1.1] 데이터 로딩\n",
    "* Pandas 라이브러리를 활용해서 '4. business_type.csv'파일을 'seoul_business' 변수에 저장하세요.\n",
    "    * 데이터 파일 로딩시 참고 사항 \n",
    "        * 구분자(sep)는 ',' 입니다\n",
    "        * 인코더를 사용해 주세요\n",
    "    * 데이터를 불러올 때 오류가 발생한다면, 오류에 대해 직접 검색하여 해결해보세요."
   ]
  },
  {
   "cell_type": "code",
   "execution_count": null,
   "id": "saving-slope",
   "metadata": {},
   "outputs": [],
   "source": [
    "# 아래에 코드를 작성하고 결과를 확인합니다.\n",
    "\n"
   ]
  },
  {
   "cell_type": "code",
   "execution_count": null,
   "id": "funny-subcommittee",
   "metadata": {},
   "outputs": [],
   "source": [
    "# 데이터 프레임의 Shape을 확인합니다.\n"
   ]
  },
  {
   "cell_type": "markdown",
   "id": "73396b42",
   "metadata": {},
   "source": [
    "---"
   ]
  },
  {
   "cell_type": "markdown",
   "id": "annoying-trout",
   "metadata": {},
   "source": [
    "# 4.2.기본 정보 확인 및 클렌징\n",
    "\n",
    "+ 데이터 클렌징 : 결측치, 이상치 등을 제거하여 데이터 분석 결과가 왜곡 되는 문제를 방지하기 위한 정제 과정"
   ]
  },
  {
   "cell_type": "markdown",
   "id": "romantic-johnson",
   "metadata": {},
   "source": [
    "#### [4.2.1] 기본 정보 확인하기\n",
    "* 'seoul_business' 데이터의 정보를 확인해보세요.\n",
    "* 'describe', 'info', 'head', 'tail' 등 전부 활용해 보겠습니다."
   ]
  },
  {
   "cell_type": "code",
   "execution_count": null,
   "id": "demographic-battery",
   "metadata": {},
   "outputs": [],
   "source": [
    "# 아래에 코드를 작성하고 결과를 확인합니다.\n",
    "\n"
   ]
  },
  {
   "cell_type": "code",
   "execution_count": null,
   "id": "940a114a",
   "metadata": {},
   "outputs": [],
   "source": [
    "# 아래에 코드를 작성하고 결과를 확인합니다.\n",
    "\n"
   ]
  },
  {
   "cell_type": "code",
   "execution_count": null,
   "id": "7343fadf",
   "metadata": {},
   "outputs": [],
   "source": [
    "# 아래에 코드를 작성하고 결과를 확인합니다.\n"
   ]
  },
  {
   "cell_type": "code",
   "execution_count": null,
   "id": "7f77b32f",
   "metadata": {},
   "outputs": [],
   "source": [
    "# 아래에 코드를 작성하고 결과를 확인합니다.\n"
   ]
  },
  {
   "cell_type": "markdown",
   "id": "003322b3",
   "metadata": {},
   "source": [
    "#### [4.2.2] 원하는 데이터 형태로 저장하기\n",
    "\n",
    "* head, tail 등을 살펴본 결과를 토대로 header 값을 적절히 지정하여 데이터를 다시 불러오고 필요한 컬럼만 저장하세요"
   ]
  },
  {
   "cell_type": "code",
   "execution_count": null,
   "id": "aceaca60",
   "metadata": {},
   "outputs": [],
   "source": [
    "#read_csv 재실행. 단, header값을 적절히 지정\n",
    "\n"
   ]
  },
  {
   "cell_type": "code",
   "execution_count": null,
   "id": "1ea9fcd3",
   "metadata": {},
   "outputs": [],
   "source": [
    "# 다시 불러온 데이터프레임에서 여러분 각자가 사용하고자 하는 컬럼만 가져오세요.\n"
   ]
  },
  {
   "cell_type": "code",
   "execution_count": null,
   "id": "f4954a1f",
   "metadata": {},
   "outputs": [],
   "source": [
    "# 여러분 각자가 사용하고자 하는 형태로 데이터를 정리합니다. \n",
    "# 예를 들어, 동 컬럼의 값이 소계인 항목들만 골라내 보겠습니다. \n",
    "# 위와 같이 동 컬럼의 소계를 구하면 자치구 별 값이 되므로 이후에 동 컬럼은 삭제하겠습니다. 결과적으로 자치구 별 값을 얻게 됩니다.\n"
   ]
  },
  {
   "cell_type": "code",
   "execution_count": null,
   "id": "39eb59e7",
   "metadata": {},
   "outputs": [],
   "source": [
    "# 위에서 여러분 각자가 사용하고자 하는 형태로 정리한 해당 데이터프레임을 csv 파일('df_seoul_business.csv')로 저장하세요.\n",
    "\n"
   ]
  },
  {
   "cell_type": "markdown",
   "id": "602b8bae",
   "metadata": {},
   "source": [
    "---"
   ]
  },
  {
   "cell_type": "markdown",
   "id": "d6300dee-d09a-42f9-b5f0-8b4b4b43daa3",
   "metadata": {},
   "source": [
    "# 4.3.데이터 분석하기\n",
    "+ 데이터의 형태를 살펴보고 다양한 분석기법을 통해 모델링에 적합하도록 정제요소를 선별하세요.\n",
    "  * 데이터들의 패턴 탐색\n",
    "  * 변수들간의 관계 파악"
   ]
  },
  {
   "cell_type": "code",
   "execution_count": null,
   "id": "194ae01d",
   "metadata": {},
   "outputs": [],
   "source": [
    "# 시각화 한글폰트 설정\n",
    "import seaborn as sns\n",
    "import matplotlib.pyplot as plt\n",
    "\n",
    "plt.rc('font', family='Malgun Gothic')\n",
    "sns.set(font=\"Malgun Gothic\",#\"NanumGothicCoding\", \n",
    "        rc={\"axes.unicode_minus\":False}, # 마이너스 부호 깨짐 현상 해결\n",
    "        style='darkgrid')        "
   ]
  },
  {
   "cell_type": "markdown",
   "id": "material-complex",
   "metadata": {},
   "source": [
    "#### [4.3.1] 데이터 분포 알아보기_1\n",
    "* '자치구' 등 여러 변수를 기준으로 시각화 해보고 인사이트를 도출해보세요."
   ]
  },
  {
   "cell_type": "code",
   "execution_count": null,
   "id": "2a610ade",
   "metadata": {},
   "outputs": [],
   "source": [
    "# 아래에 코드를 작성하고 결과를 확인합니다.\n"
   ]
  },
  {
   "cell_type": "code",
   "execution_count": null,
   "id": "86892a60",
   "metadata": {},
   "outputs": [],
   "source": [
    "# 위 차트를 통해 알게된 사실을 정리해봅시다.\n",
    "# 1. \n",
    "# 2.\n",
    "# 3."
   ]
  },
  {
   "cell_type": "markdown",
   "id": "ca567b34",
   "metadata": {},
   "source": [
    "---"
   ]
  }
 ],
 "metadata": {
  "kernelspec": {
   "display_name": "Python 3 (ipykernel)",
   "language": "python",
   "name": "python3"
  },
  "language_info": {
   "codemirror_mode": {
    "name": "ipython",
    "version": 3
   },
   "file_extension": ".py",
   "mimetype": "text/x-python",
   "name": "python",
   "nbconvert_exporter": "python",
   "pygments_lexer": "ipython3",
   "version": "3.10.9"
  },
  "vscode": {
   "interpreter": {
    "hash": "f08154012ddadd8e950e6e9e035c7a7b32c136e7647e9b7c77e02eb723a8bedb"
   }
  }
 },
 "nbformat": 4,
 "nbformat_minor": 5
}
