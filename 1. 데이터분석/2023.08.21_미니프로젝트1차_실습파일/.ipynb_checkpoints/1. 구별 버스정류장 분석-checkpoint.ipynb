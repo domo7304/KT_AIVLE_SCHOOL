{
 "cells": [
  {
   "cell_type": "markdown",
   "id": "boxed-jamaica",
   "metadata": {},
   "source": [
    "## AIVLE School [AI 미니프로젝트] '서울시 생활정보 기반 대중교통 수요 분석'<br>\n",
    "\n",
    "### 미니프로젝트 안내\n",
    "* 미션: 버스 노선 추가가 필요한 서울시 내 자치구 선정\n",
    "* 방법: 1부터 4까지의 ipynb 파일 순서대로 진행하며 데이터 불러오기 및 분석(EDA)을 수행하여 서울시 내 자치구별 정보를 도출하고<br> 이를 바탕으로 5. 데이터 분석에서 버스 노선 추가가 필요한 서울시 내 자치구를 선정해봅니다.<br><br>\n",
    "* 1. 구별 버스정류장 분석.ipynb<br>\n",
    "-- 1.1 bus_station_boarding.csv 파일을 활용하여 <span style=\"color:blue\">서울시 내 각 구별 정류장, 노선수, 승하차 고객수를 분석</span>합니다.<br>\n",
    "  그런데 bus_station_boarding.csv 파일에는 서울시와 경기도의 버스정류장이 모두 포함되어 있기 때문에<br>\n",
    "  1.2 bus_station_seoul.csv의 정보를 추가로 활용하여 서울시 정류장만 골라내어 분석 대상에 포함시킵니다.<br><br>\n",
    "* 2. 구별 이동인구 분석.ipynb<br>\n",
    "-- 2. seoul_moving.csv 파일을 활용하여 <span style=\"color:blue\">서울시 내 구별 이동 시간과 이동 인구를 분석</span>합니다.<br><br>\n",
    "* 3. 구별 등록인구 분석.ipynb<br>\n",
    "-- 3. seoul_people.csv 파일을 활용하여 <span style=\"color:blue\">서울시 내 구별 등록인구를 분석</span>합니다. <br><br>\n",
    "* 4. 구별 업종 분석.ipynb<br>\n",
    "-- 4. business_type.csv 파일을 활용하여 <span style=\"color:blue\">서울시 내 구별 등록업종을 분석</span>합니다.<br><br>\n",
    "* 5. 데이터 분석.ipynb<br>\n",
    "-- 위 1~4에서 도출한 데이터 프레임을 합쳐서 <span style=\"color:blue\">서울시 내 어느 구에 버스 노선을 추가해야 할 지</span> 가설 수립 및 검증 과정을 거쳐 분석합니다.<br> (y값은 정류장 수 또는 노선 수)"
   ]
  },
  {
   "cell_type": "markdown",
   "id": "ef575059",
   "metadata": {},
   "source": [
    "---"
   ]
  },
  {
   "cell_type": "markdown",
   "id": "f2bc4fa5",
   "metadata": {},
   "source": [
    "# 1. 버스정류장 분석\n",
    "### 버스정류장 데이터를 활용하여 서울시 내 각 구별 정류장 수, 노선 수, 승하차 고객수를 분석합니다.\n",
    "### 이때, 서울시가 아닌 정류장 정보가 포함되어 있다면 이 정류장들을 제거하고 분석해야 합니다."
   ]
  },
  {
   "cell_type": "code",
   "execution_count": null,
   "id": "4c6ced42",
   "metadata": {},
   "outputs": [],
   "source": [
    "# 필요 라이브러리를 설치합니다.\n",
    "%pip install pandas seaborn"
   ]
  },
  {
   "cell_type": "markdown",
   "id": "revolutionary-farmer",
   "metadata": {},
   "source": [
    "## 데이터 안내\n",
    "\n",
    "[기본 데이터]\n",
    "* 1.1 bus_station_boarding.csv \n",
    "* 서울시 버스노선별 정류장별 승하차 인원 정보\n",
    "* https://data.seoul.go.kr/dataList/OA-12912/S/1/datasetView.do\n",
    "\n",
    "\n",
    "[추가 데이터]\n",
    "* 1.1 bus_station_seoul.csv\n",
    "* 서울시 버스정류장 위치정보\n",
    "* https://data.seoul.go.kr/dataList/OA-15067/S/1/datasetView.do"
   ]
  },
  {
   "cell_type": "markdown",
   "id": "matched-broad",
   "metadata": {},
   "source": [
    "---"
   ]
  },
  {
   "cell_type": "markdown",
   "id": "warming-gentleman",
   "metadata": {
    "tags": []
   },
   "source": [
    "# 1.1. 데이터 불러오기"
   ]
  },
  {
   "cell_type": "markdown",
   "id": "vocational-animal",
   "metadata": {},
   "source": [
    "#### [1.1.1] 데이터 로딩\n",
    "* Pandas 라이브러리를 활용해서 '1.1 bus_station_boarding.csv'파일을 'bus_station' 변수에 저장하세요.\n",
    "    * 데이터 파일 로딩시 참고 사항 \n",
    "        * 구분자(sep)는 ',' 입니다\n",
    "        * cp949 인코더를 사용해 주세요\n",
    "    * 데이터를 불러올 때 오류가 발생한다면, 오류에 대해 직접 검색하여 해결해보세요."
   ]
  },
  {
   "cell_type": "code",
   "execution_count": null,
   "id": "0bd83ddf",
   "metadata": {},
   "outputs": [],
   "source": [
    "import sys\n",
    "import numpy as np\n",
    "import pandas as pd"
   ]
  },
  {
   "cell_type": "code",
   "execution_count": null,
   "id": "saving-slope",
   "metadata": {},
   "outputs": [],
   "source": [
    "# 아래에 코드를 작성하고 결과를 확인합니다.\n",
    "\n"
   ]
  },
  {
   "cell_type": "code",
   "execution_count": null,
   "id": "funny-subcommittee",
   "metadata": {},
   "outputs": [],
   "source": [
    "# 데이터 프레임의 Shape을 확인합니다.\n",
    "\n"
   ]
  },
  {
   "cell_type": "markdown",
   "id": "73396b42",
   "metadata": {},
   "source": [
    "---"
   ]
  },
  {
   "cell_type": "markdown",
   "id": "annoying-trout",
   "metadata": {},
   "source": [
    "# 1.2. 기본 정보 확인 및 클렌징\n",
    "\n",
    "+ 데이터 클렌징 : 결측치, 이상치 등을 제거하여 데이터 분석 결과가 왜곡 되는 문제를 방지하기 위한 정제 과정"
   ]
  },
  {
   "cell_type": "markdown",
   "id": "romantic-johnson",
   "metadata": {},
   "source": [
    "#### [1.2.1] 기본 정보 확인하기\n",
    "* 'bus_station' 데이터의 정보를 확인해보세요.\n",
    "* 'describe', 'info', 'head', 'tail' 등 전부 활용해 보세요.\n",
    "* 데이터 중에서 컬럼명으로 봤을 때 int 이어야 할 것 같은데 object인 컬럼들이 있습니다. 왜 그런지 이 컬럼들을 더 분석해보세요."
   ]
  },
  {
   "cell_type": "code",
   "execution_count": null,
   "id": "7343fadf",
   "metadata": {},
   "outputs": [],
   "source": [
    "# 아래에 코드를 작성하고 결과를 확인합니다.\n"
   ]
  },
  {
   "cell_type": "code",
   "execution_count": null,
   "id": "7f77b32f",
   "metadata": {},
   "outputs": [],
   "source": [
    "# 아래에 코드를 작성하고 결과를 확인합니다.\n"
   ]
  },
  {
   "cell_type": "code",
   "execution_count": null,
   "id": "demographic-battery",
   "metadata": {},
   "outputs": [],
   "source": [
    "# 아래에 코드를 작성하고 결과를 확인합니다.\n"
   ]
  },
  {
   "cell_type": "code",
   "execution_count": null,
   "id": "940a114a",
   "metadata": {},
   "outputs": [],
   "source": [
    "# 아래에 코드를 작성하고 결과를 확인합니다.\n"
   ]
  },
  {
   "cell_type": "markdown",
   "id": "7888898f",
   "metadata": {},
   "source": [
    "#### [1.2.2] 버스정류장 위치를 구 별로 구분 하기\n",
    "\n",
    "* tip! 버스정류장ARS번호의 앞 두자리가 구를 의미합니다.\n",
    "\n",
    "* '자치구' column을 추가하여 정류장이 위치한 구 이름을 등록해주세요.\n"
   ]
  },
  {
   "cell_type": "code",
   "execution_count": null,
   "id": "98e2fc76",
   "metadata": {},
   "outputs": [],
   "source": [
    "# 먼저, bus_station에서 버스정류장ARS번호의 정보를 확인해보세요.\n"
   ]
  },
  {
   "cell_type": "code",
   "execution_count": null,
   "id": "056437b2",
   "metadata": {},
   "outputs": [],
   "source": [
    "# 버스정류장 ARS 번호의 앞자리 2개를 잘라내어 새로 '자치구' 컬럼을 생성합니다\n",
    "\n"
   ]
  },
  {
   "cell_type": "code",
   "execution_count": null,
   "id": "798680c4-fb65-4be3-9a70-8c578516200d",
   "metadata": {
    "tags": []
   },
   "outputs": [],
   "source": [
    "# 자치구의 값들이 어떻게 구성되어 있는 지 확인해봅니다. (ex: unique 활용)\n"
   ]
  },
  {
   "cell_type": "markdown",
   "id": "466371f8-b241-4a8d-b19c-19303392578c",
   "metadata": {},
   "source": [
    "#### [1.2.3] 서울시 자치구에 해당하는 버스정류장만 추출하기\n",
    "\n",
    "* 위에서 살펴본 자치구의 값은 숫자 2자리로 구성되어 있습니다. \n",
    "* 그런데 서울시 구별 코드정보는 01부터 25까지라고 합니다(도메인지식)\n",
    "* 그렇다면 01부터 25의 범위를 넘어서는 데이터는 서울시 구별 정보가 아닐 것입니다. 이번 미니프로젝트에서는 서울시에 관한 정보만 분석하고자 하므로 이 데이터를 어떻게 처리하면 좋을지 생각하여 적용해보세요.\n",
    "* 분석 시의 편의를 위해 숫자 2자리 구별 코드는 구 이름으로 변환해주세요.\n",
    "* 서울시 구별 코드정보<br>\n",
    "    '01': '종로구',\n",
    "    '02': '중구',\n",
    "    '03': '용산구',\n",
    "    '04': '성동구',\n",
    "    '05': '광진구',\n",
    "    '06': '동대문구',\n",
    "    '07': '중랑구',\n",
    "    '08': '성북구',\n",
    "    '09': '강북구',\n",
    "    '10': '도봉구',\n",
    "    '11': '노원구',\n",
    "    '12': '은평구',\n",
    "    '13': '서대문구',\n",
    "    '14': '마포구',\n",
    "    '15': '양천구',\n",
    "    '16': '강서구',\n",
    "    '17': '구로구',\n",
    "    '18': '금천구',\n",
    "    '19': '영등포구',\n",
    "    '20': '동작구',\n",
    "    '21': '관악구',\n",
    "    '22': '서초구',\n",
    "    '23': '강남구',\n",
    "    '24': '송파구',\n",
    "    '25': '강동구'"
   ]
  },
  {
   "cell_type": "code",
   "execution_count": null,
   "id": "e43cdae0",
   "metadata": {},
   "outputs": [],
   "source": [
    "# 숫자 2자리 구 코드를 구 이름으로 변환합니다\n",
    "\n"
   ]
  },
  {
   "cell_type": "code",
   "execution_count": null,
   "id": "b118545e",
   "metadata": {},
   "outputs": [],
   "source": [
    "# 숫자 2자리 구 코드를 구 이름으로 변환한 결과를 확인해봅니다.\n",
    "\n",
    "bus_station.head()"
   ]
  },
  {
   "cell_type": "code",
   "execution_count": null,
   "id": "20cc6390-dedb-4b87-a4fb-f401a2696d2b",
   "metadata": {},
   "outputs": [],
   "source": [
    "# 자치구 컬럼의 값들을 확인해봅니다.\n",
    "\n"
   ]
  },
  {
   "cell_type": "markdown",
   "id": "0606db26",
   "metadata": {},
   "source": [
    "#### [1.2.4] 결측치 처리"
   ]
  },
  {
   "cell_type": "code",
   "execution_count": null,
   "id": "f516f562",
   "metadata": {},
   "outputs": [],
   "source": [
    "# NaN 값을 제거 합니다.\n",
    "# 또는 위에서 처리한 방식에 따라 NaN 값이 없는 경우는 자치구 명으로 변환되지 않은 행(서울시 자치구에 해당하지 않는 정보)을 제거합니다\n",
    "\n"
   ]
  },
  {
   "cell_type": "code",
   "execution_count": null,
   "id": "3e9342f9",
   "metadata": {},
   "outputs": [],
   "source": [
    "# NaN 값을 제거한 결과를 확인해봅니다. 결측치가 제가된 만큼 컬럼 갯수가 줄어들었는 지 확인해봅니다.\n"
   ]
  },
  {
   "cell_type": "markdown",
   "id": "003322b3",
   "metadata": {
    "tags": []
   },
   "source": [
    "#### [1.2.5] 데이터 추가 분석 (버스정류장의 위치가 서울시인지 재확인)\n",
    "\n",
    "* 위에서 버스정류장ARS번호의 앞 2자리로 서울시 자치구에 속한 버스정류장만 추출했습니다. \n",
    "* 그런데 이렇게 추출한 버스정류장도 서울시에 속하지 않는 경우가 있어, 추가 데이터를 활용하여 한번 더 서울시 정류장만 추출하려고 합니다."
   ]
  },
  {
   "cell_type": "code",
   "execution_count": null,
   "id": "7b63abb7",
   "metadata": {},
   "outputs": [],
   "source": [
    "# 자치구 별로 정류장의 개수를 확인해봅니다. (nunique로 고유값의 갯수만 확인)\n",
    "\n"
   ]
  },
  {
   "cell_type": "code",
   "execution_count": null,
   "id": "3c63d951",
   "metadata": {},
   "outputs": [],
   "source": [
    "# 강남구와 서초구에 500개가 넘는 버스정류장이 있습니다. \n",
    "# 이 중에 랜덤으로 몇 개를 골라 해당 자치구의 정류장이 맞는 지 확인해 보고자 합니다.\n",
    "# 강남구의 버스정류장ARS번호 전체값을 출력해, 강남구의 버스정류장ARS번호 하나를 조사(네이버 지도에서 버스정류장 검색)해봅니다.\n",
    "\n"
   ]
  },
  {
   "cell_type": "markdown",
   "id": "ca150b7c-bf25-45bd-b504-8675cf38f97c",
   "metadata": {},
   "source": [
    "#### 여기서 잠깐!\n",
    "\n",
    "* 예를 들어 강남구 정류장 중 하나인 23081 정류장을 네이버지도에서 버스정류장 검색을 해보면 강남구가 아니라 남양주에 위치해 있습니다. \n",
    "* 이것은 2015년경 버스 노선을 정리 하면서 서울에서 경기도까지 이어지는 노선들의 버스정류장 ARS번호에 서울시 코드를 부여하여 생긴 현상입니다.(도메인지식) \n",
    "* 하지만 우리는 서울시 내의 데이터가 필요하므로 적절한 조치가 필요합니다."
   ]
  },
  {
   "cell_type": "markdown",
   "id": "1d79425e-6a7f-451b-8db4-669c87c356b6",
   "metadata": {
    "tags": []
   },
   "source": [
    "#### [1.2.6] 추가 csv 파일로 서울시 버스정류장만 추출하기\n",
    "* 위에서 작업한 bus_station 데이터와 서울의 버스 정류장 데이터를 merge하는 방법을 활용해 봅니다.\n",
    "* 서울의 버스 정류장만 포함하고 있는 csv 파일은 아래와 같이 제공됩니다.\n",
    "* 파일명: 1.2 bus_station_seoul.csv\n",
    "* 출처: https://data.seoul.go.kr/dataList/OA-15067/S/1/datasetView.do (서울 열린데이터 광장)"
   ]
  },
  {
   "cell_type": "code",
   "execution_count": null,
   "id": "0753a1e1",
   "metadata": {},
   "outputs": [],
   "source": [
    "# 데이터 로딩 (1.2 bus_station_seoul.csv 의 데이터를 불러와서 only_seoul 변수에 저장합니다)\n",
    "# 데이터 로딩 시 오류가 발생하는 경우 검색 등을 통해 encoding 값을 적용해보세요.\n"
   ]
  },
  {
   "cell_type": "code",
   "execution_count": null,
   "id": "3d26be88",
   "metadata": {},
   "outputs": [],
   "source": [
    "# 서울의 버스정류장 데이터의 정보 확인\n"
   ]
  },
  {
   "cell_type": "code",
   "execution_count": null,
   "id": "e2291dc7",
   "metadata": {},
   "outputs": [],
   "source": [
    "# 데이터 살펴보기\n"
   ]
  },
  {
   "cell_type": "code",
   "execution_count": null,
   "id": "e4f35a67",
   "metadata": {},
   "outputs": [],
   "source": [
    "# 위에서 네이버 지도로 확인했던 강남구 정류장ARS번호 23081이 이 데이터프레임에 있는지 찾아봅니다.\n",
    "\n"
   ]
  },
  {
   "cell_type": "code",
   "execution_count": null,
   "id": "ae560474",
   "metadata": {},
   "outputs": [],
   "source": [
    "# bus_station과 only_seoul 데이터를 합치기 전에 버스정류장ARS번호의 type을 변경합니다. \n",
    "# 어떤 type으로 변경해야 할 지 생각해보세요.\n"
   ]
  },
  {
   "cell_type": "code",
   "execution_count": null,
   "id": "d607bf62",
   "metadata": {},
   "outputs": [],
   "source": [
    "# 두 데이터를 합치기 전에 데이터의 컬럼명을 변경합니다. (버스정류장ARS번호로 맞춥니다.)\n"
   ]
  },
  {
   "cell_type": "code",
   "execution_count": null,
   "id": "2e8214ec",
   "metadata": {},
   "outputs": [],
   "source": [
    "# bus_station과 only_seoul 데이터를 merge 해봅니다.\n"
   ]
  },
  {
   "cell_type": "code",
   "execution_count": null,
   "id": "4bcb5acf",
   "metadata": {},
   "outputs": [],
   "source": [
    "# bus_station과 only_seoul 데이터를 merge한 결과를 확인해봅니다.\n"
   ]
  },
  {
   "cell_type": "code",
   "execution_count": null,
   "id": "1fa4277b",
   "metadata": {
    "tags": []
   },
   "outputs": [],
   "source": [
    "# 버스정류장ARS번호 갯수를 확인해봅니다.\n"
   ]
  },
  {
   "cell_type": "markdown",
   "id": "57502c3b-9ad5-40b9-889b-4dc7c0e8649c",
   "metadata": {
    "tags": []
   },
   "source": [
    "#### [1.2.7] 구 별로 버스 정류장의 개수 확인"
   ]
  },
  {
   "cell_type": "code",
   "execution_count": null,
   "id": "62dbb217",
   "metadata": {},
   "outputs": [],
   "source": [
    "# 구 별로 버스 정류장의 개수를 확인해 봅니다.\n",
    "# 구 별 버스정류장 개수로 구성된 데이터프레임을 seoul_bus_station_ARS에 저장합니다.(groupby 함수에서 as_index 옵션을 사용해보세요)\n",
    "\n"
   ]
  },
  {
   "cell_type": "markdown",
   "id": "e06df7d3-8e58-4052-a785-c11e82dd239f",
   "metadata": {
    "tags": []
   },
   "source": [
    "#### [1.2.8] 구 별로 버스 노선이 몇 개 지나가는 지 확인\n",
    "* 구 별로 버스 노선의 개수 확인"
   ]
  },
  {
   "cell_type": "code",
   "execution_count": null,
   "id": "5588cb7f",
   "metadata": {},
   "outputs": [],
   "source": [
    "# 구 별로 버스 노선 개수를 확인해 봅니다.\n",
    "# 구 별 버스 노선 개수로 구성된 데이터프레임을 seoul_bus_station_line에 저장합니다.\n"
   ]
  },
  {
   "cell_type": "markdown",
   "id": "a186a20a-fc36-498d-be4c-eee60e44b306",
   "metadata": {
    "tags": []
   },
   "source": [
    "#### [1.2.9] 구 별로 승차 총 승객수, 하차 총 승객수 확인"
   ]
  },
  {
   "cell_type": "code",
   "execution_count": null,
   "id": "1cdd246f",
   "metadata": {},
   "outputs": [],
   "source": [
    "# 구 별 승차총승객수, 하차총승객수를 확인해봅니다.\n",
    "# 구 별 승차총승객수, 하차총승객수로 구성된 데이터프레임을 seoul_bus_station_sum에 저장합니다.\n",
    "\n"
   ]
  },
  {
   "cell_type": "markdown",
   "id": "cb7798d0-1161-498f-93a2-cbb22e0dcae8",
   "metadata": {
    "tags": []
   },
   "source": [
    "#### [1.2.10] 구 별로 승차 평균 승객수, 하차 평균 승객수 확인"
   ]
  },
  {
   "cell_type": "code",
   "execution_count": null,
   "id": "cd2e001d",
   "metadata": {},
   "outputs": [],
   "source": [
    "# 구 별 승차 승객수, 하차 승객수의 평균을 확인해봅니다.\n",
    "# 구 별 승차 승객수, 하차 승객수의 평균으로 구성된 데이터프레임을 seoul_bus_station_mean에 저장합니다.\n",
    "# 컬럼명은 승차평균승객수, 하차평균승객수로 바꾸세요.\n"
   ]
  },
  {
   "cell_type": "markdown",
   "id": "0528ad14-39a2-49f2-86e8-9c3494a07886",
   "metadata": {
    "tags": []
   },
   "source": [
    "#### [1.2.11] 데이터 프레임 합치기"
   ]
  },
  {
   "cell_type": "code",
   "execution_count": null,
   "id": "dc284dfd",
   "metadata": {},
   "outputs": [],
   "source": [
    "# 4개의 데이터 프레임을 합쳐서 seoul_bus_station에 저장해보세요.\n",
    "\n",
    "# seoul_bus_station_ARS\n",
    "# seoul_bus_station_line\n",
    "# seoul_bus_station_sum\n",
    "# seoul_bus_station_mean\n",
    "\n"
   ]
  },
  {
   "cell_type": "code",
   "execution_count": null,
   "id": "0f4a0eca",
   "metadata": {},
   "outputs": [],
   "source": [
    "# 필요에 따라 column명을 데이터 의미에 맞게 적절히 변경하세요.\n"
   ]
  },
  {
   "cell_type": "code",
   "execution_count": null,
   "id": "470c3d5d",
   "metadata": {},
   "outputs": [],
   "source": [
    "# 데이터 프레임을 합친 결과 확인\n"
   ]
  },
  {
   "cell_type": "code",
   "execution_count": null,
   "id": "97d0cc3f",
   "metadata": {},
   "outputs": [],
   "source": [
    "# 해당 데이터프레임을 'df_seoul_bus_station.csv' 파일로 저장하세요.\n"
   ]
  },
  {
   "cell_type": "markdown",
   "id": "602b8bae",
   "metadata": {},
   "source": [
    "---"
   ]
  },
  {
   "cell_type": "markdown",
   "id": "southeast-integration",
   "metadata": {},
   "source": [
    "# 1.3.데이터 분석하기\n",
    "+ 데이터의 형태를 살펴보고 다양한 분석기법을 통해 모델링에 적합하도록 정제요소를 선별하세요.\n",
    "  * 데이터들의 패턴 탐색\n",
    "  * 변수들간의 관계 파악"
   ]
  },
  {
   "cell_type": "code",
   "execution_count": null,
   "id": "194ae01d",
   "metadata": {},
   "outputs": [],
   "source": [
    "import seaborn as sns\n",
    "import matplotlib.pyplot as plt\n",
    "\n",
    "# 시각화 한글폰트 설정\n",
    "# 맑은 고딕\n",
    "\n",
    "plt.rc('font', family='Malgun Gothic')\n",
    "sns.set(font=\"Malgun Gothic\",#\"NanumGothicCoding\", \n",
    "        rc={\"axes.unicode_minus\":False}, # 마이너스 부호 깨짐 현상 해결\n",
    "        style='darkgrid')\n",
    "\n",
    "# scipy\n",
    "import scipy.stats as spst  "
   ]
  },
  {
   "cell_type": "markdown",
   "id": "material-complex",
   "metadata": {},
   "source": [
    "#### [1.3.1] 데이터 분포 알아보기\n",
    "* 다양한 변수를 기준으로 그래프를 그려보고 인사이트를 도출해보세요."
   ]
  },
  {
   "cell_type": "code",
   "execution_count": null,
   "id": "2a610ade",
   "metadata": {},
   "outputs": [],
   "source": [
    "# 아래에 코드를 작성하고 결과를 확인합니다.\n"
   ]
  },
  {
   "cell_type": "code",
   "execution_count": null,
   "id": "d731dbb0",
   "metadata": {},
   "outputs": [],
   "source": [
    "# 아래에 코드를 작성하고 결과를 확인합니다.\n"
   ]
  },
  {
   "cell_type": "code",
   "execution_count": null,
   "id": "86892a60",
   "metadata": {},
   "outputs": [],
   "source": [
    "# 위 차트를 통해 알게된 사실을 정리해봅시다.\n",
    "# 1. \n",
    "# 2.\n",
    "# 3."
   ]
  },
  {
   "cell_type": "markdown",
   "id": "ca567b34",
   "metadata": {},
   "source": [
    "---"
   ]
  }
 ],
 "metadata": {
  "kernelspec": {
   "display_name": "Python 3 (ipykernel)",
   "language": "python",
   "name": "python3"
  },
  "language_info": {
   "codemirror_mode": {
    "name": "ipython",
    "version": 3
   },
   "file_extension": ".py",
   "mimetype": "text/x-python",
   "name": "python",
   "nbconvert_exporter": "python",
   "pygments_lexer": "ipython3",
   "version": "3.10.9"
  },
  "vscode": {
   "interpreter": {
    "hash": "f08154012ddadd8e950e6e9e035c7a7b32c136e7647e9b7c77e02eb723a8bedb"
   }
  }
 },
 "nbformat": 4,
 "nbformat_minor": 5
}
