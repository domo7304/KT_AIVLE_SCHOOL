{
 "cells": [
  {
   "cell_type": "markdown",
   "id": "3f009190-aa3e-4691-9171-3941395c8ad2",
   "metadata": {},
   "source": [
    "## AIVLE School [AI 미니프로젝트] '서울시 생활정보 기반 대중교통 수요 분석'<br>"
   ]
  },
  {
   "cell_type": "markdown",
   "id": "7a93c9b1-d5b8-4972-881c-eb171a31b686",
   "metadata": {},
   "source": [
    "# 3. 구 별 등록인구 분석\n",
    "### 서울시 내 각 구 별로 등록된 인구를 분석합니다."
   ]
  },
  {
   "cell_type": "code",
   "execution_count": null,
   "id": "4c6ced42",
   "metadata": {},
   "outputs": [],
   "source": [
    "# 필요 라이브러리를 설치합니다.\n",
    "%pip install pandas seaborn"
   ]
  },
  {
   "cell_type": "markdown",
   "id": "622c0d05-e8c3-4545-93b5-d48221dd80e7",
   "metadata": {},
   "source": [
    "## 데이터 안내\n",
    "\n",
    "[데이터 파일명]\n",
    "* 3. seoul_people.csv\n",
    "\n",
    "[데이터 정보]\n",
    "* 서울시 주민등록 데이터\n",
    "\n",
    "[데이터 컬럼 정보]\n",
    "* 한국인, 등록 외국인, 합계, 세대수, 고령인구수"
   ]
  },
  {
   "cell_type": "markdown",
   "id": "6f86f68e-e389-48cc-af52-6bc1aa75c31d",
   "metadata": {},
   "source": [
    "# 3.1.데이터 불러오기"
   ]
  },
  {
   "cell_type": "markdown",
   "id": "9042c2c6-f02f-4c6e-9f91-c3d08324ecc7",
   "metadata": {},
   "source": [
    "#### [3.1.1] 데이터 로딩\n",
    "* Pandas 라이브러리를 활용해서 '3. seoul_people.csv'파일을 'seoul_people' 변수에 저장하세요.\n",
    "    * 데이터 파일 로딩시 참고 사항 \n",
    "        * 구분자(sep)는 '\\t' 입니다\n",
    "        * 인코더를 사용해 주세요\n",
    "    * 데이터를 불러올 때 오류가 발생한다면, 오류에 대해 직접 검색하여 해결해보세요."
   ]
  },
  {
   "cell_type": "code",
   "execution_count": null,
   "id": "saving-slope",
   "metadata": {},
   "outputs": [],
   "source": [
    "# 아래에 코드를 작성하고 결과를 확인합니다.\n"
   ]
  },
  {
   "cell_type": "code",
   "execution_count": null,
   "id": "funny-subcommittee",
   "metadata": {},
   "outputs": [],
   "source": [
    "# 데이터 프레임의 Shape을 확인합니다.\n"
   ]
  },
  {
   "cell_type": "markdown",
   "id": "7b6bfa23-4ff2-47cc-a83d-dc5629e00fec",
   "metadata": {},
   "source": [
    "# 3.2.기본 정보 확인 및 클렌징\n",
    "\n",
    "+ 데이터 클렌징 : 결측치, 이상치 등을 제거하여 데이터 분석 결과가 왜곡 되는 문제를 방지하기 위한 정제 과정"
   ]
  },
  {
   "cell_type": "markdown",
   "id": "fbdef84e-16f2-4de0-8bd7-977358de995a",
   "metadata": {},
   "source": [
    "#### [3.2.1] 기본 정보 확인하기\n",
    "* 'seoul_people' 데이터의 정보를 확인해보세요.\n",
    "* 'describe', 'info', 'head', 'tail' 등 전부 활용해 보세요."
   ]
  },
  {
   "cell_type": "code",
   "execution_count": null,
   "id": "demographic-battery",
   "metadata": {},
   "outputs": [],
   "source": [
    "# 아래에 코드를 작성하고 결과를 확인합니다.\n",
    "\n"
   ]
  },
  {
   "cell_type": "code",
   "execution_count": null,
   "id": "940a114a",
   "metadata": {},
   "outputs": [],
   "source": [
    "# 아래에 코드를 작성하고 결과를 확인합니다.\n",
    "\n"
   ]
  },
  {
   "cell_type": "code",
   "execution_count": null,
   "id": "7343fadf",
   "metadata": {},
   "outputs": [],
   "source": [
    "# 아래에 코드를 작성하고 결과를 확인합니다.\n"
   ]
  },
  {
   "cell_type": "code",
   "execution_count": null,
   "id": "7f77b32f",
   "metadata": {},
   "outputs": [],
   "source": [
    "# 아래에 코드를 작성하고 결과를 확인합니다.\n"
   ]
  },
  {
   "cell_type": "markdown",
   "id": "003322b3",
   "metadata": {},
   "source": [
    "#### [3.2.2] 원하는 데이터 형태로 저장하기\n",
    "\n",
    "* head, tail 등을 살펴본 결과를 토대로 header 값을 적절히 지정하여 데이터를 다시 불러오고 필요한 컬럼만 저장하세요"
   ]
  },
  {
   "cell_type": "code",
   "execution_count": null,
   "id": "4ac83ed7",
   "metadata": {},
   "outputs": [],
   "source": [
    "#read_csv 재실행. 단, header값을 적절히 지정\n"
   ]
  },
  {
   "cell_type": "code",
   "execution_count": null,
   "id": "28c91276",
   "metadata": {},
   "outputs": [],
   "source": [
    "# 다시 불러온 데이터프레임에서 여러분 각자가 사용하고자 하는 컬럼만 가져오세요.\n"
   ]
  },
  {
   "cell_type": "code",
   "execution_count": null,
   "id": "be9c1d4a",
   "metadata": {},
   "outputs": [],
   "source": [
    "# 해당 데이터프레임을 csv 파일로 저장하세요.\n",
    "\n"
   ]
  },
  {
   "cell_type": "markdown",
   "id": "southeast-integration",
   "metadata": {},
   "source": [
    "# 3.3.데이터 분석하기\n",
    "+ 데이터의 형태를 살펴보고 다양한 분석기법을 통해 모델링에 적합하도록 정제요소를 선별하세요.\n",
    "  * 데이터들의 패턴 탐색\n",
    "  * 변수들간의 관계 파악"
   ]
  },
  {
   "cell_type": "code",
   "execution_count": null,
   "id": "194ae01d",
   "metadata": {},
   "outputs": [],
   "source": [
    "# 시각화 한글폰트 설정\n",
    "import seaborn as sns\n",
    "import matplotlib.pyplot as plt\n",
    "\n",
    "plt.rc('font', family='Malgun Gothic')\n",
    "sns.set(font=\"Malgun Gothic\",#\"NanumGothicCoding\", \n",
    "        rc={\"axes.unicode_minus\":False}, # 마이너스 부호 깨짐 현상 해결\n",
    "        style='darkgrid')        "
   ]
  },
  {
   "cell_type": "markdown",
   "id": "material-complex",
   "metadata": {},
   "source": [
    "#### [3.3.1] 데이터 분포 알아보기\n",
    "* 다양한 변수를 기준으로 그래프를 그려보고 인사이트를 도출해보세요."
   ]
  },
  {
   "cell_type": "code",
   "execution_count": null,
   "id": "acffc469",
   "metadata": {},
   "outputs": [],
   "source": [
    "# 아래에 실습코드를 작성하고 결과를 확인합니다.\n",
    "\n"
   ]
  },
  {
   "cell_type": "code",
   "execution_count": null,
   "id": "86892a60",
   "metadata": {},
   "outputs": [],
   "source": [
    "# 위 차트를 통해 알게된 사실을 정리해봅시다.\n",
    "# 1. \n",
    "# 2.\n",
    "# 3."
   ]
  },
  {
   "cell_type": "markdown",
   "id": "450fcfaa",
   "metadata": {},
   "source": [
    "---"
   ]
  }
 ],
 "metadata": {
  "kernelspec": {
   "display_name": "Python 3 (ipykernel)",
   "language": "python",
   "name": "python3"
  },
  "language_info": {
   "codemirror_mode": {
    "name": "ipython",
    "version": 3
   },
   "file_extension": ".py",
   "mimetype": "text/x-python",
   "name": "python",
   "nbconvert_exporter": "python",
   "pygments_lexer": "ipython3",
   "version": "3.10.9"
  },
  "vscode": {
   "interpreter": {
    "hash": "f08154012ddadd8e950e6e9e035c7a7b32c136e7647e9b7c77e02eb723a8bedb"
   }
  }
 },
 "nbformat": 4,
 "nbformat_minor": 5
}
