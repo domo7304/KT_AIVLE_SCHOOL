{
 "cells": [
  {
   "cell_type": "markdown",
   "metadata": {
    "id": "PmZtDSeUdRJ5"
   },
   "source": [
    "# **종합실습2 이변량분석(y-범주) : 직원 이직 분석**"
   ]
  },
  {
   "cell_type": "markdown",
   "metadata": {
    "id": "MyNEsMVbu-Ot"
   },
   "source": [
    "![](https://www.talentalign.com/wp-content/uploads/2019/09/main-qimg-2434943004743f79c0abf540cb4f6e2c-cropped.jpg)"
   ]
  },
  {
   "cell_type": "markdown",
   "metadata": {
    "id": "1iek5eZPs8vp"
   },
   "source": [
    "* 직원 이직 분석\n",
    "    * 회사에서 최근 1~2년 사이 이직률이 상승하였습니다.\n",
    "    * 여러분은, 직원들이 이직하는데 중요한 요인이 무엇인지 데이터를 기반으로 한 분석을 의뢰 받았습니다."
   ]
  },
  {
   "cell_type": "markdown",
   "metadata": {
    "id": "4UklllBjdRJ7"
   },
   "source": [
    "## **1.환경준비**"
   ]
  },
  {
   "cell_type": "markdown",
   "metadata": {
    "id": "RpVQY2pVdRJ7"
   },
   "source": [
    "* 라이브러리 불러오기"
   ]
  },
  {
   "cell_type": "code",
   "execution_count": 1,
   "metadata": {
    "id": "yROT1tWLdRJ8"
   },
   "outputs": [],
   "source": [
    "import pandas as pd\n",
    "import numpy as np\n",
    "\n",
    "import matplotlib.pyplot as plt\n",
    "import seaborn as sns\n",
    "from statsmodels.graphics.mosaicplot import mosaic      #mosaic plot!\n",
    "\n",
    "import scipy.stats as spst"
   ]
  },
  {
   "cell_type": "markdown",
   "metadata": {
    "id": "JjOJiREMY03m"
   },
   "source": [
    "* 데이터 불러오기 : 다음의 예제 데이터를 사용합니다."
   ]
  },
  {
   "cell_type": "code",
   "execution_count": 2,
   "metadata": {
    "id": "2voHuCQWY03s"
   },
   "outputs": [
    {
     "data": {
      "text/html": [
       "<div>\n",
       "<style scoped>\n",
       "    .dataframe tbody tr th:only-of-type {\n",
       "        vertical-align: middle;\n",
       "    }\n",
       "\n",
       "    .dataframe tbody tr th {\n",
       "        vertical-align: top;\n",
       "    }\n",
       "\n",
       "    .dataframe thead th {\n",
       "        text-align: right;\n",
       "    }\n",
       "</style>\n",
       "<table border=\"1\" class=\"dataframe\">\n",
       "  <thead>\n",
       "    <tr style=\"text-align: right;\">\n",
       "      <th></th>\n",
       "      <th>Attrition</th>\n",
       "      <th>Age</th>\n",
       "      <th>DistanceFromHome</th>\n",
       "      <th>EmployeeNumber</th>\n",
       "      <th>Gender</th>\n",
       "      <th>JobSatisfaction</th>\n",
       "      <th>MaritalStatus</th>\n",
       "      <th>MonthlyIncome</th>\n",
       "      <th>OverTime</th>\n",
       "      <th>PercentSalaryHike</th>\n",
       "      <th>TotalWorkingYears</th>\n",
       "    </tr>\n",
       "  </thead>\n",
       "  <tbody>\n",
       "    <tr>\n",
       "      <th>0</th>\n",
       "      <td>0</td>\n",
       "      <td>27</td>\n",
       "      <td>2</td>\n",
       "      <td>1898</td>\n",
       "      <td>Female</td>\n",
       "      <td>3</td>\n",
       "      <td>Single</td>\n",
       "      <td>6500</td>\n",
       "      <td>No</td>\n",
       "      <td>14</td>\n",
       "      <td>9</td>\n",
       "    </tr>\n",
       "    <tr>\n",
       "      <th>1</th>\n",
       "      <td>0</td>\n",
       "      <td>27</td>\n",
       "      <td>9</td>\n",
       "      <td>1965</td>\n",
       "      <td>Male</td>\n",
       "      <td>4</td>\n",
       "      <td>Single</td>\n",
       "      <td>4105</td>\n",
       "      <td>No</td>\n",
       "      <td>14</td>\n",
       "      <td>7</td>\n",
       "    </tr>\n",
       "    <tr>\n",
       "      <th>2</th>\n",
       "      <td>0</td>\n",
       "      <td>44</td>\n",
       "      <td>2</td>\n",
       "      <td>1703</td>\n",
       "      <td>Female</td>\n",
       "      <td>4</td>\n",
       "      <td>Married</td>\n",
       "      <td>7879</td>\n",
       "      <td>Yes</td>\n",
       "      <td>19</td>\n",
       "      <td>9</td>\n",
       "    </tr>\n",
       "    <tr>\n",
       "      <th>3</th>\n",
       "      <td>0</td>\n",
       "      <td>42</td>\n",
       "      <td>2</td>\n",
       "      <td>1231</td>\n",
       "      <td>Male</td>\n",
       "      <td>1</td>\n",
       "      <td>Married</td>\n",
       "      <td>6272</td>\n",
       "      <td>No</td>\n",
       "      <td>16</td>\n",
       "      <td>10</td>\n",
       "    </tr>\n",
       "    <tr>\n",
       "      <th>4</th>\n",
       "      <td>0</td>\n",
       "      <td>32</td>\n",
       "      <td>1</td>\n",
       "      <td>2016</td>\n",
       "      <td>Female</td>\n",
       "      <td>4</td>\n",
       "      <td>Married</td>\n",
       "      <td>10422</td>\n",
       "      <td>No</td>\n",
       "      <td>19</td>\n",
       "      <td>14</td>\n",
       "    </tr>\n",
       "  </tbody>\n",
       "</table>\n",
       "</div>"
      ],
      "text/plain": [
       "   Attrition  Age  DistanceFromHome  EmployeeNumber  Gender  JobSatisfaction  \\\n",
       "0          0   27                 2            1898  Female                3   \n",
       "1          0   27                 9            1965    Male                4   \n",
       "2          0   44                 2            1703  Female                4   \n",
       "3          0   42                 2            1231    Male                1   \n",
       "4          0   32                 1            2016  Female                4   \n",
       "\n",
       "  MaritalStatus  MonthlyIncome OverTime  PercentSalaryHike  TotalWorkingYears  \n",
       "0        Single           6500       No                 14                  9  \n",
       "1        Single           4105       No                 14                  7  \n",
       "2       Married           7879      Yes                 19                  9  \n",
       "3       Married           6272       No                 16                 10  \n",
       "4       Married          10422       No                 19                 14  "
      ]
     },
     "execution_count": 2,
     "metadata": {},
     "output_type": "execute_result"
    }
   ],
   "source": [
    "# 직원 이직 데이터\n",
    "path = 'https://raw.githubusercontent.com/DA4BAM/dataset/master/Attrition_simple3.csv'\n",
    "data = pd.read_csv(path)\n",
    "data.head(5)"
   ]
  },
  {
   "cell_type": "markdown",
   "metadata": {
    "id": "QOU6B5XEs30h"
   },
   "source": [
    "> * 변수설명\n",
    "    * **Attrition**\t:\t이직여부, Yes , No (**Target**)\n",
    "    * **Age**\t:\t나이\n",
    "    * **DistanceFromHome**\t:\t집-직장 거리(마일)\n",
    "    * **EmployeeNumber**\t:\t사번\n",
    "    * **Gender**\t:\t성별(Male, Female)\n",
    "    * **JobSatisfaction**\t:\t직무 만족도, 다음시트 참조\n",
    "    * **MaritalStatus**\t:\t결혼상태(Married, Single, Divorced)\n",
    "    * **MonthlyIncome**\t:\t월급(달러)\n",
    "    * **OverTime**\t:\t야근여부\n",
    "    * **PercentSalaryHike**\t:\t전년대비 급여인상율(%)\n",
    "    * **TotalWorkingYears**\t:\t총 근무 연수\n",
    "\n"
   ]
  },
  {
   "cell_type": "markdown",
   "metadata": {
    "id": "6ZrsyRsrvM8V"
   },
   "source": [
    "## **2.범주-->범주**"
   ]
  },
  {
   "cell_type": "code",
   "execution_count": 16,
   "metadata": {
    "id": "V-m8MnlDwFqo"
   },
   "outputs": [],
   "source": [
    "target = 'Attrition'"
   ]
  },
  {
   "cell_type": "markdown",
   "metadata": {
    "id": "Zb8zTQrCvVD2"
   },
   "source": [
    "### **(1) Gender --> Attrition**"
   ]
  },
  {
   "cell_type": "code",
   "execution_count": 4,
   "metadata": {
    "id": "UhrS1TRswOpg"
   },
   "outputs": [],
   "source": [
    "feature = 'Gender'"
   ]
  },
  {
   "cell_type": "markdown",
   "metadata": {
    "id": "2_0xlYXZwKUJ"
   },
   "source": [
    "* 교차표"
   ]
  },
  {
   "cell_type": "code",
   "execution_count": 5,
   "metadata": {
    "id": "GjuIr0PtwOBe"
   },
   "outputs": [
    {
     "data": {
      "text/html": [
       "<div>\n",
       "<style scoped>\n",
       "    .dataframe tbody tr th:only-of-type {\n",
       "        vertical-align: middle;\n",
       "    }\n",
       "\n",
       "    .dataframe tbody tr th {\n",
       "        vertical-align: top;\n",
       "    }\n",
       "\n",
       "    .dataframe thead th {\n",
       "        text-align: right;\n",
       "    }\n",
       "</style>\n",
       "<table border=\"1\" class=\"dataframe\">\n",
       "  <thead>\n",
       "    <tr style=\"text-align: right;\">\n",
       "      <th>Gender</th>\n",
       "      <th>Female</th>\n",
       "      <th>Male</th>\n",
       "    </tr>\n",
       "    <tr>\n",
       "      <th>Attrition</th>\n",
       "      <th></th>\n",
       "      <th></th>\n",
       "    </tr>\n",
       "  </thead>\n",
       "  <tbody>\n",
       "    <tr>\n",
       "      <th>0</th>\n",
       "      <td>157</td>\n",
       "      <td>248</td>\n",
       "    </tr>\n",
       "    <tr>\n",
       "      <th>1</th>\n",
       "      <td>66</td>\n",
       "      <td>129</td>\n",
       "    </tr>\n",
       "  </tbody>\n",
       "</table>\n",
       "</div>"
      ],
      "text/plain": [
       "Gender     Female  Male\n",
       "Attrition              \n",
       "0             157   248\n",
       "1              66   129"
      ]
     },
     "execution_count": 5,
     "metadata": {},
     "output_type": "execute_result"
    }
   ],
   "source": [
    "# 두 범주별 빈도수를 교차표로 만들어 봅시다.\n",
    "pd.crosstab(data[target], data[feature])"
   ]
  },
  {
   "cell_type": "code",
   "execution_count": 6,
   "metadata": {
    "id": "IgfUdhruwYBE"
   },
   "outputs": [
    {
     "data": {
      "text/html": [
       "<div>\n",
       "<style scoped>\n",
       "    .dataframe tbody tr th:only-of-type {\n",
       "        vertical-align: middle;\n",
       "    }\n",
       "\n",
       "    .dataframe tbody tr th {\n",
       "        vertical-align: top;\n",
       "    }\n",
       "\n",
       "    .dataframe thead th {\n",
       "        text-align: right;\n",
       "    }\n",
       "</style>\n",
       "<table border=\"1\" class=\"dataframe\">\n",
       "  <thead>\n",
       "    <tr style=\"text-align: right;\">\n",
       "      <th>Gender</th>\n",
       "      <th>Female</th>\n",
       "      <th>Male</th>\n",
       "    </tr>\n",
       "    <tr>\n",
       "      <th>Attrition</th>\n",
       "      <th></th>\n",
       "      <th></th>\n",
       "    </tr>\n",
       "  </thead>\n",
       "  <tbody>\n",
       "    <tr>\n",
       "      <th>0</th>\n",
       "      <td>0.704036</td>\n",
       "      <td>0.657825</td>\n",
       "    </tr>\n",
       "    <tr>\n",
       "      <th>1</th>\n",
       "      <td>0.295964</td>\n",
       "      <td>0.342175</td>\n",
       "    </tr>\n",
       "  </tbody>\n",
       "</table>\n",
       "</div>"
      ],
      "text/plain": [
       "Gender       Female      Male\n",
       "Attrition                    \n",
       "0          0.704036  0.657825\n",
       "1          0.295964  0.342175"
      ]
     },
     "execution_count": 6,
     "metadata": {},
     "output_type": "execute_result"
    }
   ],
   "source": [
    "pd.crosstab(data[target], data[feature], normalize = 'columns')"
   ]
  },
  {
   "cell_type": "markdown",
   "metadata": {
    "id": "EC2dJnaTwinX"
   },
   "source": [
    "* 시각화"
   ]
  },
  {
   "cell_type": "code",
   "execution_count": 7,
   "metadata": {
    "id": "pnW-kCWMwidr"
   },
   "outputs": [
    {
     "data": {
      "image/png": "[encoded data removed]",
      "text/plain": [
       "<Figure size 640x480 with 3 Axes>"
      ]
     },
     "metadata": {},
     "output_type": "display_data"
    }
   ],
   "source": [
    "mosaic(data, [feature, target])\n",
    "plt.axhline(1- data[target].mean(), color = 'r')\n",
    "plt.show()"
   ]
  },
  {
   "cell_type": "markdown",
   "metadata": {
    "id": "fIJ6l3BNwwaK"
   },
   "source": [
    "* 수치화 : 카이제곱검정"
   ]
  },
  {
   "cell_type": "code",
   "execution_count": 8,
   "metadata": {
    "id": "At0EmCJ8wzJe"
   },
   "outputs": [
    {
     "name": "stdout",
     "output_type": "stream",
     "text": [
      "교차표\n",
      " Gender     Female  Male\n",
      "Attrition              \n",
      "0             157   248\n",
      "1              66   129\n",
      "----------------------------------------------------------------------------------------------------\n",
      "카이제곱통계량 1.1614318259891623\n",
      "p-value 0.28116879016055174\n",
      "자유도 1\n",
      "기대빈도\n",
      " [[150.525 254.475]\n",
      " [ 72.475 122.525]]\n"
     ]
    }
   ],
   "source": [
    "# 먼저 집계\n",
    "table = pd.crosstab(data[target], data[feature])\n",
    "print('교차표\\n', table)\n",
    "print('-' * 100)\n",
    "\n",
    "# 카이제곱검정\n",
    "result = spst.chi2_contingency(table)\n",
    "print('카이제곱통계량', result[0])\n",
    "print('p-value', result[1])\n",
    "print('자유도', result[2])\n",
    "print('기대빈도\\n',result[3])"
   ]
  },
  {
   "cell_type": "markdown",
   "metadata": {
    "id": "TRUvcaBQwpAf"
   },
   "source": [
    "* 파악된 내용을 기술해 봅시다."
   ]
  },
  {
   "cell_type": "code",
   "execution_count": null,
   "metadata": {
    "id": "6gXEYu4zwsOo"
   },
   "outputs": [],
   "source": [
    "# 카이제곱검정으로는 관련이 없다고 나오나, 그래프로 볼때 약간 관련이 있다고 판단됨."
   ]
  },
  {
   "cell_type": "markdown",
   "metadata": {
    "id": "SKNsDmj2vbTw"
   },
   "source": [
    "### **(2) JobSatisfaction --> Attrition**"
   ]
  },
  {
   "cell_type": "code",
   "execution_count": 24,
   "metadata": {
    "id": "d63bk3KqqUIK"
   },
   "outputs": [],
   "source": [
    "feature = 'JobSatisfaction'"
   ]
  },
  {
   "cell_type": "markdown",
   "metadata": {
    "id": "D3wU7GoYxH80"
   },
   "source": [
    "* 교차표"
   ]
  },
  {
   "cell_type": "code",
   "execution_count": 25,
   "metadata": {
    "id": "ta-PS49qqUIL"
   },
   "outputs": [
    {
     "data": {
      "text/html": [
       "<div>\n",
       "<style scoped>\n",
       "    .dataframe tbody tr th:only-of-type {\n",
       "        vertical-align: middle;\n",
       "    }\n",
       "\n",
       "    .dataframe tbody tr th {\n",
       "        vertical-align: top;\n",
       "    }\n",
       "\n",
       "    .dataframe thead th {\n",
       "        text-align: right;\n",
       "    }\n",
       "</style>\n",
       "<table border=\"1\" class=\"dataframe\">\n",
       "  <thead>\n",
       "    <tr style=\"text-align: right;\">\n",
       "      <th>JobSatisfaction</th>\n",
       "      <th>1</th>\n",
       "      <th>2</th>\n",
       "      <th>3</th>\n",
       "      <th>4</th>\n",
       "    </tr>\n",
       "    <tr>\n",
       "      <th>Attrition</th>\n",
       "      <th></th>\n",
       "      <th></th>\n",
       "      <th></th>\n",
       "      <th></th>\n",
       "    </tr>\n",
       "  </thead>\n",
       "  <tbody>\n",
       "    <tr>\n",
       "      <th>0</th>\n",
       "      <td>74</td>\n",
       "      <td>79</td>\n",
       "      <td>114</td>\n",
       "      <td>138</td>\n",
       "    </tr>\n",
       "    <tr>\n",
       "      <th>1</th>\n",
       "      <td>52</td>\n",
       "      <td>37</td>\n",
       "      <td>59</td>\n",
       "      <td>47</td>\n",
       "    </tr>\n",
       "  </tbody>\n",
       "</table>\n",
       "</div>"
      ],
      "text/plain": [
       "JobSatisfaction   1   2    3    4\n",
       "Attrition                        \n",
       "0                74  79  114  138\n",
       "1                52  37   59   47"
      ]
     },
     "execution_count": 25,
     "metadata": {},
     "output_type": "execute_result"
    }
   ],
   "source": [
    "pd.crosstab(data[target], data[feature])"
   ]
  },
  {
   "cell_type": "code",
   "execution_count": 26,
   "metadata": {
    "id": "864xKf0pqUIL"
   },
   "outputs": [
    {
     "data": {
      "text/html": [
       "<div>\n",
       "<style scoped>\n",
       "    .dataframe tbody tr th:only-of-type {\n",
       "        vertical-align: middle;\n",
       "    }\n",
       "\n",
       "    .dataframe tbody tr th {\n",
       "        vertical-align: top;\n",
       "    }\n",
       "\n",
       "    .dataframe thead th {\n",
       "        text-align: right;\n",
       "    }\n",
       "</style>\n",
       "<table border=\"1\" class=\"dataframe\">\n",
       "  <thead>\n",
       "    <tr style=\"text-align: right;\">\n",
       "      <th>JobSatisfaction</th>\n",
       "      <th>1</th>\n",
       "      <th>2</th>\n",
       "      <th>3</th>\n",
       "      <th>4</th>\n",
       "    </tr>\n",
       "    <tr>\n",
       "      <th>Attrition</th>\n",
       "      <th></th>\n",
       "      <th></th>\n",
       "      <th></th>\n",
       "      <th></th>\n",
       "    </tr>\n",
       "  </thead>\n",
       "  <tbody>\n",
       "    <tr>\n",
       "      <th>0</th>\n",
       "      <td>0.587302</td>\n",
       "      <td>0.681034</td>\n",
       "      <td>0.65896</td>\n",
       "      <td>0.745946</td>\n",
       "    </tr>\n",
       "    <tr>\n",
       "      <th>1</th>\n",
       "      <td>0.412698</td>\n",
       "      <td>0.318966</td>\n",
       "      <td>0.34104</td>\n",
       "      <td>0.254054</td>\n",
       "    </tr>\n",
       "  </tbody>\n",
       "</table>\n",
       "</div>"
      ],
      "text/plain": [
       "JobSatisfaction         1         2        3         4\n",
       "Attrition                                             \n",
       "0                0.587302  0.681034  0.65896  0.745946\n",
       "1                0.412698  0.318966  0.34104  0.254054"
      ]
     },
     "execution_count": 26,
     "metadata": {},
     "output_type": "execute_result"
    }
   ],
   "source": [
    "pd.crosstab(data[target], data[feature], normalize='columns')"
   ]
  },
  {
   "cell_type": "markdown",
   "metadata": {
    "id": "rspXV5ZSxH81"
   },
   "source": [
    "* 시각화"
   ]
  },
  {
   "cell_type": "code",
   "execution_count": 27,
   "metadata": {
    "id": "YoaZ8sBuqUIN"
   },
   "outputs": [
    {
     "data": {
      "image/png": "[encoded data removed]",
      "text/plain": [
       "<Figure size 640x480 with 3 Axes>"
      ]
     },
     "metadata": {},
     "output_type": "display_data"
    }
   ],
   "source": [
    "mosaic(data, [feature, target])\n",
    "plt.axhline(1 - data[target].mean(), color='r')\n",
    "plt.show()"
   ]
  },
  {
   "cell_type": "markdown",
   "metadata": {
    "id": "scsY_SzuxH81"
   },
   "source": [
    "* 수치화 : 카이제곱검정"
   ]
  },
  {
   "cell_type": "code",
   "execution_count": 29,
   "metadata": {
    "id": "gV4Kd0HeqUIO"
   },
   "outputs": [
    {
     "data": {
      "text/plain": [
       "(8.884191097554549,\n",
       " 0.03087092125625072,\n",
       " 3,\n",
       " array([[ 85.05 ,  78.3  , 116.775, 124.875],\n",
       "        [ 40.95 ,  37.7  ,  56.225,  60.125]]))"
      ]
     },
     "execution_count": 29,
     "metadata": {},
     "output_type": "execute_result"
    }
   ],
   "source": [
    "table = pd.crosstab(data[target], data[feature])\n",
    "spst.chi2_contingency(table)"
   ]
  },
  {
   "cell_type": "markdown",
   "metadata": {
    "id": "tduvXp19xH82"
   },
   "source": [
    "* 파악된 내용을 기술해 봅시다."
   ]
  },
  {
   "cell_type": "markdown",
   "metadata": {
    "id": "16mZy7H3vbTw"
   },
   "source": [
    "- 카이제곱 통계량을 보면 소폭 관계가 있음을 알 수 있으며, 그래프 또한 마찬가지이다.\n",
    "- p-value 또한 0.03으로 매우 작지는 않으면 조금 관계가 있다고 말할 수 있을 것 같다.\n",
    "- 특히 양측 끝인 1과 4에 속하는 인원들이 이직률에 주로 관계가 있다고 보인다."
   ]
  },
  {
   "cell_type": "markdown",
   "metadata": {
    "id": "xlHc1d0yvbd5"
   },
   "source": [
    "### **(3) MaritalStatus --> Attrition**"
   ]
  },
  {
   "cell_type": "code",
   "execution_count": 34,
   "metadata": {
    "id": "NZ8KAtabqUIR"
   },
   "outputs": [],
   "source": [
    "feature  = 'MaritalStatus'"
   ]
  },
  {
   "cell_type": "markdown",
   "metadata": {
    "id": "qCdYk95TxIgF"
   },
   "source": [
    "* 교차표"
   ]
  },
  {
   "cell_type": "code",
   "execution_count": 35,
   "metadata": {
    "id": "5gVK8dfRqUIS"
   },
   "outputs": [
    {
     "data": {
      "text/html": [
       "<div>\n",
       "<style scoped>\n",
       "    .dataframe tbody tr th:only-of-type {\n",
       "        vertical-align: middle;\n",
       "    }\n",
       "\n",
       "    .dataframe tbody tr th {\n",
       "        vertical-align: top;\n",
       "    }\n",
       "\n",
       "    .dataframe thead th {\n",
       "        text-align: right;\n",
       "    }\n",
       "</style>\n",
       "<table border=\"1\" class=\"dataframe\">\n",
       "  <thead>\n",
       "    <tr style=\"text-align: right;\">\n",
       "      <th>MaritalStatus</th>\n",
       "      <th>Divorced</th>\n",
       "      <th>Married</th>\n",
       "      <th>Single</th>\n",
       "    </tr>\n",
       "    <tr>\n",
       "      <th>Attrition</th>\n",
       "      <th></th>\n",
       "      <th></th>\n",
       "      <th></th>\n",
       "    </tr>\n",
       "  </thead>\n",
       "  <tbody>\n",
       "    <tr>\n",
       "      <th>0</th>\n",
       "      <td>89</td>\n",
       "      <td>205</td>\n",
       "      <td>111</td>\n",
       "    </tr>\n",
       "    <tr>\n",
       "      <th>1</th>\n",
       "      <td>23</td>\n",
       "      <td>69</td>\n",
       "      <td>103</td>\n",
       "    </tr>\n",
       "  </tbody>\n",
       "</table>\n",
       "</div>"
      ],
      "text/plain": [
       "MaritalStatus  Divorced  Married  Single\n",
       "Attrition                               \n",
       "0                    89      205     111\n",
       "1                    23       69     103"
      ]
     },
     "execution_count": 35,
     "metadata": {},
     "output_type": "execute_result"
    }
   ],
   "source": [
    "pd.crosstab(data[target], data[feature])"
   ]
  },
  {
   "cell_type": "code",
   "execution_count": 36,
   "metadata": {
    "id": "xmmKYwtoqUIT"
   },
   "outputs": [
    {
     "data": {
      "text/html": [
       "<div>\n",
       "<style scoped>\n",
       "    .dataframe tbody tr th:only-of-type {\n",
       "        vertical-align: middle;\n",
       "    }\n",
       "\n",
       "    .dataframe tbody tr th {\n",
       "        vertical-align: top;\n",
       "    }\n",
       "\n",
       "    .dataframe thead th {\n",
       "        text-align: right;\n",
       "    }\n",
       "</style>\n",
       "<table border=\"1\" class=\"dataframe\">\n",
       "  <thead>\n",
       "    <tr style=\"text-align: right;\">\n",
       "      <th>MaritalStatus</th>\n",
       "      <th>Divorced</th>\n",
       "      <th>Married</th>\n",
       "      <th>Single</th>\n",
       "    </tr>\n",
       "    <tr>\n",
       "      <th>Attrition</th>\n",
       "      <th></th>\n",
       "      <th></th>\n",
       "      <th></th>\n",
       "    </tr>\n",
       "  </thead>\n",
       "  <tbody>\n",
       "    <tr>\n",
       "      <th>0</th>\n",
       "      <td>0.794643</td>\n",
       "      <td>0.748175</td>\n",
       "      <td>0.518692</td>\n",
       "    </tr>\n",
       "    <tr>\n",
       "      <th>1</th>\n",
       "      <td>0.205357</td>\n",
       "      <td>0.251825</td>\n",
       "      <td>0.481308</td>\n",
       "    </tr>\n",
       "  </tbody>\n",
       "</table>\n",
       "</div>"
      ],
      "text/plain": [
       "MaritalStatus  Divorced   Married    Single\n",
       "Attrition                                  \n",
       "0              0.794643  0.748175  0.518692\n",
       "1              0.205357  0.251825  0.481308"
      ]
     },
     "execution_count": 36,
     "metadata": {},
     "output_type": "execute_result"
    }
   ],
   "source": [
    "pd.crosstab(data[target], data[feature], normalize='columns')"
   ]
  },
  {
   "cell_type": "markdown",
   "metadata": {
    "id": "Z7Sw4kgExIgG"
   },
   "source": [
    "* 시각화"
   ]
  },
  {
   "cell_type": "code",
   "execution_count": 38,
   "metadata": {
    "id": "epBtv8IvqUIU"
   },
   "outputs": [
    {
     "data": {
      "image/png": "[encoded data removed]",
      "text/plain": [
       "<Figure size 640x480 with 3 Axes>"
      ]
     },
     "metadata": {},
     "output_type": "display_data"
    }
   ],
   "source": [
    "mosaic(data, [feature, target])\n",
    "plt.axhline(1- data[target].mean(), color='r')\n",
    "plt.show()"
   ]
  },
  {
   "cell_type": "markdown",
   "metadata": {
    "id": "W5TnX-NTxIgG"
   },
   "source": [
    "* 수치화 : 카이제곱검정"
   ]
  },
  {
   "cell_type": "code",
   "execution_count": 39,
   "metadata": {
    "id": "BcqB61yuqUIW"
   },
   "outputs": [
    {
     "data": {
      "text/plain": [
       "(37.829711907070525,\n",
       " 6.100738829354226e-09,\n",
       " 2,\n",
       " array([[ 75.6 , 184.95, 144.45],\n",
       "        [ 36.4 ,  89.05,  69.55]]))"
      ]
     },
     "execution_count": 39,
     "metadata": {},
     "output_type": "execute_result"
    }
   ],
   "source": [
    "table = pd.crosstab(data[target], data[feature])\n",
    "spst.chi2_contingency(table)"
   ]
  },
  {
   "cell_type": "markdown",
   "metadata": {
    "id": "2liI_sD1xIgG"
   },
   "source": [
    "* 파악된 내용을 기술해 봅시다."
   ]
  },
  {
   "cell_type": "markdown",
   "metadata": {
    "id": "0rUhOv7cvbd6"
   },
   "source": [
    "- 싱글의 경우 이직률이 굉장히 높다.\n",
    "- 카이제곱 통계량을 보았을 때, 결혼 여부와 이직률은 큰 관계가 있다고 이해할 수 있다.\n",
    "- p-value 또한 매우 작으며 귀무가설을 기각할 수 있다."
   ]
  },
  {
   "cell_type": "markdown",
   "metadata": {
    "id": "mYFGKfFNvbmo"
   },
   "source": [
    "### **(4) OverTime --> Attrition**"
   ]
  },
  {
   "cell_type": "code",
   "execution_count": null,
   "metadata": {
    "id": "2qAi1NqDqUIY"
   },
   "outputs": [],
   "source": []
  },
  {
   "cell_type": "markdown",
   "metadata": {
    "id": "K_vKAyghxJXL"
   },
   "source": [
    "* 교차표"
   ]
  },
  {
   "cell_type": "code",
   "execution_count": null,
   "metadata": {
    "id": "SwHHu-3EqUIY"
   },
   "outputs": [],
   "source": []
  },
  {
   "cell_type": "code",
   "execution_count": null,
   "metadata": {
    "id": "_SY96wxEqUIZ"
   },
   "outputs": [],
   "source": []
  },
  {
   "cell_type": "markdown",
   "metadata": {
    "id": "xLF77xSJxJXL"
   },
   "source": [
    "* 시각화"
   ]
  },
  {
   "cell_type": "code",
   "execution_count": null,
   "metadata": {
    "id": "FIyZHp15qUIa"
   },
   "outputs": [],
   "source": []
  },
  {
   "cell_type": "markdown",
   "metadata": {
    "id": "5MzVzDwSxJXM"
   },
   "source": [
    "* 수치화 : 카이제곱검정"
   ]
  },
  {
   "cell_type": "code",
   "execution_count": null,
   "metadata": {
    "id": "Sas7lq4XqUIa"
   },
   "outputs": [],
   "source": []
  },
  {
   "cell_type": "markdown",
   "metadata": {
    "id": "45jL74JjxJXM"
   },
   "source": [
    "* 파악된 내용을 기술해 봅시다."
   ]
  },
  {
   "cell_type": "code",
   "execution_count": null,
   "metadata": {
    "id": "B0FU0t6bxJXM"
   },
   "outputs": [],
   "source": []
  },
  {
   "cell_type": "code",
   "execution_count": null,
   "metadata": {
    "id": "vd_ty45nvbmo"
   },
   "outputs": [],
   "source": []
  },
  {
   "cell_type": "markdown",
   "metadata": {
    "id": "RrPfHO6Gvm3_"
   },
   "source": [
    "## **3.숫자-->범주**"
   ]
  },
  {
   "cell_type": "markdown",
   "metadata": {
    "id": "TkEhb4XYvm4A"
   },
   "source": [
    "### **(1) Age --> Attrition**"
   ]
  },
  {
   "cell_type": "code",
   "execution_count": 40,
   "metadata": {
    "id": "3MXJE21OxZ4v"
   },
   "outputs": [],
   "source": [
    "feature = 'Age'"
   ]
  },
  {
   "cell_type": "code",
   "execution_count": 41,
   "metadata": {
    "id": "CiVoXr0rvm4A"
   },
   "outputs": [
    {
     "data": {
      "image/png": "[encoded data removed]",
      "text/plain": [
       "<Figure size 640x480 with 1 Axes>"
      ]
     },
     "metadata": {},
     "output_type": "display_data"
    }
   ],
   "source": [
    "sns.kdeplot(x= feature, data = data, hue = target,\n",
    "            common_norm = False)\n",
    "plt.show()"
   ]
  },
  {
   "cell_type": "code",
   "execution_count": 42,
   "metadata": {
    "id": "c2zMGXckxX4G"
   },
   "outputs": [
    {
     "data": {
      "image/png": "[encoded data removed]",
      "text/plain": [
       "<Figure size 640x480 with 1 Axes>"
      ]
     },
     "metadata": {},
     "output_type": "display_data"
    }
   ],
   "source": [
    "sns.kdeplot(x= feature, data = data, hue = target\n",
    "            , multiple = 'fill')\n",
    "plt.axhline(data[target].mean(), color = 'r')\n",
    "plt.show()"
   ]
  },
  {
   "cell_type": "markdown",
   "metadata": {
    "id": "qsVVdfQNxvrD"
   },
   "source": [
    "* 파악된 내용을 기술해 봅시다."
   ]
  },
  {
   "cell_type": "markdown",
   "metadata": {
    "id": "ZgBOiCKnxvrE"
   },
   "source": [
    "- 약 30대 중반 미만 직원들은 이직할 확률이 전체 평균보다 높은 경향이 있다.\n",
    "- 30대 중반에서 60대 초반 직원들은 이직할 확률이 전체 평균보다 낮은 경향이 있다."
   ]
  },
  {
   "cell_type": "markdown",
   "metadata": {
    "id": "NBQQpvwLvm4A"
   },
   "source": [
    "### **(2) DistanceFromHome --> Attrition**"
   ]
  },
  {
   "cell_type": "code",
   "execution_count": 43,
   "metadata": {
    "id": "8Px9ydI2qUIp"
   },
   "outputs": [],
   "source": [
    "feature = 'DistanceFromHome'"
   ]
  },
  {
   "cell_type": "code",
   "execution_count": 45,
   "metadata": {
    "id": "MfIUa4r9qUIp"
   },
   "outputs": [
    {
     "data": {
      "image/png": "[encoded data removed]",
      "text/plain": [
       "<Figure size 640x480 with 1 Axes>"
      ]
     },
     "metadata": {},
     "output_type": "display_data"
    }
   ],
   "source": [
    "sns.kdeplot(x=feature, hue=target, data=data, common_norm=False)\n",
    "plt.show()"
   ]
  },
  {
   "cell_type": "code",
   "execution_count": 48,
   "metadata": {
    "id": "veM88UXUqUIq"
   },
   "outputs": [
    {
     "data": {
      "image/png": "[encoded data removed]",
      "text/plain": [
       "<Figure size 640x480 with 1 Axes>"
      ]
     },
     "metadata": {},
     "output_type": "display_data"
    }
   ],
   "source": [
    "sns.kdeplot(x=feature, hue=target, data=data, multiple='fill')\n",
    "plt.axhline(data[target].mean(), color='r')\n",
    "plt.show()"
   ]
  },
  {
   "cell_type": "markdown",
   "metadata": {
    "id": "MPG1_FVlxwwB"
   },
   "source": [
    "* 파악된 내용을 기술해 봅시다."
   ]
  },
  {
   "cell_type": "markdown",
   "metadata": {
    "id": "_AmQ3GSpxwwB"
   },
   "source": [
    "- 집에서 회사까지의 거리가 약 10km 초반인 경우 이직률이 전체 평균보다 낮다\n",
    "- 집에서 회사까지의 거리가 약 10km 초반 ~ 30km 정도인 경우 이직률이 전체 평균보다 높다."
   ]
  },
  {
   "cell_type": "markdown",
   "metadata": {
    "id": "Q0mpltaRvm4A"
   },
   "source": [
    "### **(3) MonthlyIncome --> Attrition**"
   ]
  },
  {
   "cell_type": "code",
   "execution_count": 49,
   "metadata": {
    "id": "yiPkkW7SqUIs"
   },
   "outputs": [],
   "source": [
    "feature = 'MonthlyIncome'"
   ]
  },
  {
   "cell_type": "code",
   "execution_count": 50,
   "metadata": {
    "id": "jW7iPUcmqUIt"
   },
   "outputs": [
    {
     "data": {
      "image/png": "[encoded data removed]",
      "text/plain": [
       "<Figure size 640x480 with 1 Axes>"
      ]
     },
     "metadata": {},
     "output_type": "display_data"
    }
   ],
   "source": [
    "sns.kdeplot(x=feature, hue=target, data=data, common_norm=False)\n",
    "plt.show()"
   ]
  },
  {
   "cell_type": "code",
   "execution_count": 52,
   "metadata": {
    "id": "ZTXhtbySqUIt"
   },
   "outputs": [
    {
     "data": {
      "image/png": "[encoded data removed]",
      "text/plain": [
       "<Figure size 640x480 with 1 Axes>"
      ]
     },
     "metadata": {},
     "output_type": "display_data"
    }
   ],
   "source": [
    "sns.kdeplot(x=feature, hue=target, data=data, multiple='fill')\n",
    "plt.axhline(data[target].mean(), color='r')\n",
    "plt.show()"
   ]
  },
  {
   "cell_type": "markdown",
   "metadata": {
    "id": "J3c297lfxxSF"
   },
   "source": [
    "* 파악된 내용을 기술해 봅시다."
   ]
  },
  {
   "cell_type": "markdown",
   "metadata": {
    "id": "pO1xeRj6xxSG"
   },
   "source": [
    "- 월급이 약 4000달러 후반인 경우 전체 평균보다 이직률이 높다.\n",
    "- 월급이 약 4000달러보다 많은 경우 전체 평균보다 이직률이 낮다."
   ]
  },
  {
   "cell_type": "markdown",
   "metadata": {
    "id": "HC_g-Ujmvm4A"
   },
   "source": [
    "### **(4) PercentSalaryHike --> Attrition**"
   ]
  },
  {
   "cell_type": "code",
   "execution_count": null,
   "metadata": {
    "id": "OwJD9XJtqUIw"
   },
   "outputs": [],
   "source": []
  },
  {
   "cell_type": "code",
   "execution_count": null,
   "metadata": {
    "id": "FybRzTt6qUIw"
   },
   "outputs": [],
   "source": []
  },
  {
   "cell_type": "code",
   "execution_count": null,
   "metadata": {
    "id": "CDLapKPhqUIx"
   },
   "outputs": [],
   "source": []
  },
  {
   "cell_type": "markdown",
   "metadata": {
    "id": "Yk88-VaSxx7A"
   },
   "source": [
    "* 파악된 내용을 기술해 봅시다."
   ]
  },
  {
   "cell_type": "code",
   "execution_count": null,
   "metadata": {
    "id": "2bY2ZhaNxx7A"
   },
   "outputs": [],
   "source": []
  },
  {
   "cell_type": "code",
   "execution_count": null,
   "metadata": {
    "id": "RA86WtfBvm4A"
   },
   "outputs": [],
   "source": []
  },
  {
   "cell_type": "markdown",
   "metadata": {
    "id": "qa39SQm2v15q"
   },
   "source": [
    "### **(5) TotalWorkingYears --> Attrition**"
   ]
  },
  {
   "cell_type": "code",
   "execution_count": null,
   "metadata": {
    "id": "t0kgugvxqUIz"
   },
   "outputs": [],
   "source": []
  },
  {
   "cell_type": "code",
   "execution_count": null,
   "metadata": {
    "id": "XCgoNfaXqUI0"
   },
   "outputs": [],
   "source": []
  },
  {
   "cell_type": "code",
   "execution_count": null,
   "metadata": {
    "id": "hrtsxYefqUI0"
   },
   "outputs": [],
   "source": []
  },
  {
   "cell_type": "markdown",
   "metadata": {
    "id": "TGF3JpGbxy2v"
   },
   "source": [
    "* 파악된 내용을 기술해 봅시다."
   ]
  },
  {
   "cell_type": "code",
   "execution_count": null,
   "metadata": {
    "id": "6yUZ6GFYxy2w"
   },
   "outputs": [],
   "source": []
  },
  {
   "cell_type": "code",
   "execution_count": null,
   "metadata": {
    "id": "HUau_p57v15r"
   },
   "outputs": [],
   "source": []
  },
  {
   "cell_type": "markdown",
   "metadata": {
    "id": "jAegTwTNANYZ"
   },
   "source": [
    "## **4.관계 정리하기**"
   ]
  },
  {
   "cell_type": "markdown",
   "metadata": {
    "id": "FlI3Rsn_ANYc"
   },
   "source": [
    "① 강한관계"
   ]
  },
  {
   "cell_type": "code",
   "execution_count": null,
   "metadata": {
    "id": "OEQWIXKVqUI3"
   },
   "outputs": [],
   "source": []
  },
  {
   "cell_type": "markdown",
   "metadata": {
    "id": "Ktdide4rANYd"
   },
   "source": [
    "② 중간관계"
   ]
  },
  {
   "cell_type": "code",
   "execution_count": null,
   "metadata": {
    "id": "HzIiAbqWqUI4"
   },
   "outputs": [],
   "source": []
  },
  {
   "cell_type": "markdown",
   "metadata": {
    "id": "Kop_jo4nANYd"
   },
   "source": [
    "③ 관계없음(약한 관계)"
   ]
  },
  {
   "cell_type": "code",
   "execution_count": null,
   "metadata": {
    "id": "RIXmDmcAqUI5"
   },
   "outputs": [],
   "source": []
  }
 ],
 "metadata": {
  "colab": {
   "provenance": [],
   "toc_visible": true
  },
  "kernelspec": {
   "display_name": "lecture",
   "language": "python",
   "name": "lecture"
  },
  "language_info": {
   "codemirror_mode": {
    "name": "ipython",
    "version": 3
   },
   "file_extension": ".py",
   "mimetype": "text/x-python",
   "name": "python",
   "nbconvert_exporter": "python",
   "pygments_lexer": "ipython3",
   "version": "3.7.16"
  },
  "toc-showtags": false
 },
 "nbformat": 4,
 "nbformat_minor": 4
}
