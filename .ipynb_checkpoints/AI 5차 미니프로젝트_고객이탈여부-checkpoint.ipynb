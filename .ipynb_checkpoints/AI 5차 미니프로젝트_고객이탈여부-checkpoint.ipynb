{
 "cells": [
  {
   "cell_type": "markdown",
   "id": "f7020e5e-cc98-4af1-b857-d17728fef656",
   "metadata": {},
   "source": [
    "**AIVLE School 미니프로젝트**\n",
    "### **통신 서비스 이용 고객의 <span style=\"color:darkgreen\">이탈 여부</span> 예측 문제**\n",
    "---"
   ]
  },
  {
   "cell_type": "markdown",
   "id": "2ea596ec-3ec0-4624-ac25-655ba99256d5",
   "metadata": {},
   "source": [
    "#### **<span style=\"color:red\">[미션 안내]</span>**\n",
    "* 고객 관련 데이터를 분석한 후 고객의 서비스 중단 또는 경쟁업체로의 이탈 여부를 예측하는 머신러닝, 딥러닝 모델을 만들고 결과를 예측하세요."
   ]
  },
  {
   "cell_type": "markdown",
   "id": "0afcf937-9b5f-4f33-9122-c14c4fc88eb7",
   "metadata": {},
   "source": [
    "#### **<span style=\"color:red\">[유의 사항]</span>**\n",
    "* 각 문항의 답안코드는 반드시 '#여기에 답안코드를 작성하세요'로 표시된 cell에 작성해야 합니다.\n",
    "* 제공된 cell을 추가/삭제하고 다른 cell에 답안코드를 작성 시 채점되지 않습니다.\n",
    "* 반드시 문제에 제시된 가이드를 읽고 답안 작성하세요.\n",
    "* 문제에 변수명이 제시된 경우 반드시 해당 변수명을 사용하세요.\n",
    "* 문제와 데이터는 제3자에게 공유하거나 개인적인 용도로 사용하는 등 외부로 유출할 수 없으며 유출로 인한 책임은 응시자 본인에게 있습니다."
   ]
  },
  {
   "cell_type": "markdown",
   "id": "f5227e84-e8b1-4d6d-8b34-16a4dd8e13ae",
   "metadata": {},
   "source": [
    "#### **<span style=\"color:red\">[데이터 컬럼]</span>**\n",
    "1. CustomerID: 고객ID\n",
    "2. gender: 성별\n",
    "3. SeniorCitizen: 고령자 여부 (1, 0)\n",
    "4. Partner: 배우자가 있는 지 여부 (Yes, No)\n",
    "5. Dependents: 부양가족 여부 (Yes, No)\n",
    "6. Tenure: 서비스 사용 개월수\n",
    "7. PhoneService: 폰서비스 이용여부 (Yes, No)\n",
    "8. MultipleLines: 다회선 이용여부 (Yes, No, No phone service)\n",
    "9. InternetService: 인터넷 서비스 제공업체 (DSL, Fiber optic, No)\n",
    "10. OnlineSecurity: 온라인 보안 이용여부 (Yes, No, No internet service)\n",
    "11. OnlineBackup:온라인 백업 이용여부 (Yes, No, No internet service)\n",
    "12. DeviceProtection: 디바이스 보호 이용여부 (Yes, No, No internet service)\n",
    "13. TechSupport: 기술지원 이용여부 (Yes, No, No internet service)\n",
    "14. StreamingTV: 스트리밍TV 이용여부 (Yes, No, No internet service)\n",
    "15. StreamingMovies: 스트리밍 영화 이용여부 (Yes, No, No internet service)\n",
    "16. Contract: 접촉 주기 (Month-to-month, One year, Two years)\n",
    "17. PaperlessBilling: 온라인 빌링 이용여부 (Yes, No)\n",
    "18. PaymentMethod: 요금납부방법 (Electronic check, Mailed check, Bank transfer (automatic), Credit card (automatic))\n",
    "19. MonthlyCharges: 월 이용요금\n",
    "20. TotalCharges: 총 이용요금\n",
    "21. Churn: 이탈여부 (Yes or No)"
   ]
  },
  {
   "cell_type": "markdown",
   "id": "64c65ebb-9a6f-47b0-965f-d5f35a8fbf20",
   "metadata": {},
   "source": [
    "### 1. scikit-learn 패키지는 머신러닝 교육을 위한 최고의 파이썬 패키지입니다.\n",
    "### scikit-learn를 별칭(alias) sk로 임포트하는 코드를 작성하고 실행하세요."
   ]
  },
  {
   "cell_type": "code",
   "execution_count": null,
   "id": "752cc153-3b7c-44fd-8a03-247b7639887b",
   "metadata": {},
   "outputs": [],
   "source": [
    "# 여기에 답안코드를 작성하세요.\n",
    "import sklearn as sk"
   ]
  },
  {
   "cell_type": "markdown",
   "id": "c0572bc2-838c-4c85-bedb-3b38f592c482",
   "metadata": {},
   "source": [
    "### 2. Numpy를 사용할 수 있도록 별칭(alias)을 pd로 해서 불러오세요."
   ]
  },
  {
   "cell_type": "code",
   "execution_count": null,
   "id": "5b092742-a1c3-4748-8e38-d836360e8e54",
   "metadata": {},
   "outputs": [],
   "source": [
    "# 여기에 답안코드를 작성하세요.\n",
    "import pandas as pd"
   ]
  },
  {
   "cell_type": "markdown",
   "id": "ae46b8c3-576b-4a8d-84f7-591734bc0eef",
   "metadata": {},
   "source": [
    "### 3. 모델링을 위해 분석 및 처리할 데이터 파일을 읽어오려고 합니다.\n",
    "### Pandas함수로 데이터 파일을 읽어 데이터프레임 변수명 df에 할당하는 코드를 작성하세요.\n",
    "* churn_data.csv 파일을 읽어 데이터 프레임 변수명 df에 할당하세요."
   ]
  },
  {
   "cell_type": "code",
   "execution_count": null,
   "id": "d55f5fdf-dadb-4305-84c4-00c070e08d8a",
   "metadata": {},
   "outputs": [],
   "source": [
    "# 여기에 답안코드를 작성하세요.\n",
    "df = pd.read_csv('churn_data.csv')"
   ]
  },
  {
   "cell_type": "markdown",
   "id": "723b3327-58a2-4093-bacd-b6c82bd5f60f",
   "metadata": {},
   "source": [
    "### 4. df에서 불필요한 customerID 컬럼을 삭제하고 df1에 저장하세요."
   ]
  },
  {
   "cell_type": "code",
   "execution_count": null,
   "id": "03d6aab9-b113-4c6d-bf9c-c41610c04966",
   "metadata": {},
   "outputs": [],
   "source": [
    "# 여기에 답안코드를 작성하세요.\n",
    "df1 = df.drop('customerID', axis=1)"
   ]
  },
  {
   "cell_type": "markdown",
   "id": "0bb79c81-b545-45ce-8e67-c5376dca4f64",
   "metadata": {},
   "source": [
    "### 5. df1의 TotalCharges 컬럼의 타입을 float로 변경하세요.\n",
    "* TotalCharge의 컬럼 타입을 확인하는 코드를 작성하세요.\n",
    "* ' ' 값을 0으로 변환하고 컬럼 타입을 float로 변경하세요.\n",
    "* 전처리 후 데이터를 df2에 저장하세요."
   ]
  },
  {
   "cell_type": "code",
   "execution_count": null,
   "id": "082eb435-586e-44fa-bb84-5827fd62efb0",
   "metadata": {},
   "outputs": [],
   "source": [
    "# 여기에 답안코드를 작성하세요.\n",
    "cols = 'TotalCharges'\n",
    "df1.loc[df1[cols] == ' ', cols] = 0\n",
    "df1[cols] = df1[cols].astype('float')\n",
    "df2 = df1.copy()"
   ]
  },
  {
   "cell_type": "markdown",
   "id": "eba62d4e-47ee-409e-9dcf-b72f1762f081",
   "metadata": {},
   "source": [
    "### 6. df2에서 churn 컬럼의 데이터별 개수를 확인하는 코드를 작성하고 \n",
    "### Yes, No를 각각 1, 0으로 변환한 후 df3에 저장하세요."
   ]
  },
  {
   "cell_type": "code",
   "execution_count": null,
   "id": "ddd6dde8-8dd4-43d2-8461-47aa9fa426f8",
   "metadata": {},
   "outputs": [],
   "source": [
    "# 여기에 답안코드를 작성하세요.\n",
    "df2['Churn'].value_counts()\n",
    "\n",
    "cols = 'Churn'\n",
    "df2.loc[df2[cols] == 'Yes', cols] = 1\n",
    "df2.loc[df2[cols] == 'No', cols] = 0\n",
    "df2['Churn'].value_counts()\n",
    "\n",
    "df3 = df2.copy()"
   ]
  },
  {
   "cell_type": "markdown",
   "id": "b31a180d-66df-4ffd-8003-b48be301eb50",
   "metadata": {},
   "source": [
    "### 7. df3의 모든 컬럼에 대해 결측치를 확인하는 코드를 작성하고 결측치를 처리하세요.\n",
    "* 결측치가 40% 이상인 컬럼은 컬럼을 삭제하세요.\n",
    "* 결측치가 40% 미만인 컬럼은 결측치가 있는 row를 삭제하세요.\n",
    "* 전처리한 데이터를 df4에 저장하세요."
   ]
  },
  {
   "cell_type": "code",
   "execution_count": null,
   "id": "5520fa58-76c5-48a5-94a8-1a08d84cc75d",
   "metadata": {},
   "outputs": [],
   "source": [
    "# 여기에 답안코드를 작성하세요.\n",
    "df3.isna().sum()\n",
    "df3.drop(columns = df3.columns[df3.isna().sum()/len(df3) >= 0.4], axis=1, inplace=True)\n",
    "df3.dropna(inplace=True)\n",
    "df4 = df3.copy()"
   ]
  },
  {
   "cell_type": "markdown",
   "id": "05bdad06-6817-4505-b41c-492b8bb647e8",
   "metadata": {},
   "source": [
    "### 8. df4에서 SeniorCitizen 컬럼을 bar 차트로 확인해보고 불균형을 확인해보세요. \n",
    "### SeniorCitizen 컬럼은 불균형이 심하므로 삭제하세요."
   ]
  },
  {
   "cell_type": "code",
   "execution_count": null,
   "id": "1889be69-7362-4c1f-b154-c21d543bdd51",
   "metadata": {},
   "outputs": [],
   "source": [
    "#%pip install seaborn"
   ]
  },
  {
   "cell_type": "code",
   "execution_count": null,
   "id": "599ec44e-066e-4edf-8cb3-9d5fe8f4033c",
   "metadata": {},
   "outputs": [],
   "source": [
    "# 여기에 답안코드를 작성하세요.\n",
    "import matplotlib.pyplot as plt\n",
    "import seaborn as sns\n",
    "\n",
    "cols = 'SeniorCitizen'\n",
    "sns.countplot(x = cols, data=df4)\n",
    "plt.show()\n",
    "\n",
    "df4.drop(cols, axis=1, inplace=True)"
   ]
  },
  {
   "cell_type": "markdown",
   "id": "d8f50285-aa59-4ccb-88ce-07d302172c0a",
   "metadata": {},
   "source": [
    "### 9. df4에서 다음의 가이드에 따라 데이터를 시각화 해보세요.\n",
    "* tenure (서비스 사용기간)에 대해 히스토그램으로 시각화 하세요.\n",
    "* tenure를 x 값으로 churn을 hue 값으로 사용하여 kdeplot으로 시각화 하고 '서비스 사용기간이 길어질 수록 이탈이 적다'에 대해 'O'인지 'X'인지 출력하세요.\n",
    "* MultipleLines에 대해 countplot을 그리고 churn을 hue 값으로 사용하여 countplot으로 시각화 하고 'MultipleLines 서비스를 사용하는 고객이 약간 더 높은 이탈율을 보인다'에 대해 'O'인지 'X'인지 출력하세요.\n",
    "* 'tenure','MonthlyCharges','TotalCharges' 컬럼간의 상관관계를 확인하여 heatmap으로 시각화하고 가장 높은 상관계수 값을 출력하세요."
   ]
  },
  {
   "cell_type": "code",
   "execution_count": null,
   "id": "45a66a53-edd8-4712-8a5d-57fb50a5838a",
   "metadata": {},
   "outputs": [],
   "source": [
    "# 여기에 답안코드를 작성하세요.\n",
    "import scipy.stats as spst\n",
    "\n",
    "sns.histplot(x='tenure', data=df4)\n",
    "plt.show()\n",
    "\n",
    "sns.kdeplot(x='tenure', hue='Churn', data=df4)\n",
    "plt.show()\n",
    "\n",
    "sns.countplot(x = 'MultipleLines', data=df4)\n",
    "plt.show()\n",
    "\n",
    "sns.countplot(x='MultipleLines', hue='Churn', data=df4)\n",
    "plt.show()\n",
    "\n",
    "df4_tmp = df4[['tenure', 'MonthlyCharges', 'TotalCharges']]\n",
    "sns.heatmap(df4_tmp.corr(),\n",
    "            annot = True,\n",
    "            fmt = '.3f')\n",
    "plt.show()\n",
    "\n",
    "print(spst.pearsonr(df4_tmp['tenure'], df4_tmp['TotalCharges']))"
   ]
  },
  {
   "cell_type": "markdown",
   "id": "df6d557b-e704-4285-b65f-e3c2d47525f5",
   "metadata": {},
   "source": [
    "### 10. df4에서 컬럼의 데이터 타입이 object인 컬럼들을 원-핫 인코딩하세요.\n",
    "* 컬럼의 데이터 타입이 object인 컬럼들을 object_cols 변수에 저장하세요.\n",
    "* object_cols 변수의 컬럼들을 원-핫 인코딩하세요.\n",
    "* 전처리된 데이터를 df5에 저장하세요."
   ]
  },
  {
   "cell_type": "code",
   "execution_count": null,
   "id": "16ddb332-83ee-4a38-b30a-ebea85739fc6",
   "metadata": {},
   "outputs": [],
   "source": []
  }
 ],
 "metadata": {
  "kernelspec": {
   "display_name": "Python 3 (ipykernel)",
   "language": "python",
   "name": "python3"
  },
  "language_info": {
   "codemirror_mode": {
    "name": "ipython",
    "version": 3
   },
   "file_extension": ".py",
   "mimetype": "text/x-python",
   "name": "python",
   "nbconvert_exporter": "python",
   "pygments_lexer": "ipython3",
   "version": "3.7.16"
  }
 },
 "nbformat": 4,
 "nbformat_minor": 5
}
