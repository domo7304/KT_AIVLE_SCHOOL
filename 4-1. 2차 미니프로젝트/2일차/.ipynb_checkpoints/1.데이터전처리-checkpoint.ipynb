{
 "cells": [
  {
   "cell_type": "markdown",
   "metadata": {
    "id": "qsIsGzftJuH9"
   },
   "source": [
    "# 장애인콜택시 대기시간 예측\n",
    "## 단계1.데이터 전처리"
   ]
  },
  {
   "cell_type": "markdown",
   "metadata": {
    "id": "Dh02CX03JuES"
   },
   "source": [
    "## 0.미션\n",
    "\n",
    "* 1.데이터를 탐색하며 정보 획득\n",
    "    * 데이터는 2015-01-01 ~ 2022-12-31 까지의 서울 장애인 콜택시 운행 정보입니다. 우리는 평균대기시간을 예측하고자 합니다. \n",
    "    * 요일, 월, 계절, 연도별 운행 정보에 어떤 주기와 변화가 있는지 탐색해 봅시다.\n",
    "* 2.분석을 위한 데이터 구조 만들기\n",
    "    * 문제정의 : \n",
    "        * 전 날 콜택시 운행이 종료되었을 때, 다음 날 대기시간을 예측하고자 합니다.\n",
    "\n",
    "        * 만약 다음 날 대기시간을 예측할 수 있다면, 일정 범위 내에서 배차를 조절할 수 있을 뿐만 아니라, 향후 교통약자의 이동 편의 증진을 위한 정책 수립 및 개선에 기여할 수 있습니다. \n",
    "    * 이를 위한 데이터 구조를 만들어 봅시다.\n",
    "        * 분석 단위는 일별 데이터 입니다.\n",
    "        * 주어진 데이터 : 장애인 콜택시 운행 정보, 서울시 날씨\n",
    "        * 날씨 데이터는 실제 측정값이지만, 다음 날에 대한 예보 데이터로 간주합니다. \n",
    "            * 예를 들어, \n",
    "                * 2020-12-23 의 날씨 데이터는 전 날(12월22일) 날씨예보 데이터로 간주하여 분석을 수행합니다.\n",
    "                * 2020-12-22일의 장애인 이동 데이터로 23일의 대기시간을 예측해야 하며, 이때 고려할 날씨데이터는 23일 데이터 입니다.\n",
    "        * 장애인 이동 데이터를 기준으로 날씨 데이터를 붙여서 만듭시다.\n",
    "        * 휴무일 데이터는 패키지를 통해서 다운받아 사용합니다.\n",
    "    * Feature Engineering\n",
    "        * 대기시간에 영향을 주는 요인을 도출하고(가설수립) 이를 feature로 생성합시다.\n",
    "        * 주어진 그대로의 데이터가 아닌 새로운 feature를 생성해 봅시다.\n",
    "            * 날짜와 관련된 feature : 요일, 월, 계절 ... \n",
    "            * 시계열 특성이 반영된 feature : 최근 7일간의 평균 대기시간 ...\n",
    "\n",
    "\n"
   ]
  },
  {
   "cell_type": "markdown",
   "metadata": {
    "id": "pp6QgG00zPKL"
   },
   "source": [
    "## 1.환경설정"
   ]
  },
  {
   "cell_type": "markdown",
   "metadata": {
    "id": "bbx5yhS9ByDr"
   },
   "source": [
    "* 세부 요구사항\n",
    "    - 경로 설정 : 다음의 두가지 방법 중 하나를 선택하여 폴더를 준비하고 데이터를 로딩하시오.\n",
    "        * 1) 로컬 수행(Ananconda)\n",
    "            * 제공된 압축파일을 다운받아 압축을 풀고\n",
    "            * anaconda의 root directory(보통 C:/Users/< ID > 에 project 폴더를 만들고, 복사해 넣습니다.\n",
    "        * 2) 구글콜랩\n",
    "            * 구글 드라이브 바로 밑에 project 폴더를 만들고, \n",
    "            * 데이터 파일을 복사해 넣습니다.\n",
    "    - 라이브러리 설치 및 로딩\n",
    "        * requirements.txt 파일로 부터 라이브러리 설치\n",
    "    - 기본적으로 필요한 라이브러리를 import 하도록 코드가 작성되어 있습니다. \n",
    "        * 필요하다고 판단되는 라이브러리를 추가하세요."
   ]
  },
  {
   "cell_type": "markdown",
   "metadata": {
    "id": "otP4czcpB1Ou"
   },
   "source": [
    "### (1) 경로 설정"
   ]
  },
  {
   "cell_type": "markdown",
   "metadata": {
    "id": "5sY2gTRfB1Dg"
   },
   "source": [
    "#### 1) 로컬 수행(Anaconda)\n",
    "* project 폴더에 필요한 파일들을 넣고, 본 파일을 열었다면, 별도 경로 지정이 필요하지 않습니다."
   ]
  },
  {
   "cell_type": "code",
   "execution_count": null,
   "metadata": {
    "id": "Je2dWL5AB2xb"
   },
   "outputs": [],
   "source": [
    "path = ''"
   ]
  },
  {
   "cell_type": "markdown",
   "metadata": {
    "id": "MTnFF6S-B-T2"
   },
   "source": [
    "#### 2) 구글 콜랩 수행"
   ]
  },
  {
   "cell_type": "markdown",
   "metadata": {
    "id": "6mbfT769B-J6"
   },
   "source": [
    "* 구글 드라이브 연결"
   ]
  },
  {
   "cell_type": "code",
   "execution_count": null,
   "metadata": {
    "id": "dd0SPbYdfhS9"
   },
   "outputs": [],
   "source": [
    "from google.colab import drive\n",
    "drive.mount('/content/drive')"
   ]
  },
  {
   "cell_type": "code",
   "execution_count": null,
   "metadata": {
    "id": "y5OIDazoeIN4"
   },
   "outputs": [],
   "source": [
    "path = '/content/drive/MyDrive/project/'"
   ]
  },
  {
   "cell_type": "markdown",
   "metadata": {
    "id": "LPy9VO2koOHp"
   },
   "source": [
    "### (2) 라이브러리 설치 및 불러오기"
   ]
  },
  {
   "cell_type": "markdown",
   "metadata": {
    "id": "hiGXXP2RCNTw"
   },
   "source": [
    "#### 1) 설치"
   ]
  },
  {
   "cell_type": "markdown",
   "metadata": {
    "id": "OH5TsB1zCPHp"
   },
   "source": [
    "* requirements.txt 파일을 아래 위치에 두고 다음 코드를 실행하시오.\n",
    "    * 로컬 : 다음 코드셀 실행\n",
    "    * 구글콜랩 : requirements.txt 파일을 왼쪽 [파일]탭에 복사해 넣고 다음 코드셀 실행"
   ]
  },
  {
   "cell_type": "code",
   "execution_count": null,
   "metadata": {
    "id": "eO9HFUnvCRNe"
   },
   "outputs": [],
   "source": [
    "!pip install -r requirements.txt"
   ]
  },
  {
   "cell_type": "markdown",
   "metadata": {
    "id": "R7pxemwBCULb"
   },
   "source": [
    "#### 2) 라이브러리 로딩"
   ]
  },
  {
   "cell_type": "code",
   "execution_count": null,
   "metadata": {
    "id": "QF5vlqOJzyvV"
   },
   "outputs": [],
   "source": [
    "import pandas as pd\n",
    "import numpy as np\n",
    "import matplotlib.pyplot as plt\n",
    "import seaborn as sns\n",
    "\n",
    "import joblib\n",
    "\n",
    "# 더 필요한 라이브러리를 아래에 추가합니다.\n",
    "\n"
   ]
  },
  {
   "cell_type": "markdown",
   "metadata": {
    "id": "wsLDv9tZc_i1"
   },
   "source": [
    "### (3) 데이터 불러오기\n",
    "* 주어진 데이터셋\n",
    "    * 장애인 콜택시 운행 정보 : open_data.csv\n",
    "    * 날씨 데이터 : weather.csv"
   ]
  },
  {
   "cell_type": "code",
   "execution_count": 2,
   "metadata": {},
   "outputs": [],
   "source": [
    "import pandas as pd\n",
    "import matplotlib.pyplot as plt\n",
    "import seaborn as sns"
   ]
  },
  {
   "cell_type": "markdown",
   "metadata": {
    "id": "GH3ApIzofYPb"
   },
   "source": [
    "#### 1) 데이터로딩"
   ]
  },
  {
   "cell_type": "code",
   "execution_count": 3,
   "metadata": {
    "id": "FT_JFnclfcQ4"
   },
   "outputs": [],
   "source": [
    "file1 = 'open_data.csv'\n",
    "file2 = 'weather.csv'"
   ]
  },
  {
   "cell_type": "code",
   "execution_count": 4,
   "metadata": {
    "id": "ZpMoNMpcQoQ5"
   },
   "outputs": [],
   "source": [
    "# read_csv를 활용\n",
    "open_data = pd.read_csv(file1)\n",
    "weather = pd.read_csv(file2)"
   ]
  },
  {
   "cell_type": "code",
   "execution_count": 12,
   "metadata": {
    "id": "RTdrJsWxoTYC"
   },
   "outputs": [],
   "source": [
    "# to_datetime 활용, '기준일' 컬럼 타입 변경  \n",
    "open_data['기준일'] = pd.to_datetime(open_data['기준일'])\n",
    "weather['Date'] = pd.to_datetime(weather['Date'])"
   ]
  },
  {
   "cell_type": "markdown",
   "metadata": {
    "id": "ueRYWzcto1x8"
   },
   "source": [
    "#### 2) 기본 정보 조회"
   ]
  },
  {
   "cell_type": "code",
   "execution_count": 13,
   "metadata": {
    "id": "4ykFk03LpEk2"
   },
   "outputs": [
    {
     "name": "stdout",
     "output_type": "stream",
     "text": [
      "<class 'pandas.core.frame.DataFrame'>\n",
      "RangeIndex: 2922 entries, 0 to 2921\n",
      "Data columns (total 7 columns):\n",
      " #   Column  Non-Null Count  Dtype         \n",
      "---  ------  --------------  -----         \n",
      " 0   기준일     2922 non-null   datetime64[ns]\n",
      " 1   차량운행    2922 non-null   int64         \n",
      " 2   접수건     2922 non-null   int64         \n",
      " 3   탑승건     2922 non-null   int64         \n",
      " 4   평균대기시간  2922 non-null   float64       \n",
      " 5   평균요금    2922 non-null   int64         \n",
      " 6   평균승차거리  2922 non-null   int64         \n",
      "dtypes: datetime64[ns](1), float64(1), int64(5)\n",
      "memory usage: 159.9 KB\n"
     ]
    }
   ],
   "source": [
    "#전체 데이터의 행,열 개수 확인\n",
    "open_data.info()"
   ]
  },
  {
   "cell_type": "code",
   "execution_count": 14,
   "metadata": {},
   "outputs": [
    {
     "name": "stdout",
     "output_type": "stream",
     "text": [
      "<class 'pandas.core.frame.DataFrame'>\n",
      "RangeIndex: 4018 entries, 0 to 4017\n",
      "Data columns (total 7 columns):\n",
      " #   Column           Non-Null Count  Dtype         \n",
      "---  ------           --------------  -----         \n",
      " 0   Date             4018 non-null   datetime64[ns]\n",
      " 1   temp_max         4018 non-null   float64       \n",
      " 2   temp_min         4018 non-null   float64       \n",
      " 3   rain(mm)         4018 non-null   float64       \n",
      " 4   humidity_max(%)  4018 non-null   float64       \n",
      " 5   humidity_min(%)  4018 non-null   float64       \n",
      " 6   sunshine(MJ/m2)  4018 non-null   float64       \n",
      "dtypes: datetime64[ns](1), float64(6)\n",
      "memory usage: 219.9 KB\n"
     ]
    }
   ],
   "source": [
    "weather.info()"
   ]
  },
  {
   "cell_type": "code",
   "execution_count": null,
   "metadata": {
    "id": "PE6M-BtMR3fo"
   },
   "outputs": [],
   "source": [
    "#전체 데이터의 모든 변수 확인"
   ]
  },
  {
   "cell_type": "markdown",
   "metadata": {
    "id": "n0VtxEINgi2V"
   },
   "source": [
    "#### 3) 칼럼이름을 영어로 변경\n",
    "* 꼭 필요한 작업은 아니지만, 데이터를 편리하게 다루고 차트에서 불필요한 경고메시지를 띄우지 않게 하기 위해 영문으로 변경하기를 권장합니다."
   ]
  },
  {
   "cell_type": "code",
   "execution_count": 17,
   "metadata": {
    "id": "Az4HVmSagn0I"
   },
   "outputs": [],
   "source": [
    "# 컬럼 명으로 'Date','car_cnt','request_cnt','ride_cnt','waiting_time','fare','distance' 추천\n",
    "open_data.columns = ['Date','car_cnt','request_cnt','ride_cnt','waiting_time','fare','distance']"
   ]
  },
  {
   "cell_type": "markdown",
   "metadata": {
    "id": "vYhLUoRxRSEQ"
   },
   "source": [
    "## 2.데이터 기본 탐색\n",
    "\n",
    "* **세부요구사항**\n",
    "    * 날짜 요소에 따라 각 정보의 패턴을 조회 합니다.\n",
    "        * 일별, 요일별, 주차별, 월별, 연도별\n",
    "        * 접수건, 탑승건, 거리, 요금, 대기시간 등\n",
    "    * 제시된 범위 외에 가능하다면 추가 탐색을 시도합니다."
   ]
  },
  {
   "cell_type": "markdown",
   "metadata": {
    "id": "vY_rPCK5pH-s"
   },
   "source": [
    "### (1) 주기별 분석을 위해서 날짜 변수 추가하기\n",
    "* data를 복사합니다.\n",
    "* 복사한 df에 요일, 주차, 월, 연도 등을 추가합니다."
   ]
  },
  {
   "cell_type": "code",
   "execution_count": 23,
   "metadata": {
    "id": "2oGkF12Ape-T"
   },
   "outputs": [],
   "source": [
    "open_data_copy = open_data.copy()"
   ]
  },
  {
   "cell_type": "code",
   "execution_count": 24,
   "metadata": {
    "id": "8DbYHJNiplGu"
   },
   "outputs": [
    {
     "name": "stderr",
     "output_type": "stream",
     "text": [
      "C:\\Users\\user\\anaconda3\\envs\\lecture\\lib\\site-packages\\ipykernel_launcher.py:5: FutureWarning: Series.dt.weekofyear and Series.dt.week have been deprecated.  Please use Series.dt.isocalendar().week instead.\n",
      "  \"\"\"\n"
     ]
    }
   ],
   "source": [
    "# dt.weekday, dt.month, dt.week, dt.year 활용\n",
    "open_data_copy['weekday'] = open_data_copy['Date'].dt.weekday\n",
    "open_data_copy['day'] = open_data_copy['Date'].dt.day\n",
    "open_data_copy['month'] = open_data_copy['Date'].dt.month\n",
    "open_data_copy['week'] = open_data_copy['Date'].dt.weekofyear\n",
    "open_data_copy['year'] = open_data_copy['Date'].dt.year"
   ]
  },
  {
   "cell_type": "code",
   "execution_count": 21,
   "metadata": {},
   "outputs": [
    {
     "name": "stdout",
     "output_type": "stream",
     "text": [
      "<class 'pandas.core.frame.DataFrame'>\n",
      "RangeIndex: 2922 entries, 0 to 2921\n",
      "Data columns (total 11 columns):\n",
      " #   Column        Non-Null Count  Dtype         \n",
      "---  ------        --------------  -----         \n",
      " 0   Date          2922 non-null   datetime64[ns]\n",
      " 1   car_cnt       2922 non-null   int64         \n",
      " 2   request_cnt   2922 non-null   int64         \n",
      " 3   ride_cnt      2922 non-null   int64         \n",
      " 4   waiting_time  2922 non-null   float64       \n",
      " 5   fare          2922 non-null   int64         \n",
      " 6   distance      2922 non-null   int64         \n",
      " 7   weekday       2922 non-null   int64         \n",
      " 8   month         2922 non-null   int64         \n",
      " 9   week          2922 non-null   int64         \n",
      " 10  year          2922 non-null   int64         \n",
      "dtypes: datetime64[ns](1), float64(1), int64(9)\n",
      "memory usage: 251.2 KB\n"
     ]
    }
   ],
   "source": [
    "# open_data_copy.info()"
   ]
  },
  {
   "cell_type": "code",
   "execution_count": 25,
   "metadata": {},
   "outputs": [
    {
     "data": {
      "text/html": [
       "<div>\n",
       "<style scoped>\n",
       "    .dataframe tbody tr th:only-of-type {\n",
       "        vertical-align: middle;\n",
       "    }\n",
       "\n",
       "    .dataframe tbody tr th {\n",
       "        vertical-align: top;\n",
       "    }\n",
       "\n",
       "    .dataframe thead th {\n",
       "        text-align: right;\n",
       "    }\n",
       "</style>\n",
       "<table border=\"1\" class=\"dataframe\">\n",
       "  <thead>\n",
       "    <tr style=\"text-align: right;\">\n",
       "      <th></th>\n",
       "      <th>Date</th>\n",
       "      <th>car_cnt</th>\n",
       "      <th>request_cnt</th>\n",
       "      <th>ride_cnt</th>\n",
       "      <th>waiting_time</th>\n",
       "      <th>fare</th>\n",
       "      <th>distance</th>\n",
       "      <th>weekday</th>\n",
       "      <th>day</th>\n",
       "      <th>month</th>\n",
       "      <th>week</th>\n",
       "      <th>year</th>\n",
       "    </tr>\n",
       "  </thead>\n",
       "  <tbody>\n",
       "    <tr>\n",
       "      <th>0</th>\n",
       "      <td>2015-01-01</td>\n",
       "      <td>213</td>\n",
       "      <td>1023</td>\n",
       "      <td>924</td>\n",
       "      <td>23.2</td>\n",
       "      <td>2427</td>\n",
       "      <td>10764</td>\n",
       "      <td>3</td>\n",
       "      <td>1</td>\n",
       "      <td>1</td>\n",
       "      <td>1</td>\n",
       "      <td>2015</td>\n",
       "    </tr>\n",
       "    <tr>\n",
       "      <th>1</th>\n",
       "      <td>2015-01-02</td>\n",
       "      <td>420</td>\n",
       "      <td>3158</td>\n",
       "      <td>2839</td>\n",
       "      <td>17.2</td>\n",
       "      <td>2216</td>\n",
       "      <td>8611</td>\n",
       "      <td>4</td>\n",
       "      <td>2</td>\n",
       "      <td>1</td>\n",
       "      <td>1</td>\n",
       "      <td>2015</td>\n",
       "    </tr>\n",
       "    <tr>\n",
       "      <th>2</th>\n",
       "      <td>2015-01-03</td>\n",
       "      <td>209</td>\n",
       "      <td>1648</td>\n",
       "      <td>1514</td>\n",
       "      <td>26.2</td>\n",
       "      <td>2377</td>\n",
       "      <td>10198</td>\n",
       "      <td>5</td>\n",
       "      <td>3</td>\n",
       "      <td>1</td>\n",
       "      <td>1</td>\n",
       "      <td>2015</td>\n",
       "    </tr>\n",
       "    <tr>\n",
       "      <th>3</th>\n",
       "      <td>2015-01-04</td>\n",
       "      <td>196</td>\n",
       "      <td>1646</td>\n",
       "      <td>1526</td>\n",
       "      <td>24.5</td>\n",
       "      <td>2431</td>\n",
       "      <td>10955</td>\n",
       "      <td>6</td>\n",
       "      <td>4</td>\n",
       "      <td>1</td>\n",
       "      <td>1</td>\n",
       "      <td>2015</td>\n",
       "    </tr>\n",
       "    <tr>\n",
       "      <th>4</th>\n",
       "      <td>2015-01-05</td>\n",
       "      <td>421</td>\n",
       "      <td>4250</td>\n",
       "      <td>3730</td>\n",
       "      <td>26.2</td>\n",
       "      <td>2214</td>\n",
       "      <td>8663</td>\n",
       "      <td>0</td>\n",
       "      <td>5</td>\n",
       "      <td>1</td>\n",
       "      <td>2</td>\n",
       "      <td>2015</td>\n",
       "    </tr>\n",
       "  </tbody>\n",
       "</table>\n",
       "</div>"
      ],
      "text/plain": [
       "        Date  car_cnt  request_cnt  ride_cnt  waiting_time  fare  distance  \\\n",
       "0 2015-01-01      213         1023       924          23.2  2427     10764   \n",
       "1 2015-01-02      420         3158      2839          17.2  2216      8611   \n",
       "2 2015-01-03      209         1648      1514          26.2  2377     10198   \n",
       "3 2015-01-04      196         1646      1526          24.5  2431     10955   \n",
       "4 2015-01-05      421         4250      3730          26.2  2214      8663   \n",
       "\n",
       "   weekday  day  month  week  year  \n",
       "0        3    1      1     1  2015  \n",
       "1        4    2      1     1  2015  \n",
       "2        5    3      1     1  2015  \n",
       "3        6    4      1     1  2015  \n",
       "4        0    5      1     2  2015  "
      ]
     },
     "execution_count": 25,
     "metadata": {},
     "output_type": "execute_result"
    }
   ],
   "source": [
    "# open_data_copy.head()"
   ]
  },
  {
   "cell_type": "markdown",
   "metadata": {
    "id": "DXi5TFy7p0DR"
   },
   "source": [
    "### (2) 일별 (lineplot 활용)"
   ]
  },
  {
   "cell_type": "markdown",
   "metadata": {
    "id": "IQBMWuMzqrjF"
   },
   "source": [
    "* 차량 운행수"
   ]
  },
  {
   "cell_type": "code",
   "execution_count": 29,
   "metadata": {},
   "outputs": [
    {
     "data": {
      "text/plain": [
       "Index(['Date', 'car_cnt', 'request_cnt', 'ride_cnt', 'waiting_time', 'fare',\n",
       "       'distance', 'weekday', 'day', 'month', 'week', 'year'],\n",
       "      dtype='object')"
      ]
     },
     "execution_count": 29,
     "metadata": {},
     "output_type": "execute_result"
    }
   ],
   "source": [
    "open_data_copy.columns"
   ]
  },
  {
   "cell_type": "code",
   "execution_count": 36,
   "metadata": {
    "id": "TEaKEofVsTj4"
   },
   "outputs": [
    {
     "data": {
      "image/png": "[encoded data removed]",
      "text/plain": [
       "<Figure size 1000x500 with 1 Axes>"
      ]
     },
     "metadata": {},
     "output_type": "display_data"
    }
   ],
   "source": [
    "plt.figure(figsize = (10, 5))\n",
    "sns.lineplot(x='Date', y='car_cnt', data=open_data_copy)\n",
    "plt.show()"
   ]
  },
  {
   "cell_type": "markdown",
   "metadata": {
    "id": "HSix1Uahqi0a"
   },
   "source": [
    "* 접수건, 탑승건"
   ]
  },
  {
   "cell_type": "code",
   "execution_count": 37,
   "metadata": {
    "id": "Nlscaf9ssZOg"
   },
   "outputs": [
    {
     "data": {
      "image/png": "[encoded data removed]",
      "text/plain": [
       "<Figure size 1000x500 with 1 Axes>"
      ]
     },
     "metadata": {},
     "output_type": "display_data"
    }
   ],
   "source": [
    "plt.figure(figsize = (10, 5))\n",
    "sns.lineplot(x='Date', y='request_cnt', data=open_data_copy)\n",
    "plt.show()"
   ]
  },
  {
   "cell_type": "code",
   "execution_count": 38,
   "metadata": {
    "id": "4CAdtQAJsZOg"
   },
   "outputs": [
    {
     "data": {
      "image/png": "[encoded data removed]",
      "text/plain": [
       "<Figure size 1000x500 with 1 Axes>"
      ]
     },
     "metadata": {},
     "output_type": "display_data"
    }
   ],
   "source": [
    "plt.figure(figsize = (10, 5))\n",
    "sns.lineplot(x='Date', y='ride_cnt', data=open_data_copy)\n",
    "plt.show()"
   ]
  },
  {
   "cell_type": "markdown",
   "metadata": {
    "id": "_Qe2QOiZrNCO"
   },
   "source": [
    "* 대기시간"
   ]
  },
  {
   "cell_type": "code",
   "execution_count": 39,
   "metadata": {
    "id": "sbyh4TNJssGF"
   },
   "outputs": [
    {
     "data": {
      "image/png": "[encoded data removed]",
      "text/plain": [
       "<Figure size 1000x500 with 1 Axes>"
      ]
     },
     "metadata": {},
     "output_type": "display_data"
    }
   ],
   "source": [
    "plt.figure(figsize = (10, 5))\n",
    "sns.lineplot(x='Date', y='waiting_time', data=open_data_copy)\n",
    "plt.show()"
   ]
  },
  {
   "cell_type": "markdown",
   "metadata": {
    "id": "xNcd_K34r1_x"
   },
   "source": [
    "* 운임"
   ]
  },
  {
   "cell_type": "code",
   "execution_count": 40,
   "metadata": {
    "id": "2R28ML03r1_y"
   },
   "outputs": [
    {
     "data": {
      "image/png": "[encoded data removed]",
      "text/plain": [
       "<Figure size 1000x500 with 1 Axes>"
      ]
     },
     "metadata": {},
     "output_type": "display_data"
    }
   ],
   "source": [
    "plt.figure(figsize = (10, 5))\n",
    "sns.lineplot(x='Date', y='fare', data=open_data_copy)\n",
    "plt.show()"
   ]
  },
  {
   "cell_type": "markdown",
   "metadata": {
    "id": "iTZ4UT5cs2cH"
   },
   "source": [
    "* 이동거리"
   ]
  },
  {
   "cell_type": "code",
   "execution_count": 41,
   "metadata": {
    "id": "w0rm-1OJs2cI"
   },
   "outputs": [
    {
     "data": {
      "image/png": "[encoded data removed]",
      "text/plain": [
       "<Figure size 1000x500 with 1 Axes>"
      ]
     },
     "metadata": {},
     "output_type": "display_data"
    }
   ],
   "source": [
    "plt.figure(figsize = (10, 5))\n",
    "sns.lineplot(x='Date', y='distance', data=open_data_copy)\n",
    "plt.show()"
   ]
  },
  {
   "cell_type": "markdown",
   "metadata": {
    "id": "NM9AgH3uqGHQ"
   },
   "source": [
    "### (3) 요일별 (boxplot활용)"
   ]
  },
  {
   "cell_type": "markdown",
   "metadata": {
    "id": "_AKI4v7itbp0"
   },
   "source": [
    "* 차량 운행수"
   ]
  },
  {
   "cell_type": "code",
   "execution_count": 42,
   "metadata": {
    "id": "0eLzkzKytbp7"
   },
   "outputs": [
    {
     "data": {
      "text/html": [
       "<div>\n",
       "<style scoped>\n",
       "    .dataframe tbody tr th:only-of-type {\n",
       "        vertical-align: middle;\n",
       "    }\n",
       "\n",
       "    .dataframe tbody tr th {\n",
       "        vertical-align: top;\n",
       "    }\n",
       "\n",
       "    .dataframe thead th {\n",
       "        text-align: right;\n",
       "    }\n",
       "</style>\n",
       "<table border=\"1\" class=\"dataframe\">\n",
       "  <thead>\n",
       "    <tr style=\"text-align: right;\">\n",
       "      <th></th>\n",
       "      <th>weekday</th>\n",
       "      <th>car_cnt</th>\n",
       "    </tr>\n",
       "  </thead>\n",
       "  <tbody>\n",
       "    <tr>\n",
       "      <th>0</th>\n",
       "      <td>0</td>\n",
       "      <td>417</td>\n",
       "    </tr>\n",
       "    <tr>\n",
       "      <th>1</th>\n",
       "      <td>1</td>\n",
       "      <td>417</td>\n",
       "    </tr>\n",
       "    <tr>\n",
       "      <th>2</th>\n",
       "      <td>2</td>\n",
       "      <td>417</td>\n",
       "    </tr>\n",
       "    <tr>\n",
       "      <th>3</th>\n",
       "      <td>3</td>\n",
       "      <td>418</td>\n",
       "    </tr>\n",
       "    <tr>\n",
       "      <th>4</th>\n",
       "      <td>4</td>\n",
       "      <td>418</td>\n",
       "    </tr>\n",
       "    <tr>\n",
       "      <th>5</th>\n",
       "      <td>5</td>\n",
       "      <td>418</td>\n",
       "    </tr>\n",
       "    <tr>\n",
       "      <th>6</th>\n",
       "      <td>6</td>\n",
       "      <td>417</td>\n",
       "    </tr>\n",
       "  </tbody>\n",
       "</table>\n",
       "</div>"
      ],
      "text/plain": [
       "   weekday  car_cnt\n",
       "0        0      417\n",
       "1        1      417\n",
       "2        2      417\n",
       "3        3      418\n",
       "4        4      418\n",
       "5        5      418\n",
       "6        6      417"
      ]
     },
     "execution_count": 42,
     "metadata": {},
     "output_type": "execute_result"
    }
   ],
   "source": [
    "open_data_copy.groupby('weekday', as_index=False)['car_cnt'].count()"
   ]
  },
  {
   "cell_type": "code",
   "execution_count": null,
   "metadata": {
    "id": "P-6JhhoDtbp7"
   },
   "outputs": [],
   "source": []
  },
  {
   "cell_type": "markdown",
   "metadata": {
    "id": "5auZLv3Ntbp7"
   },
   "source": [
    "* 접수건, 탑승건"
   ]
  },
  {
   "cell_type": "code",
   "execution_count": 43,
   "metadata": {
    "id": "a0lFYlgfrxSy"
   },
   "outputs": [
    {
     "data": {
      "text/html": [
       "<div>\n",
       "<style scoped>\n",
       "    .dataframe tbody tr th:only-of-type {\n",
       "        vertical-align: middle;\n",
       "    }\n",
       "\n",
       "    .dataframe tbody tr th {\n",
       "        vertical-align: top;\n",
       "    }\n",
       "\n",
       "    .dataframe thead th {\n",
       "        text-align: right;\n",
       "    }\n",
       "</style>\n",
       "<table border=\"1\" class=\"dataframe\">\n",
       "  <thead>\n",
       "    <tr style=\"text-align: right;\">\n",
       "      <th></th>\n",
       "      <th>weekday</th>\n",
       "      <th>request_cnt</th>\n",
       "    </tr>\n",
       "  </thead>\n",
       "  <tbody>\n",
       "    <tr>\n",
       "      <th>0</th>\n",
       "      <td>0</td>\n",
       "      <td>417</td>\n",
       "    </tr>\n",
       "    <tr>\n",
       "      <th>1</th>\n",
       "      <td>1</td>\n",
       "      <td>417</td>\n",
       "    </tr>\n",
       "    <tr>\n",
       "      <th>2</th>\n",
       "      <td>2</td>\n",
       "      <td>417</td>\n",
       "    </tr>\n",
       "    <tr>\n",
       "      <th>3</th>\n",
       "      <td>3</td>\n",
       "      <td>418</td>\n",
       "    </tr>\n",
       "    <tr>\n",
       "      <th>4</th>\n",
       "      <td>4</td>\n",
       "      <td>418</td>\n",
       "    </tr>\n",
       "    <tr>\n",
       "      <th>5</th>\n",
       "      <td>5</td>\n",
       "      <td>418</td>\n",
       "    </tr>\n",
       "    <tr>\n",
       "      <th>6</th>\n",
       "      <td>6</td>\n",
       "      <td>417</td>\n",
       "    </tr>\n",
       "  </tbody>\n",
       "</table>\n",
       "</div>"
      ],
      "text/plain": [
       "   weekday  request_cnt\n",
       "0        0          417\n",
       "1        1          417\n",
       "2        2          417\n",
       "3        3          418\n",
       "4        4          418\n",
       "5        5          418\n",
       "6        6          417"
      ]
     },
     "execution_count": 43,
     "metadata": {},
     "output_type": "execute_result"
    }
   ],
   "source": [
    "open_data_copy.groupby('weekday', as_index=False)['request_cnt'].count()"
   ]
  },
  {
   "cell_type": "code",
   "execution_count": 44,
   "metadata": {
    "id": "XS7beOVJrxSz"
   },
   "outputs": [
    {
     "data": {
      "text/html": [
       "<div>\n",
       "<style scoped>\n",
       "    .dataframe tbody tr th:only-of-type {\n",
       "        vertical-align: middle;\n",
       "    }\n",
       "\n",
       "    .dataframe tbody tr th {\n",
       "        vertical-align: top;\n",
       "    }\n",
       "\n",
       "    .dataframe thead th {\n",
       "        text-align: right;\n",
       "    }\n",
       "</style>\n",
       "<table border=\"1\" class=\"dataframe\">\n",
       "  <thead>\n",
       "    <tr style=\"text-align: right;\">\n",
       "      <th></th>\n",
       "      <th>weekday</th>\n",
       "      <th>ride_cnt</th>\n",
       "    </tr>\n",
       "  </thead>\n",
       "  <tbody>\n",
       "    <tr>\n",
       "      <th>0</th>\n",
       "      <td>0</td>\n",
       "      <td>417</td>\n",
       "    </tr>\n",
       "    <tr>\n",
       "      <th>1</th>\n",
       "      <td>1</td>\n",
       "      <td>417</td>\n",
       "    </tr>\n",
       "    <tr>\n",
       "      <th>2</th>\n",
       "      <td>2</td>\n",
       "      <td>417</td>\n",
       "    </tr>\n",
       "    <tr>\n",
       "      <th>3</th>\n",
       "      <td>3</td>\n",
       "      <td>418</td>\n",
       "    </tr>\n",
       "    <tr>\n",
       "      <th>4</th>\n",
       "      <td>4</td>\n",
       "      <td>418</td>\n",
       "    </tr>\n",
       "    <tr>\n",
       "      <th>5</th>\n",
       "      <td>5</td>\n",
       "      <td>418</td>\n",
       "    </tr>\n",
       "    <tr>\n",
       "      <th>6</th>\n",
       "      <td>6</td>\n",
       "      <td>417</td>\n",
       "    </tr>\n",
       "  </tbody>\n",
       "</table>\n",
       "</div>"
      ],
      "text/plain": [
       "   weekday  ride_cnt\n",
       "0        0       417\n",
       "1        1       417\n",
       "2        2       417\n",
       "3        3       418\n",
       "4        4       418\n",
       "5        5       418\n",
       "6        6       417"
      ]
     },
     "execution_count": 44,
     "metadata": {},
     "output_type": "execute_result"
    }
   ],
   "source": [
    "open_data_copy.groupby('weekday', as_index=False)['ride_cnt'].count()"
   ]
  },
  {
   "cell_type": "markdown",
   "metadata": {
    "id": "-HDr-AH7tbp7"
   },
   "source": [
    "* 대기시간"
   ]
  },
  {
   "cell_type": "code",
   "execution_count": null,
   "metadata": {
    "id": "GuGjQq7nryM_"
   },
   "outputs": [],
   "source": [
    "open_data_copy.groupby('weekday', as_index=False)['car_cnt'].count()"
   ]
  },
  {
   "cell_type": "code",
   "execution_count": null,
   "metadata": {
    "id": "LhetZVsmryM_"
   },
   "outputs": [],
   "source": []
  },
  {
   "cell_type": "markdown",
   "metadata": {
    "id": "ei3jZiZrtbp8"
   },
   "source": [
    "* 운임"
   ]
  },
  {
   "cell_type": "code",
   "execution_count": null,
   "metadata": {
    "id": "uvsPhTH7rzLj"
   },
   "outputs": [],
   "source": [
    "open_data_copy.groupby('weekday', as_index=False)['car_cnt'].count()"
   ]
  },
  {
   "cell_type": "code",
   "execution_count": null,
   "metadata": {
    "id": "Ofu2zsa0rzLj"
   },
   "outputs": [],
   "source": []
  },
  {
   "cell_type": "markdown",
   "metadata": {
    "id": "xonkXJp-tbp8"
   },
   "source": [
    "* 이동거리"
   ]
  },
  {
   "cell_type": "code",
   "execution_count": null,
   "metadata": {
    "id": "CeElshxsr0QT"
   },
   "outputs": [],
   "source": [
    "open_data_copy.groupby('weekday', as_index=False)['car_cnt'].count()"
   ]
  },
  {
   "cell_type": "code",
   "execution_count": null,
   "metadata": {
    "id": "ZPR6Hkmrr0QT"
   },
   "outputs": [],
   "source": []
  },
  {
   "cell_type": "markdown",
   "metadata": {
    "id": "VeG-i_RdqhNA"
   },
   "source": [
    "### (4) 월별 (boxplot활용)"
   ]
  },
  {
   "cell_type": "markdown",
   "metadata": {
    "id": "NqExDmGar3O3"
   },
   "source": [
    "* 차량 운행수"
   ]
  },
  {
   "cell_type": "code",
   "execution_count": null,
   "metadata": {
    "id": "cNNdOmRur3O4"
   },
   "outputs": [],
   "source": []
  },
  {
   "cell_type": "code",
   "execution_count": null,
   "metadata": {
    "id": "RY5YPavdr3O4"
   },
   "outputs": [],
   "source": []
  },
  {
   "cell_type": "markdown",
   "metadata": {
    "id": "5lrrGYner3O4"
   },
   "source": [
    "* 접수건, 탑승건"
   ]
  },
  {
   "cell_type": "code",
   "execution_count": null,
   "metadata": {
    "id": "ga8RjMeRr3O4"
   },
   "outputs": [],
   "source": []
  },
  {
   "cell_type": "code",
   "execution_count": null,
   "metadata": {
    "id": "GyAk_uiWr3O5"
   },
   "outputs": [],
   "source": []
  },
  {
   "cell_type": "markdown",
   "metadata": {
    "id": "3uLFuURMr3O5"
   },
   "source": [
    "* 대기시간"
   ]
  },
  {
   "cell_type": "code",
   "execution_count": null,
   "metadata": {
    "id": "AjrRzoQpr3O5"
   },
   "outputs": [],
   "source": []
  },
  {
   "cell_type": "code",
   "execution_count": null,
   "metadata": {
    "id": "9XHfC0tZr3O5"
   },
   "outputs": [],
   "source": []
  },
  {
   "cell_type": "markdown",
   "metadata": {
    "id": "wxf-ch4pr3O5"
   },
   "source": [
    "* 운임"
   ]
  },
  {
   "cell_type": "code",
   "execution_count": null,
   "metadata": {
    "id": "QYW_4SWLr3O5"
   },
   "outputs": [],
   "source": []
  },
  {
   "cell_type": "code",
   "execution_count": null,
   "metadata": {
    "id": "SEp6I30yr3O5"
   },
   "outputs": [],
   "source": []
  },
  {
   "cell_type": "markdown",
   "metadata": {
    "id": "4JUS_I6zr3O5"
   },
   "source": [
    "* 이동거리"
   ]
  },
  {
   "cell_type": "code",
   "execution_count": null,
   "metadata": {
    "id": "i8H_4kuKr3O5"
   },
   "outputs": [],
   "source": []
  },
  {
   "cell_type": "code",
   "execution_count": null,
   "metadata": {
    "id": "tjWUg5fGr3O5"
   },
   "outputs": [],
   "source": []
  },
  {
   "cell_type": "markdown",
   "metadata": {
    "id": "CwSb2GuKuw3B"
   },
   "source": [
    "### (5) 연도별 (boxplot 활용)"
   ]
  },
  {
   "cell_type": "markdown",
   "metadata": {
    "id": "Bpw7gkOhr45j"
   },
   "source": [
    "* 차량 운행수"
   ]
  },
  {
   "cell_type": "code",
   "execution_count": null,
   "metadata": {
    "id": "fq2gRtI4r45j"
   },
   "outputs": [],
   "source": []
  },
  {
   "cell_type": "code",
   "execution_count": null,
   "metadata": {
    "id": "pBGBlAKrr45k"
   },
   "outputs": [],
   "source": []
  },
  {
   "cell_type": "markdown",
   "metadata": {
    "id": "WcsXP9_Kr45k"
   },
   "source": [
    "* 접수건, 탑승건"
   ]
  },
  {
   "cell_type": "code",
   "execution_count": null,
   "metadata": {
    "id": "Byn4GSPTr45k"
   },
   "outputs": [],
   "source": []
  },
  {
   "cell_type": "code",
   "execution_count": null,
   "metadata": {
    "id": "iO1Q1fhBr45k"
   },
   "outputs": [],
   "source": []
  },
  {
   "cell_type": "markdown",
   "metadata": {
    "id": "TO79xpdXz0St"
   },
   "source": [
    "## 3.데이터 구조 만들기\n",
    "\n",
    "* **세부요구사항**\n",
    "    * 조건 : \n",
    "        * 목표 : 전날 저녁, 다음날 평균 대기시간을 예측하고자 합니다.\n",
    "        * 날씨 데이터는 실제 측정값이지만, 다음 날에 대한 예보 데이터로 간주합니다. \n",
    "            * 예를 들어, \n",
    "                * 2020-12-23 의 날씨 데이터는 전날(12월22일) 날씨예보 데이터로 간주하여 분석을 수행합니다.\n",
    "                * 2020-12-22일의 장애인 이동 데이터로 23일의 대기시간을 예측해야 하며, 이때 고려할 날씨데이터는 23일 데이터 입니다.\n",
    "    * 장애인 이동 데이터를 기준으로 날씨 데이터를 붙입니다."
   ]
  },
  {
   "cell_type": "markdown",
   "metadata": {
    "id": "ftyolqe60QcQ"
   },
   "source": [
    "### (1) target 만들기\n",
    "* 예측하는 날짜, 대기시간(target)으로 기준을 잡습니다."
   ]
  },
  {
   "cell_type": "code",
   "execution_count": null,
   "metadata": {
    "id": "p6YxTMCg0ZWf"
   },
   "outputs": [],
   "source": [
    "# 익일의 대기시간(waiting time)을 오늘의 데이터를 활용하여 예측 해야하는 대상(target)으로 설정\n",
    "open_data_copy['target'] = open_data_copy['waiting_time'].shift(-1)"
   ]
  },
  {
   "cell_type": "markdown",
   "metadata": {
    "id": "DYUq-0NRUCjE"
   },
   "source": [
    "### (2) 날씨 데이터 붙이기\n",
    "* merge를 활용합니다. 기준은 운행정보 입니다."
   ]
  },
  {
   "cell_type": "code",
   "execution_count": 67,
   "metadata": {
    "id": "40yEcHs4Vcje"
   },
   "outputs": [
    {
     "data": {
      "text/html": [
       "<div>\n",
       "<style scoped>\n",
       "    .dataframe tbody tr th:only-of-type {\n",
       "        vertical-align: middle;\n",
       "    }\n",
       "\n",
       "    .dataframe tbody tr th {\n",
       "        vertical-align: top;\n",
       "    }\n",
       "\n",
       "    .dataframe thead th {\n",
       "        text-align: right;\n",
       "    }\n",
       "</style>\n",
       "<table border=\"1\" class=\"dataframe\">\n",
       "  <thead>\n",
       "    <tr style=\"text-align: right;\">\n",
       "      <th></th>\n",
       "      <th>Date</th>\n",
       "      <th>car_cnt</th>\n",
       "      <th>request_cnt</th>\n",
       "      <th>ride_cnt</th>\n",
       "      <th>waiting_time</th>\n",
       "      <th>fare</th>\n",
       "      <th>distance</th>\n",
       "      <th>weekday</th>\n",
       "      <th>day</th>\n",
       "      <th>month</th>\n",
       "      <th>week</th>\n",
       "      <th>year</th>\n",
       "      <th>target</th>\n",
       "      <th>temp_max</th>\n",
       "      <th>temp_min</th>\n",
       "      <th>rain(mm)</th>\n",
       "      <th>humidity_max(%)</th>\n",
       "      <th>humidity_min(%)</th>\n",
       "      <th>sunshine(MJ/m2)</th>\n",
       "    </tr>\n",
       "  </thead>\n",
       "  <tbody>\n",
       "    <tr>\n",
       "      <th>0</th>\n",
       "      <td>2015-01-01</td>\n",
       "      <td>213</td>\n",
       "      <td>1023</td>\n",
       "      <td>924</td>\n",
       "      <td>23.2</td>\n",
       "      <td>2427</td>\n",
       "      <td>10764</td>\n",
       "      <td>3</td>\n",
       "      <td>1</td>\n",
       "      <td>1</td>\n",
       "      <td>1</td>\n",
       "      <td>2015</td>\n",
       "      <td>17.2</td>\n",
       "      <td>2.4</td>\n",
       "      <td>-9.2</td>\n",
       "      <td>0.0</td>\n",
       "      <td>73.0</td>\n",
       "      <td>37.0</td>\n",
       "      <td>8.66</td>\n",
       "    </tr>\n",
       "    <tr>\n",
       "      <th>1</th>\n",
       "      <td>2015-01-02</td>\n",
       "      <td>420</td>\n",
       "      <td>3158</td>\n",
       "      <td>2839</td>\n",
       "      <td>17.2</td>\n",
       "      <td>2216</td>\n",
       "      <td>8611</td>\n",
       "      <td>4</td>\n",
       "      <td>2</td>\n",
       "      <td>1</td>\n",
       "      <td>1</td>\n",
       "      <td>2015</td>\n",
       "      <td>26.2</td>\n",
       "      <td>8.2</td>\n",
       "      <td>0.2</td>\n",
       "      <td>0.0</td>\n",
       "      <td>89.0</td>\n",
       "      <td>58.0</td>\n",
       "      <td>5.32</td>\n",
       "    </tr>\n",
       "    <tr>\n",
       "      <th>2</th>\n",
       "      <td>2015-01-03</td>\n",
       "      <td>209</td>\n",
       "      <td>1648</td>\n",
       "      <td>1514</td>\n",
       "      <td>26.2</td>\n",
       "      <td>2377</td>\n",
       "      <td>10198</td>\n",
       "      <td>5</td>\n",
       "      <td>3</td>\n",
       "      <td>1</td>\n",
       "      <td>1</td>\n",
       "      <td>2015</td>\n",
       "      <td>24.5</td>\n",
       "      <td>7.9</td>\n",
       "      <td>-0.9</td>\n",
       "      <td>0.0</td>\n",
       "      <td>95.0</td>\n",
       "      <td>52.0</td>\n",
       "      <td>6.48</td>\n",
       "    </tr>\n",
       "    <tr>\n",
       "      <th>3</th>\n",
       "      <td>2015-01-04</td>\n",
       "      <td>196</td>\n",
       "      <td>1646</td>\n",
       "      <td>1526</td>\n",
       "      <td>24.5</td>\n",
       "      <td>2431</td>\n",
       "      <td>10955</td>\n",
       "      <td>6</td>\n",
       "      <td>4</td>\n",
       "      <td>1</td>\n",
       "      <td>1</td>\n",
       "      <td>2015</td>\n",
       "      <td>26.2</td>\n",
       "      <td>4.1</td>\n",
       "      <td>-7.4</td>\n",
       "      <td>3.4</td>\n",
       "      <td>98.0</td>\n",
       "      <td>29.0</td>\n",
       "      <td>10.47</td>\n",
       "    </tr>\n",
       "    <tr>\n",
       "      <th>4</th>\n",
       "      <td>2015-01-05</td>\n",
       "      <td>421</td>\n",
       "      <td>4250</td>\n",
       "      <td>3730</td>\n",
       "      <td>26.2</td>\n",
       "      <td>2214</td>\n",
       "      <td>8663</td>\n",
       "      <td>0</td>\n",
       "      <td>5</td>\n",
       "      <td>1</td>\n",
       "      <td>2</td>\n",
       "      <td>2015</td>\n",
       "      <td>23.6</td>\n",
       "      <td>-1.0</td>\n",
       "      <td>-8.8</td>\n",
       "      <td>0.0</td>\n",
       "      <td>42.0</td>\n",
       "      <td>24.0</td>\n",
       "      <td>10.12</td>\n",
       "    </tr>\n",
       "    <tr>\n",
       "      <th>...</th>\n",
       "      <td>...</td>\n",
       "      <td>...</td>\n",
       "      <td>...</td>\n",
       "      <td>...</td>\n",
       "      <td>...</td>\n",
       "      <td>...</td>\n",
       "      <td>...</td>\n",
       "      <td>...</td>\n",
       "      <td>...</td>\n",
       "      <td>...</td>\n",
       "      <td>...</td>\n",
       "      <td>...</td>\n",
       "      <td>...</td>\n",
       "      <td>...</td>\n",
       "      <td>...</td>\n",
       "      <td>...</td>\n",
       "      <td>...</td>\n",
       "      <td>...</td>\n",
       "      <td>...</td>\n",
       "    </tr>\n",
       "    <tr>\n",
       "      <th>2917</th>\n",
       "      <td>2022-12-27</td>\n",
       "      <td>669</td>\n",
       "      <td>5635</td>\n",
       "      <td>4654</td>\n",
       "      <td>44.4</td>\n",
       "      <td>2198</td>\n",
       "      <td>8178</td>\n",
       "      <td>1</td>\n",
       "      <td>27</td>\n",
       "      <td>12</td>\n",
       "      <td>52</td>\n",
       "      <td>2022</td>\n",
       "      <td>44.8</td>\n",
       "      <td>1.7</td>\n",
       "      <td>-7.8</td>\n",
       "      <td>0.0</td>\n",
       "      <td>71.0</td>\n",
       "      <td>34.0</td>\n",
       "      <td>10.88</td>\n",
       "    </tr>\n",
       "    <tr>\n",
       "      <th>2918</th>\n",
       "      <td>2022-12-28</td>\n",
       "      <td>607</td>\n",
       "      <td>5654</td>\n",
       "      <td>4648</td>\n",
       "      <td>44.8</td>\n",
       "      <td>2161</td>\n",
       "      <td>7882</td>\n",
       "      <td>2</td>\n",
       "      <td>28</td>\n",
       "      <td>12</td>\n",
       "      <td>52</td>\n",
       "      <td>2022</td>\n",
       "      <td>52.5</td>\n",
       "      <td>2.1</td>\n",
       "      <td>-4.0</td>\n",
       "      <td>0.0</td>\n",
       "      <td>87.0</td>\n",
       "      <td>38.0</td>\n",
       "      <td>10.84</td>\n",
       "    </tr>\n",
       "    <tr>\n",
       "      <th>2919</th>\n",
       "      <td>2022-12-29</td>\n",
       "      <td>581</td>\n",
       "      <td>5250</td>\n",
       "      <td>4247</td>\n",
       "      <td>52.5</td>\n",
       "      <td>2229</td>\n",
       "      <td>8433</td>\n",
       "      <td>3</td>\n",
       "      <td>29</td>\n",
       "      <td>12</td>\n",
       "      <td>52</td>\n",
       "      <td>2022</td>\n",
       "      <td>38.3</td>\n",
       "      <td>-4.4</td>\n",
       "      <td>-4.4</td>\n",
       "      <td>0.0</td>\n",
       "      <td>66.0</td>\n",
       "      <td>66.0</td>\n",
       "      <td>0.00</td>\n",
       "    </tr>\n",
       "    <tr>\n",
       "      <th>2920</th>\n",
       "      <td>2022-12-30</td>\n",
       "      <td>600</td>\n",
       "      <td>5293</td>\n",
       "      <td>4200</td>\n",
       "      <td>38.3</td>\n",
       "      <td>2183</td>\n",
       "      <td>8155</td>\n",
       "      <td>4</td>\n",
       "      <td>30</td>\n",
       "      <td>12</td>\n",
       "      <td>52</td>\n",
       "      <td>2022</td>\n",
       "      <td>33.7</td>\n",
       "      <td>NaN</td>\n",
       "      <td>NaN</td>\n",
       "      <td>NaN</td>\n",
       "      <td>NaN</td>\n",
       "      <td>NaN</td>\n",
       "      <td>NaN</td>\n",
       "    </tr>\n",
       "    <tr>\n",
       "      <th>2921</th>\n",
       "      <td>2022-12-31</td>\n",
       "      <td>263</td>\n",
       "      <td>2167</td>\n",
       "      <td>1806</td>\n",
       "      <td>33.7</td>\n",
       "      <td>2318</td>\n",
       "      <td>9435</td>\n",
       "      <td>5</td>\n",
       "      <td>31</td>\n",
       "      <td>12</td>\n",
       "      <td>52</td>\n",
       "      <td>2022</td>\n",
       "      <td>NaN</td>\n",
       "      <td>NaN</td>\n",
       "      <td>NaN</td>\n",
       "      <td>NaN</td>\n",
       "      <td>NaN</td>\n",
       "      <td>NaN</td>\n",
       "      <td>NaN</td>\n",
       "    </tr>\n",
       "  </tbody>\n",
       "</table>\n",
       "<p>2922 rows × 19 columns</p>\n",
       "</div>"
      ],
      "text/plain": [
       "           Date  car_cnt  request_cnt  ride_cnt  waiting_time  fare  distance  \\\n",
       "0    2015-01-01      213         1023       924          23.2  2427     10764   \n",
       "1    2015-01-02      420         3158      2839          17.2  2216      8611   \n",
       "2    2015-01-03      209         1648      1514          26.2  2377     10198   \n",
       "3    2015-01-04      196         1646      1526          24.5  2431     10955   \n",
       "4    2015-01-05      421         4250      3730          26.2  2214      8663   \n",
       "...         ...      ...          ...       ...           ...   ...       ...   \n",
       "2917 2022-12-27      669         5635      4654          44.4  2198      8178   \n",
       "2918 2022-12-28      607         5654      4648          44.8  2161      7882   \n",
       "2919 2022-12-29      581         5250      4247          52.5  2229      8433   \n",
       "2920 2022-12-30      600         5293      4200          38.3  2183      8155   \n",
       "2921 2022-12-31      263         2167      1806          33.7  2318      9435   \n",
       "\n",
       "      weekday  day  month  week  year  target  temp_max  temp_min  rain(mm)  \\\n",
       "0           3    1      1     1  2015    17.2       2.4      -9.2       0.0   \n",
       "1           4    2      1     1  2015    26.2       8.2       0.2       0.0   \n",
       "2           5    3      1     1  2015    24.5       7.9      -0.9       0.0   \n",
       "3           6    4      1     1  2015    26.2       4.1      -7.4       3.4   \n",
       "4           0    5      1     2  2015    23.6      -1.0      -8.8       0.0   \n",
       "...       ...  ...    ...   ...   ...     ...       ...       ...       ...   \n",
       "2917        1   27     12    52  2022    44.8       1.7      -7.8       0.0   \n",
       "2918        2   28     12    52  2022    52.5       2.1      -4.0       0.0   \n",
       "2919        3   29     12    52  2022    38.3      -4.4      -4.4       0.0   \n",
       "2920        4   30     12    52  2022    33.7       NaN       NaN       NaN   \n",
       "2921        5   31     12    52  2022     NaN       NaN       NaN       NaN   \n",
       "\n",
       "      humidity_max(%)  humidity_min(%)  sunshine(MJ/m2)  \n",
       "0                73.0             37.0             8.66  \n",
       "1                89.0             58.0             5.32  \n",
       "2                95.0             52.0             6.48  \n",
       "3                98.0             29.0            10.47  \n",
       "4                42.0             24.0            10.12  \n",
       "...               ...              ...              ...  \n",
       "2917             71.0             34.0            10.88  \n",
       "2918             87.0             38.0            10.84  \n",
       "2919             66.0             66.0             0.00  \n",
       "2920              NaN              NaN              NaN  \n",
       "2921              NaN              NaN              NaN  \n",
       "\n",
       "[2922 rows x 19 columns]"
      ]
     },
     "execution_count": 67,
     "metadata": {},
     "output_type": "execute_result"
    }
   ],
   "source": [
    "# 익일의 실제 날씨 데이터를 전일에 발표된 예보데이터로 판단\n",
    "cols = ['temp_max', 'temp_min', 'rain(mm)', 'humidity_max(%)', 'humidity_min(%)', 'sunshine(MJ/m2)']\n",
    "weather_copy[cols] = weather_copy[cols].shift(-1)\n",
    "df = pd.merge(open_data_copy, weather_copy)\n",
    "df"
   ]
  },
  {
   "cell_type": "code",
   "execution_count": 68,
   "metadata": {},
   "outputs": [
    {
     "data": {
      "text/plain": [
       "Index(['Date', 'car_cnt', 'request_cnt', 'ride_cnt', 'waiting_time', 'fare',\n",
       "       'distance', 'weekday', 'day', 'month', 'week', 'year', 'target',\n",
       "       'temp_max', 'temp_min', 'rain(mm)', 'humidity_max(%)',\n",
       "       'humidity_min(%)', 'sunshine(MJ/m2)'],\n",
       "      dtype='object')"
      ]
     },
     "execution_count": 68,
     "metadata": {},
     "output_type": "execute_result"
    }
   ],
   "source": [
    "df.columns"
   ]
  },
  {
   "cell_type": "markdown",
   "metadata": {
    "id": "jj9Hs5bcX5OT"
   },
   "source": [
    "### (3) 새로운 feature를 생성해 봅시다.\n",
    "* 날짜와 관련된 변수 추가하기 : 요일, 월, 계절, 연도\n",
    "* 그외 새로운 feature 도출 : 최소 2개 이상\n",
    "    * 예 : 공휴일, 최근 7주일간의 평균 대기시간, 탑승률 등"
   ]
  },
  {
   "cell_type": "markdown",
   "metadata": {
    "id": "qY1k-Rz3abg5"
   },
   "source": [
    "#### 1) 날짜와 관련된 변수 추가하기 : 요일, 월, 계절, 연도\n",
    "* 요일 이름, 계절이름, 월 이름으로 만드는 경우에는, 변수를 pd.Categorical로 범주형을 만들면서 순서를 지정하는 것이 이후 그래프를 그릴 때 순서대로 표현할 수 있습니다.\n"
   ]
  },
  {
   "cell_type": "code",
   "execution_count": null,
   "metadata": {
    "id": "b-N-DvK5aObm"
   },
   "outputs": [],
   "source": []
  },
  {
   "cell_type": "markdown",
   "metadata": {
    "id": "P0exvho5bJu0"
   },
   "source": [
    "#### 2) 공휴일 정보\n",
    "* workalendar 패키지를 설치하고, 대한민국 공휴일 정보를 끌어와 봅시다."
   ]
  },
  {
   "cell_type": "markdown",
   "metadata": {
    "id": "rIVL7P-eOxlu"
   },
   "source": [
    "* 휴무일 데이터 패키지 설치"
   ]
  },
  {
   "cell_type": "code",
   "execution_count": null,
   "metadata": {
    "id": "WzeatBPnXzmq"
   },
   "outputs": [],
   "source": [
    "!pip install workalendar"
   ]
  },
  {
   "cell_type": "markdown",
   "metadata": {
    "id": "wutMCvycO1s0"
   },
   "source": [
    "* 간단 사용법"
   ]
  },
  {
   "cell_type": "code",
   "execution_count": null,
   "metadata": {
    "id": "_BhDiwDpOwcQ"
   },
   "outputs": [],
   "source": [
    "from workalendar.asia import SouthKorea\n",
    "cal = SouthKorea()\n",
    "pd.DataFrame(cal.holidays(2023))"
   ]
  },
  {
   "cell_type": "markdown",
   "metadata": {
    "id": "BPag0pQoPQ_e"
   },
   "source": [
    "* 휴무일 데이터셋 만들기 2015 ~ 2022\n",
    "* 실제로 휴무일에 해당하지만 workalendar 라이브러리에 없는 날짜는 직접 추가해봅시다.\n",
    "    * 휴무일 장애인 콜택시의 접수건 변화에 대한 특징을 찾아 이를 바탕으로 데이터를 조회하여 찾아볼 수 있음"
   ]
  },
  {
   "cell_type": "code",
   "execution_count": null,
   "metadata": {
    "id": "EWqrK9kkZsFH"
   },
   "outputs": [],
   "source": []
  },
  {
   "cell_type": "markdown",
   "metadata": {
    "id": "L5cOYlg0hdpX"
   },
   "source": [
    "* 기존 데이터에 휴무일 정보 결합하기.\n",
    "* 휴무일이 아닌 날짜는 0으로 저장하시오."
   ]
  },
  {
   "cell_type": "code",
   "execution_count": null,
   "metadata": {
    "id": "jHHh4H8icL3D"
   },
   "outputs": [],
   "source": []
  },
  {
   "cell_type": "markdown",
   "metadata": {
    "id": "bBnWrSF9dHMP"
   },
   "source": [
    "#### 3) 7일 이동평균 대기시간\n",
    "* rolling().mean() 사용"
   ]
  },
  {
   "cell_type": "code",
   "execution_count": 69,
   "metadata": {
    "id": "9fk23rt6dK53"
   },
   "outputs": [
    {
     "data": {
      "text/html": [
       "<div>\n",
       "<style scoped>\n",
       "    .dataframe tbody tr th:only-of-type {\n",
       "        vertical-align: middle;\n",
       "    }\n",
       "\n",
       "    .dataframe tbody tr th {\n",
       "        vertical-align: top;\n",
       "    }\n",
       "\n",
       "    .dataframe thead th {\n",
       "        text-align: right;\n",
       "    }\n",
       "</style>\n",
       "<table border=\"1\" class=\"dataframe\">\n",
       "  <thead>\n",
       "    <tr style=\"text-align: right;\">\n",
       "      <th></th>\n",
       "      <th>Date</th>\n",
       "      <th>car_cnt</th>\n",
       "      <th>request_cnt</th>\n",
       "      <th>ride_cnt</th>\n",
       "      <th>waiting_time</th>\n",
       "      <th>fare</th>\n",
       "      <th>distance</th>\n",
       "      <th>weekday</th>\n",
       "      <th>day</th>\n",
       "      <th>month</th>\n",
       "      <th>week</th>\n",
       "      <th>year</th>\n",
       "      <th>target</th>\n",
       "      <th>temp_max</th>\n",
       "      <th>temp_min</th>\n",
       "      <th>rain(mm)</th>\n",
       "      <th>humidity_max(%)</th>\n",
       "      <th>humidity_min(%)</th>\n",
       "      <th>sunshine(MJ/m2)</th>\n",
       "      <th>waiting_time_MA7</th>\n",
       "    </tr>\n",
       "  </thead>\n",
       "  <tbody>\n",
       "    <tr>\n",
       "      <th>0</th>\n",
       "      <td>2015-01-01</td>\n",
       "      <td>213</td>\n",
       "      <td>1023</td>\n",
       "      <td>924</td>\n",
       "      <td>23.2</td>\n",
       "      <td>2427</td>\n",
       "      <td>10764</td>\n",
       "      <td>3</td>\n",
       "      <td>1</td>\n",
       "      <td>1</td>\n",
       "      <td>1</td>\n",
       "      <td>2015</td>\n",
       "      <td>17.2</td>\n",
       "      <td>2.4</td>\n",
       "      <td>-9.2</td>\n",
       "      <td>0.0</td>\n",
       "      <td>73.0</td>\n",
       "      <td>37.0</td>\n",
       "      <td>8.66</td>\n",
       "      <td>NaN</td>\n",
       "    </tr>\n",
       "    <tr>\n",
       "      <th>1</th>\n",
       "      <td>2015-01-02</td>\n",
       "      <td>420</td>\n",
       "      <td>3158</td>\n",
       "      <td>2839</td>\n",
       "      <td>17.2</td>\n",
       "      <td>2216</td>\n",
       "      <td>8611</td>\n",
       "      <td>4</td>\n",
       "      <td>2</td>\n",
       "      <td>1</td>\n",
       "      <td>1</td>\n",
       "      <td>2015</td>\n",
       "      <td>26.2</td>\n",
       "      <td>8.2</td>\n",
       "      <td>0.2</td>\n",
       "      <td>0.0</td>\n",
       "      <td>89.0</td>\n",
       "      <td>58.0</td>\n",
       "      <td>5.32</td>\n",
       "      <td>NaN</td>\n",
       "    </tr>\n",
       "    <tr>\n",
       "      <th>2</th>\n",
       "      <td>2015-01-03</td>\n",
       "      <td>209</td>\n",
       "      <td>1648</td>\n",
       "      <td>1514</td>\n",
       "      <td>26.2</td>\n",
       "      <td>2377</td>\n",
       "      <td>10198</td>\n",
       "      <td>5</td>\n",
       "      <td>3</td>\n",
       "      <td>1</td>\n",
       "      <td>1</td>\n",
       "      <td>2015</td>\n",
       "      <td>24.5</td>\n",
       "      <td>7.9</td>\n",
       "      <td>-0.9</td>\n",
       "      <td>0.0</td>\n",
       "      <td>95.0</td>\n",
       "      <td>52.0</td>\n",
       "      <td>6.48</td>\n",
       "      <td>NaN</td>\n",
       "    </tr>\n",
       "    <tr>\n",
       "      <th>3</th>\n",
       "      <td>2015-01-04</td>\n",
       "      <td>196</td>\n",
       "      <td>1646</td>\n",
       "      <td>1526</td>\n",
       "      <td>24.5</td>\n",
       "      <td>2431</td>\n",
       "      <td>10955</td>\n",
       "      <td>6</td>\n",
       "      <td>4</td>\n",
       "      <td>1</td>\n",
       "      <td>1</td>\n",
       "      <td>2015</td>\n",
       "      <td>26.2</td>\n",
       "      <td>4.1</td>\n",
       "      <td>-7.4</td>\n",
       "      <td>3.4</td>\n",
       "      <td>98.0</td>\n",
       "      <td>29.0</td>\n",
       "      <td>10.47</td>\n",
       "      <td>NaN</td>\n",
       "    </tr>\n",
       "    <tr>\n",
       "      <th>4</th>\n",
       "      <td>2015-01-05</td>\n",
       "      <td>421</td>\n",
       "      <td>4250</td>\n",
       "      <td>3730</td>\n",
       "      <td>26.2</td>\n",
       "      <td>2214</td>\n",
       "      <td>8663</td>\n",
       "      <td>0</td>\n",
       "      <td>5</td>\n",
       "      <td>1</td>\n",
       "      <td>2</td>\n",
       "      <td>2015</td>\n",
       "      <td>23.6</td>\n",
       "      <td>-1.0</td>\n",
       "      <td>-8.8</td>\n",
       "      <td>0.0</td>\n",
       "      <td>42.0</td>\n",
       "      <td>24.0</td>\n",
       "      <td>10.12</td>\n",
       "      <td>NaN</td>\n",
       "    </tr>\n",
       "    <tr>\n",
       "      <th>...</th>\n",
       "      <td>...</td>\n",
       "      <td>...</td>\n",
       "      <td>...</td>\n",
       "      <td>...</td>\n",
       "      <td>...</td>\n",
       "      <td>...</td>\n",
       "      <td>...</td>\n",
       "      <td>...</td>\n",
       "      <td>...</td>\n",
       "      <td>...</td>\n",
       "      <td>...</td>\n",
       "      <td>...</td>\n",
       "      <td>...</td>\n",
       "      <td>...</td>\n",
       "      <td>...</td>\n",
       "      <td>...</td>\n",
       "      <td>...</td>\n",
       "      <td>...</td>\n",
       "      <td>...</td>\n",
       "      <td>...</td>\n",
       "    </tr>\n",
       "    <tr>\n",
       "      <th>2917</th>\n",
       "      <td>2022-12-27</td>\n",
       "      <td>669</td>\n",
       "      <td>5635</td>\n",
       "      <td>4654</td>\n",
       "      <td>44.4</td>\n",
       "      <td>2198</td>\n",
       "      <td>8178</td>\n",
       "      <td>1</td>\n",
       "      <td>27</td>\n",
       "      <td>12</td>\n",
       "      <td>52</td>\n",
       "      <td>2022</td>\n",
       "      <td>44.8</td>\n",
       "      <td>1.7</td>\n",
       "      <td>-7.8</td>\n",
       "      <td>0.0</td>\n",
       "      <td>71.0</td>\n",
       "      <td>34.0</td>\n",
       "      <td>10.88</td>\n",
       "      <td>42.771429</td>\n",
       "    </tr>\n",
       "    <tr>\n",
       "      <th>2918</th>\n",
       "      <td>2022-12-28</td>\n",
       "      <td>607</td>\n",
       "      <td>5654</td>\n",
       "      <td>4648</td>\n",
       "      <td>44.8</td>\n",
       "      <td>2161</td>\n",
       "      <td>7882</td>\n",
       "      <td>2</td>\n",
       "      <td>28</td>\n",
       "      <td>12</td>\n",
       "      <td>52</td>\n",
       "      <td>2022</td>\n",
       "      <td>52.5</td>\n",
       "      <td>2.1</td>\n",
       "      <td>-4.0</td>\n",
       "      <td>0.0</td>\n",
       "      <td>87.0</td>\n",
       "      <td>38.0</td>\n",
       "      <td>10.84</td>\n",
       "      <td>43.514286</td>\n",
       "    </tr>\n",
       "    <tr>\n",
       "      <th>2919</th>\n",
       "      <td>2022-12-29</td>\n",
       "      <td>581</td>\n",
       "      <td>5250</td>\n",
       "      <td>4247</td>\n",
       "      <td>52.5</td>\n",
       "      <td>2229</td>\n",
       "      <td>8433</td>\n",
       "      <td>3</td>\n",
       "      <td>29</td>\n",
       "      <td>12</td>\n",
       "      <td>52</td>\n",
       "      <td>2022</td>\n",
       "      <td>38.3</td>\n",
       "      <td>-4.4</td>\n",
       "      <td>-4.4</td>\n",
       "      <td>0.0</td>\n",
       "      <td>66.0</td>\n",
       "      <td>66.0</td>\n",
       "      <td>0.00</td>\n",
       "      <td>42.957143</td>\n",
       "    </tr>\n",
       "    <tr>\n",
       "      <th>2920</th>\n",
       "      <td>2022-12-30</td>\n",
       "      <td>600</td>\n",
       "      <td>5293</td>\n",
       "      <td>4200</td>\n",
       "      <td>38.3</td>\n",
       "      <td>2183</td>\n",
       "      <td>8155</td>\n",
       "      <td>4</td>\n",
       "      <td>30</td>\n",
       "      <td>12</td>\n",
       "      <td>52</td>\n",
       "      <td>2022</td>\n",
       "      <td>33.7</td>\n",
       "      <td>NaN</td>\n",
       "      <td>NaN</td>\n",
       "      <td>NaN</td>\n",
       "      <td>NaN</td>\n",
       "      <td>NaN</td>\n",
       "      <td>NaN</td>\n",
       "      <td>41.042857</td>\n",
       "    </tr>\n",
       "    <tr>\n",
       "      <th>2921</th>\n",
       "      <td>2022-12-31</td>\n",
       "      <td>263</td>\n",
       "      <td>2167</td>\n",
       "      <td>1806</td>\n",
       "      <td>33.7</td>\n",
       "      <td>2318</td>\n",
       "      <td>9435</td>\n",
       "      <td>5</td>\n",
       "      <td>31</td>\n",
       "      <td>12</td>\n",
       "      <td>52</td>\n",
       "      <td>2022</td>\n",
       "      <td>NaN</td>\n",
       "      <td>NaN</td>\n",
       "      <td>NaN</td>\n",
       "      <td>NaN</td>\n",
       "      <td>NaN</td>\n",
       "      <td>NaN</td>\n",
       "      <td>NaN</td>\n",
       "      <td>41.657143</td>\n",
       "    </tr>\n",
       "  </tbody>\n",
       "</table>\n",
       "<p>2922 rows × 20 columns</p>\n",
       "</div>"
      ],
      "text/plain": [
       "           Date  car_cnt  request_cnt  ride_cnt  waiting_time  fare  distance  \\\n",
       "0    2015-01-01      213         1023       924          23.2  2427     10764   \n",
       "1    2015-01-02      420         3158      2839          17.2  2216      8611   \n",
       "2    2015-01-03      209         1648      1514          26.2  2377     10198   \n",
       "3    2015-01-04      196         1646      1526          24.5  2431     10955   \n",
       "4    2015-01-05      421         4250      3730          26.2  2214      8663   \n",
       "...         ...      ...          ...       ...           ...   ...       ...   \n",
       "2917 2022-12-27      669         5635      4654          44.4  2198      8178   \n",
       "2918 2022-12-28      607         5654      4648          44.8  2161      7882   \n",
       "2919 2022-12-29      581         5250      4247          52.5  2229      8433   \n",
       "2920 2022-12-30      600         5293      4200          38.3  2183      8155   \n",
       "2921 2022-12-31      263         2167      1806          33.7  2318      9435   \n",
       "\n",
       "      weekday  day  month  week  year  target  temp_max  temp_min  rain(mm)  \\\n",
       "0           3    1      1     1  2015    17.2       2.4      -9.2       0.0   \n",
       "1           4    2      1     1  2015    26.2       8.2       0.2       0.0   \n",
       "2           5    3      1     1  2015    24.5       7.9      -0.9       0.0   \n",
       "3           6    4      1     1  2015    26.2       4.1      -7.4       3.4   \n",
       "4           0    5      1     2  2015    23.6      -1.0      -8.8       0.0   \n",
       "...       ...  ...    ...   ...   ...     ...       ...       ...       ...   \n",
       "2917        1   27     12    52  2022    44.8       1.7      -7.8       0.0   \n",
       "2918        2   28     12    52  2022    52.5       2.1      -4.0       0.0   \n",
       "2919        3   29     12    52  2022    38.3      -4.4      -4.4       0.0   \n",
       "2920        4   30     12    52  2022    33.7       NaN       NaN       NaN   \n",
       "2921        5   31     12    52  2022     NaN       NaN       NaN       NaN   \n",
       "\n",
       "      humidity_max(%)  humidity_min(%)  sunshine(MJ/m2)  waiting_time_MA7  \n",
       "0                73.0             37.0             8.66               NaN  \n",
       "1                89.0             58.0             5.32               NaN  \n",
       "2                95.0             52.0             6.48               NaN  \n",
       "3                98.0             29.0            10.47               NaN  \n",
       "4                42.0             24.0            10.12               NaN  \n",
       "...               ...              ...              ...               ...  \n",
       "2917             71.0             34.0            10.88         42.771429  \n",
       "2918             87.0             38.0            10.84         43.514286  \n",
       "2919             66.0             66.0             0.00         42.957143  \n",
       "2920              NaN              NaN              NaN         41.042857  \n",
       "2921              NaN              NaN              NaN         41.657143  \n",
       "\n",
       "[2922 rows x 20 columns]"
      ]
     },
     "execution_count": 69,
     "metadata": {},
     "output_type": "execute_result"
    }
   ],
   "source": [
    "df['waiting_time_MA7'] = df['waiting_time'].rolling(7).mean()\n",
    "df"
   ]
  },
  {
   "cell_type": "markdown",
   "metadata": {
    "id": "eMZJxlaReHZW"
   },
   "source": [
    "#### 4) 탑승률"
   ]
  },
  {
   "cell_type": "code",
   "execution_count": 70,
   "metadata": {
    "id": "BchF6jZTeMXJ"
   },
   "outputs": [
    {
     "data": {
      "text/html": [
       "<div>\n",
       "<style scoped>\n",
       "    .dataframe tbody tr th:only-of-type {\n",
       "        vertical-align: middle;\n",
       "    }\n",
       "\n",
       "    .dataframe tbody tr th {\n",
       "        vertical-align: top;\n",
       "    }\n",
       "\n",
       "    .dataframe thead th {\n",
       "        text-align: right;\n",
       "    }\n",
       "</style>\n",
       "<table border=\"1\" class=\"dataframe\">\n",
       "  <thead>\n",
       "    <tr style=\"text-align: right;\">\n",
       "      <th></th>\n",
       "      <th>Date</th>\n",
       "      <th>car_cnt</th>\n",
       "      <th>request_cnt</th>\n",
       "      <th>ride_cnt</th>\n",
       "      <th>waiting_time</th>\n",
       "      <th>fare</th>\n",
       "      <th>distance</th>\n",
       "      <th>weekday</th>\n",
       "      <th>day</th>\n",
       "      <th>month</th>\n",
       "      <th>...</th>\n",
       "      <th>year</th>\n",
       "      <th>target</th>\n",
       "      <th>temp_max</th>\n",
       "      <th>temp_min</th>\n",
       "      <th>rain(mm)</th>\n",
       "      <th>humidity_max(%)</th>\n",
       "      <th>humidity_min(%)</th>\n",
       "      <th>sunshine(MJ/m2)</th>\n",
       "      <th>waiting_time_MA7</th>\n",
       "      <th>ride_rate</th>\n",
       "    </tr>\n",
       "  </thead>\n",
       "  <tbody>\n",
       "    <tr>\n",
       "      <th>0</th>\n",
       "      <td>2015-01-01</td>\n",
       "      <td>213</td>\n",
       "      <td>1023</td>\n",
       "      <td>924</td>\n",
       "      <td>23.2</td>\n",
       "      <td>2427</td>\n",
       "      <td>10764</td>\n",
       "      <td>3</td>\n",
       "      <td>1</td>\n",
       "      <td>1</td>\n",
       "      <td>...</td>\n",
       "      <td>2015</td>\n",
       "      <td>17.2</td>\n",
       "      <td>2.4</td>\n",
       "      <td>-9.2</td>\n",
       "      <td>0.0</td>\n",
       "      <td>73.0</td>\n",
       "      <td>37.0</td>\n",
       "      <td>8.66</td>\n",
       "      <td>NaN</td>\n",
       "      <td>0.903226</td>\n",
       "    </tr>\n",
       "    <tr>\n",
       "      <th>1</th>\n",
       "      <td>2015-01-02</td>\n",
       "      <td>420</td>\n",
       "      <td>3158</td>\n",
       "      <td>2839</td>\n",
       "      <td>17.2</td>\n",
       "      <td>2216</td>\n",
       "      <td>8611</td>\n",
       "      <td>4</td>\n",
       "      <td>2</td>\n",
       "      <td>1</td>\n",
       "      <td>...</td>\n",
       "      <td>2015</td>\n",
       "      <td>26.2</td>\n",
       "      <td>8.2</td>\n",
       "      <td>0.2</td>\n",
       "      <td>0.0</td>\n",
       "      <td>89.0</td>\n",
       "      <td>58.0</td>\n",
       "      <td>5.32</td>\n",
       "      <td>NaN</td>\n",
       "      <td>0.898987</td>\n",
       "    </tr>\n",
       "    <tr>\n",
       "      <th>2</th>\n",
       "      <td>2015-01-03</td>\n",
       "      <td>209</td>\n",
       "      <td>1648</td>\n",
       "      <td>1514</td>\n",
       "      <td>26.2</td>\n",
       "      <td>2377</td>\n",
       "      <td>10198</td>\n",
       "      <td>5</td>\n",
       "      <td>3</td>\n",
       "      <td>1</td>\n",
       "      <td>...</td>\n",
       "      <td>2015</td>\n",
       "      <td>24.5</td>\n",
       "      <td>7.9</td>\n",
       "      <td>-0.9</td>\n",
       "      <td>0.0</td>\n",
       "      <td>95.0</td>\n",
       "      <td>52.0</td>\n",
       "      <td>6.48</td>\n",
       "      <td>NaN</td>\n",
       "      <td>0.918689</td>\n",
       "    </tr>\n",
       "    <tr>\n",
       "      <th>3</th>\n",
       "      <td>2015-01-04</td>\n",
       "      <td>196</td>\n",
       "      <td>1646</td>\n",
       "      <td>1526</td>\n",
       "      <td>24.5</td>\n",
       "      <td>2431</td>\n",
       "      <td>10955</td>\n",
       "      <td>6</td>\n",
       "      <td>4</td>\n",
       "      <td>1</td>\n",
       "      <td>...</td>\n",
       "      <td>2015</td>\n",
       "      <td>26.2</td>\n",
       "      <td>4.1</td>\n",
       "      <td>-7.4</td>\n",
       "      <td>3.4</td>\n",
       "      <td>98.0</td>\n",
       "      <td>29.0</td>\n",
       "      <td>10.47</td>\n",
       "      <td>NaN</td>\n",
       "      <td>0.927096</td>\n",
       "    </tr>\n",
       "    <tr>\n",
       "      <th>4</th>\n",
       "      <td>2015-01-05</td>\n",
       "      <td>421</td>\n",
       "      <td>4250</td>\n",
       "      <td>3730</td>\n",
       "      <td>26.2</td>\n",
       "      <td>2214</td>\n",
       "      <td>8663</td>\n",
       "      <td>0</td>\n",
       "      <td>5</td>\n",
       "      <td>1</td>\n",
       "      <td>...</td>\n",
       "      <td>2015</td>\n",
       "      <td>23.6</td>\n",
       "      <td>-1.0</td>\n",
       "      <td>-8.8</td>\n",
       "      <td>0.0</td>\n",
       "      <td>42.0</td>\n",
       "      <td>24.0</td>\n",
       "      <td>10.12</td>\n",
       "      <td>NaN</td>\n",
       "      <td>0.877647</td>\n",
       "    </tr>\n",
       "    <tr>\n",
       "      <th>...</th>\n",
       "      <td>...</td>\n",
       "      <td>...</td>\n",
       "      <td>...</td>\n",
       "      <td>...</td>\n",
       "      <td>...</td>\n",
       "      <td>...</td>\n",
       "      <td>...</td>\n",
       "      <td>...</td>\n",
       "      <td>...</td>\n",
       "      <td>...</td>\n",
       "      <td>...</td>\n",
       "      <td>...</td>\n",
       "      <td>...</td>\n",
       "      <td>...</td>\n",
       "      <td>...</td>\n",
       "      <td>...</td>\n",
       "      <td>...</td>\n",
       "      <td>...</td>\n",
       "      <td>...</td>\n",
       "      <td>...</td>\n",
       "      <td>...</td>\n",
       "    </tr>\n",
       "    <tr>\n",
       "      <th>2917</th>\n",
       "      <td>2022-12-27</td>\n",
       "      <td>669</td>\n",
       "      <td>5635</td>\n",
       "      <td>4654</td>\n",
       "      <td>44.4</td>\n",
       "      <td>2198</td>\n",
       "      <td>8178</td>\n",
       "      <td>1</td>\n",
       "      <td>27</td>\n",
       "      <td>12</td>\n",
       "      <td>...</td>\n",
       "      <td>2022</td>\n",
       "      <td>44.8</td>\n",
       "      <td>1.7</td>\n",
       "      <td>-7.8</td>\n",
       "      <td>0.0</td>\n",
       "      <td>71.0</td>\n",
       "      <td>34.0</td>\n",
       "      <td>10.88</td>\n",
       "      <td>42.771429</td>\n",
       "      <td>0.825909</td>\n",
       "    </tr>\n",
       "    <tr>\n",
       "      <th>2918</th>\n",
       "      <td>2022-12-28</td>\n",
       "      <td>607</td>\n",
       "      <td>5654</td>\n",
       "      <td>4648</td>\n",
       "      <td>44.8</td>\n",
       "      <td>2161</td>\n",
       "      <td>7882</td>\n",
       "      <td>2</td>\n",
       "      <td>28</td>\n",
       "      <td>12</td>\n",
       "      <td>...</td>\n",
       "      <td>2022</td>\n",
       "      <td>52.5</td>\n",
       "      <td>2.1</td>\n",
       "      <td>-4.0</td>\n",
       "      <td>0.0</td>\n",
       "      <td>87.0</td>\n",
       "      <td>38.0</td>\n",
       "      <td>10.84</td>\n",
       "      <td>43.514286</td>\n",
       "      <td>0.822073</td>\n",
       "    </tr>\n",
       "    <tr>\n",
       "      <th>2919</th>\n",
       "      <td>2022-12-29</td>\n",
       "      <td>581</td>\n",
       "      <td>5250</td>\n",
       "      <td>4247</td>\n",
       "      <td>52.5</td>\n",
       "      <td>2229</td>\n",
       "      <td>8433</td>\n",
       "      <td>3</td>\n",
       "      <td>29</td>\n",
       "      <td>12</td>\n",
       "      <td>...</td>\n",
       "      <td>2022</td>\n",
       "      <td>38.3</td>\n",
       "      <td>-4.4</td>\n",
       "      <td>-4.4</td>\n",
       "      <td>0.0</td>\n",
       "      <td>66.0</td>\n",
       "      <td>66.0</td>\n",
       "      <td>0.00</td>\n",
       "      <td>42.957143</td>\n",
       "      <td>0.808952</td>\n",
       "    </tr>\n",
       "    <tr>\n",
       "      <th>2920</th>\n",
       "      <td>2022-12-30</td>\n",
       "      <td>600</td>\n",
       "      <td>5293</td>\n",
       "      <td>4200</td>\n",
       "      <td>38.3</td>\n",
       "      <td>2183</td>\n",
       "      <td>8155</td>\n",
       "      <td>4</td>\n",
       "      <td>30</td>\n",
       "      <td>12</td>\n",
       "      <td>...</td>\n",
       "      <td>2022</td>\n",
       "      <td>33.7</td>\n",
       "      <td>NaN</td>\n",
       "      <td>NaN</td>\n",
       "      <td>NaN</td>\n",
       "      <td>NaN</td>\n",
       "      <td>NaN</td>\n",
       "      <td>NaN</td>\n",
       "      <td>41.042857</td>\n",
       "      <td>0.793501</td>\n",
       "    </tr>\n",
       "    <tr>\n",
       "      <th>2921</th>\n",
       "      <td>2022-12-31</td>\n",
       "      <td>263</td>\n",
       "      <td>2167</td>\n",
       "      <td>1806</td>\n",
       "      <td>33.7</td>\n",
       "      <td>2318</td>\n",
       "      <td>9435</td>\n",
       "      <td>5</td>\n",
       "      <td>31</td>\n",
       "      <td>12</td>\n",
       "      <td>...</td>\n",
       "      <td>2022</td>\n",
       "      <td>NaN</td>\n",
       "      <td>NaN</td>\n",
       "      <td>NaN</td>\n",
       "      <td>NaN</td>\n",
       "      <td>NaN</td>\n",
       "      <td>NaN</td>\n",
       "      <td>NaN</td>\n",
       "      <td>41.657143</td>\n",
       "      <td>0.833410</td>\n",
       "    </tr>\n",
       "  </tbody>\n",
       "</table>\n",
       "<p>2922 rows × 21 columns</p>\n",
       "</div>"
      ],
      "text/plain": [
       "           Date  car_cnt  request_cnt  ride_cnt  waiting_time  fare  distance  \\\n",
       "0    2015-01-01      213         1023       924          23.2  2427     10764   \n",
       "1    2015-01-02      420         3158      2839          17.2  2216      8611   \n",
       "2    2015-01-03      209         1648      1514          26.2  2377     10198   \n",
       "3    2015-01-04      196         1646      1526          24.5  2431     10955   \n",
       "4    2015-01-05      421         4250      3730          26.2  2214      8663   \n",
       "...         ...      ...          ...       ...           ...   ...       ...   \n",
       "2917 2022-12-27      669         5635      4654          44.4  2198      8178   \n",
       "2918 2022-12-28      607         5654      4648          44.8  2161      7882   \n",
       "2919 2022-12-29      581         5250      4247          52.5  2229      8433   \n",
       "2920 2022-12-30      600         5293      4200          38.3  2183      8155   \n",
       "2921 2022-12-31      263         2167      1806          33.7  2318      9435   \n",
       "\n",
       "      weekday  day  month  ...  year  target  temp_max  temp_min  rain(mm)  \\\n",
       "0           3    1      1  ...  2015    17.2       2.4      -9.2       0.0   \n",
       "1           4    2      1  ...  2015    26.2       8.2       0.2       0.0   \n",
       "2           5    3      1  ...  2015    24.5       7.9      -0.9       0.0   \n",
       "3           6    4      1  ...  2015    26.2       4.1      -7.4       3.4   \n",
       "4           0    5      1  ...  2015    23.6      -1.0      -8.8       0.0   \n",
       "...       ...  ...    ...  ...   ...     ...       ...       ...       ...   \n",
       "2917        1   27     12  ...  2022    44.8       1.7      -7.8       0.0   \n",
       "2918        2   28     12  ...  2022    52.5       2.1      -4.0       0.0   \n",
       "2919        3   29     12  ...  2022    38.3      -4.4      -4.4       0.0   \n",
       "2920        4   30     12  ...  2022    33.7       NaN       NaN       NaN   \n",
       "2921        5   31     12  ...  2022     NaN       NaN       NaN       NaN   \n",
       "\n",
       "      humidity_max(%)  humidity_min(%)  sunshine(MJ/m2)  waiting_time_MA7  \\\n",
       "0                73.0             37.0             8.66               NaN   \n",
       "1                89.0             58.0             5.32               NaN   \n",
       "2                95.0             52.0             6.48               NaN   \n",
       "3                98.0             29.0            10.47               NaN   \n",
       "4                42.0             24.0            10.12               NaN   \n",
       "...               ...              ...              ...               ...   \n",
       "2917             71.0             34.0            10.88         42.771429   \n",
       "2918             87.0             38.0            10.84         43.514286   \n",
       "2919             66.0             66.0             0.00         42.957143   \n",
       "2920              NaN              NaN              NaN         41.042857   \n",
       "2921              NaN              NaN              NaN         41.657143   \n",
       "\n",
       "      ride_rate  \n",
       "0      0.903226  \n",
       "1      0.898987  \n",
       "2      0.918689  \n",
       "3      0.927096  \n",
       "4      0.877647  \n",
       "...         ...  \n",
       "2917   0.825909  \n",
       "2918   0.822073  \n",
       "2919   0.808952  \n",
       "2920   0.793501  \n",
       "2921   0.833410  \n",
       "\n",
       "[2922 rows x 21 columns]"
      ]
     },
     "execution_count": 70,
     "metadata": {},
     "output_type": "execute_result"
    }
   ],
   "source": [
    "df['ride_rate'] = df['ride_cnt'] / df['request_cnt']\n",
    "df"
   ]
  },
  {
   "cell_type": "code",
   "execution_count": 73,
   "metadata": {},
   "outputs": [
    {
     "name": "stdout",
     "output_type": "stream",
     "text": [
      "<class 'pandas.core.frame.DataFrame'>\n",
      "Int64Index: 2922 entries, 0 to 2921\n",
      "Data columns (total 22 columns):\n",
      " #   Column            Non-Null Count  Dtype         \n",
      "---  ------            --------------  -----         \n",
      " 0   Date              2922 non-null   datetime64[ns]\n",
      " 1   car_cnt           2922 non-null   int64         \n",
      " 2   request_cnt       2922 non-null   int64         \n",
      " 3   ride_cnt          2922 non-null   int64         \n",
      " 4   waiting_time      2922 non-null   float64       \n",
      " 5   fare              2922 non-null   int64         \n",
      " 6   distance          2922 non-null   int64         \n",
      " 7   weekday           2922 non-null   int64         \n",
      " 8   day               2922 non-null   int64         \n",
      " 9   month             2922 non-null   int64         \n",
      " 10  week              2922 non-null   int64         \n",
      " 11  year              2922 non-null   int64         \n",
      " 12  target            2921 non-null   float64       \n",
      " 13  temp_max          2920 non-null   float64       \n",
      " 14  temp_min          2920 non-null   float64       \n",
      " 15  rain(mm)          2920 non-null   float64       \n",
      " 16  humidity_max(%)   2920 non-null   float64       \n",
      " 17  humidity_min(%)   2920 non-null   float64       \n",
      " 18  sunshine(MJ/m2)   2920 non-null   float64       \n",
      " 19  waiting_time_MA7  2916 non-null   float64       \n",
      " 20  ride_rate         2922 non-null   float64       \n",
      " 21  season            0 non-null      object        \n",
      "dtypes: datetime64[ns](1), float64(10), int64(10), object(1)\n",
      "memory usage: 525.0+ KB\n"
     ]
    }
   ],
   "source": [
    "df.info()"
   ]
  },
  {
   "cell_type": "markdown",
   "metadata": {},
   "source": [
    "#### 5) 계절"
   ]
  },
  {
   "cell_type": "code",
   "execution_count": 74,
   "metadata": {},
   "outputs": [],
   "source": [
    "season_mapping = {3 : 1,\n",
    "                  4 : 1,\n",
    "                  5 : 1,\n",
    "                  6 : 2,\n",
    "                  7 : 2,\n",
    "                  8 : 2,\n",
    "                  9 : 3,\n",
    "                  10 : 3,\n",
    "                  11 : 3,\n",
    "                  12 : 4,\n",
    "                  1 : 4,\n",
    "                  2 : 4}"
   ]
  },
  {
   "cell_type": "code",
   "execution_count": 75,
   "metadata": {},
   "outputs": [
    {
     "data": {
      "text/html": [
       "<div>\n",
       "<style scoped>\n",
       "    .dataframe tbody tr th:only-of-type {\n",
       "        vertical-align: middle;\n",
       "    }\n",
       "\n",
       "    .dataframe tbody tr th {\n",
       "        vertical-align: top;\n",
       "    }\n",
       "\n",
       "    .dataframe thead th {\n",
       "        text-align: right;\n",
       "    }\n",
       "</style>\n",
       "<table border=\"1\" class=\"dataframe\">\n",
       "  <thead>\n",
       "    <tr style=\"text-align: right;\">\n",
       "      <th></th>\n",
       "      <th>Date</th>\n",
       "      <th>car_cnt</th>\n",
       "      <th>request_cnt</th>\n",
       "      <th>ride_cnt</th>\n",
       "      <th>waiting_time</th>\n",
       "      <th>fare</th>\n",
       "      <th>distance</th>\n",
       "      <th>weekday</th>\n",
       "      <th>day</th>\n",
       "      <th>month</th>\n",
       "      <th>...</th>\n",
       "      <th>target</th>\n",
       "      <th>temp_max</th>\n",
       "      <th>temp_min</th>\n",
       "      <th>rain(mm)</th>\n",
       "      <th>humidity_max(%)</th>\n",
       "      <th>humidity_min(%)</th>\n",
       "      <th>sunshine(MJ/m2)</th>\n",
       "      <th>waiting_time_MA7</th>\n",
       "      <th>ride_rate</th>\n",
       "      <th>season</th>\n",
       "    </tr>\n",
       "  </thead>\n",
       "  <tbody>\n",
       "    <tr>\n",
       "      <th>0</th>\n",
       "      <td>2015-01-01</td>\n",
       "      <td>213</td>\n",
       "      <td>1023</td>\n",
       "      <td>924</td>\n",
       "      <td>23.2</td>\n",
       "      <td>2427</td>\n",
       "      <td>10764</td>\n",
       "      <td>3</td>\n",
       "      <td>1</td>\n",
       "      <td>1</td>\n",
       "      <td>...</td>\n",
       "      <td>17.2</td>\n",
       "      <td>2.4</td>\n",
       "      <td>-9.2</td>\n",
       "      <td>0.0</td>\n",
       "      <td>73.0</td>\n",
       "      <td>37.0</td>\n",
       "      <td>8.66</td>\n",
       "      <td>NaN</td>\n",
       "      <td>0.903226</td>\n",
       "      <td>4</td>\n",
       "    </tr>\n",
       "    <tr>\n",
       "      <th>1</th>\n",
       "      <td>2015-01-02</td>\n",
       "      <td>420</td>\n",
       "      <td>3158</td>\n",
       "      <td>2839</td>\n",
       "      <td>17.2</td>\n",
       "      <td>2216</td>\n",
       "      <td>8611</td>\n",
       "      <td>4</td>\n",
       "      <td>2</td>\n",
       "      <td>1</td>\n",
       "      <td>...</td>\n",
       "      <td>26.2</td>\n",
       "      <td>8.2</td>\n",
       "      <td>0.2</td>\n",
       "      <td>0.0</td>\n",
       "      <td>89.0</td>\n",
       "      <td>58.0</td>\n",
       "      <td>5.32</td>\n",
       "      <td>NaN</td>\n",
       "      <td>0.898987</td>\n",
       "      <td>4</td>\n",
       "    </tr>\n",
       "    <tr>\n",
       "      <th>2</th>\n",
       "      <td>2015-01-03</td>\n",
       "      <td>209</td>\n",
       "      <td>1648</td>\n",
       "      <td>1514</td>\n",
       "      <td>26.2</td>\n",
       "      <td>2377</td>\n",
       "      <td>10198</td>\n",
       "      <td>5</td>\n",
       "      <td>3</td>\n",
       "      <td>1</td>\n",
       "      <td>...</td>\n",
       "      <td>24.5</td>\n",
       "      <td>7.9</td>\n",
       "      <td>-0.9</td>\n",
       "      <td>0.0</td>\n",
       "      <td>95.0</td>\n",
       "      <td>52.0</td>\n",
       "      <td>6.48</td>\n",
       "      <td>NaN</td>\n",
       "      <td>0.918689</td>\n",
       "      <td>4</td>\n",
       "    </tr>\n",
       "    <tr>\n",
       "      <th>3</th>\n",
       "      <td>2015-01-04</td>\n",
       "      <td>196</td>\n",
       "      <td>1646</td>\n",
       "      <td>1526</td>\n",
       "      <td>24.5</td>\n",
       "      <td>2431</td>\n",
       "      <td>10955</td>\n",
       "      <td>6</td>\n",
       "      <td>4</td>\n",
       "      <td>1</td>\n",
       "      <td>...</td>\n",
       "      <td>26.2</td>\n",
       "      <td>4.1</td>\n",
       "      <td>-7.4</td>\n",
       "      <td>3.4</td>\n",
       "      <td>98.0</td>\n",
       "      <td>29.0</td>\n",
       "      <td>10.47</td>\n",
       "      <td>NaN</td>\n",
       "      <td>0.927096</td>\n",
       "      <td>4</td>\n",
       "    </tr>\n",
       "    <tr>\n",
       "      <th>4</th>\n",
       "      <td>2015-01-05</td>\n",
       "      <td>421</td>\n",
       "      <td>4250</td>\n",
       "      <td>3730</td>\n",
       "      <td>26.2</td>\n",
       "      <td>2214</td>\n",
       "      <td>8663</td>\n",
       "      <td>0</td>\n",
       "      <td>5</td>\n",
       "      <td>1</td>\n",
       "      <td>...</td>\n",
       "      <td>23.6</td>\n",
       "      <td>-1.0</td>\n",
       "      <td>-8.8</td>\n",
       "      <td>0.0</td>\n",
       "      <td>42.0</td>\n",
       "      <td>24.0</td>\n",
       "      <td>10.12</td>\n",
       "      <td>NaN</td>\n",
       "      <td>0.877647</td>\n",
       "      <td>4</td>\n",
       "    </tr>\n",
       "    <tr>\n",
       "      <th>...</th>\n",
       "      <td>...</td>\n",
       "      <td>...</td>\n",
       "      <td>...</td>\n",
       "      <td>...</td>\n",
       "      <td>...</td>\n",
       "      <td>...</td>\n",
       "      <td>...</td>\n",
       "      <td>...</td>\n",
       "      <td>...</td>\n",
       "      <td>...</td>\n",
       "      <td>...</td>\n",
       "      <td>...</td>\n",
       "      <td>...</td>\n",
       "      <td>...</td>\n",
       "      <td>...</td>\n",
       "      <td>...</td>\n",
       "      <td>...</td>\n",
       "      <td>...</td>\n",
       "      <td>...</td>\n",
       "      <td>...</td>\n",
       "      <td>...</td>\n",
       "    </tr>\n",
       "    <tr>\n",
       "      <th>2917</th>\n",
       "      <td>2022-12-27</td>\n",
       "      <td>669</td>\n",
       "      <td>5635</td>\n",
       "      <td>4654</td>\n",
       "      <td>44.4</td>\n",
       "      <td>2198</td>\n",
       "      <td>8178</td>\n",
       "      <td>1</td>\n",
       "      <td>27</td>\n",
       "      <td>12</td>\n",
       "      <td>...</td>\n",
       "      <td>44.8</td>\n",
       "      <td>1.7</td>\n",
       "      <td>-7.8</td>\n",
       "      <td>0.0</td>\n",
       "      <td>71.0</td>\n",
       "      <td>34.0</td>\n",
       "      <td>10.88</td>\n",
       "      <td>42.771429</td>\n",
       "      <td>0.825909</td>\n",
       "      <td>4</td>\n",
       "    </tr>\n",
       "    <tr>\n",
       "      <th>2918</th>\n",
       "      <td>2022-12-28</td>\n",
       "      <td>607</td>\n",
       "      <td>5654</td>\n",
       "      <td>4648</td>\n",
       "      <td>44.8</td>\n",
       "      <td>2161</td>\n",
       "      <td>7882</td>\n",
       "      <td>2</td>\n",
       "      <td>28</td>\n",
       "      <td>12</td>\n",
       "      <td>...</td>\n",
       "      <td>52.5</td>\n",
       "      <td>2.1</td>\n",
       "      <td>-4.0</td>\n",
       "      <td>0.0</td>\n",
       "      <td>87.0</td>\n",
       "      <td>38.0</td>\n",
       "      <td>10.84</td>\n",
       "      <td>43.514286</td>\n",
       "      <td>0.822073</td>\n",
       "      <td>4</td>\n",
       "    </tr>\n",
       "    <tr>\n",
       "      <th>2919</th>\n",
       "      <td>2022-12-29</td>\n",
       "      <td>581</td>\n",
       "      <td>5250</td>\n",
       "      <td>4247</td>\n",
       "      <td>52.5</td>\n",
       "      <td>2229</td>\n",
       "      <td>8433</td>\n",
       "      <td>3</td>\n",
       "      <td>29</td>\n",
       "      <td>12</td>\n",
       "      <td>...</td>\n",
       "      <td>38.3</td>\n",
       "      <td>-4.4</td>\n",
       "      <td>-4.4</td>\n",
       "      <td>0.0</td>\n",
       "      <td>66.0</td>\n",
       "      <td>66.0</td>\n",
       "      <td>0.00</td>\n",
       "      <td>42.957143</td>\n",
       "      <td>0.808952</td>\n",
       "      <td>4</td>\n",
       "    </tr>\n",
       "    <tr>\n",
       "      <th>2920</th>\n",
       "      <td>2022-12-30</td>\n",
       "      <td>600</td>\n",
       "      <td>5293</td>\n",
       "      <td>4200</td>\n",
       "      <td>38.3</td>\n",
       "      <td>2183</td>\n",
       "      <td>8155</td>\n",
       "      <td>4</td>\n",
       "      <td>30</td>\n",
       "      <td>12</td>\n",
       "      <td>...</td>\n",
       "      <td>33.7</td>\n",
       "      <td>NaN</td>\n",
       "      <td>NaN</td>\n",
       "      <td>NaN</td>\n",
       "      <td>NaN</td>\n",
       "      <td>NaN</td>\n",
       "      <td>NaN</td>\n",
       "      <td>41.042857</td>\n",
       "      <td>0.793501</td>\n",
       "      <td>4</td>\n",
       "    </tr>\n",
       "    <tr>\n",
       "      <th>2921</th>\n",
       "      <td>2022-12-31</td>\n",
       "      <td>263</td>\n",
       "      <td>2167</td>\n",
       "      <td>1806</td>\n",
       "      <td>33.7</td>\n",
       "      <td>2318</td>\n",
       "      <td>9435</td>\n",
       "      <td>5</td>\n",
       "      <td>31</td>\n",
       "      <td>12</td>\n",
       "      <td>...</td>\n",
       "      <td>NaN</td>\n",
       "      <td>NaN</td>\n",
       "      <td>NaN</td>\n",
       "      <td>NaN</td>\n",
       "      <td>NaN</td>\n",
       "      <td>NaN</td>\n",
       "      <td>NaN</td>\n",
       "      <td>41.657143</td>\n",
       "      <td>0.833410</td>\n",
       "      <td>4</td>\n",
       "    </tr>\n",
       "  </tbody>\n",
       "</table>\n",
       "<p>2922 rows × 22 columns</p>\n",
       "</div>"
      ],
      "text/plain": [
       "           Date  car_cnt  request_cnt  ride_cnt  waiting_time  fare  distance  \\\n",
       "0    2015-01-01      213         1023       924          23.2  2427     10764   \n",
       "1    2015-01-02      420         3158      2839          17.2  2216      8611   \n",
       "2    2015-01-03      209         1648      1514          26.2  2377     10198   \n",
       "3    2015-01-04      196         1646      1526          24.5  2431     10955   \n",
       "4    2015-01-05      421         4250      3730          26.2  2214      8663   \n",
       "...         ...      ...          ...       ...           ...   ...       ...   \n",
       "2917 2022-12-27      669         5635      4654          44.4  2198      8178   \n",
       "2918 2022-12-28      607         5654      4648          44.8  2161      7882   \n",
       "2919 2022-12-29      581         5250      4247          52.5  2229      8433   \n",
       "2920 2022-12-30      600         5293      4200          38.3  2183      8155   \n",
       "2921 2022-12-31      263         2167      1806          33.7  2318      9435   \n",
       "\n",
       "      weekday  day  month  ...  target  temp_max  temp_min  rain(mm)  \\\n",
       "0           3    1      1  ...    17.2       2.4      -9.2       0.0   \n",
       "1           4    2      1  ...    26.2       8.2       0.2       0.0   \n",
       "2           5    3      1  ...    24.5       7.9      -0.9       0.0   \n",
       "3           6    4      1  ...    26.2       4.1      -7.4       3.4   \n",
       "4           0    5      1  ...    23.6      -1.0      -8.8       0.0   \n",
       "...       ...  ...    ...  ...     ...       ...       ...       ...   \n",
       "2917        1   27     12  ...    44.8       1.7      -7.8       0.0   \n",
       "2918        2   28     12  ...    52.5       2.1      -4.0       0.0   \n",
       "2919        3   29     12  ...    38.3      -4.4      -4.4       0.0   \n",
       "2920        4   30     12  ...    33.7       NaN       NaN       NaN   \n",
       "2921        5   31     12  ...     NaN       NaN       NaN       NaN   \n",
       "\n",
       "      humidity_max(%)  humidity_min(%)  sunshine(MJ/m2)  waiting_time_MA7  \\\n",
       "0                73.0             37.0             8.66               NaN   \n",
       "1                89.0             58.0             5.32               NaN   \n",
       "2                95.0             52.0             6.48               NaN   \n",
       "3                98.0             29.0            10.47               NaN   \n",
       "4                42.0             24.0            10.12               NaN   \n",
       "...               ...              ...              ...               ...   \n",
       "2917             71.0             34.0            10.88         42.771429   \n",
       "2918             87.0             38.0            10.84         43.514286   \n",
       "2919             66.0             66.0             0.00         42.957143   \n",
       "2920              NaN              NaN              NaN         41.042857   \n",
       "2921              NaN              NaN              NaN         41.657143   \n",
       "\n",
       "      ride_rate  season  \n",
       "0      0.903226       4  \n",
       "1      0.898987       4  \n",
       "2      0.918689       4  \n",
       "3      0.927096       4  \n",
       "4      0.877647       4  \n",
       "...         ...     ...  \n",
       "2917   0.825909       4  \n",
       "2918   0.822073       4  \n",
       "2919   0.808952       4  \n",
       "2920   0.793501       4  \n",
       "2921   0.833410       4  \n",
       "\n",
       "[2922 rows x 22 columns]"
      ]
     },
     "execution_count": 75,
     "metadata": {},
     "output_type": "execute_result"
    }
   ],
   "source": [
    "df['season'] = df['month'].map(season_mapping)\n",
    "df"
   ]
  },
  {
   "cell_type": "code",
   "execution_count": 77,
   "metadata": {},
   "outputs": [
    {
     "data": {
      "text/plain": [
       "1    736\n",
       "2    736\n",
       "3    728\n",
       "4    722\n",
       "Name: season, dtype: int64"
      ]
     },
     "execution_count": 77,
     "metadata": {},
     "output_type": "execute_result"
    }
   ],
   "source": [
    "df['season'].value_counts()"
   ]
  },
  {
   "cell_type": "markdown",
   "metadata": {
    "id": "_xX5H9wZPuv9"
   },
   "source": [
    "## 4.데이터 저장\n",
    "* **세부요구사항**\n",
    "    * joblib 을 사용하여 작업 경로에 정리한 데이터프레임을 저장합니다.\n",
    "        * 저장파일이름 : data1.pkl"
   ]
  },
  {
   "cell_type": "code",
   "execution_count": null,
   "metadata": {
    "id": "DAPll27LPltQ"
   },
   "outputs": [],
   "source": []
  }
 ],
 "metadata": {
  "colab": {
   "provenance": [],
   "toc_visible": true
  },
  "kernelspec": {
   "display_name": "lecture",
   "language": "python",
   "name": "lecture"
  },
  "language_info": {
   "codemirror_mode": {
    "name": "ipython",
    "version": 3
   },
   "file_extension": ".py",
   "mimetype": "text/x-python",
   "name": "python",
   "nbconvert_exporter": "python",
   "pygments_lexer": "ipython3",
   "version": "3.7.16"
  }
 },
 "nbformat": 4,
 "nbformat_minor": 4
}
