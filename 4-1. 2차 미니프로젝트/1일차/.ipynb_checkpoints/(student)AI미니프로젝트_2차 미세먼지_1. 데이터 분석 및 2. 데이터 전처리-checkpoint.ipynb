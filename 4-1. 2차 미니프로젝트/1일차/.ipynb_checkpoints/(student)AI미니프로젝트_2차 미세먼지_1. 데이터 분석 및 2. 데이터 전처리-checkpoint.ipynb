{
 "cells": [
  {
   "cell_type": "markdown",
   "id": "8d639137-7995-4e8b-8c33-16a528a9d9b0",
   "metadata": {},
   "source": [
    "**AIVLE School 미니프로젝트**\n",
    "### **공공데이터를 활용한 <span style=\"color:darkgreen\">미세먼지 농도</span> 예측**\n",
    "---"
   ]
  },
  {
   "cell_type": "markdown",
   "id": "c23f0f55-dfeb-4567-bacf-5461b9a20c64",
   "metadata": {},
   "source": [
    "#### **<span style=\"color:red\">[미션 안내]</span>**\n",
    "* 개인 미션: 미세먼지 농도를 예측하는 머신러닝 모델을 만드세요. <br> ([1-1]부터 [1-2]까지, [2-1]부터 [2-8]까지, [3-1]부터 [3-2]까지 필수 수행, [4-1]부터 선택 수행)\n",
    "* 조별 미션: 개인 미션 수행한 내용에 대해 토론하여 발표 준비를 해주세요."
   ]
  },
  {
   "cell_type": "markdown",
   "id": "f5c47a62-bbd0-4605-a3f4-d4eb22b70627",
   "metadata": {},
   "source": [
    "#### **<span style=\"color:red\">[데이터 설명]</span>**\n",
    "\n",
    "* 학습 데이터\n",
    "    * air_2021.csv : 2021년 미세먼지 데이터\n",
    "    * weather_2021.csv : 2021년 날씨 데이터\n",
    "* 테스트 데이터\n",
    "    * air_2022.csv : 2022년 미세먼지 데이터\n",
    "    * weather_2022.csv : 2022년 날씨 데이터"
   ]
  },
  {
   "cell_type": "markdown",
   "id": "a17b3d11-215a-4de6-804f-74d792f1d8ac",
   "metadata": {},
   "source": [
    "# [Step 1] 탐색적 데이터 분석"
   ]
  },
  {
   "cell_type": "code",
   "execution_count": 3,
   "id": "1cc7de55",
   "metadata": {},
   "outputs": [],
   "source": [
    "# 필요한 라이브러리 설치 및 임포트\n",
    "import pandas as pd\n",
    "import datetime\n",
    "import matplotlib.pyplot as plt"
   ]
  },
  {
   "cell_type": "markdown",
   "id": "74c09d16",
   "metadata": {},
   "source": [
    "---"
   ]
  },
  {
   "cell_type": "markdown",
   "id": "a9675ead-bf03-4ccf-a0b5-c7d0695f152d",
   "metadata": {},
   "source": [
    "#### **<span style=\"color:blue\">[1-1] air_21, air_22, weather_21, weather_22 데이터 로딩</span>**"
   ]
  },
  {
   "cell_type": "code",
   "execution_count": 4,
   "id": "b55356f6-4a76-4ad6-a73c-257bdff69195",
   "metadata": {},
   "outputs": [],
   "source": [
    "# 데이터 로딩\n",
    "air_21 = pd.read_csv(\"air_2021.csv\", sep=',', index_col = 0, encoding = 'utf-8' )\n",
    "air_22 = pd.read_csv(\"air_2022.csv\", sep=',', index_col = 0, encoding = 'utf-8' )"
   ]
  },
  {
   "cell_type": "code",
   "execution_count": 5,
   "id": "122367d5-acdf-45b0-be37-d940266a856d",
   "metadata": {},
   "outputs": [],
   "source": [
    "weather_21 = pd.read_csv(\"weather_2021.csv\", sep = ',', encoding='cp949')\n",
    "weather_22 = pd.read_csv(\"weather_2022.csv\", sep = ',', encoding='cp949')"
   ]
  },
  {
   "cell_type": "markdown",
   "id": "4483b2bd-1ecd-48f6-8c65-1640854fbe05",
   "metadata": {},
   "source": [
    "#### **<span style=\"color:blue\">[1-2] 필요한 데이터 분석 진행 </span>**"
   ]
  },
  {
   "cell_type": "code",
   "execution_count": 6,
   "id": "81700e2b-de01-40e1-ab58-b8aa3a457201",
   "metadata": {},
   "outputs": [
    {
     "name": "stdout",
     "output_type": "stream",
     "text": [
      "============== air_21.info() ==============\n",
      "<class 'pandas.core.frame.DataFrame'>\n",
      "Int64Index: 8760 entries, 0 to 8759\n",
      "Data columns (total 12 columns):\n",
      " #   Column  Non-Null Count  Dtype  \n",
      "---  ------  --------------  -----  \n",
      " 0   지역      8760 non-null   object \n",
      " 1   망       8760 non-null   object \n",
      " 2   측정소코드   8760 non-null   int64  \n",
      " 3   측정소명    8760 non-null   object \n",
      " 4   측정일시    8760 non-null   int64  \n",
      " 5   SO2     8648 non-null   float64\n",
      " 6   CO      8680 non-null   float64\n",
      " 7   O3      8663 non-null   float64\n",
      " 8   NO2     8680 non-null   float64\n",
      " 9   PM10    8655 non-null   float64\n",
      " 10  PM25    8663 non-null   float64\n",
      " 11  주소      8760 non-null   object \n",
      "dtypes: float64(6), int64(2), object(4)\n",
      "memory usage: 889.7+ KB\n",
      "None\n",
      "\n",
      "============== air_22.info() ==============\n",
      "<class 'pandas.core.frame.DataFrame'>\n",
      "Int64Index: 2160 entries, 0 to 2159\n",
      "Data columns (total 12 columns):\n",
      " #   Column  Non-Null Count  Dtype  \n",
      "---  ------  --------------  -----  \n",
      " 0   지역      2160 non-null   object \n",
      " 1   망       2160 non-null   object \n",
      " 2   측정소코드   2160 non-null   int64  \n",
      " 3   측정소명    2160 non-null   object \n",
      " 4   측정일시    2160 non-null   int64  \n",
      " 5   SO2     2139 non-null   float64\n",
      " 6   CO      2139 non-null   float64\n",
      " 7   O3      2139 non-null   float64\n",
      " 8   NO2     2139 non-null   float64\n",
      " 9   PM10    2122 non-null   float64\n",
      " 10  PM25    2135 non-null   float64\n",
      " 11  주소      2160 non-null   object \n",
      "dtypes: float64(6), int64(2), object(4)\n",
      "memory usage: 219.4+ KB\n",
      "None\n",
      "\n",
      "============== weather_21.info() ==============\n",
      "<class 'pandas.core.frame.DataFrame'>\n",
      "RangeIndex: 8759 entries, 0 to 8758\n",
      "Data columns (total 38 columns):\n",
      " #   Column         Non-Null Count  Dtype  \n",
      "---  ------         --------------  -----  \n",
      " 0   지점             8759 non-null   int64  \n",
      " 1   지점명            8759 non-null   object \n",
      " 2   일시             8759 non-null   object \n",
      " 3   기온(°C)         8759 non-null   float64\n",
      " 4   기온 QC플래그       0 non-null      float64\n",
      " 5   강수량(mm)        949 non-null    float64\n",
      " 6   강수량 QC플래그      1763 non-null   float64\n",
      " 7   풍속(m/s)        8757 non-null   float64\n",
      " 8   풍속 QC플래그       2 non-null      float64\n",
      " 9   풍향(16방위)       8757 non-null   float64\n",
      " 10  풍향 QC플래그       2 non-null      float64\n",
      " 11  습도(%)          8759 non-null   int64  \n",
      " 12  습도 QC플래그       0 non-null      float64\n",
      " 13  증기압(hPa)       8759 non-null   float64\n",
      " 14  이슬점온도(°C)      8759 non-null   float64\n",
      " 15  현지기압(hPa)      8759 non-null   float64\n",
      " 16  현지기압 QC플래그     0 non-null      float64\n",
      " 17  해면기압(hPa)      8759 non-null   float64\n",
      " 18  해면기압 QC플래그     0 non-null      float64\n",
      " 19  일조(hr)         4791 non-null   float64\n",
      " 20  일조 QC플래그       3968 non-null   float64\n",
      " 21  일사(MJ/m2)      4791 non-null   float64\n",
      " 22  일사 QC플래그       3968 non-null   float64\n",
      " 23  적설(cm)         379 non-null    float64\n",
      " 24  3시간신적설(cm)     29 non-null     float64\n",
      " 25  전운량(10분위)      8757 non-null   float64\n",
      " 26  중하층운량(10분위)    8759 non-null   int64  \n",
      " 27  운형(운형약어)       4947 non-null   object \n",
      " 28  최저운고(100m )    4547 non-null   float64\n",
      " 29  시정(10m)        8759 non-null   int64  \n",
      " 30  지면상태(지면상태코드)   0 non-null      float64\n",
      " 31  현상번호(국내식)      2125 non-null   float64\n",
      " 32  지면온도(°C)       8754 non-null   float64\n",
      " 33  지면온도 QC플래그     24 non-null     float64\n",
      " 34  5cm 지중온도(°C)   8754 non-null   float64\n",
      " 35  10cm 지중온도(°C)  8754 non-null   float64\n",
      " 36  20cm 지중온도(°C)  8754 non-null   float64\n",
      " 37  30cm 지중온도(°C)  8754 non-null   float64\n",
      "dtypes: float64(31), int64(4), object(3)\n",
      "memory usage: 2.5+ MB\n",
      "None\n",
      "\n",
      "============== weather_22.info() ==============\n",
      "<class 'pandas.core.frame.DataFrame'>\n",
      "RangeIndex: 2160 entries, 0 to 2159\n",
      "Data columns (total 38 columns):\n",
      " #   Column         Non-Null Count  Dtype  \n",
      "---  ------         --------------  -----  \n",
      " 0   지점             2160 non-null   int64  \n",
      " 1   지점명            2160 non-null   object \n",
      " 2   일시             2160 non-null   object \n",
      " 3   기온(°C)         2160 non-null   float64\n",
      " 4   기온 QC플래그       0 non-null      float64\n",
      " 5   강수량(mm)        81 non-null     float64\n",
      " 6   강수량 QC플래그      382 non-null    float64\n",
      " 7   풍속(m/s)        2160 non-null   float64\n",
      " 8   풍속 QC플래그       0 non-null      float64\n",
      " 9   풍향(16방위)       2160 non-null   int64  \n",
      " 10  풍향 QC플래그       0 non-null      float64\n",
      " 11  습도(%)          2160 non-null   int64  \n",
      " 12  습도 QC플래그       0 non-null      float64\n",
      " 13  증기압(hPa)       2160 non-null   float64\n",
      " 14  이슬점온도(°C)      2160 non-null   float64\n",
      " 15  현지기압(hPa)      2160 non-null   float64\n",
      " 16  현지기압 QC플래그     0 non-null      float64\n",
      " 17  해면기압(hPa)      2160 non-null   float64\n",
      " 18  해면기압 QC플래그     0 non-null      float64\n",
      " 19  일조(hr)         1071 non-null   float64\n",
      " 20  일조 QC플래그       1089 non-null   float64\n",
      " 21  일사(MJ/m2)      1071 non-null   float64\n",
      " 22  일사 QC플래그       1089 non-null   float64\n",
      " 23  적설(cm)         140 non-null    float64\n",
      " 24  3시간신적설(cm)     15 non-null     float64\n",
      " 25  전운량(10분위)      2160 non-null   int64  \n",
      " 26  중하층운량(10분위)    2160 non-null   int64  \n",
      " 27  운형(운형약어)       939 non-null    object \n",
      " 28  최저운고(100m )    743 non-null    float64\n",
      " 29  시정(10m)        2160 non-null   int64  \n",
      " 30  지면상태(지면상태코드)   0 non-null      float64\n",
      " 31  현상번호(국내식)      418 non-null    float64\n",
      " 32  지면온도(°C)       2160 non-null   float64\n",
      " 33  지면온도 QC플래그     7 non-null      float64\n",
      " 34  5cm 지중온도(°C)   2160 non-null   float64\n",
      " 35  10cm 지중온도(°C)  2160 non-null   float64\n",
      " 36  20cm 지중온도(°C)  2160 non-null   float64\n",
      " 37  30cm 지중온도(°C)  2160 non-null   float64\n",
      "dtypes: float64(29), int64(6), object(3)\n",
      "memory usage: 641.4+ KB\n",
      "None\n"
     ]
    }
   ],
   "source": [
    "# 아래에 필요한 코드를 작성하고 결과를 확인합니다.\n",
    "# head, tail, info, plot을 활용한 시각화 등 진행\n",
    "print('============== air_21.info() ==============')\n",
    "print(air_21.info())\n",
    "print('\\n============== air_22.info() ==============')\n",
    "print(air_22.info())\n",
    "print('\\n============== weather_21.info() ==============')\n",
    "print(weather_21.info())\n",
    "print('\\n============== weather_22.info() ==============')\n",
    "print(weather_22.info())"
   ]
  },
  {
   "cell_type": "markdown",
   "id": "3378cca9-5e3c-4d48-85d2-a14a8461a03c",
   "metadata": {},
   "source": [
    "# [Step 2] 데이터 전처리"
   ]
  },
  {
   "cell_type": "markdown",
   "id": "d70c511d-40a7-40e0-a174-6832252ce2f2",
   "metadata": {
    "tags": []
   },
   "source": [
    "#### **<span style=\"color:blue\">[2-1] air_21, air_22 의 '측정일시'를 활용하여 'time' 변수 생성</span>**"
   ]
  },
  {
   "cell_type": "markdown",
   "id": "c260e7e5",
   "metadata": {},
   "source": [
    "* air_21, air_22  각각 '측정일시'를 활용하여 'time'변수 생성\n",
    "    * 참고: 미세먼지 데이터는 1시-24시, 날씨 데이터는 0시-23시로 구성되어 있습니다. [2-3]에서 미세먼지와 날씨 데이터를 time 기준으로 합치려면 기준이 동일해야 합니다. 미세먼지 데이터에서 time 변수 생성 시 이를 미리 고려(예: air_21['측정일시'] -1)하세요.\n",
    "* time 변수를 pd.to_datetime으로 데이터 타입 변경\n",
    "    * 참고: format = '%Y%m%d%H'"
   ]
  },
  {
   "cell_type": "code",
   "execution_count": null,
   "id": "04c33846-c011-4af0-877e-21d99335b385",
   "metadata": {},
   "outputs": [],
   "source": [
    "air_21.info()"
   ]
  },
  {
   "cell_type": "code",
   "execution_count": null,
   "id": "0203c3f6-5d3f-4ce1-b859-7766d4da121d",
   "metadata": {},
   "outputs": [],
   "source": [
    "air_21_copy = air_21.copy()\n",
    "air_22_copy = air_22.copy()"
   ]
  },
  {
   "cell_type": "code",
   "execution_count": null,
   "id": "911d24f7-d4af-4ae9-b653-3e6e08b2bcc3",
   "metadata": {},
   "outputs": [],
   "source": [
    "air_21_copy['측정일시'] = air_21_copy['측정일시'] - 1\n",
    "air_22_copy['측정일시'] = air_22_copy['측정일시'] - 1\n",
    "air_21_copy"
   ]
  },
  {
   "cell_type": "code",
   "execution_count": null,
   "id": "89146858",
   "metadata": {
    "tags": []
   },
   "outputs": [],
   "source": [
    "# 아래에 필요한 코드를 작성하고 결과를 확인합니다.\n",
    "air_21_copy['time'] = pd.to_datetime(air_21_copy['측정일시'], format = '%Y%m%d%H')\n",
    "air_22_copy['time'] = pd.to_datetime(air_22_copy['측정일시'], format = '%Y%m%d%H')\n",
    "print(air_21_copy.info())\n",
    "print(air_22_copy.info())"
   ]
  },
  {
   "cell_type": "markdown",
   "id": "5b72e3b6-998b-4b4c-b009-4ac6a852e8b5",
   "metadata": {},
   "source": [
    "---"
   ]
  },
  {
   "cell_type": "markdown",
   "id": "05f59d95-1d33-467b-ac90-e3c80c2b32d4",
   "metadata": {
    "tags": []
   },
   "source": [
    "#### **<span style=\"color:blue\">[2-2] weather_21, weather_22 의 '일시'를 활용하여 'time' 변수 생성</span>**"
   ]
  },
  {
   "cell_type": "markdown",
   "id": "romantic-johnson",
   "metadata": {},
   "source": [
    "* weather_21, weather_22 의 '일시'를 활용하여 'time'변수 생성\n",
    "* time 변수를 pd.to_datetime으로 데이터 타입 변경"
   ]
  },
  {
   "cell_type": "code",
   "execution_count": null,
   "id": "53cb96a2-f86b-4c5f-b096-3e06d194713e",
   "metadata": {},
   "outputs": [],
   "source": [
    "weather_21.info()"
   ]
  },
  {
   "cell_type": "code",
   "execution_count": null,
   "id": "50ae83ee-2380-47e6-819c-da8bd37625ab",
   "metadata": {},
   "outputs": [],
   "source": [
    "weather_21_copy = weather_21.copy()\n",
    "weather_22_copy = weather_22.copy()"
   ]
  },
  {
   "cell_type": "code",
   "execution_count": null,
   "id": "8ee1bae8",
   "metadata": {},
   "outputs": [],
   "source": [
    "# 아래에 필요한 코드를 작성하고 결과를 확인합니다.\n",
    "weather_21_copy['time'] = pd.to_datetime(weather_21_copy['일시'], format='%Y-%m-%d %H:%M')\n",
    "weather_22_copy['time'] = pd.to_datetime(weather_22_copy['일시'], format='%Y-%m-%d %H:%M')"
   ]
  },
  {
   "cell_type": "code",
   "execution_count": null,
   "id": "96f4d516-458a-4e00-9d47-f41e0713cf31",
   "metadata": {},
   "outputs": [],
   "source": [
    "weather_21_copy.info()"
   ]
  },
  {
   "cell_type": "code",
   "execution_count": null,
   "id": "5974ad58-146e-4a75-bb09-4a9bb1ce5a9f",
   "metadata": {},
   "outputs": [],
   "source": [
    "weather_21_copy.head()"
   ]
  },
  {
   "cell_type": "markdown",
   "id": "ef9eb7b0",
   "metadata": {},
   "source": [
    "---"
   ]
  },
  {
   "cell_type": "markdown",
   "id": "4711af88-7642-493a-8df2-116bfbe87420",
   "metadata": {
    "tags": []
   },
   "source": [
    "#### **<span style=\"color:blue\">[2-3] 'time' 기준으로 데이터 합치기</span>**"
   ]
  },
  {
   "cell_type": "markdown",
   "id": "lyric-response",
   "metadata": {},
   "source": [
    "* 미세먼지 데이터와 날씨 데이터를 'time' 기준으로 합쳐보세요.\n",
    "    * df_21에는 'time' 기준으로 21년도 미세먼지, 날씨 데이터를 합쳐보세요.\n",
    "    * df_22에는 'time' 기준으로 22년도 미세먼지, 날씨 데이터를 합쳐보세요."
   ]
  },
  {
   "cell_type": "code",
   "execution_count": null,
   "id": "8e77f9fa",
   "metadata": {
    "tags": []
   },
   "outputs": [],
   "source": [
    "# 아래에 필요한 코드를 작성하고 결과를 확인합니다.\n",
    "df_21 = pd.merge(air_21_copy, weather_21_copy)\n",
    "df_22 = pd.merge(air_22_copy, weather_22_copy)"
   ]
  },
  {
   "cell_type": "code",
   "execution_count": null,
   "id": "c40fedd1-392f-488f-8b22-9e8f0d31e868",
   "metadata": {},
   "outputs": [],
   "source": [
    "df_21.columns"
   ]
  },
  {
   "cell_type": "markdown",
   "id": "1a56911f-dc08-40e1-b456-6b5a6fdd4ce3",
   "metadata": {
    "tags": []
   },
   "source": [
    "#### **<span style=\"color:blue\">[2-4] 사용하지 않을 변수 제거</span>**"
   ]
  },
  {
   "cell_type": "markdown",
   "id": "8a3e52e4",
   "metadata": {},
   "source": [
    "* 머신러닝에 사용하지 않을 변수들을 제거해줍니다.\n",
    "    * df_21, df_22에 사용할 변수들만 넣어보세요.\n",
    "* time 변수를 index로 세팅하고 (set_index) 데이터가 정렬되어 있지 않으므로 index 기준으로 정렬하세요. (sort_index)"
   ]
  },
  {
   "cell_type": "code",
   "execution_count": null,
   "id": "33de0d31-5922-4f30-8740-5fea01fcfc0c",
   "metadata": {},
   "outputs": [],
   "source": [
    "# 일단은 '일조(hr)', '일사(MJ/m2)' 빼고 진행"
   ]
  },
  {
   "cell_type": "code",
   "execution_count": null,
   "id": "ddf39400",
   "metadata": {},
   "outputs": [],
   "source": [
    "# df_21, df_22에 사용할 변수들만 할당\n",
    "df_21 = df_21[['SO2', 'CO', 'O3', 'NO2', 'PM10', 'PM25', 'time','기온(°C)',\n",
    "       '강수량(mm)', '풍속(m/s)', '풍향(16방위)', '습도(%)', '증기압(hPa)', '현지기압(hPa)',\n",
    "       '해면기압(hPa)', '적설(cm)', '전운량(10분위)', '중하층운량(10분위)',\n",
    "       '시정(10m)', '지면온도(°C)']]"
   ]
  },
  {
   "cell_type": "code",
   "execution_count": null,
   "id": "053108a7-340b-4997-8a4c-c83f9427f379",
   "metadata": {},
   "outputs": [],
   "source": [
    "df_22 = df_22[['SO2', 'CO', 'O3', 'NO2', 'PM10', 'PM25', 'time','기온(°C)',\n",
    "       '강수량(mm)', '풍속(m/s)', '풍향(16방위)', '습도(%)', '증기압(hPa)', '현지기압(hPa)',\n",
    "       '해면기압(hPa)', '적설(cm)','전운량(10분위)', '중하층운량(10분위)',\n",
    "       '시정(10m)', '지면온도(°C)']]"
   ]
  },
  {
   "cell_type": "code",
   "execution_count": null,
   "id": "351bed8d",
   "metadata": {
    "tags": []
   },
   "outputs": [],
   "source": [
    "# time 변수를 index로 세팅\n",
    "df_21.sort_values('time', inplace=True)\n",
    "df_22.sort_values('time', inplace=True)"
   ]
  },
  {
   "cell_type": "code",
   "execution_count": null,
   "id": "98e4ed56-5424-4002-8d8e-dd441d9ea891",
   "metadata": {},
   "outputs": [],
   "source": [
    "df_21.set_index('time', inplace=True)\n",
    "df_22.set_index('time', inplace=True)"
   ]
  },
  {
   "cell_type": "markdown",
   "id": "72e4fb4a-b197-4a34-9963-4b25b18caed8",
   "metadata": {},
   "source": [
    "---"
   ]
  },
  {
   "cell_type": "markdown",
   "id": "d227338e-eb0d-44e3-b847-c2f95287dab8",
   "metadata": {
    "tags": []
   },
   "source": [
    "#### **<span style=\"color:blue\">[2-5] 변수들의 결측치 처리</span>**"
   ]
  },
  {
   "cell_type": "code",
   "execution_count": null,
   "id": "d5ceccfc",
   "metadata": {},
   "outputs": [],
   "source": [
    "# df_21, df_22의 변수 중 결측치를 처리 (ex: 강수량(mm))\n",
    "df_21['강수량(mm)'].fillna(0, inplace=True)\n",
    "df_22['강수량(mm)'].fillna(0, inplace=True)"
   ]
  },
  {
   "cell_type": "code",
   "execution_count": null,
   "id": "2e9e6826-3708-4067-8ff3-ea52b6f14cc3",
   "metadata": {},
   "outputs": [],
   "source": [
    "# 적설 - NaN인 곳은 0으로 채우기\n",
    "df_21['적설(cm)'].fillna(0, inplace=True)\n",
    "df_22['적설(cm)'].fillna(0, inplace=True)"
   ]
  },
  {
   "cell_type": "code",
   "execution_count": null,
   "id": "a0be65a1-7803-4033-9ead-e32aaf4a29ed",
   "metadata": {},
   "outputs": [],
   "source": [
    "print(df_21.isna().sum())\n",
    "print()\n",
    "print(df_22.isna().sum())"
   ]
  },
  {
   "cell_type": "code",
   "execution_count": null,
   "id": "8441e241-0b59-47c1-b2a4-9f7db79b6f95",
   "metadata": {},
   "outputs": [],
   "source": [
    "# 대기 성분 결측치는 knn imputer로 채우기\n",
    "from sklearn.impute import KNNImputer\n",
    "\n",
    "#임퓨터 선언\n",
    "imputer=KNNImputer(n_neighbors=3)\n",
    "\n",
    "#임퓨터 사용\n",
    "filled_df_21 = imputer.fit_transform(df_21)\n",
    "filled_df_22 = imputer.fit_transform(df_22)\n",
    "\n",
    "#사용하면 array값으로 나오기때문에 dataframe으로 바꿔주고 컬럼을가져옴\n",
    "filled_df_21 = pd.DataFrame(filled_df_21, columns=df_21.columns)\n",
    "filled_df_22 = pd.DataFrame(filled_df_22, columns=df_22.columns)"
   ]
  },
  {
   "cell_type": "code",
   "execution_count": null,
   "id": "a343d68b-e061-45dc-a14a-b537e76602a9",
   "metadata": {},
   "outputs": [],
   "source": [
    "filled_df_21.set_index(df_21.index, inplace=True)\n",
    "filled_df_22.set_index(df_22.index, inplace=True)"
   ]
  },
  {
   "cell_type": "code",
   "execution_count": null,
   "id": "740f5572-e674-410a-8bcb-a46b6fff50be",
   "metadata": {},
   "outputs": [],
   "source": [
    "df_21 = filled_df_21.copy()\n",
    "df_22 = filled_df_22.copy()"
   ]
  },
  {
   "cell_type": "code",
   "execution_count": null,
   "id": "3b03cf92-fedb-43a7-bbc6-f2779d582d64",
   "metadata": {},
   "outputs": [],
   "source": [
    "df_21.head()"
   ]
  },
  {
   "cell_type": "code",
   "execution_count": null,
   "id": "1845114e-77f6-4832-8d37-64c62182edf9",
   "metadata": {},
   "outputs": [],
   "source": [
    "df_22.head()"
   ]
  },
  {
   "cell_type": "code",
   "execution_count": null,
   "id": "58200bba-7dd7-4a95-8391-9319e7ffd744",
   "metadata": {},
   "outputs": [],
   "source": [
    "print(df_21.isna().sum())\n",
    "print()\n",
    "print(df_22.isna().sum())"
   ]
  },
  {
   "cell_type": "markdown",
   "id": "a8a1db4e-ea4f-4413-8014-1a5b739447c6",
   "metadata": {},
   "source": [
    "---"
   ]
  },
  {
   "cell_type": "markdown",
   "id": "31811bfb-10e4-4cc2-859f-f993a1cab579",
   "metadata": {
    "tags": []
   },
   "source": [
    "#### **<span style=\"color:blue\">[2-6] 전일 같은 시간 미세먼지 농도 변수 추가</span>**"
   ]
  },
  {
   "cell_type": "markdown",
   "id": "2f787390-85b9-4bdd-9ac8-551bdcd18a9b",
   "metadata": {},
   "source": [
    "* 먼저 df_21, df_22에 month, day, hour 변수를 추가하세요.\n",
    "    * 예) dt.month, dt.day, dt.hour 사용 또는 datetimeindex에서는 df.index.month 등 사용 가능\n",
    "* 모델링에 유용한 변수로 전일 같은 시간(24시간 전) 미세먼지 농도 변수를 추가하세요.\n",
    "    * 시계열 데이터 처리를 위한 shift 연산을 참고하세요."
   ]
  },
  {
   "cell_type": "code",
   "execution_count": null,
   "id": "e0029513-f007-4097-b8a9-ac0f4e101439",
   "metadata": {},
   "outputs": [],
   "source": [
    "df_21_copy = df_21.copy()\n",
    "df_22_copy = df_22.copy()"
   ]
  },
  {
   "cell_type": "code",
   "execution_count": null,
   "id": "c095d7b0",
   "metadata": {},
   "outputs": [],
   "source": [
    "# df_21, df_22의 index(time)를 month, day, hour 로 쪼개기 (year는 필요 없음). 이후에 저장 시 index(time)은 포함하지 않음.\n",
    "df_21_copy.head()"
   ]
  },
  {
   "cell_type": "code",
   "execution_count": null,
   "id": "f013fbef-894f-489d-9c13-0b4c36bd7a58",
   "metadata": {},
   "outputs": [],
   "source": [
    "df_21_copy['month'] = df_21_copy.index.month\n",
    "df_22_copy['month'] = df_22_copy.index.month\n",
    "\n",
    "df_21_copy['day'] = df_21_copy.index.day\n",
    "df_22_copy['day'] = df_22_copy.index.day\n",
    "\n",
    "df_21_copy['hour'] = df_21_copy.index.hour\n",
    "df_22_copy['hour'] = df_22_copy.index.hour\n",
    "\n",
    "df_21_copy.reset_index(inplace=True)\n",
    "df_22_copy.reset_index(inplace=True)\n",
    "\n",
    "df_21_copy.drop('time', axis=1, inplace=True)\n",
    "df_22_copy.drop('time', axis=1, inplace=True)"
   ]
  },
  {
   "cell_type": "code",
   "execution_count": null,
   "id": "4573f5f8",
   "metadata": {},
   "outputs": [],
   "source": [
    "# df_21, df_22에 전일 같은 시간 미세먼지 농도 변수(PM10_lag1) 추가\n",
    "# 전일 같은 시간은 24시간 전 입니다.\n",
    "df_21_copy['PM10_lag1'] = df_21_copy['PM10'].shift(24)\n",
    "df_22_copy['PM10_lag1'] = df_22_copy['PM10'].shift(24)"
   ]
  },
  {
   "cell_type": "markdown",
   "id": "f5a1aef0-31d8-4c20-81ad-b2825081a975",
   "metadata": {},
   "source": [
    "---"
   ]
  },
  {
   "cell_type": "markdown",
   "id": "ff52b9e7-869c-41c9-8aea-817ec00d5200",
   "metadata": {
    "tags": []
   },
   "source": [
    "#### **<span style=\"color:blue\">[2-7] t+1 시점의 미세먼지 농도 데이터 생성</span>**"
   ]
  },
  {
   "cell_type": "markdown",
   "id": "6deef340",
   "metadata": {},
   "source": [
    "* t+1 시점은 1시간 후 입니다.\n",
    "* t+1 시점의 미세먼지 농도 변수(PM10_1)를 생성하세요.\n",
    "* t+1 시점의 미세먼지 농도는 머신러닝 모델을 통해 예측하려는 y값(target) 입니다."
   ]
  },
  {
   "cell_type": "code",
   "execution_count": null,
   "id": "b5003c89",
   "metadata": {},
   "outputs": [],
   "source": [
    "# df_21, df_22에 t+1 시점 변수(PM10_1) 추가\n",
    "df_21_copy['PM10_1'] = df_21_copy['PM10'].shift(-1)\n",
    "df_22_copy['PM10_1'] = df_22_copy['PM10'].shift(-1)"
   ]
  },
  {
   "cell_type": "code",
   "execution_count": null,
   "id": "b14b9b60",
   "metadata": {},
   "outputs": [],
   "source": [
    "# 결측치가 있다면 처리\n",
    "df_21_copy.dropna(axis=0, inplace=True)\n",
    "df_22_copy.dropna(axis=0, inplace=True)"
   ]
  },
  {
   "cell_type": "code",
   "execution_count": null,
   "id": "3757e721-3e01-42ad-923d-6b1c44466320",
   "metadata": {},
   "outputs": [],
   "source": [
    "df_21_copy.head()"
   ]
  },
  {
   "cell_type": "markdown",
   "id": "27c6c592",
   "metadata": {},
   "source": [
    "---"
   ]
  },
  {
   "cell_type": "markdown",
   "id": "54279875-b095-4100-97b2-7fddd9488107",
   "metadata": {
    "tags": []
   },
   "source": [
    "#### **<span style=\"color:blue\">[2-8] train, test 데이터 분리</span>**"
   ]
  },
  {
   "cell_type": "markdown",
   "id": "dependent-motion",
   "metadata": {},
   "source": [
    "* 21년도 데이터(df_21)를 train 데이터로 저장하세요. y 값을 제외하고 train_x로 저장한 후 y 값은 train_y로 저장하세요.\n",
    "* 22년도 데이터(df_22)를 test 데이터로 저장하세요. y 값을 제외하고 test_x로 저장한 후 y 값은 test_y로 저장하세요.\n",
    "* 각각의 데이터프레임을 csv 파일로 저장하세요. (train_x.csv / train_y.csv / test_x.csv / test_y.csv) (단, 인덱스 제외)\n",
    "* y값은 'PM10_1' 즉, t+1 시점의 미세먼지 농도입니다."
   ]
  },
  {
   "cell_type": "code",
   "execution_count": null,
   "id": "92652b6b",
   "metadata": {},
   "outputs": [],
   "source": [
    "# 아래에 필요한 코드를 작성하고 결과를 확인합니다.\n",
    "from sklearn.model_selection import train_test_split\n",
    "train_x = df_21_copy.drop('PM10_1', axis=1)\n",
    "train_y = df_21_copy.loc[:, 'PM10_1']\n",
    "test_x = df_22_copy.drop('PM10_1', axis=1)\n",
    "test_y = df_22_copy.loc[:, 'PM10_1']"
   ]
  },
  {
   "cell_type": "code",
   "execution_count": null,
   "id": "f5db7e86-4ae3-4055-9510-fa8dc4337a74",
   "metadata": {},
   "outputs": [],
   "source": [
    "print(train_x.shape)\n",
    "print(train_y.shape)\n",
    "print(test_x.shape)\n",
    "print(test_y.shape)"
   ]
  },
  {
   "cell_type": "code",
   "execution_count": null,
   "id": "02ad0ed1",
   "metadata": {},
   "outputs": [],
   "source": [
    "# 각각의 데이터프레임을 csv 파일로 저장 (train_x.csv / train_y.csv / test_x.csv / test_y.csv)\n",
    "train_x.to_csv('train_x.csv')\n",
    "train_y.to_csv('train_y.csv')\n",
    "test_x.to_csv('test_x.csv')\n",
    "test_y.to_csv('test_y.csv')"
   ]
  }
 ],
 "metadata": {
  "kernelspec": {
   "display_name": "lecture",
   "language": "python",
   "name": "lecture"
  },
  "language_info": {
   "codemirror_mode": {
    "name": "ipython",
    "version": 3
   },
   "file_extension": ".py",
   "mimetype": "text/x-python",
   "name": "python",
   "nbconvert_exporter": "python",
   "pygments_lexer": "ipython3",
   "version": "3.7.16"
  },
  "vscode": {
   "interpreter": {
    "hash": "f08154012ddadd8e950e6e9e035c7a7b32c136e7647e9b7c77e02eb723a8bedb"
   }
  }
 },
 "nbformat": 4,
 "nbformat_minor": 5
}
