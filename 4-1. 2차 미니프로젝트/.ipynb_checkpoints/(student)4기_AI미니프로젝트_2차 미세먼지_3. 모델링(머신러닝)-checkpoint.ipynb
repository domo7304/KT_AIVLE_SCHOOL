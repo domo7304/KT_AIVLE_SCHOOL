{
 "cells": [
  {
   "cell_type": "code",
   "execution_count": 103,
   "id": "efficient-minutes",
   "metadata": {
    "tags": []
   },
   "outputs": [],
   "source": [
    "# 필요한 라이브러리 설치 및 임포트\n",
    "\n",
    "import pandas as pd\n",
    "\n",
    "from sklearn.neighbors import KNeighborsRegressor\n",
    "from sklearn.linear_model import LinearRegression, Lasso, Ridge, ElasticNet\n",
    "from sklearn.tree import DecisionTreeRegressor as DTR\n",
    "from sklearn.ensemble import RandomForestRegressor as RFR\n",
    "from sklearn.ensemble import GradientBoostingRegressor as GBR\n",
    "from sklearn.metrics import mean_squared_error as mse\n",
    "from sklearn.metrics import r2_score\n",
    "from sklearn.metrics import f1_score\n",
    "from sklearn.metrics import accuracy_score as acc\n",
    "from sklearn.metrics import recall_score as recall\n",
    "import joblib\n",
    "import matplotlib.pyplot as plt"
   ]
  },
  {
   "cell_type": "markdown",
   "id": "20aaca37-89d7-4045-affa-5a510c69495e",
   "metadata": {
    "tags": []
   },
   "source": [
    "# [Step 3] 머신러닝 모델링1"
   ]
  },
  {
   "cell_type": "markdown",
   "id": "1a3f4996-4681-4eae-b839-8ad6267387ae",
   "metadata": {
    "tags": []
   },
   "source": [
    "#### **<span style=\"color:blue\">[3-1] 학습 및 테스트 데이터 로딩</span>**"
   ]
  },
  {
   "cell_type": "code",
   "execution_count": 104,
   "id": "changed-arrangement",
   "metadata": {
    "scrolled": true
   },
   "outputs": [],
   "source": [
    "# train_x.csv / train_y.csv / test_x.csv / test_y.csv 4개의 데이터 로딩\n",
    "train_x = pd.read_csv('train_x.csv')\n",
    "train_y = pd.read_csv('train_y.csv')\n",
    "test_x = pd.read_csv('test_x.csv')\n",
    "test_y = pd.read_csv('test_y.csv')"
   ]
  },
  {
   "cell_type": "code",
   "execution_count": 105,
   "id": "29bda424-41cc-460b-a6d6-106c112f65db",
   "metadata": {},
   "outputs": [
    {
     "name": "stdout",
     "output_type": "stream",
     "text": [
      "(8734, 24)\n",
      "(8734, 2)\n",
      "(2135, 24)\n",
      "(2135, 2)\n"
     ]
    }
   ],
   "source": [
    "print(train_x.shape)\n",
    "print(train_y.shape)\n",
    "print(test_x.shape)\n",
    "print(test_y.shape)"
   ]
  },
  {
   "cell_type": "code",
   "execution_count": 106,
   "id": "5a3b709c-6370-42da-9c33-f21afed471bb",
   "metadata": {},
   "outputs": [],
   "source": [
    "train_x.drop(train_x.columns[0], axis=1, inplace=True)\n",
    "train_y.drop(train_y.columns[0], axis=1, inplace=True)\n",
    "test_x.drop(test_x.columns[0], axis=1, inplace=True)\n",
    "test_y.drop(test_y.columns[0], axis=1, inplace=True)"
   ]
  },
  {
   "cell_type": "code",
   "execution_count": 107,
   "id": "2a77e0dc-8181-430b-95b1-6f94ce76e868",
   "metadata": {},
   "outputs": [
    {
     "name": "stdout",
     "output_type": "stream",
     "text": [
      "(8734, 23)\n",
      "(8734, 1)\n",
      "(2135, 23)\n",
      "(2135, 1)\n"
     ]
    }
   ],
   "source": [
    "print(train_x.shape)\n",
    "print(train_y.shape)\n",
    "print(test_x.shape)\n",
    "print(test_y.shape)"
   ]
  },
  {
   "cell_type": "markdown",
   "id": "2084ca1a",
   "metadata": {},
   "source": [
    "---"
   ]
  },
  {
   "cell_type": "markdown",
   "id": "66dca0e8-a0d1-4562-8afe-3e8f85733393",
   "metadata": {
    "tags": []
   },
   "source": [
    "#### **<span style=\"color:blue\">[3-2] 모델링: LinearRegression</span>**"
   ]
  },
  {
   "cell_type": "markdown",
   "id": "joined-client",
   "metadata": {},
   "source": [
    "* Train과 Test로 나눈 데이터를 기준으로 LinearRegression 모델링을 진행하고 평가를 해주세요.\n",
    "* 그리고 모델 파일을 pkl로 저장해주세요.\n",
    "* 성능지표 : MSE, R-squared Score(소수점 5째자리까지)"
   ]
  },
  {
   "cell_type": "code",
   "execution_count": 108,
   "id": "willing-disclaimer",
   "metadata": {},
   "outputs": [
    {
     "name": "stdout",
     "output_type": "stream",
     "text": [
      "MSE: 42.95461\n",
      "R2-score: 0.9222\n"
     ]
    }
   ],
   "source": [
    "# LinearRegression 모델 선언\n",
    "model_lr = LinearRegression()\n",
    "\n",
    "# 모델 학습\n",
    "model_lr.fit(train_x, train_y)\n",
    "\n",
    "# 예측\n",
    "y_pred_LR = model_lr.predict(test_x)\n",
    "\n",
    "# 성능 평가\n",
    "print('MSE:', round(mse(test_y, y_pred_LR), 5))\n",
    "print('R2-score:', round(r2_score(test_y, y_pred_LR), 5))"
   ]
  },
  {
   "cell_type": "code",
   "execution_count": 109,
   "id": "0f316df3-992c-4e5d-8096-3a25c90b0a4a",
   "metadata": {},
   "outputs": [
    {
     "name": "stdout",
     "output_type": "stream",
     "text": [
      "train score : 0.9630115134752376\n",
      "test score : 0.9221988760662279\n"
     ]
    }
   ],
   "source": [
    "# 학습 성능\n",
    "print('train score :', model_lr.score(train_x, train_y))\n",
    "\n",
    "# 평가 성능\n",
    "print('test score :', model_lr.score(test_x, test_y))"
   ]
  },
  {
   "cell_type": "code",
   "execution_count": 110,
   "id": "fe2096b7",
   "metadata": {},
   "outputs": [],
   "source": [
    "# 학습한 모델을 pkl 파일로 저장해보세요.\n",
    "import pickle\n",
    "\n",
    "with open('model_lr.pickle', 'wb') as f:\n",
    "    pickle.dump(model_lr, f, pickle.HIGHEST_PROTOCOL)"
   ]
  },
  {
   "cell_type": "markdown",
   "id": "44e1265e-939a-41d6-87cd-98211da2b7d1",
   "metadata": {
    "tags": []
   },
   "source": [
    "# [Step 4] 머신러닝 모델링2"
   ]
  },
  {
   "cell_type": "markdown",
   "id": "093d7a22-50bd-401d-9655-30002e8b5985",
   "metadata": {
    "tags": []
   },
   "source": [
    "#### **<span style=\"color:blue\">(선택 수행)[4-1] 모델링: 랜덤포레스트</span>**"
   ]
  },
  {
   "cell_type": "markdown",
   "id": "crazy-escape",
   "metadata": {},
   "source": [
    "* 랜덤포레스트: 배깅의 일종으로 의사결정나무(Decision Tree) 여러 개를 모아서 숲을 랜덤으로 구성하고 이를 종합해서 최종 모델을 산출하는 기법\n",
    "* Train과 Test로 나눈 데이터를 기준으로 렌덤포레스트로 모델을 학습을 진행하고 평가를 해주세요.\n",
    "* 그리고 모델 파일을 pkl로 저장해주세요.\n",
    "* 성능지표 : MSE, R-squared Score(소수점 5째자리까지)"
   ]
  },
  {
   "cell_type": "code",
   "execution_count": 111,
   "id": "guilty-score",
   "metadata": {},
   "outputs": [
    {
     "name": "stderr",
     "output_type": "stream",
     "text": [
      "C:\\Users\\user\\anaconda3\\envs\\lecture\\lib\\site-packages\\ipykernel_launcher.py:5: DataConversionWarning: A column-vector y was passed when a 1d array was expected. Please change the shape of y to (n_samples,), for example using ravel().\n",
      "  \"\"\"\n"
     ]
    },
    {
     "name": "stdout",
     "output_type": "stream",
     "text": [
      "MSE: 45.58117\n",
      "R2-score: 0.91744\n"
     ]
    }
   ],
   "source": [
    "# 모델 선언\n",
    "model_rf = RFR(max_depth=5)\n",
    "\n",
    "# 모델 학습\n",
    "model_rf.fit(train_x, train_y)\n",
    "\n",
    "# 예측하기\n",
    "y_pred_RF = model_rf.predict(test_x)\n",
    "\n",
    "# 성능 평가\n",
    "print('MSE:', round(mse(test_y, y_pred_RF), 5))\n",
    "print('R2-score:', round(r2_score(test_y, y_pred_RF), 5))"
   ]
  },
  {
   "cell_type": "code",
   "execution_count": 112,
   "id": "41971ff8",
   "metadata": {},
   "outputs": [],
   "source": [
    "# 학습한 모델을 파일로 저장해보세요.\n"
   ]
  },
  {
   "cell_type": "code",
   "execution_count": 113,
   "id": "e19f84b0",
   "metadata": {},
   "outputs": [],
   "source": [
    "# (다음 진행은 선택입니다)\n",
    "# 렌덤포레스트로 학습한 모델의 feature_importances를 구해보세요.\n",
    "# 확인할 수 있는 내용으로 우리 모델에서의 인사이트를 정리해보세요.\n",
    "# Feature의 중요도 확인\n",
    "\n"
   ]
  },
  {
   "cell_type": "code",
   "execution_count": 114,
   "id": "af7989f3",
   "metadata": {},
   "outputs": [],
   "source": [
    "# (선택) 확인할 수 있는 인사이트\n",
    "# 1.\n",
    "# 2.\n",
    "# 3."
   ]
  },
  {
   "cell_type": "markdown",
   "id": "95401368-9bff-4118-b07a-92b833e33f20",
   "metadata": {
    "tags": []
   },
   "source": [
    "#### **<span style=\"color:blue\">(선택 수행)[4-2] 모델링: GradientBoosting</span>**"
   ]
  },
  {
   "cell_type": "markdown",
   "id": "convinced-vocabulary",
   "metadata": {},
   "source": [
    "* GradientBoosting: 앞선 모델의 에러를 다음 모델의 예측 값으로 활용하면서 가중치 업데이트 하는데 경사하강법(Gradient Descent)를 활용해서 최적 모델을 만드는 기법\n",
    "* Train과 Test로 나눈 데이터를 기준으로 그라디언트부스팅으로 모델을 학습을 진행하고 평가를 해주세요.\n",
    "* 그리고 모델 파일을 pkl로 저장해주세요.\n",
    "* 성능지표 : RMSE, R-squared Score(소수점 5째자리까지)"
   ]
  },
  {
   "cell_type": "code",
   "execution_count": 115,
   "id": "continent-olympus",
   "metadata": {},
   "outputs": [
    {
     "name": "stderr",
     "output_type": "stream",
     "text": [
      "C:\\Users\\user\\anaconda3\\envs\\lecture\\lib\\site-packages\\sklearn\\ensemble\\_gb.py:494: DataConversionWarning: A column-vector y was passed when a 1d array was expected. Please change the shape of y to (n_samples, ), for example using ravel().\n",
      "  y = column_or_1d(y, warn=True)\n"
     ]
    },
    {
     "name": "stdout",
     "output_type": "stream",
     "text": [
      "MSE: 42.94927\n",
      "R2-score: 0.92221\n"
     ]
    }
   ],
   "source": [
    "# 모델 선언\n",
    "model_gb = GBR(max_depth=5)\n",
    "\n",
    "# 모델 학습\n",
    "model_gb.fit(train_x, train_y)\n",
    "\n",
    "# 예측하기\n",
    "y_pred_GB = model_gb.predict(test_x)\n",
    "\n",
    "# 성능 평가\n",
    "print('MSE:', round(mse(test_y, y_pred_GB), 5))\n",
    "print('R2-score:', round(r2_score(test_y, y_pred_GB), 5))"
   ]
  },
  {
   "cell_type": "code",
   "execution_count": 116,
   "id": "241dbcdc",
   "metadata": {},
   "outputs": [],
   "source": [
    "# Test 데이터로 성능을 평가해보세요.\n",
    "\n",
    "\n"
   ]
  },
  {
   "cell_type": "code",
   "execution_count": 117,
   "id": "9bdccb80",
   "metadata": {},
   "outputs": [],
   "source": [
    "# 학습한 모델을 파일로 저장해보세요.\n",
    "\n",
    "\n"
   ]
  },
  {
   "cell_type": "code",
   "execution_count": 118,
   "id": "8deba58d",
   "metadata": {},
   "outputs": [],
   "source": [
    "# (다음 진행은 선택입니다)\n",
    "# 그라디언트부스팅으로 학습한 모델의 feature_importances를 구해보세요.\n",
    "# 확인할 수 있는 내용으로 우리 모델에서의 인사이트를 정리해보세요.\n",
    "# Feature의 중요도 확인\n",
    "\n",
    "\n"
   ]
  },
  {
   "cell_type": "code",
   "execution_count": 119,
   "id": "9d1bfe7d",
   "metadata": {
    "tags": []
   },
   "outputs": [],
   "source": [
    "# 확인할 수 있는 인사이트\n",
    "# 1.\n",
    "# 2.\n",
    "# 3."
   ]
  },
  {
   "cell_type": "markdown",
   "id": "eb89852b-b155-4f0a-aaef-2a035caccda7",
   "metadata": {
    "tags": []
   },
   "source": [
    "#### **<span style=\"color:blue\">(선택 수행)[4-3] 모델링: Self Choice Model</span>**"
   ]
  },
  {
   "cell_type": "markdown",
   "id": "305bbd5b",
   "metadata": {},
   "source": [
    "* Self Choice Model: 앞선 교육과정에서 배운 머신러닝 모델 중 어떤 것이든 좋습니다. 원하는 모델을 선택해서 학습을 시켜보세요.\n",
    "* Train과 Test로 나눈 데이터를 기준으로 Self Choice Model로 모델을 학습을 진행하고 평가를 해주세요.\n",
    "* 그리고 모델 파일을 pkl로 저장해주세요.\n",
    "* 성능지표 : RMSE, R-squared Score(소수점 5째자리까지)"
   ]
  },
  {
   "cell_type": "code",
   "execution_count": null,
   "id": "a2c66605",
   "metadata": {},
   "outputs": [],
   "source": [
    "# 아래에 필요한 코드를 작성하고 결과를 확인합니다.\n",
    "\n",
    "\n"
   ]
  },
  {
   "cell_type": "code",
   "execution_count": null,
   "id": "546ac8bf",
   "metadata": {},
   "outputs": [],
   "source": [
    "# Test 데이터로 성능을 평가해보세요.\n",
    "\n",
    "\n"
   ]
  },
  {
   "cell_type": "code",
   "execution_count": null,
   "id": "e69d0d7c",
   "metadata": {},
   "outputs": [],
   "source": [
    "# 학습한 모델을 파일로 저장해보세요.\n",
    "\n",
    "\n"
   ]
  },
  {
   "cell_type": "code",
   "execution_count": null,
   "id": "f83b16b7",
   "metadata": {},
   "outputs": [],
   "source": [
    "# (다음 진행은 선택입니다)\n",
    "# 그라디언트부스팅으로 학습한 모델의 feature_importances를 구해보세요.\n",
    "# 확인할 수 있는 내용으로 우리 모델에서의 인사이트를 정리해보세요.\n",
    "# Feature의 중요도 확인\n",
    "\n"
   ]
  },
  {
   "cell_type": "code",
   "execution_count": null,
   "id": "67e6d924",
   "metadata": {},
   "outputs": [],
   "source": [
    "# Feature의 중요도 확인\n",
    "\n",
    "\n",
    "\n"
   ]
  },
  {
   "cell_type": "code",
   "execution_count": null,
   "id": "a8ac782c",
   "metadata": {},
   "outputs": [],
   "source": [
    "# 확인할 수 있는 인사이트\n",
    "# 1.\n",
    "# 2.\n",
    "# 3."
   ]
  },
  {
   "cell_type": "markdown",
   "id": "c07895fa-d831-4d9c-9bcf-9ec2d7eda2ec",
   "metadata": {
    "tags": []
   },
   "source": [
    "#### **<span style=\"color:blue\">(선택 수행)[4-4] 머신러닝 모델에 대해 성능 최적화 진행</span>**"
   ]
  },
  {
   "cell_type": "markdown",
   "id": "aacb4f2a-d979-4365-85e6-28d64953e741",
   "metadata": {},
   "source": [
    "* 위 머신러닝 모델들에 대해 성능 최적화를 진행해보세요."
   ]
  },
  {
   "cell_type": "code",
   "execution_count": null,
   "id": "50346246-e00c-44d3-be09-252981be1272",
   "metadata": {},
   "outputs": [],
   "source": [
    "# 아래에 필요한 코드를 작성하고 결과를 확인합니다.\n",
    "\n"
   ]
  }
 ],
 "metadata": {
  "kernelspec": {
   "display_name": "lecture",
   "language": "python",
   "name": "lecture"
  },
  "language_info": {
   "codemirror_mode": {
    "name": "ipython",
    "version": 3
   },
   "file_extension": ".py",
   "mimetype": "text/x-python",
   "name": "python",
   "nbconvert_exporter": "python",
   "pygments_lexer": "ipython3",
   "version": "3.7.16"
  },
  "vscode": {
   "interpreter": {
    "hash": "f08154012ddadd8e950e6e9e035c7a7b32c136e7647e9b7c77e02eb723a8bedb"
   }
  }
 },
 "nbformat": 4,
 "nbformat_minor": 5
}
