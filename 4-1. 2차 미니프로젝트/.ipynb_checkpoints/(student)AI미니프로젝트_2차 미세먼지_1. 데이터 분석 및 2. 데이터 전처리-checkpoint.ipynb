{
 "cells": [
  {
   "cell_type": "markdown",
   "id": "8d639137-7995-4e8b-8c33-16a528a9d9b0",
   "metadata": {},
   "source": [
    "**AIVLE School 미니프로젝트**\n",
    "### **공공데이터를 활용한 <span style=\"color:darkgreen\">미세먼지 농도</span> 예측**\n",
    "---"
   ]
  },
  {
   "cell_type": "markdown",
   "id": "c23f0f55-dfeb-4567-bacf-5461b9a20c64",
   "metadata": {},
   "source": [
    "#### **<span style=\"color:red\">[미션 안내]</span>**\n",
    "* 개인 미션: 미세먼지 농도를 예측하는 머신러닝 모델을 만드세요. <br> ([1-1]부터 [1-2]까지, [2-1]부터 [2-8]까지, [3-1]부터 [3-2]까지 필수 수행, [4-1]부터 선택 수행)\n",
    "* 조별 미션: 개인 미션 수행한 내용에 대해 토론하여 발표 준비를 해주세요."
   ]
  },
  {
   "cell_type": "markdown",
   "id": "f5c47a62-bbd0-4605-a3f4-d4eb22b70627",
   "metadata": {},
   "source": [
    "#### **<span style=\"color:red\">[데이터 설명]</span>**\n",
    "\n",
    "* 학습 데이터\n",
    "    * air_2021.csv : 2021년 미세먼지 데이터\n",
    "    * weather_2021.csv : 2021년 날씨 데이터\n",
    "* 테스트 데이터\n",
    "    * air_2022.csv : 2022년 미세먼지 데이터\n",
    "    * weather_2022.csv : 2022년 날씨 데이터"
   ]
  },
  {
   "cell_type": "markdown",
   "id": "a17b3d11-215a-4de6-804f-74d792f1d8ac",
   "metadata": {},
   "source": [
    "# [Step 1] 탐색적 데이터 분석"
   ]
  },
  {
   "cell_type": "code",
   "execution_count": 1,
   "id": "1cc7de55",
   "metadata": {},
   "outputs": [
    {
     "name": "stdout",
     "output_type": "stream",
     "text": [
      "Requirement already satisfied: pandas in c:\\users\\user\\anaconda3\\lib\\site-packages (1.5.3)\n",
      "Requirement already satisfied: numpy>=1.21.0 in c:\\users\\user\\anaconda3\\lib\\site-packages (from pandas) (1.23.5)\n",
      "Requirement already satisfied: pytz>=2020.1 in c:\\users\\user\\anaconda3\\lib\\site-packages (from pandas) (2022.7)\n",
      "Requirement already satisfied: python-dateutil>=2.8.1 in c:\\users\\user\\anaconda3\\lib\\site-packages (from pandas) (2.8.2)\n",
      "Requirement already satisfied: six>=1.5 in c:\\users\\user\\anaconda3\\lib\\site-packages (from python-dateutil>=2.8.1->pandas) (1.16.0)\n"
     ]
    }
   ],
   "source": [
    "# 필요한 라이브러리 설치 및 임포트\n",
    "!pip install pandas\n",
    "\n",
    "import pandas as pd\n",
    "import datetime"
   ]
  },
  {
   "cell_type": "markdown",
   "id": "74c09d16",
   "metadata": {},
   "source": [
    "---"
   ]
  },
  {
   "cell_type": "markdown",
   "id": "a9675ead-bf03-4ccf-a0b5-c7d0695f152d",
   "metadata": {},
   "source": [
    "#### **<span style=\"color:blue\">[1-1] air_21, air_22, weather_21, weather_22 데이터 로딩</span>**"
   ]
  },
  {
   "cell_type": "code",
   "execution_count": 2,
   "id": "b55356f6-4a76-4ad6-a73c-257bdff69195",
   "metadata": {},
   "outputs": [],
   "source": [
    "# 데이터 로딩\n",
    "\n",
    "air_21 = pd.read_csv(\"air_2021.csv\", sep=',', index_col = 0, encoding = 'utf-8' )\n",
    "air_22 = pd.read_csv(\"air_2022.csv\", sep=',', index_col = 0, encoding = 'utf-8' )\n",
    "weather_21 = pd.read_csv(\"weather_2021.csv\", sep = ',', encoding='cp949')\n",
    "weather_22 = pd.read_csv(\"weather_2022.csv\", sep = ',', encoding='cp949')"
   ]
  },
  {
   "cell_type": "markdown",
   "id": "4483b2bd-1ecd-48f6-8c65-1640854fbe05",
   "metadata": {},
   "source": [
    "#### **<span style=\"color:blue\">[1-2] 필요한 데이터 분석 진행 </span>**"
   ]
  },
  {
   "cell_type": "code",
   "execution_count": 3,
   "id": "81700e2b-de01-40e1-ab58-b8aa3a457201",
   "metadata": {},
   "outputs": [],
   "source": [
    "# 아래에 필요한 코드를 작성하고 결과를 확인합니다.\n",
    "# head, tail, info, plot을 활용한 시각화 등 진행\n",
    "\n",
    "\n"
   ]
  },
  {
   "cell_type": "markdown",
   "id": "3378cca9-5e3c-4d48-85d2-a14a8461a03c",
   "metadata": {},
   "source": [
    "# [Step 2] 데이터 전처리"
   ]
  },
  {
   "cell_type": "markdown",
   "id": "d70c511d-40a7-40e0-a174-6832252ce2f2",
   "metadata": {
    "tags": []
   },
   "source": [
    "#### **<span style=\"color:blue\">[2-1] air_21, air_22 의 '측정일시'를 활용하여 'time' 변수 생성</span>**"
   ]
  },
  {
   "cell_type": "markdown",
   "id": "c260e7e5",
   "metadata": {},
   "source": [
    "* air_21, air_22  각각 '측정일시'를 활용하여 'time'변수 생성\n",
    "    * 참고: 미세먼지 데이터는 1시-24시, 날씨 데이터는 0시-23시로 구성되어 있습니다. [2-3]에서 미세먼지와 날씨 데이터를 time 기준으로 합치려면 기준이 동일해야 합니다. 미세먼지 데이터에서 time 변수 생성 시 이를 미리 고려(예: air_21['측정일시'] -1)하세요.\n",
    "* time 변수를 pd.to_datetime으로 데이터 타입 변경\n",
    "    * 참고: format = '%Y%m%d%H'"
   ]
  },
  {
   "cell_type": "code",
   "execution_count": 4,
   "id": "89146858",
   "metadata": {
    "tags": []
   },
   "outputs": [],
   "source": [
    "# 아래에 필요한 코드를 작성하고 결과를 확인합니다.\n",
    "\n"
   ]
  },
  {
   "cell_type": "markdown",
   "id": "5b72e3b6-998b-4b4c-b009-4ac6a852e8b5",
   "metadata": {},
   "source": [
    "---"
   ]
  },
  {
   "cell_type": "markdown",
   "id": "05f59d95-1d33-467b-ac90-e3c80c2b32d4",
   "metadata": {
    "tags": []
   },
   "source": [
    "#### **<span style=\"color:blue\">[2-2] weather_21, weather_22 의 '일시'를 활용하여 'time' 변수 생성</span>**"
   ]
  },
  {
   "cell_type": "markdown",
   "id": "romantic-johnson",
   "metadata": {},
   "source": [
    "* weather_21, weather_22 의 '일시'를 활용하여 'time'변수 생성\n",
    "* time 변수를 pd.to_datetime으로 데이터 타입 변경"
   ]
  },
  {
   "cell_type": "code",
   "execution_count": 5,
   "id": "8ee1bae8",
   "metadata": {},
   "outputs": [],
   "source": [
    "# 아래에 필요한 코드를 작성하고 결과를 확인합니다.\n",
    "\n"
   ]
  },
  {
   "cell_type": "markdown",
   "id": "ef9eb7b0",
   "metadata": {},
   "source": [
    "---"
   ]
  },
  {
   "cell_type": "markdown",
   "id": "4711af88-7642-493a-8df2-116bfbe87420",
   "metadata": {
    "tags": []
   },
   "source": [
    "#### **<span style=\"color:blue\">[2-3] 'time' 기준으로 데이터 합치기</span>**"
   ]
  },
  {
   "cell_type": "markdown",
   "id": "lyric-response",
   "metadata": {},
   "source": [
    "* 미세먼지 데이터와 날씨 데이터를 'time' 기준으로 합쳐보세요.\n",
    "    * df_21에는 'time' 기준으로 21년도 미세먼지, 날씨 데이터를 합쳐보세요.\n",
    "    * df_22에는 'time' 기준으로 22년도 미세먼지, 날씨 데이터를 합쳐보세요."
   ]
  },
  {
   "cell_type": "code",
   "execution_count": 6,
   "id": "8e77f9fa",
   "metadata": {
    "tags": []
   },
   "outputs": [],
   "source": [
    "# 아래에 필요한 코드를 작성하고 결과를 확인합니다.\n",
    "\n"
   ]
  },
  {
   "cell_type": "markdown",
   "id": "87ee6f70-17e3-4611-a776-920c2c714ab7",
   "metadata": {},
   "source": [
    "---"
   ]
  },
  {
   "cell_type": "markdown",
   "id": "1a56911f-dc08-40e1-b456-6b5a6fdd4ce3",
   "metadata": {
    "tags": []
   },
   "source": [
    "#### **<span style=\"color:blue\">[2-4] 사용하지 않을 변수 제거</span>**"
   ]
  },
  {
   "cell_type": "markdown",
   "id": "8a3e52e4",
   "metadata": {},
   "source": [
    "* 머신러닝에 사용하지 않을 변수들을 제거해줍니다.\n",
    "    * df_21, df_22에 사용할 변수들만 넣어보세요.\n",
    "* time 변수를 index로 세팅하고 (set_index) 데이터가 정렬되어 있지 않으므로 index 기준으로 정렬하세요. (sort_index)"
   ]
  },
  {
   "cell_type": "code",
   "execution_count": 7,
   "id": "ddf39400",
   "metadata": {},
   "outputs": [],
   "source": [
    "# df_21, df_22에 사용할 변수들만 할당\n"
   ]
  },
  {
   "cell_type": "code",
   "execution_count": 8,
   "id": "351bed8d",
   "metadata": {
    "tags": []
   },
   "outputs": [],
   "source": [
    "# time 변수를 index로 세팅\n"
   ]
  },
  {
   "cell_type": "markdown",
   "id": "72e4fb4a-b197-4a34-9963-4b25b18caed8",
   "metadata": {},
   "source": [
    "---"
   ]
  },
  {
   "cell_type": "markdown",
   "id": "d227338e-eb0d-44e3-b847-c2f95287dab8",
   "metadata": {
    "tags": []
   },
   "source": [
    "#### **<span style=\"color:blue\">[2-5] 변수들의 결측치 처리</span>**"
   ]
  },
  {
   "cell_type": "code",
   "execution_count": 9,
   "id": "e38d021e",
   "metadata": {},
   "outputs": [],
   "source": [
    "# df_21, df_22의 결측치 확인\n",
    "\n"
   ]
  },
  {
   "cell_type": "code",
   "execution_count": 10,
   "id": "d5ceccfc",
   "metadata": {},
   "outputs": [],
   "source": [
    "# df_21, df_22의 변수 중 결측치를 처리 (ex: 강수량(mm))\n",
    "\n"
   ]
  },
  {
   "cell_type": "code",
   "execution_count": 11,
   "id": "e3bd1706",
   "metadata": {},
   "outputs": [],
   "source": [
    "# df_21, df_22의 남은 결측치를 처리\n",
    "\n"
   ]
  },
  {
   "cell_type": "code",
   "execution_count": 12,
   "id": "f37251a9",
   "metadata": {},
   "outputs": [],
   "source": [
    "# df_21, df_22의 결측치 재확인\n",
    "\n"
   ]
  },
  {
   "cell_type": "markdown",
   "id": "a8a1db4e-ea4f-4413-8014-1a5b739447c6",
   "metadata": {},
   "source": [
    "---"
   ]
  },
  {
   "cell_type": "markdown",
   "id": "31811bfb-10e4-4cc2-859f-f993a1cab579",
   "metadata": {
    "tags": []
   },
   "source": [
    "#### **<span style=\"color:blue\">[2-6] 전일 같은 시간 미세먼지 농도 변수 추가</span>**"
   ]
  },
  {
   "cell_type": "markdown",
   "id": "2f787390-85b9-4bdd-9ac8-551bdcd18a9b",
   "metadata": {},
   "source": [
    "* 먼저 df_21, df_22에 month, day, hour 변수를 추가하세요.\n",
    "    * 예) dt.month, dt.day, dt.hour 사용 또는 datetimeindex에서는 df.index.month 등 사용 가능\n",
    "* 모델링에 유용한 변수로 전일 같은 시간(24시간 전) 미세먼지 농도 변수를 추가하세요.\n",
    "    * 시계열 데이터 처리를 위한 shift 연산을 참고하세요."
   ]
  },
  {
   "cell_type": "code",
   "execution_count": 13,
   "id": "c095d7b0",
   "metadata": {},
   "outputs": [],
   "source": [
    "# df_21, df_22의 index(time)를 month, day, hour 로 쪼개기 (year는 필요 없음). 이후에 저장 시 index(time)은 포함하지 않음.\n",
    "\n"
   ]
  },
  {
   "cell_type": "code",
   "execution_count": 14,
   "id": "4573f5f8",
   "metadata": {},
   "outputs": [],
   "source": [
    "# df_21, df_22에 전일 같은 시간 미세먼지 농도 변수(PM10_lag1) 추가\n",
    "# 전일 같은 시간은 24시간 전 입니다.\n",
    "\n"
   ]
  },
  {
   "cell_type": "markdown",
   "id": "f5a1aef0-31d8-4c20-81ad-b2825081a975",
   "metadata": {},
   "source": [
    "---"
   ]
  },
  {
   "cell_type": "markdown",
   "id": "ff52b9e7-869c-41c9-8aea-817ec00d5200",
   "metadata": {
    "tags": []
   },
   "source": [
    "#### **<span style=\"color:blue\">[2-7] t+1 시점의 미세먼지 농도 데이터 생성</span>**"
   ]
  },
  {
   "cell_type": "markdown",
   "id": "6deef340",
   "metadata": {},
   "source": [
    "* t+1 시점은 1시간 후 입니다.\n",
    "* t+1 시점의 미세먼지 농도 변수(PM10_1)를 생성하세요.\n",
    "* t+1 시점의 미세먼지 농도는 머신러닝 모델을 통해 예측하려는 y값(target) 입니다."
   ]
  },
  {
   "cell_type": "code",
   "execution_count": 15,
   "id": "b5003c89",
   "metadata": {},
   "outputs": [],
   "source": [
    "# df_21, df_22에 t+1 시점 변수(PM10_1) 추가\n",
    "\n"
   ]
  },
  {
   "cell_type": "code",
   "execution_count": 16,
   "id": "b14b9b60",
   "metadata": {},
   "outputs": [],
   "source": [
    "# 결측치가 있다면 처리\n",
    "\n"
   ]
  },
  {
   "cell_type": "markdown",
   "id": "27c6c592",
   "metadata": {},
   "source": [
    "---"
   ]
  },
  {
   "cell_type": "markdown",
   "id": "54279875-b095-4100-97b2-7fddd9488107",
   "metadata": {
    "tags": []
   },
   "source": [
    "#### **<span style=\"color:blue\">[2-8] train, test 데이터 분리</span>**"
   ]
  },
  {
   "cell_type": "markdown",
   "id": "dependent-motion",
   "metadata": {},
   "source": [
    "* 21년도 데이터(df_21)를 train 데이터로 저장하세요. y 값을 제외하고 train_x로 저장한 후 y 값은 train_y로 저장하세요.\n",
    "* 22년도 데이터(df_22)를 test 데이터로 저장하세요. y 값을 제외하고 test_x로 저장한 후 y 값은 test_y로 저장하세요.\n",
    "* 각각의 데이터프레임을 csv 파일로 저장하세요. (train_x.csv / train_y.csv / test_x.csv / test_y.csv) (단, 인덱스 제외)\n",
    "* y값은 'PM10_1' 즉, t+1 시점의 미세먼지 농도입니다."
   ]
  },
  {
   "cell_type": "code",
   "execution_count": 17,
   "id": "92652b6b",
   "metadata": {},
   "outputs": [],
   "source": [
    "# 아래에 필요한 코드를 작성하고 결과를 확인합니다.\n",
    "\n"
   ]
  },
  {
   "cell_type": "code",
   "execution_count": 18,
   "id": "02ad0ed1",
   "metadata": {},
   "outputs": [],
   "source": [
    "# 각각의 데이터프레임을 csv 파일로 저장 (train_x.csv / train_y.csv / test_x.csv / test_y.csv)\n",
    "\n"
   ]
  }
 ],
 "metadata": {
  "kernelspec": {
   "display_name": "Python 3 (ipykernel)",
   "language": "python",
   "name": "python3"
  },
  "language_info": {
   "codemirror_mode": {
    "name": "ipython",
    "version": 3
   },
   "file_extension": ".py",
   "mimetype": "text/x-python",
   "name": "python",
   "nbconvert_exporter": "python",
   "pygments_lexer": "ipython3",
   "version": "3.10.9"
  },
  "vscode": {
   "interpreter": {
    "hash": "f08154012ddadd8e950e6e9e035c7a7b32c136e7647e9b7c77e02eb723a8bedb"
   }
  }
 },
 "nbformat": 4,
 "nbformat_minor": 5
}
