{
 "cells": [
  {
   "cell_type": "markdown",
   "id": "79412e83",
   "metadata": {},
   "source": [
    "# 2. 데이터 정제 – 이상 데이터 처리"
   ]
  },
  {
   "cell_type": "markdown",
   "id": "d98ec548",
   "metadata": {},
   "source": [
    "### 이상치 다루기\n",
    "1. 이상치 확인\n",
    "    - Z-Score\n",
    "    - IQR (Interquartile Range)\n",
    "2. 이상치 처리\n",
    "    - 삭제\n",
    "    - 대체<br><br>\n",
    "        \n",
    "### 실습 내용 요약\n",
    "- 예제 데이터 내 이상치 확인 및 삭제, 대체 방안 실습"
   ]
  },
  {
   "cell_type": "code",
   "execution_count": 1,
   "id": "96c04597",
   "metadata": {},
   "outputs": [],
   "source": [
    "import numpy as np\n",
    "import pandas as pd"
   ]
  },
  {
   "cell_type": "code",
   "execution_count": 3,
   "id": "c99f1425",
   "metadata": {},
   "outputs": [
    {
     "data": {
      "text/html": [
       "<div>\n",
       "<style scoped>\n",
       "    .dataframe tbody tr th:only-of-type {\n",
       "        vertical-align: middle;\n",
       "    }\n",
       "\n",
       "    .dataframe tbody tr th {\n",
       "        vertical-align: top;\n",
       "    }\n",
       "\n",
       "    .dataframe thead th {\n",
       "        text-align: right;\n",
       "    }\n",
       "</style>\n",
       "<table border=\"1\" class=\"dataframe\">\n",
       "  <thead>\n",
       "    <tr style=\"text-align: right;\">\n",
       "      <th></th>\n",
       "      <th>category</th>\n",
       "      <th>journal</th>\n",
       "      <th>num_click</th>\n",
       "    </tr>\n",
       "  </thead>\n",
       "  <tbody>\n",
       "    <tr>\n",
       "      <th>0</th>\n",
       "      <td>eng</td>\n",
       "      <td>D</td>\n",
       "      <td>164</td>\n",
       "    </tr>\n",
       "    <tr>\n",
       "      <th>1</th>\n",
       "      <td>tra</td>\n",
       "      <td>B</td>\n",
       "      <td>762</td>\n",
       "    </tr>\n",
       "    <tr>\n",
       "      <th>2</th>\n",
       "      <td>eng</td>\n",
       "      <td>D</td>\n",
       "      <td>220</td>\n",
       "    </tr>\n",
       "    <tr>\n",
       "      <th>3</th>\n",
       "      <td>tra</td>\n",
       "      <td>B</td>\n",
       "      <td>639</td>\n",
       "    </tr>\n",
       "    <tr>\n",
       "      <th>4</th>\n",
       "      <td>spo</td>\n",
       "      <td>A</td>\n",
       "      <td>894</td>\n",
       "    </tr>\n",
       "    <tr>\n",
       "      <th>5</th>\n",
       "      <td>soc</td>\n",
       "      <td>E</td>\n",
       "      <td>348</td>\n",
       "    </tr>\n",
       "    <tr>\n",
       "      <th>6</th>\n",
       "      <td>pol</td>\n",
       "      <td>C</td>\n",
       "      <td>521</td>\n",
       "    </tr>\n",
       "    <tr>\n",
       "      <th>7</th>\n",
       "      <td>spo</td>\n",
       "      <td>E</td>\n",
       "      <td>563</td>\n",
       "    </tr>\n",
       "    <tr>\n",
       "      <th>8</th>\n",
       "      <td>fin</td>\n",
       "      <td>B</td>\n",
       "      <td>250</td>\n",
       "    </tr>\n",
       "    <tr>\n",
       "      <th>9</th>\n",
       "      <td>pol</td>\n",
       "      <td>A</td>\n",
       "      <td>620</td>\n",
       "    </tr>\n",
       "    <tr>\n",
       "      <th>10</th>\n",
       "      <td>soc</td>\n",
       "      <td>E</td>\n",
       "      <td>511</td>\n",
       "    </tr>\n",
       "    <tr>\n",
       "      <th>11</th>\n",
       "      <td>pol</td>\n",
       "      <td>C</td>\n",
       "      <td>270</td>\n",
       "    </tr>\n",
       "    <tr>\n",
       "      <th>12</th>\n",
       "      <td>fin</td>\n",
       "      <td>A</td>\n",
       "      <td>390</td>\n",
       "    </tr>\n",
       "    <tr>\n",
       "      <th>13</th>\n",
       "      <td>spo</td>\n",
       "      <td>B</td>\n",
       "      <td>587</td>\n",
       "    </tr>\n",
       "    <tr>\n",
       "      <th>14</th>\n",
       "      <td>tra</td>\n",
       "      <td>E</td>\n",
       "      <td>500</td>\n",
       "    </tr>\n",
       "  </tbody>\n",
       "</table>\n",
       "</div>"
      ],
      "text/plain": [
       "   category journal  num_click\n",
       "0       eng       D        164\n",
       "1       tra       B        762\n",
       "2       eng       D        220\n",
       "3       tra       B        639\n",
       "4       spo       A        894\n",
       "5       soc       E        348\n",
       "6       pol       C        521\n",
       "7       spo       E        563\n",
       "8       fin       B        250\n",
       "9       pol       A        620\n",
       "10      soc       E        511\n",
       "11      pol       C        270\n",
       "12      fin       A        390\n",
       "13      spo       B        587\n",
       "14      tra       E        500"
      ]
     },
     "execution_count": 3,
     "metadata": {},
     "output_type": "execute_result"
    }
   ],
   "source": [
    "# 데이터 로딩 및 개요 확인\n",
    "click_data = pd.read_csv(\"./data/click.csv\")\n",
    "click_data.head(15)"
   ]
  },
  {
   "cell_type": "code",
   "execution_count": 4,
   "id": "1997cf03",
   "metadata": {},
   "outputs": [
    {
     "name": "stdout",
     "output_type": "stream",
     "text": [
      "<class 'pandas.core.frame.DataFrame'>\n",
      "RangeIndex: 17734 entries, 0 to 17733\n",
      "Data columns (total 3 columns):\n",
      " #   Column     Non-Null Count  Dtype \n",
      "---  ------     --------------  ----- \n",
      " 0   category   17734 non-null  object\n",
      " 1   journal    17734 non-null  object\n",
      " 2   num_click  17734 non-null  int64 \n",
      "dtypes: int64(1), object(2)\n",
      "memory usage: 415.8+ KB\n"
     ]
    }
   ],
   "source": [
    "# 데이터 개요 파악\n",
    "click_data.info()\n",
    "\n",
    "# 데이터 copy\n",
    "click_copy = click_data.copy()"
   ]
  },
  {
   "cell_type": "code",
   "execution_count": 5,
   "id": "022a5d2d",
   "metadata": {},
   "outputs": [
    {
     "data": {
      "text/plain": [
       "count     17734.000000\n",
       "mean        543.845495\n",
       "std        5619.881420\n",
       "min           0.000000\n",
       "25%         325.000000\n",
       "50%         459.000000\n",
       "75%         597.000000\n",
       "max      433992.000000\n",
       "Name: num_click, dtype: float64"
      ]
     },
     "execution_count": 5,
     "metadata": {},
     "output_type": "execute_result"
    }
   ],
   "source": [
    "# describe 함수 활용, 수치형 변수인 num_click 컬럼의 통계 확인\n",
    "click_copy['num_click'].describe()"
   ]
  },
  {
   "cell_type": "markdown",
   "id": "6ce7fbec",
   "metadata": {},
   "source": [
    "## 2-1. 이상치 확인 및 삭제하기"
   ]
  },
  {
   "cell_type": "markdown",
   "id": "75e73960",
   "metadata": {},
   "source": [
    "### 1) Z-score 방식 & 삭제"
   ]
  },
  {
   "cell_type": "code",
   "execution_count": 7,
   "id": "7bc4625e",
   "metadata": {},
   "outputs": [
    {
     "data": {
      "text/html": [
       "<div>\n",
       "<style scoped>\n",
       "    .dataframe tbody tr th:only-of-type {\n",
       "        vertical-align: middle;\n",
       "    }\n",
       "\n",
       "    .dataframe tbody tr th {\n",
       "        vertical-align: top;\n",
       "    }\n",
       "\n",
       "    .dataframe thead th {\n",
       "        text-align: right;\n",
       "    }\n",
       "</style>\n",
       "<table border=\"1\" class=\"dataframe\">\n",
       "  <thead>\n",
       "    <tr style=\"text-align: right;\">\n",
       "      <th></th>\n",
       "      <th>category</th>\n",
       "      <th>journal</th>\n",
       "      <th>num_click</th>\n",
       "      <th>z-score</th>\n",
       "    </tr>\n",
       "  </thead>\n",
       "  <tbody>\n",
       "    <tr>\n",
       "      <th>0</th>\n",
       "      <td>eng</td>\n",
       "      <td>D</td>\n",
       "      <td>164</td>\n",
       "      <td>-0.067591</td>\n",
       "    </tr>\n",
       "    <tr>\n",
       "      <th>1</th>\n",
       "      <td>tra</td>\n",
       "      <td>B</td>\n",
       "      <td>762</td>\n",
       "      <td>0.038819</td>\n",
       "    </tr>\n",
       "    <tr>\n",
       "      <th>2</th>\n",
       "      <td>eng</td>\n",
       "      <td>D</td>\n",
       "      <td>220</td>\n",
       "      <td>-0.057627</td>\n",
       "    </tr>\n",
       "    <tr>\n",
       "      <th>3</th>\n",
       "      <td>tra</td>\n",
       "      <td>B</td>\n",
       "      <td>639</td>\n",
       "      <td>0.016932</td>\n",
       "    </tr>\n",
       "    <tr>\n",
       "      <th>4</th>\n",
       "      <td>spo</td>\n",
       "      <td>A</td>\n",
       "      <td>894</td>\n",
       "      <td>0.062308</td>\n",
       "    </tr>\n",
       "  </tbody>\n",
       "</table>\n",
       "</div>"
      ],
      "text/plain": [
       "  category journal  num_click   z-score\n",
       "0      eng       D        164 -0.067591\n",
       "1      tra       B        762  0.038819\n",
       "2      eng       D        220 -0.057627\n",
       "3      tra       B        639  0.016932\n",
       "4      spo       A        894  0.062308"
      ]
     },
     "execution_count": 7,
     "metadata": {},
     "output_type": "execute_result"
    }
   ],
   "source": [
    "# Z-score 컬럼 생성\n",
    "click_copy['z_score'] = (click_copy['num_click'] - np.mean(click_copy['num_click'])) / np.std(click_copy['num_click'])\n",
    "click_copy.head()"
   ]
  },
  {
   "cell_type": "code",
   "execution_count": 8,
   "id": "badec32e",
   "metadata": {},
   "outputs": [
    {
     "data": {
      "text/html": [
       "<div>\n",
       "<style scoped>\n",
       "    .dataframe tbody tr th:only-of-type {\n",
       "        vertical-align: middle;\n",
       "    }\n",
       "\n",
       "    .dataframe tbody tr th {\n",
       "        vertical-align: top;\n",
       "    }\n",
       "\n",
       "    .dataframe thead th {\n",
       "        text-align: right;\n",
       "    }\n",
       "</style>\n",
       "<table border=\"1\" class=\"dataframe\">\n",
       "  <thead>\n",
       "    <tr style=\"text-align: right;\">\n",
       "      <th></th>\n",
       "      <th>num_click</th>\n",
       "      <th>z-score</th>\n",
       "    </tr>\n",
       "  </thead>\n",
       "  <tbody>\n",
       "    <tr>\n",
       "      <th>count</th>\n",
       "      <td>17734.000000</td>\n",
       "      <td>1.773400e+04</td>\n",
       "    </tr>\n",
       "    <tr>\n",
       "      <th>mean</th>\n",
       "      <td>543.845495</td>\n",
       "      <td>1.247154e-17</td>\n",
       "    </tr>\n",
       "    <tr>\n",
       "      <th>std</th>\n",
       "      <td>5619.881420</td>\n",
       "      <td>1.000028e+00</td>\n",
       "    </tr>\n",
       "    <tr>\n",
       "      <th>min</th>\n",
       "      <td>0.000000</td>\n",
       "      <td>-9.677443e-02</td>\n",
       "    </tr>\n",
       "    <tr>\n",
       "      <th>25%</th>\n",
       "      <td>325.000000</td>\n",
       "      <td>-3.894240e-02</td>\n",
       "    </tr>\n",
       "    <tr>\n",
       "      <th>50%</th>\n",
       "      <td>459.000000</td>\n",
       "      <td>-1.509781e-02</td>\n",
       "    </tr>\n",
       "    <tr>\n",
       "      <th>75%</th>\n",
       "      <td>597.000000</td>\n",
       "      <td>9.458563e-03</td>\n",
       "    </tr>\n",
       "    <tr>\n",
       "      <th>max</th>\n",
       "      <td>433992.000000</td>\n",
       "      <td>7.712981e+01</td>\n",
       "    </tr>\n",
       "  </tbody>\n",
       "</table>\n",
       "</div>"
      ],
      "text/plain": [
       "           num_click       z-score\n",
       "count   17734.000000  1.773400e+04\n",
       "mean      543.845495  1.247154e-17\n",
       "std      5619.881420  1.000028e+00\n",
       "min         0.000000 -9.677443e-02\n",
       "25%       325.000000 -3.894240e-02\n",
       "50%       459.000000 -1.509781e-02\n",
       "75%       597.000000  9.458563e-03\n",
       "max    433992.000000  7.712981e+01"
      ]
     },
     "execution_count": 8,
     "metadata": {},
     "output_type": "execute_result"
    }
   ],
   "source": [
    "# 원본 데이터 내 z-score 확인\n",
    "# 일반적으로 -3 아래, 3 위 범위를 이상치로 상정한다\n",
    "click_copy.describe()"
   ]
  },
  {
   "cell_type": "code",
   "execution_count": 10,
   "id": "c0d133b5",
   "metadata": {},
   "outputs": [
    {
     "name": "stdout",
     "output_type": "stream",
     "text": [
      "<class 'pandas.core.frame.DataFrame'>\n",
      "Int64Index: 17730 entries, 0 to 17733\n",
      "Data columns (total 4 columns):\n",
      " #   Column     Non-Null Count  Dtype  \n",
      "---  ------     --------------  -----  \n",
      " 0   category   17730 non-null  object \n",
      " 1   journal    17730 non-null  object \n",
      " 2   num_click  17730 non-null  int64  \n",
      " 3   z-score    17730 non-null  float64\n",
      "dtypes: float64(1), int64(1), object(2)\n",
      "memory usage: 692.6+ KB\n"
     ]
    }
   ],
   "source": [
    "# 이상치 처리하기 (삭제)\n",
    "# z-score 기반 이상치 제거 후 데이터 차원 확인\n",
    "click_copy = click_copy[(click_copy['z-score'] < 3) & (click_copy['z-score'] > -3)]\n",
    "\n",
    "# 데이터 개요 확인, 4건의 데이터가 삭제됨\n",
    "click_copy.info()"
   ]
  },
  {
   "cell_type": "code",
   "execution_count": 11,
   "id": "b01fde2b",
   "metadata": {},
   "outputs": [
    {
     "data": {
      "text/html": [
       "<div>\n",
       "<style scoped>\n",
       "    .dataframe tbody tr th:only-of-type {\n",
       "        vertical-align: middle;\n",
       "    }\n",
       "\n",
       "    .dataframe tbody tr th {\n",
       "        vertical-align: top;\n",
       "    }\n",
       "\n",
       "    .dataframe thead th {\n",
       "        text-align: right;\n",
       "    }\n",
       "</style>\n",
       "<table border=\"1\" class=\"dataframe\">\n",
       "  <thead>\n",
       "    <tr style=\"text-align: right;\">\n",
       "      <th></th>\n",
       "      <th>num_click</th>\n",
       "      <th>z-score</th>\n",
       "    </tr>\n",
       "  </thead>\n",
       "  <tbody>\n",
       "    <tr>\n",
       "      <th>count</th>\n",
       "      <td>17730.000000</td>\n",
       "      <td>17730.000000</td>\n",
       "    </tr>\n",
       "    <tr>\n",
       "      <th>mean</th>\n",
       "      <td>460.268697</td>\n",
       "      <td>-0.014872</td>\n",
       "    </tr>\n",
       "    <tr>\n",
       "      <th>std</th>\n",
       "      <td>199.068617</td>\n",
       "      <td>0.035423</td>\n",
       "    </tr>\n",
       "    <tr>\n",
       "      <th>min</th>\n",
       "      <td>0.000000</td>\n",
       "      <td>-0.096774</td>\n",
       "    </tr>\n",
       "    <tr>\n",
       "      <th>25%</th>\n",
       "      <td>325.000000</td>\n",
       "      <td>-0.038942</td>\n",
       "    </tr>\n",
       "    <tr>\n",
       "      <th>50%</th>\n",
       "      <td>459.000000</td>\n",
       "      <td>-0.015098</td>\n",
       "    </tr>\n",
       "    <tr>\n",
       "      <th>75%</th>\n",
       "      <td>597.000000</td>\n",
       "      <td>0.009459</td>\n",
       "    </tr>\n",
       "    <tr>\n",
       "      <th>max</th>\n",
       "      <td>1295.000000</td>\n",
       "      <td>0.133664</td>\n",
       "    </tr>\n",
       "  </tbody>\n",
       "</table>\n",
       "</div>"
      ],
      "text/plain": [
       "          num_click       z-score\n",
       "count  17730.000000  17730.000000\n",
       "mean     460.268697     -0.014872\n",
       "std      199.068617      0.035423\n",
       "min        0.000000     -0.096774\n",
       "25%      325.000000     -0.038942\n",
       "50%      459.000000     -0.015098\n",
       "75%      597.000000      0.009459\n",
       "max     1295.000000      0.133664"
      ]
     },
     "execution_count": 11,
     "metadata": {},
     "output_type": "execute_result"
    }
   ],
   "source": [
    "# 이상치 제거 후 데이터 요약 통계 확인\n",
    "# z-score 의 min, max 가 절대값 3을 초과하지 않음을 확인\n",
    "click_copy.describe()"
   ]
  },
  {
   "cell_type": "code",
   "execution_count": 13,
   "id": "7070418e",
   "metadata": {},
   "outputs": [
    {
     "name": "stdout",
     "output_type": "stream",
     "text": [
      "(17730, 4)\n"
     ]
    }
   ],
   "source": [
    "# Scipy 라이브러리에서 z-score 메소드 제공\n",
    "from scipy.stats import zscore\n",
    "click_copy = click_data.copy()\n",
    "\n",
    "click_copy['z_score'] = zscore(click_copy['num_click'])\n",
    "click_copy = click_copy[(click_copy['z_score'] < 3) & (click_copy['z_score'] > -3)]\n",
    "print(click_copy.shape) "
   ]
  },
  {
   "cell_type": "code",
   "execution_count": 14,
   "id": "17a80be3",
   "metadata": {},
   "outputs": [
    {
     "data": {
      "text/html": [
       "<div>\n",
       "<style scoped>\n",
       "    .dataframe tbody tr th:only-of-type {\n",
       "        vertical-align: middle;\n",
       "    }\n",
       "\n",
       "    .dataframe tbody tr th {\n",
       "        vertical-align: top;\n",
       "    }\n",
       "\n",
       "    .dataframe thead th {\n",
       "        text-align: right;\n",
       "    }\n",
       "</style>\n",
       "<table border=\"1\" class=\"dataframe\">\n",
       "  <thead>\n",
       "    <tr style=\"text-align: right;\">\n",
       "      <th></th>\n",
       "      <th>num_click</th>\n",
       "      <th>z_score</th>\n",
       "    </tr>\n",
       "  </thead>\n",
       "  <tbody>\n",
       "    <tr>\n",
       "      <th>count</th>\n",
       "      <td>17730.000000</td>\n",
       "      <td>17730.000000</td>\n",
       "    </tr>\n",
       "    <tr>\n",
       "      <th>mean</th>\n",
       "      <td>460.268697</td>\n",
       "      <td>-0.014872</td>\n",
       "    </tr>\n",
       "    <tr>\n",
       "      <th>std</th>\n",
       "      <td>199.068617</td>\n",
       "      <td>0.035423</td>\n",
       "    </tr>\n",
       "    <tr>\n",
       "      <th>min</th>\n",
       "      <td>0.000000</td>\n",
       "      <td>-0.096774</td>\n",
       "    </tr>\n",
       "    <tr>\n",
       "      <th>25%</th>\n",
       "      <td>325.000000</td>\n",
       "      <td>-0.038942</td>\n",
       "    </tr>\n",
       "    <tr>\n",
       "      <th>50%</th>\n",
       "      <td>459.000000</td>\n",
       "      <td>-0.015098</td>\n",
       "    </tr>\n",
       "    <tr>\n",
       "      <th>75%</th>\n",
       "      <td>597.000000</td>\n",
       "      <td>0.009459</td>\n",
       "    </tr>\n",
       "    <tr>\n",
       "      <th>max</th>\n",
       "      <td>1295.000000</td>\n",
       "      <td>0.133664</td>\n",
       "    </tr>\n",
       "  </tbody>\n",
       "</table>\n",
       "</div>"
      ],
      "text/plain": [
       "          num_click       z_score\n",
       "count  17730.000000  17730.000000\n",
       "mean     460.268697     -0.014872\n",
       "std      199.068617      0.035423\n",
       "min        0.000000     -0.096774\n",
       "25%      325.000000     -0.038942\n",
       "50%      459.000000     -0.015098\n",
       "75%      597.000000      0.009459\n",
       "max     1295.000000      0.133664"
      ]
     },
     "execution_count": 14,
     "metadata": {},
     "output_type": "execute_result"
    }
   ],
   "source": [
    "# 기존 결과와 비교\n",
    "click_copy.describe()"
   ]
  },
  {
   "cell_type": "markdown",
   "id": "bd2de99a",
   "metadata": {},
   "source": [
    "### 2) IQR 방식 & 삭제"
   ]
  },
  {
   "cell_type": "code",
   "execution_count": 16,
   "id": "9841449c",
   "metadata": {},
   "outputs": [],
   "source": [
    "# IQR 기반 이상치 처리\n",
    "# 원 데이터 copy\n",
    "click_copy = click_data.copy()"
   ]
  },
  {
   "cell_type": "code",
   "execution_count": 17,
   "id": "e3040224",
   "metadata": {},
   "outputs": [
    {
     "data": {
      "text/plain": [
       "272.0"
      ]
     },
     "execution_count": 17,
     "metadata": {},
     "output_type": "execute_result"
    }
   ],
   "source": [
    "# 1, 3 분위수 (Q1, Q3) 구하기\n",
    "q1 = click_copy['num_click'].quantile(0.25)\n",
    "q3 = click_copy['num_click'].quantile(0.75)\n",
    "\n",
    "# IQR 구하기 (Interquartile Range)\n",
    "iqr = q3 - q1\n",
    "iqr"
   ]
  },
  {
   "cell_type": "code",
   "execution_count": 18,
   "id": "67060b51",
   "metadata": {},
   "outputs": [
    {
     "data": {
      "text/html": [
       "<div>\n",
       "<style scoped>\n",
       "    .dataframe tbody tr th:only-of-type {\n",
       "        vertical-align: middle;\n",
       "    }\n",
       "\n",
       "    .dataframe tbody tr th {\n",
       "        vertical-align: top;\n",
       "    }\n",
       "\n",
       "    .dataframe thead th {\n",
       "        text-align: right;\n",
       "    }\n",
       "</style>\n",
       "<table border=\"1\" class=\"dataframe\">\n",
       "  <thead>\n",
       "    <tr style=\"text-align: right;\">\n",
       "      <th></th>\n",
       "      <th>num_click</th>\n",
       "    </tr>\n",
       "  </thead>\n",
       "  <tbody>\n",
       "    <tr>\n",
       "      <th>count</th>\n",
       "      <td>17682.000000</td>\n",
       "    </tr>\n",
       "    <tr>\n",
       "      <th>mean</th>\n",
       "      <td>458.620235</td>\n",
       "    </tr>\n",
       "    <tr>\n",
       "      <th>std</th>\n",
       "      <td>196.779622</td>\n",
       "    </tr>\n",
       "    <tr>\n",
       "      <th>min</th>\n",
       "      <td>0.000000</td>\n",
       "    </tr>\n",
       "    <tr>\n",
       "      <th>25%</th>\n",
       "      <td>325.000000</td>\n",
       "    </tr>\n",
       "    <tr>\n",
       "      <th>50%</th>\n",
       "      <td>459.000000</td>\n",
       "    </tr>\n",
       "    <tr>\n",
       "      <th>75%</th>\n",
       "      <td>595.000000</td>\n",
       "    </tr>\n",
       "    <tr>\n",
       "      <th>max</th>\n",
       "      <td>1003.000000</td>\n",
       "    </tr>\n",
       "  </tbody>\n",
       "</table>\n",
       "</div>"
      ],
      "text/plain": [
       "          num_click\n",
       "count  17682.000000\n",
       "mean     458.620235\n",
       "std      196.779622\n",
       "min        0.000000\n",
       "25%      325.000000\n",
       "50%      459.000000\n",
       "75%      595.000000\n",
       "max     1003.000000"
      ]
     },
     "execution_count": 18,
     "metadata": {},
     "output_type": "execute_result"
    }
   ],
   "source": [
    "# IQR 기반 이상치 제거하기\n",
    "click_copy = click_copy[(click_copy['num_click'] > (q1 - 1.5*iqr)) & (click_copy['num_click'] < (q3 + 1.5*iqr))]\n",
    "click_copy.describe()"
   ]
  },
  {
   "cell_type": "code",
   "execution_count": 22,
   "id": "9c80eafd",
   "metadata": {},
   "outputs": [
    {
     "data": {
      "text/html": [
       "<div>\n",
       "<style scoped>\n",
       "    .dataframe tbody tr th:only-of-type {\n",
       "        vertical-align: middle;\n",
       "    }\n",
       "\n",
       "    .dataframe tbody tr th {\n",
       "        vertical-align: top;\n",
       "    }\n",
       "\n",
       "    .dataframe thead th {\n",
       "        text-align: right;\n",
       "    }\n",
       "</style>\n",
       "<table border=\"1\" class=\"dataframe\">\n",
       "  <thead>\n",
       "    <tr style=\"text-align: right;\">\n",
       "      <th></th>\n",
       "      <th>category</th>\n",
       "      <th>journal</th>\n",
       "      <th>num_click</th>\n",
       "    </tr>\n",
       "  </thead>\n",
       "  <tbody>\n",
       "    <tr>\n",
       "      <th>0</th>\n",
       "      <td>eng</td>\n",
       "      <td>D</td>\n",
       "      <td>164</td>\n",
       "    </tr>\n",
       "    <tr>\n",
       "      <th>1</th>\n",
       "      <td>tra</td>\n",
       "      <td>B</td>\n",
       "      <td>762</td>\n",
       "    </tr>\n",
       "    <tr>\n",
       "      <th>2</th>\n",
       "      <td>eng</td>\n",
       "      <td>D</td>\n",
       "      <td>220</td>\n",
       "    </tr>\n",
       "    <tr>\n",
       "      <th>3</th>\n",
       "      <td>tra</td>\n",
       "      <td>B</td>\n",
       "      <td>639</td>\n",
       "    </tr>\n",
       "    <tr>\n",
       "      <th>4</th>\n",
       "      <td>spo</td>\n",
       "      <td>A</td>\n",
       "      <td>894</td>\n",
       "    </tr>\n",
       "    <tr>\n",
       "      <th>...</th>\n",
       "      <td>...</td>\n",
       "      <td>...</td>\n",
       "      <td>...</td>\n",
       "    </tr>\n",
       "    <tr>\n",
       "      <th>17729</th>\n",
       "      <td>spo</td>\n",
       "      <td>E</td>\n",
       "      <td>456</td>\n",
       "    </tr>\n",
       "    <tr>\n",
       "      <th>17730</th>\n",
       "      <td>fin</td>\n",
       "      <td>D</td>\n",
       "      <td>433992</td>\n",
       "    </tr>\n",
       "    <tr>\n",
       "      <th>17731</th>\n",
       "      <td>fin</td>\n",
       "      <td>D</td>\n",
       "      <td>310</td>\n",
       "    </tr>\n",
       "    <tr>\n",
       "      <th>17732</th>\n",
       "      <td>eng</td>\n",
       "      <td>A</td>\n",
       "      <td>540</td>\n",
       "    </tr>\n",
       "    <tr>\n",
       "      <th>17733</th>\n",
       "      <td>spo</td>\n",
       "      <td>D</td>\n",
       "      <td>132</td>\n",
       "    </tr>\n",
       "  </tbody>\n",
       "</table>\n",
       "<p>17734 rows × 3 columns</p>\n",
       "</div>"
      ],
      "text/plain": [
       "      category journal  num_click\n",
       "0          eng       D        164\n",
       "1          tra       B        762\n",
       "2          eng       D        220\n",
       "3          tra       B        639\n",
       "4          spo       A        894\n",
       "...        ...     ...        ...\n",
       "17729      spo       E        456\n",
       "17730      fin       D     433992\n",
       "17731      fin       D        310\n",
       "17732      eng       A        540\n",
       "17733      spo       D        132\n",
       "\n",
       "[17734 rows x 3 columns]"
      ]
     },
     "execution_count": 22,
     "metadata": {},
     "output_type": "execute_result"
    }
   ],
   "source": [
    "click_copy"
   ]
  },
  {
   "cell_type": "code",
   "execution_count": 19,
   "id": "18ce5360",
   "metadata": {},
   "outputs": [
    {
     "name": "stdout",
     "output_type": "stream",
     "text": [
      "(17682, 3)\n"
     ]
    }
   ],
   "source": [
    "# 이상치 제거 후 데이터 확인\n",
    "print(np.shape(click_copy))"
   ]
  },
  {
   "cell_type": "markdown",
   "id": "e125b953",
   "metadata": {},
   "source": [
    "## 2-2. 이상치 대체하기"
   ]
  },
  {
   "cell_type": "code",
   "execution_count": 20,
   "id": "14ab64da",
   "metadata": {},
   "outputs": [],
   "source": [
    "# 이상치 대체\n",
    "click_copy = click_data.copy()"
   ]
  },
  {
   "cell_type": "code",
   "execution_count": 21,
   "id": "d5171fc1",
   "metadata": {},
   "outputs": [],
   "source": [
    "# 특정 조건이 명시되어 있어서 이상치를 해당 조건으로 대체한다는 시나리오\n",
    "max_click = 1000"
   ]
  },
  {
   "cell_type": "code",
   "execution_count": 23,
   "id": "5b6429c9",
   "metadata": {},
   "outputs": [
    {
     "data": {
      "text/html": [
       "<div>\n",
       "<style scoped>\n",
       "    .dataframe tbody tr th:only-of-type {\n",
       "        vertical-align: middle;\n",
       "    }\n",
       "\n",
       "    .dataframe tbody tr th {\n",
       "        vertical-align: top;\n",
       "    }\n",
       "\n",
       "    .dataframe thead th {\n",
       "        text-align: right;\n",
       "    }\n",
       "</style>\n",
       "<table border=\"1\" class=\"dataframe\">\n",
       "  <thead>\n",
       "    <tr style=\"text-align: right;\">\n",
       "      <th></th>\n",
       "      <th>num_click</th>\n",
       "      <th>new_num_click</th>\n",
       "    </tr>\n",
       "  </thead>\n",
       "  <tbody>\n",
       "    <tr>\n",
       "      <th>count</th>\n",
       "      <td>17734.000000</td>\n",
       "      <td>17734.000000</td>\n",
       "    </tr>\n",
       "    <tr>\n",
       "      <th>mean</th>\n",
       "      <td>543.845495</td>\n",
       "      <td>460.207229</td>\n",
       "    </tr>\n",
       "    <tr>\n",
       "      <th>std</th>\n",
       "      <td>5619.881420</td>\n",
       "      <td>198.658304</td>\n",
       "    </tr>\n",
       "    <tr>\n",
       "      <th>min</th>\n",
       "      <td>0.000000</td>\n",
       "      <td>0.000000</td>\n",
       "    </tr>\n",
       "    <tr>\n",
       "      <th>25%</th>\n",
       "      <td>325.000000</td>\n",
       "      <td>325.000000</td>\n",
       "    </tr>\n",
       "    <tr>\n",
       "      <th>50%</th>\n",
       "      <td>459.000000</td>\n",
       "      <td>459.000000</td>\n",
       "    </tr>\n",
       "    <tr>\n",
       "      <th>75%</th>\n",
       "      <td>597.000000</td>\n",
       "      <td>597.000000</td>\n",
       "    </tr>\n",
       "    <tr>\n",
       "      <th>max</th>\n",
       "      <td>433992.000000</td>\n",
       "      <td>1000.000000</td>\n",
       "    </tr>\n",
       "  </tbody>\n",
       "</table>\n",
       "</div>"
      ],
      "text/plain": [
       "           num_click  new_num_click\n",
       "count   17734.000000   17734.000000\n",
       "mean      543.845495     460.207229\n",
       "std      5619.881420     198.658304\n",
       "min         0.000000       0.000000\n",
       "25%       325.000000     325.000000\n",
       "50%       459.000000     459.000000\n",
       "75%       597.000000     597.000000\n",
       "max    433992.000000    1000.000000"
      ]
     },
     "execution_count": 23,
     "metadata": {},
     "output_type": "execute_result"
    }
   ],
   "source": [
    "# 정의된 기준으로 대체 후 비교를 위해 컬럼 복사\n",
    "click_copy['new_num_click'] = click_copy['num_click']\n",
    "\n",
    "# 이상치 대체\n",
    "# 내가 인덱싱 이해 못해서 남기는 해석\n",
    "# loc(행, 렬) 인덱싱인데, clock_copyp['new_num_click'] > max_click 을 만족하는 행들의\n",
    "# 'new_num_click' 열을 max_click으로 바꾸라는 의미\n",
    "click_copy.loc[click_copy['new_num_click'] > max_click, 'new_num_click'] = max_click\n",
    "click_copy.describe()"
   ]
  },
  {
   "cell_type": "code",
   "execution_count": 24,
   "id": "df47009a",
   "metadata": {},
   "outputs": [
    {
     "name": "stdout",
     "output_type": "stream",
     "text": [
      "<class 'pandas.core.frame.DataFrame'>\n",
      "RangeIndex: 17734 entries, 0 to 17733\n",
      "Data columns (total 4 columns):\n",
      " #   Column         Non-Null Count  Dtype \n",
      "---  ------         --------------  ----- \n",
      " 0   category       17734 non-null  object\n",
      " 1   journal        17734 non-null  object\n",
      " 2   num_click      17734 non-null  int64 \n",
      " 3   new_num_click  17734 non-null  int64 \n",
      "dtypes: int64(2), object(2)\n",
      "memory usage: 554.3+ KB\n"
     ]
    }
   ],
   "source": [
    "click_copy.info()"
   ]
  },
  {
   "cell_type": "code",
   "execution_count": null,
   "id": "2422b80e",
   "metadata": {},
   "outputs": [],
   "source": []
  }
 ],
 "metadata": {
  "kernelspec": {
   "display_name": "precourse",
   "language": "python",
   "name": "precourse"
  },
  "language_info": {
   "codemirror_mode": {
    "name": "ipython",
    "version": 3
   },
   "file_extension": ".py",
   "mimetype": "text/x-python",
   "name": "python",
   "nbconvert_exporter": "python",
   "pygments_lexer": "ipython3",
   "version": "3.7.16"
  }
 },
 "nbformat": 4,
 "nbformat_minor": 5
}
