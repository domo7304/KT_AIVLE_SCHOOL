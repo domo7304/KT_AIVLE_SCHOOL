{
 "cells": [
  {
   "cell_type": "markdown",
   "id": "30d4590c",
   "metadata": {},
   "source": [
    "# 4. 다변량 시각화 탐색\n",
    "<br>\n",
    "\n",
    "### 다변량 시각화 종류\n",
    "<img width=\"926\" alt=\"image\" src=\"https://github.com/domo7304/domo7304/assets/69956503/a1e2cc47-c9b4-45e6-8c71-d848aca0c959\">"
   ]
  },
  {
   "cell_type": "code",
   "execution_count": null,
   "id": "b4014f46",
   "metadata": {},
   "outputs": [],
   "source": []
  }
 ],
 "metadata": {
  "kernelspec": {
   "display_name": "precourse",
   "language": "python",
   "name": "precourse"
  },
  "language_info": {
   "codemirror_mode": {
    "name": "ipython",
    "version": 3
   },
   "file_extension": ".py",
   "mimetype": "text/x-python",
   "name": "python",
   "nbconvert_exporter": "python",
   "pygments_lexer": "ipython3",
   "version": "3.7.16"
  }
 },
 "nbformat": 4,
 "nbformat_minor": 5
}
