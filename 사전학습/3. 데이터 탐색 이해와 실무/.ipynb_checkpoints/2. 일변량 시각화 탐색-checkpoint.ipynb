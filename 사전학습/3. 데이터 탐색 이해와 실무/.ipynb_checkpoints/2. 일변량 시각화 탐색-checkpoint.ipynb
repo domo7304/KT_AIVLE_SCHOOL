{
 "cells": [
  {
   "cell_type": "markdown",
   "id": "a6775f59",
   "metadata": {},
   "source": [
    "# 2. 일변량 시각화 탐색\n",
    "\n",
    "### 범주형 시각화\n",
    "1. 파이차트 : 원 안에 범주별 비율을 차트로 그린 것\n",
    "2. 막대그래프 : 범주의 수가 많거나 범주별 크기가 유사하다면 파이차트를 대신해 유용하게 활용할 수 있다.\n",
    "\n",
    "### 연속형 시각화\n",
    "1. 히스토그램 : 연속형 데이터 값들의 분포 파악 가능. 구간 내 속하는 자료의 수가 많고 적음을 쉽게 파악\n",
    "2. 커널밀도추정 : 히스토그램은 구간을 어떻게 정하는지에 따라 모양이 달라질 수 있으며, 구간 경계가 연속적이지 않다. 이를 보완하고, 변수가 가질 수 있는 모든 값의 확률(밀도)을 추정하기 위해 사용\n",
    "3. 박스플롯 : 중앙값, 1분위/3분위수, 최대값, 최소값 등을 통해 연속형 데이터의 양상을 직관적으로 파악할 수 있다."
   ]
  },
  {
   "cell_type": "markdown",
   "id": "d6992b2d",
   "metadata": {},
   "source": [
    "1. **범주형 일변량 시각화 - 파이차트, 막대그래프**\n",
    "    - 실습을 위해 데이터를 범주형으로 변환\n",
    "    - G2-G4 구간의 비중이 비슷하기 때문에 % 출력 등 다양한 옵션 적용\n",
    "    - 범주형 데이터를 조금 더 세분화하여 시각화\n",
    "    - 구간이 많아져 비교가 쉽지 않게 됨. 이럴 경우 막대그래프 이용 가능\n",
    "    - 구간 개수에 따른 파이차트와 막대그래프의 사각화 차이 비교    \n",
    "<br><br>\n",
    "2. **연속형 일변량 시각화 - 히스토그램, 커널밀도그래프, 박스플롯**\n",
    "    - 히스토그램은 막대그래프와 유사한 모양을 지니지만, 사용 목적과 그래프 형태의 차이를 보임\n",
    "    - 커널밀도그래프는 히스토그램을 완만한 곡선으로 표현한 것\n",
    "    - 이전 일변량 비시각화에서 수치적으로 확인했던 skewness, kertosis를 시각화를 통해 확인, 더욱 빠르게 정보 파악 가능\n",
    "    - 일부 column에 대해 박스플롯을 적용함으로써, 4분위수 기반으로 데이터 내 이상치 확인"
   ]
  },
  {
   "cell_type": "code",
   "execution_count": null,
   "id": "a72c9269",
   "metadata": {},
   "outputs": [],
   "source": []
  }
 ],
 "metadata": {
  "kernelspec": {
   "display_name": "precourse",
   "language": "python",
   "name": "precourse"
  },
  "language_info": {
   "codemirror_mode": {
    "name": "ipython",
    "version": 3
   },
   "file_extension": ".py",
   "mimetype": "text/x-python",
   "name": "python",
   "nbconvert_exporter": "python",
   "pygments_lexer": "ipython3",
   "version": "3.7.16"
  }
 },
 "nbformat": 4,
 "nbformat_minor": 5
}
