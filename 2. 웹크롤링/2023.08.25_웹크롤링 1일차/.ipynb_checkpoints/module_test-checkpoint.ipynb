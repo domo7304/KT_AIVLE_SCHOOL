{
 "cells": [
  {
   "cell_type": "code",
   "execution_count": 2,
   "id": "8c604aa2-67e3-43d9-b977-31c26b60807c",
   "metadata": {},
   "outputs": [],
   "source": [
    "import zigbang as zb"
   ]
  },
  {
   "cell_type": "code",
   "execution_count": 3,
   "id": "2ce3ebaa-89a5-46f7-bdff-2ee9cb699715",
   "metadata": {},
   "outputs": [
    {
     "data": {
      "text/html": [
       "<div>\n",
       "<style scoped>\n",
       "    .dataframe tbody tr th:only-of-type {\n",
       "        vertical-align: middle;\n",
       "    }\n",
       "\n",
       "    .dataframe tbody tr th {\n",
       "        vertical-align: top;\n",
       "    }\n",
       "\n",
       "    .dataframe thead th {\n",
       "        text-align: right;\n",
       "    }\n",
       "</style>\n",
       "<table border=\"1\" class=\"dataframe\">\n",
       "  <thead>\n",
       "    <tr style=\"text-align: right;\">\n",
       "      <th></th>\n",
       "      <th>item_id</th>\n",
       "      <th>title</th>\n",
       "      <th>deposit</th>\n",
       "      <th>rent</th>\n",
       "      <th>address1</th>\n",
       "      <th>size_m2</th>\n",
       "      <th>manage_cost</th>\n",
       "    </tr>\n",
       "  </thead>\n",
       "  <tbody>\n",
       "    <tr>\n",
       "      <th>0</th>\n",
       "      <td>37814767</td>\n",
       "      <td>3000.40 가능 . 풀옵션 . 큰 원룸 . 1.5층</td>\n",
       "      <td>2000</td>\n",
       "      <td>45</td>\n",
       "      <td>서울시 마포구 망원동</td>\n",
       "      <td>23.14</td>\n",
       "      <td>5</td>\n",
       "    </tr>\n",
       "    <tr>\n",
       "      <th>1</th>\n",
       "      <td>37811154</td>\n",
       "      <td>리모델링원룸 빠른입주가능</td>\n",
       "      <td>2000</td>\n",
       "      <td>45</td>\n",
       "      <td>서울시 마포구 망원동</td>\n",
       "      <td>23.14</td>\n",
       "      <td>5</td>\n",
       "    </tr>\n",
       "    <tr>\n",
       "      <th>2</th>\n",
       "      <td>37568534</td>\n",
       "      <td>가성비 따듯한 감성 리모델링 투룸</td>\n",
       "      <td>23000</td>\n",
       "      <td>0</td>\n",
       "      <td>서울시 마포구 망원동</td>\n",
       "      <td>44.29</td>\n",
       "      <td>3</td>\n",
       "    </tr>\n",
       "    <tr>\n",
       "      <th>3</th>\n",
       "      <td>37626743</td>\n",
       "      <td>쓰리룸 빌라전세 HUG안심대출 주차가능</td>\n",
       "      <td>28000</td>\n",
       "      <td>0</td>\n",
       "      <td>서울시 마포구 망원동</td>\n",
       "      <td>65.37</td>\n",
       "      <td>0</td>\n",
       "    </tr>\n",
       "    <tr>\n",
       "      <th>4</th>\n",
       "      <td>37814752</td>\n",
       "      <td>버팀목.보증보험가능. 테라스 있는 3룸이에요</td>\n",
       "      <td>27000</td>\n",
       "      <td>0</td>\n",
       "      <td>서울시 마포구 망원동</td>\n",
       "      <td>52.09</td>\n",
       "      <td>3</td>\n",
       "    </tr>\n",
       "  </tbody>\n",
       "</table>\n",
       "</div>"
      ],
      "text/plain": [
       "    item_id                           title  deposit  rent     address1  \\\n",
       "0  37814767  3000.40 가능 . 풀옵션 . 큰 원룸 . 1.5층     2000    45  서울시 마포구 망원동   \n",
       "1  37811154                   리모델링원룸 빠른입주가능     2000    45  서울시 마포구 망원동   \n",
       "2  37568534              가성비 따듯한 감성 리모델링 투룸    23000     0  서울시 마포구 망원동   \n",
       "3  37626743           쓰리룸 빌라전세 HUG안심대출 주차가능    28000     0  서울시 마포구 망원동   \n",
       "4  37814752        버팀목.보증보험가능. 테라스 있는 3룸이에요    27000     0  서울시 마포구 망원동   \n",
       "\n",
       "   size_m2 manage_cost  \n",
       "0    23.14           5  \n",
       "1    23.14           5  \n",
       "2    44.29           3  \n",
       "3    65.37           0  \n",
       "4    52.09           3  "
      ]
     },
     "execution_count": 3,
     "metadata": {},
     "output_type": "execute_result"
    }
   ],
   "source": [
    "df = zb.oneroom('망원동')\n",
    "df.head()"
   ]
  }
 ],
 "metadata": {
  "kernelspec": {
   "display_name": "lecture",
   "language": "python",
   "name": "lecture"
  },
  "language_info": {
   "codemirror_mode": {
    "name": "ipython",
    "version": 3
   },
   "file_extension": ".py",
   "mimetype": "text/x-python",
   "name": "python",
   "nbconvert_exporter": "python",
   "pygments_lexer": "ipython3",
   "version": "3.7.16"
  }
 },
 "nbformat": 4,
 "nbformat_minor": 5
}
