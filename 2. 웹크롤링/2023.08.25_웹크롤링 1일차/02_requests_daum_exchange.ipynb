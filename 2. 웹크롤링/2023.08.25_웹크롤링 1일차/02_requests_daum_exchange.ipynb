{
 "cells": [
  {
   "cell_type": "markdown",
   "id": "ce44dd79",
   "metadata": {},
   "source": [
    "### Daum Exchange\n",
    "- `https://finance.daum.net`"
   ]
  },
  {
   "cell_type": "code",
   "execution_count": 1,
   "id": "bcf5c3fb",
   "metadata": {},
   "outputs": [],
   "source": [
    "import requests\n",
    "import pandas as pd"
   ]
  },
  {
   "cell_type": "code",
   "execution_count": 2,
   "id": "8f539076-06cf-4816-9167-424a4ce3654d",
   "metadata": {},
   "outputs": [],
   "source": [
    "url = 'https://finance.daum.net/api/exchanges/summaries'"
   ]
  },
  {
   "cell_type": "code",
   "execution_count": 3,
   "id": "4e495308-6044-4caf-a75a-3bb394b61595",
   "metadata": {},
   "outputs": [
    {
     "data": {
      "text/plain": [
       "<Response [403]>"
      ]
     },
     "execution_count": 3,
     "metadata": {},
     "output_type": "execute_result"
    }
   ],
   "source": [
    "response = requests.get(url)\n",
    "response"
   ]
  },
  {
   "cell_type": "code",
   "execution_count": 4,
   "id": "2e984e4e-d620-4ce4-8894-95f4df62eff2",
   "metadata": {},
   "outputs": [
    {
     "data": {
      "text/plain": [
       "'<html>\\r\\n<head><title>403 Forbidden</title></head>\\r\\n<body bgcolor=\"white\">\\r\\n<center><h1>403 Forbidden</h1></center>\\r\\n<hr><center>nginx</center>\\r\\n</body>\\r\\n</html>\\r\\n'"
      ]
     },
     "execution_count": 4,
     "metadata": {},
     "output_type": "execute_result"
    }
   ],
   "source": [
    "response.text"
   ]
  },
  {
   "cell_type": "code",
   "execution_count": 7,
   "id": "d7d50c04-8e06-4708-b275-913b723dddb9",
   "metadata": {},
   "outputs": [
    {
     "data": {
      "text/plain": [
       "<Response [403]>"
      ]
     },
     "execution_count": 7,
     "metadata": {},
     "output_type": "execute_result"
    }
   ],
   "source": [
    "# 위처럼 403 에러가 발생했을 경우 할 수 있는 다양한 처리들\n",
    "\n",
    "# 1. User-Agent를 Python에서 브라우저처럼 맞춰주기\n",
    "headers = {\n",
    "    'User-Agent': 'Mozilla/5.0 (Windows NT 10.0; Win64; x64) AppleWebKit/537.36 (KHTML, like Gecko) Chrome/116.0.0.0 Safari/537.36',\n",
    "}\n",
    "response = requests.get(url, headers=headers)\n",
    "response"
   ]
  },
  {
   "cell_type": "code",
   "execution_count": 9,
   "id": "82267abf-5694-4014-a375-96e0cefac56a",
   "metadata": {},
   "outputs": [
    {
     "data": {
      "text/plain": [
       "<Response [200]>"
      ]
     },
     "execution_count": 9,
     "metadata": {},
     "output_type": "execute_result"
    }
   ],
   "source": [
    "# 2. Referer도 맞춰줘보기\n",
    "headers = {\n",
    "    'Referer' : 'https://finance.daum.net/exchanges',\n",
    "    'User-Agent': 'Mozilla/5.0 (Windows NT 10.0; Win64; x64) AppleWebKit/537.36 (KHTML, like Gecko) Chrome/116.0.0.0 Safari/537.36',\n",
    "}\n",
    "response = requests.get(url, headers=headers)\n",
    "response"
   ]
  },
  {
   "cell_type": "code",
   "execution_count": 11,
   "id": "4317236d-27ed-40c5-b90b-1ac74c412902",
   "metadata": {},
   "outputs": [
    {
     "data": {
      "text/plain": [
       "'{\"data\":[{\"symbolCode\":\"FRX.KRWUSD\",\"date\":\"2023-08-24 14:42:06\",\"currencyCode\":\"USD\",\"currencyName\":\"달러\",\"currencyUnit\":1,\"country\":\"미국\",\"region\":{\"korName\":\"아메리카\",\"engName\":\"America\"},\"name\":\"미국 (USD/KRW)\",\"recurrenceCount\":484,\"basePrice\":1321.5,\"change\":\"FALL\",\"changePrice\":11.5,\"changeRate\":0.0086271568,\"cashBuyingPrice\":1344.62,\"cashSellingPrice\":1298.38,\"ttBuyingPrice\":1308.6,\"ttSellingPrice\":1334.4,\"tcBuyingPrice\":null,\"fcSellingPrice\":null,\"exchangeCommission\":7.165,\"usDollarRate\":1.0,\"'"
      ]
     },
     "execution_count": 11,
     "metadata": {},
     "output_type": "execute_result"
    }
   ],
   "source": [
    "response.text[:500]"
   ]
  },
  {
   "cell_type": "code",
   "execution_count": null,
   "id": "ea47661f-3b9a-475a-9007-d0a61fbe21a3",
   "metadata": {},
   "outputs": [],
   "source": [
    "data = response.json()\n",
    "data"
   ]
  },
  {
   "cell_type": "code",
   "execution_count": 14,
   "id": "912c164a-2a3f-4444-9bb2-dc455f891be8",
   "metadata": {},
   "outputs": [
    {
     "data": {
      "text/html": [
       "<div>\n",
       "<style scoped>\n",
       "    .dataframe tbody tr th:only-of-type {\n",
       "        vertical-align: middle;\n",
       "    }\n",
       "\n",
       "    .dataframe tbody tr th {\n",
       "        vertical-align: top;\n",
       "    }\n",
       "\n",
       "    .dataframe thead th {\n",
       "        text-align: right;\n",
       "    }\n",
       "</style>\n",
       "<table border=\"1\" class=\"dataframe\">\n",
       "  <thead>\n",
       "    <tr style=\"text-align: right;\">\n",
       "      <th></th>\n",
       "      <th>symbolCode</th>\n",
       "      <th>date</th>\n",
       "      <th>currencyCode</th>\n",
       "      <th>currencyName</th>\n",
       "      <th>currencyUnit</th>\n",
       "      <th>country</th>\n",
       "      <th>region</th>\n",
       "      <th>name</th>\n",
       "      <th>recurrenceCount</th>\n",
       "      <th>basePrice</th>\n",
       "      <th>...</th>\n",
       "      <th>changeRate</th>\n",
       "      <th>cashBuyingPrice</th>\n",
       "      <th>cashSellingPrice</th>\n",
       "      <th>ttBuyingPrice</th>\n",
       "      <th>ttSellingPrice</th>\n",
       "      <th>tcBuyingPrice</th>\n",
       "      <th>fcSellingPrice</th>\n",
       "      <th>exchangeCommission</th>\n",
       "      <th>usDollarRate</th>\n",
       "      <th>chartImageUrl</th>\n",
       "    </tr>\n",
       "  </thead>\n",
       "  <tbody>\n",
       "    <tr>\n",
       "      <th>0</th>\n",
       "      <td>FRX.KRWUSD</td>\n",
       "      <td>2023-08-24 14:42:06</td>\n",
       "      <td>USD</td>\n",
       "      <td>달러</td>\n",
       "      <td>1</td>\n",
       "      <td>미국</td>\n",
       "      <td>{'korName': '아메리카', 'engName': 'America'}</td>\n",
       "      <td>미국 (USD/KRW)</td>\n",
       "      <td>484</td>\n",
       "      <td>1321.50</td>\n",
       "      <td>...</td>\n",
       "      <td>0.008627</td>\n",
       "      <td>1344.62</td>\n",
       "      <td>1298.38</td>\n",
       "      <td>1308.60</td>\n",
       "      <td>1334.40</td>\n",
       "      <td>None</td>\n",
       "      <td>None</td>\n",
       "      <td>7.1650</td>\n",
       "      <td>1.0000</td>\n",
       "      <td>{'day': 'https://t1.daumcdn.net/finance/chart/...</td>\n",
       "    </tr>\n",
       "    <tr>\n",
       "      <th>1</th>\n",
       "      <td>FRX.KRWJPY</td>\n",
       "      <td>2023-08-24 14:42:06</td>\n",
       "      <td>JPY</td>\n",
       "      <td>엔</td>\n",
       "      <td>100</td>\n",
       "      <td>일본</td>\n",
       "      <td>{'korName': '아시아', 'engName': 'Asia'}</td>\n",
       "      <td>일본 (JPY100/KRW)</td>\n",
       "      <td>484</td>\n",
       "      <td>910.22</td>\n",
       "      <td>...</td>\n",
       "      <td>0.010534</td>\n",
       "      <td>926.14</td>\n",
       "      <td>894.30</td>\n",
       "      <td>901.30</td>\n",
       "      <td>919.14</td>\n",
       "      <td>None</td>\n",
       "      <td>None</td>\n",
       "      <td>2.0205</td>\n",
       "      <td>0.6888</td>\n",
       "      <td>{'day': 'https://t1.daumcdn.net/finance/chart/...</td>\n",
       "    </tr>\n",
       "    <tr>\n",
       "      <th>2</th>\n",
       "      <td>FRX.KRWCNY</td>\n",
       "      <td>2023-08-24 14:42:06</td>\n",
       "      <td>CNY</td>\n",
       "      <td>위안</td>\n",
       "      <td>1</td>\n",
       "      <td>중국</td>\n",
       "      <td>{'korName': '아시아', 'engName': 'Asia'}</td>\n",
       "      <td>중국 (CNY/KRW)</td>\n",
       "      <td>484</td>\n",
       "      <td>181.59</td>\n",
       "      <td>...</td>\n",
       "      <td>0.007162</td>\n",
       "      <td>190.66</td>\n",
       "      <td>172.52</td>\n",
       "      <td>179.78</td>\n",
       "      <td>183.40</td>\n",
       "      <td>None</td>\n",
       "      <td>None</td>\n",
       "      <td>5.5821</td>\n",
       "      <td>0.1374</td>\n",
       "      <td>{'day': 'https://t1.daumcdn.net/finance/chart/...</td>\n",
       "    </tr>\n",
       "    <tr>\n",
       "      <th>3</th>\n",
       "      <td>FRX.KRWEUR</td>\n",
       "      <td>2023-08-24 14:42:06</td>\n",
       "      <td>EUR</td>\n",
       "      <td>유로</td>\n",
       "      <td>1</td>\n",
       "      <td>유로</td>\n",
       "      <td>{'korName': '유럽', 'engName': 'Europe'}</td>\n",
       "      <td>유로 (EUR/KRW)</td>\n",
       "      <td>484</td>\n",
       "      <td>1436.80</td>\n",
       "      <td>...</td>\n",
       "      <td>0.007666</td>\n",
       "      <td>1465.39</td>\n",
       "      <td>1408.21</td>\n",
       "      <td>1422.44</td>\n",
       "      <td>1451.16</td>\n",
       "      <td>None</td>\n",
       "      <td>None</td>\n",
       "      <td>5.6120</td>\n",
       "      <td>1.0872</td>\n",
       "      <td>{'day': 'https://t1.daumcdn.net/finance/chart/...</td>\n",
       "    </tr>\n",
       "    <tr>\n",
       "      <th>4</th>\n",
       "      <td>FRX.KRWGBP</td>\n",
       "      <td>2023-08-24 14:42:06</td>\n",
       "      <td>GBP</td>\n",
       "      <td>파운드</td>\n",
       "      <td>1</td>\n",
       "      <td>영국</td>\n",
       "      <td>{'korName': '유럽', 'engName': 'Europe'}</td>\n",
       "      <td>영국 (GBP/KRW)</td>\n",
       "      <td>484</td>\n",
       "      <td>1681.34</td>\n",
       "      <td>...</td>\n",
       "      <td>0.008164</td>\n",
       "      <td>1714.46</td>\n",
       "      <td>1648.22</td>\n",
       "      <td>1664.53</td>\n",
       "      <td>1698.15</td>\n",
       "      <td>None</td>\n",
       "      <td>None</td>\n",
       "      <td>7.3980</td>\n",
       "      <td>1.2723</td>\n",
       "      <td>{'day': 'https://t1.daumcdn.net/finance/chart/...</td>\n",
       "    </tr>\n",
       "  </tbody>\n",
       "</table>\n",
       "<p>5 rows × 22 columns</p>\n",
       "</div>"
      ],
      "text/plain": [
       "   symbolCode                 date currencyCode currencyName  currencyUnit  \\\n",
       "0  FRX.KRWUSD  2023-08-24 14:42:06          USD           달러             1   \n",
       "1  FRX.KRWJPY  2023-08-24 14:42:06          JPY            엔           100   \n",
       "2  FRX.KRWCNY  2023-08-24 14:42:06          CNY           위안             1   \n",
       "3  FRX.KRWEUR  2023-08-24 14:42:06          EUR           유로             1   \n",
       "4  FRX.KRWGBP  2023-08-24 14:42:06          GBP          파운드             1   \n",
       "\n",
       "  country                                     region             name  \\\n",
       "0      미국  {'korName': '아메리카', 'engName': 'America'}     미국 (USD/KRW)   \n",
       "1      일본      {'korName': '아시아', 'engName': 'Asia'}  일본 (JPY100/KRW)   \n",
       "2      중국      {'korName': '아시아', 'engName': 'Asia'}     중국 (CNY/KRW)   \n",
       "3      유로     {'korName': '유럽', 'engName': 'Europe'}     유로 (EUR/KRW)   \n",
       "4      영국     {'korName': '유럽', 'engName': 'Europe'}     영국 (GBP/KRW)   \n",
       "\n",
       "   recurrenceCount  basePrice  ... changeRate  cashBuyingPrice  \\\n",
       "0              484    1321.50  ...   0.008627          1344.62   \n",
       "1              484     910.22  ...   0.010534           926.14   \n",
       "2              484     181.59  ...   0.007162           190.66   \n",
       "3              484    1436.80  ...   0.007666          1465.39   \n",
       "4              484    1681.34  ...   0.008164          1714.46   \n",
       "\n",
       "   cashSellingPrice  ttBuyingPrice  ttSellingPrice  tcBuyingPrice  \\\n",
       "0           1298.38        1308.60         1334.40           None   \n",
       "1            894.30         901.30          919.14           None   \n",
       "2            172.52         179.78          183.40           None   \n",
       "3           1408.21        1422.44         1451.16           None   \n",
       "4           1648.22        1664.53         1698.15           None   \n",
       "\n",
       "   fcSellingPrice exchangeCommission usDollarRate  \\\n",
       "0            None             7.1650       1.0000   \n",
       "1            None             2.0205       0.6888   \n",
       "2            None             5.5821       0.1374   \n",
       "3            None             5.6120       1.0872   \n",
       "4            None             7.3980       1.2723   \n",
       "\n",
       "                                       chartImageUrl  \n",
       "0  {'day': 'https://t1.daumcdn.net/finance/chart/...  \n",
       "1  {'day': 'https://t1.daumcdn.net/finance/chart/...  \n",
       "2  {'day': 'https://t1.daumcdn.net/finance/chart/...  \n",
       "3  {'day': 'https://t1.daumcdn.net/finance/chart/...  \n",
       "4  {'day': 'https://t1.daumcdn.net/finance/chart/...  \n",
       "\n",
       "[5 rows x 22 columns]"
      ]
     },
     "execution_count": 14,
     "metadata": {},
     "output_type": "execute_result"
    }
   ],
   "source": [
    "df = pd.DataFrame(data['data'])\n",
    "df.head()"
   ]
  },
  {
   "cell_type": "code",
   "execution_count": 15,
   "id": "5b2b5313-d6d8-444b-878d-4c04f731d8da",
   "metadata": {},
   "outputs": [
    {
     "data": {
      "text/html": [
       "<div>\n",
       "<style scoped>\n",
       "    .dataframe tbody tr th:only-of-type {\n",
       "        vertical-align: middle;\n",
       "    }\n",
       "\n",
       "    .dataframe tbody tr th {\n",
       "        vertical-align: top;\n",
       "    }\n",
       "\n",
       "    .dataframe thead th {\n",
       "        text-align: right;\n",
       "    }\n",
       "</style>\n",
       "<table border=\"1\" class=\"dataframe\">\n",
       "  <thead>\n",
       "    <tr style=\"text-align: right;\">\n",
       "      <th></th>\n",
       "      <th>symbolCode</th>\n",
       "      <th>country</th>\n",
       "      <th>currencyName</th>\n",
       "      <th>basePrice</th>\n",
       "    </tr>\n",
       "  </thead>\n",
       "  <tbody>\n",
       "    <tr>\n",
       "      <th>0</th>\n",
       "      <td>FRX.KRWUSD</td>\n",
       "      <td>미국</td>\n",
       "      <td>달러</td>\n",
       "      <td>1321.50</td>\n",
       "    </tr>\n",
       "    <tr>\n",
       "      <th>1</th>\n",
       "      <td>FRX.KRWJPY</td>\n",
       "      <td>일본</td>\n",
       "      <td>엔</td>\n",
       "      <td>910.22</td>\n",
       "    </tr>\n",
       "    <tr>\n",
       "      <th>2</th>\n",
       "      <td>FRX.KRWCNY</td>\n",
       "      <td>중국</td>\n",
       "      <td>위안</td>\n",
       "      <td>181.59</td>\n",
       "    </tr>\n",
       "    <tr>\n",
       "      <th>3</th>\n",
       "      <td>FRX.KRWEUR</td>\n",
       "      <td>유로</td>\n",
       "      <td>유로</td>\n",
       "      <td>1436.80</td>\n",
       "    </tr>\n",
       "    <tr>\n",
       "      <th>4</th>\n",
       "      <td>FRX.KRWGBP</td>\n",
       "      <td>영국</td>\n",
       "      <td>파운드</td>\n",
       "      <td>1681.34</td>\n",
       "    </tr>\n",
       "  </tbody>\n",
       "</table>\n",
       "</div>"
      ],
      "text/plain": [
       "   symbolCode country currencyName  basePrice\n",
       "0  FRX.KRWUSD      미국           달러    1321.50\n",
       "1  FRX.KRWJPY      일본            엔     910.22\n",
       "2  FRX.KRWCNY      중국           위안     181.59\n",
       "3  FRX.KRWEUR      유로           유로    1436.80\n",
       "4  FRX.KRWGBP      영국          파운드    1681.34"
      ]
     },
     "execution_count": 15,
     "metadata": {},
     "output_type": "execute_result"
    }
   ],
   "source": [
    "df = df[['symbolCode', 'country', 'currencyName', 'basePrice']]\n",
    "df.head()"
   ]
  },
  {
   "cell_type": "code",
   "execution_count": 16,
   "id": "6651d00e-456e-42a7-b05d-742aa3a4ca37",
   "metadata": {},
   "outputs": [
    {
     "name": "stdout",
     "output_type": "stream",
     "text": [
      "<class 'pandas.core.frame.DataFrame'>\n",
      "RangeIndex: 42 entries, 0 to 41\n",
      "Data columns (total 4 columns):\n",
      " #   Column        Non-Null Count  Dtype  \n",
      "---  ------        --------------  -----  \n",
      " 0   symbolCode    42 non-null     object \n",
      " 1   country       42 non-null     object \n",
      " 2   currencyName  42 non-null     object \n",
      " 3   basePrice     42 non-null     float64\n",
      "dtypes: float64(1), object(3)\n",
      "memory usage: 1.4+ KB\n"
     ]
    }
   ],
   "source": [
    "df.info()"
   ]
  },
  {
   "cell_type": "code",
   "execution_count": null,
   "id": "f3b0d233-287b-4d19-9683-fc8c699b5783",
   "metadata": {},
   "outputs": [],
   "source": []
  },
  {
   "cell_type": "code",
   "execution_count": null,
   "id": "80cb1196-9585-4fdd-87c2-16214eb2455a",
   "metadata": {},
   "outputs": [],
   "source": []
  },
  {
   "cell_type": "code",
   "execution_count": null,
   "id": "a3659153-9f32-4812-9cf7-396df6fdab60",
   "metadata": {},
   "outputs": [],
   "source": []
  },
  {
   "cell_type": "code",
   "execution_count": null,
   "id": "60340d52-83ac-4b17-bb88-a752fc732397",
   "metadata": {},
   "outputs": [],
   "source": []
  }
 ],
 "metadata": {
  "kernelspec": {
   "display_name": "lecture",
   "language": "python",
   "name": "lecture"
  },
  "language_info": {
   "codemirror_mode": {
    "name": "ipython",
    "version": 3
   },
   "file_extension": ".py",
   "mimetype": "text/x-python",
   "name": "python",
   "nbconvert_exporter": "python",
   "pygments_lexer": "ipython3",
   "version": "3.7.16"
  }
 },
 "nbformat": 4,
 "nbformat_minor": 5
}
