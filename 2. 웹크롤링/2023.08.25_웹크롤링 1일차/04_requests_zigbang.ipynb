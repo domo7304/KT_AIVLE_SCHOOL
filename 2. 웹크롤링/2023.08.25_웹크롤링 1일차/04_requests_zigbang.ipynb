{
 "cells": [
  {
   "cell_type": "markdown",
   "id": "democratic-utility",
   "metadata": {},
   "source": [
    "### Zigbang 원룸 매물 데이터 수집"
   ]
  },
  {
   "cell_type": "code",
   "execution_count": 50,
   "id": "9affefe3",
   "metadata": {},
   "outputs": [],
   "source": [
    "import pandas as pd\n",
    "import requests"
   ]
  },
  {
   "cell_type": "markdown",
   "id": "whole-answer",
   "metadata": {},
   "source": [
    "#### Process\n",
    "    - 동이름으로 위도 경도 구하기\n",
    "    - 위도 경도로 geohash 알아내기\n",
    "    - geohash로 매물 아이디 가져오기\n",
    "    - 매물 아이디로 매물 정보 가져오기"
   ]
  },
  {
   "cell_type": "markdown",
   "id": "b98f0c6c",
   "metadata": {},
   "source": [
    "#### 1. 동이름으로 위도 경도 구하기"
   ]
  },
  {
   "cell_type": "code",
   "execution_count": null,
   "id": "4e8d14a3",
   "metadata": {},
   "outputs": [],
   "source": [
    "url = 'https://apis.zigbang.com/v2/search?leaseYn=N&q=망원동&serviceType=원룸'\n",
    "response = requests.get(url)\n",
    "response"
   ]
  },
  {
   "cell_type": "code",
   "execution_count": null,
   "id": "583c31ef-38f7-4f06-bb9e-5b9b2e1d9b4f",
   "metadata": {},
   "outputs": [],
   "source": [
    "lat = response.json()['items'][0]['lat']\n",
    "lng = response.json()['items'][0]['lng']\n",
    "lat, lng"
   ]
  },
  {
   "cell_type": "markdown",
   "id": "8dfada31",
   "metadata": {},
   "source": [
    "#### 2. 위도 경도로 geohash 알아내기"
   ]
  },
  {
   "cell_type": "code",
   "execution_count": 51,
   "id": "fd6cb9c2-0bba-4f41-9fc7-719639447089",
   "metadata": {},
   "outputs": [],
   "source": [
    "import geohash2"
   ]
  },
  {
   "cell_type": "code",
   "execution_count": null,
   "id": "85524e0d-7772-4773-bb72-f02b524b1d0c",
   "metadata": {},
   "outputs": [],
   "source": [
    "# precision : 영역크기, 커질수록 영역이 작아진다.\n",
    "geohash = geohash2.encode(lat, lng, precision=5)\n",
    "geohash"
   ]
  },
  {
   "cell_type": "markdown",
   "id": "13e8b3f9",
   "metadata": {},
   "source": [
    "#### 3. geohash로 매물 아이디 가져오기"
   ]
  },
  {
   "cell_type": "code",
   "execution_count": null,
   "id": "2ceb8ea4",
   "metadata": {},
   "outputs": [],
   "source": [
    "url = f'https://apis.zigbang.com/v2/items?deposit_gteq=0&domain=zigbang&geohash={geohash}&needHasNoFiltered=true&rent_gteq=0&sales_type_in=전세|월세&service_type_eq=원룸'\n",
    "response = requests.get(url)\n",
    "response"
   ]
  },
  {
   "cell_type": "code",
   "execution_count": null,
   "id": "778f2445-5e87-4f45-be33-19d1fedd20d3",
   "metadata": {},
   "outputs": [],
   "source": [
    "items = response.json()['items']\n",
    "print('전처리 이전')\n",
    "display(items[:5])\n",
    "print('\\n전처리 이후')\n",
    "ids = []\n",
    "for item in items:\n",
    "    ids.append(item['item_id'])\n",
    "len(ids), ids[:5]"
   ]
  },
  {
   "cell_type": "markdown",
   "id": "85225aae",
   "metadata": {},
   "source": [
    "#### 4. 매물 아이디로 매물 정보 가져오기"
   ]
  },
  {
   "cell_type": "code",
   "execution_count": null,
   "id": "0212d892",
   "metadata": {},
   "outputs": [],
   "source": [
    "url = 'https://apis.zigbang.com/v2/items/list'\n",
    "params = {'domain': 'zigbang', 'item_ids': ids}\n",
    "response = requests.post(url, params)\n",
    "response"
   ]
  },
  {
   "cell_type": "code",
   "execution_count": null,
   "id": "38e6a46e-00c0-4661-8a7b-cb7cf7171516",
   "metadata": {},
   "outputs": [],
   "source": [
    "response.json()['items'][0]"
   ]
  },
  {
   "cell_type": "code",
   "execution_count": null,
   "id": "68c749b3-ace7-45be-92c6-bcbd167042f8",
   "metadata": {},
   "outputs": [],
   "source": [
    "# tip : 직방은 요청 id가 1000개를 초과하면 에러가 발생한다.\n",
    "items = response.json()['items']\n",
    "df = pd.DataFrame(items)\n",
    "df.head()"
   ]
  },
  {
   "cell_type": "code",
   "execution_count": null,
   "id": "4290a1d5-f96d-4877-b5f0-7abc11e18fe0",
   "metadata": {},
   "outputs": [],
   "source": [
    "df.columns"
   ]
  },
  {
   "cell_type": "code",
   "execution_count": null,
   "id": "e8f145ba-83ed-4e3f-8b94-aabf9f50d4b5",
   "metadata": {},
   "outputs": [],
   "source": [
    "columns = ['item_id', 'sales_type', 'deposit', 'rent', 'size_m2', \n",
    "           'floor', 'floor_string', 'building_floor', 'title', 'service_type', \n",
    "           'manage_cost', 'address1']\n",
    "df = df[columns]"
   ]
  },
  {
   "cell_type": "code",
   "execution_count": null,
   "id": "ce3729ce-69ce-411c-8658-0179460e72e9",
   "metadata": {},
   "outputs": [],
   "source": [
    "df.head()"
   ]
  },
  {
   "cell_type": "code",
   "execution_count": null,
   "id": "1920a3ca-791c-4136-858b-14c05dcb8867",
   "metadata": {},
   "outputs": [],
   "source": [
    "df = df.loc[df['address1'].str.contains('망원동')]\n",
    "df"
   ]
  },
  {
   "cell_type": "code",
   "execution_count": null,
   "id": "ff988343-1e79-4e36-ae31-27ac6d172c5d",
   "metadata": {},
   "outputs": [],
   "source": [
    "df = df.reset_index(drop=True)\n",
    "df"
   ]
  },
  {
   "cell_type": "markdown",
   "id": "d7800873-ed80-47e8-95e2-359b3bb90aa8",
   "metadata": {},
   "source": [
    "#### 5. 함수화"
   ]
  },
  {
   "cell_type": "code",
   "execution_count": 53,
   "id": "d5582da4-8510-4435-b69a-329e6d8baaef",
   "metadata": {},
   "outputs": [],
   "source": [
    "def oneroom(addr):\n",
    "    # 1. 망원동의 위도, 경도 구하기\n",
    "    url = f'https://apis.zigbang.com/v2/search?leaseYn=N&q={addr}&serviceType=원룸'\n",
    "    response = requests.get(url)\n",
    "    lat = response.json()['items'][0]['lat']\n",
    "    lng = response.json()['items'][0]['lng']\n",
    "    \n",
    "    # 2. geohash 값 구하기\n",
    "    geohash = geohash2.encode(lat, lng, precision=5)\n",
    "    \n",
    "    # 3. geohash 위치의 매물아이디 찾아오기\n",
    "    url = f'https://apis.zigbang.com/v2/items?deposit_gteq=0&domain=zigbang&geohash={geohash}&needHasNoFiltered=true&rent_gteq=0&sales_type_in=전세|월세&service_type_eq=원룸'\n",
    "    response = requests.get(url)\n",
    "    \n",
    "    #4. response 값에서 아이디값만 가져오기\n",
    "    items = response.json()['items']\n",
    "    ids = []\n",
    "    for item in items:\n",
    "        ids.append(item['item_id'])\n",
    "        \n",
    "    #5. 해당 아이디의 매물 정보 가져와서 필요한 데이터 뽑아내기\n",
    "    url = 'https://apis.zigbang.com/v2/items/list'\n",
    "    params = {'domain': 'zigbang', 'item_ids': ids}\n",
    "    response = requests.post(url, params)\n",
    "    \n",
    "    items = response.json()['items']\n",
    "    df = pd.DataFrame(items)\n",
    "    \n",
    "    columns = ['item_id', 'title', 'deposit', 'rent', 'address1', 'size_m2', 'manage_cost']\n",
    "    df = df[columns]\n",
    "    df = df.loc[df['address1'].str.contains(addr)]\n",
    "    return df.reset_index(drop=True)"
   ]
  },
  {
   "cell_type": "code",
   "execution_count": 46,
   "id": "e9d57443-3cdc-4e48-832d-32f9a2986ccb",
   "metadata": {},
   "outputs": [
    {
     "name": "stdout",
     "output_type": "stream",
     "text": [
      "Wall time: 503 ms\n"
     ]
    },
    {
     "data": {
      "text/html": [
       "<div>\n",
       "<style scoped>\n",
       "    .dataframe tbody tr th:only-of-type {\n",
       "        vertical-align: middle;\n",
       "    }\n",
       "\n",
       "    .dataframe tbody tr th {\n",
       "        vertical-align: top;\n",
       "    }\n",
       "\n",
       "    .dataframe thead th {\n",
       "        text-align: right;\n",
       "    }\n",
       "</style>\n",
       "<table border=\"1\" class=\"dataframe\">\n",
       "  <thead>\n",
       "    <tr style=\"text-align: right;\">\n",
       "      <th></th>\n",
       "      <th>item_id</th>\n",
       "      <th>title</th>\n",
       "      <th>deposit</th>\n",
       "      <th>rent</th>\n",
       "      <th>address1</th>\n",
       "      <th>size_m2</th>\n",
       "      <th>manage_cost</th>\n",
       "    </tr>\n",
       "  </thead>\n",
       "  <tbody>\n",
       "    <tr>\n",
       "      <th>0</th>\n",
       "      <td>37582011</td>\n",
       "      <td>합정역3분 이내 보증보험 가능한 신축 투룸</td>\n",
       "      <td>33000</td>\n",
       "      <td>0</td>\n",
       "      <td>서울시 마포구 합정동</td>\n",
       "      <td>35.53</td>\n",
       "      <td>0</td>\n",
       "    </tr>\n",
       "    <tr>\n",
       "      <th>1</th>\n",
       "      <td>37582669</td>\n",
       "      <td>합정역 바로입주, 보증보험 가능한 투룸 전세</td>\n",
       "      <td>33000</td>\n",
       "      <td>0</td>\n",
       "      <td>서울시 마포구 합정동</td>\n",
       "      <td>35.53</td>\n",
       "      <td>8</td>\n",
       "    </tr>\n",
       "    <tr>\n",
       "      <th>2</th>\n",
       "      <td>37587014</td>\n",
       "      <td>HUG신혼부부전세ㅣ안심전세ㅣ보증보험ㅣ합정역 4분ㅣ신축풀옵션</td>\n",
       "      <td>33000</td>\n",
       "      <td>0</td>\n",
       "      <td>서울시 마포구 합정동</td>\n",
       "      <td>35.53</td>\n",
       "      <td>0</td>\n",
       "    </tr>\n",
       "    <tr>\n",
       "      <th>3</th>\n",
       "      <td>37615982</td>\n",
       "      <td>합정역 도보5분 버팀목대출 가능한  2룸신축빌라</td>\n",
       "      <td>30000</td>\n",
       "      <td>0</td>\n",
       "      <td>서울시 마포구 합정동</td>\n",
       "      <td>35.53</td>\n",
       "      <td>8</td>\n",
       "    </tr>\n",
       "    <tr>\n",
       "      <th>4</th>\n",
       "      <td>37699687</td>\n",
       "      <td>v안심전세대출 v보증보험v 합정 코앞 신축 투룸v</td>\n",
       "      <td>33000</td>\n",
       "      <td>0</td>\n",
       "      <td>서울시 마포구 합정동</td>\n",
       "      <td>35.53</td>\n",
       "      <td>0</td>\n",
       "    </tr>\n",
       "  </tbody>\n",
       "</table>\n",
       "</div>"
      ],
      "text/plain": [
       "    item_id                             title  deposit  rent     address1  \\\n",
       "0  37582011           합정역3분 이내 보증보험 가능한 신축 투룸    33000     0  서울시 마포구 합정동   \n",
       "1  37582669          합정역 바로입주, 보증보험 가능한 투룸 전세    33000     0  서울시 마포구 합정동   \n",
       "2  37587014  HUG신혼부부전세ㅣ안심전세ㅣ보증보험ㅣ합정역 4분ㅣ신축풀옵션    33000     0  서울시 마포구 합정동   \n",
       "3  37615982        합정역 도보5분 버팀목대출 가능한  2룸신축빌라    30000     0  서울시 마포구 합정동   \n",
       "4  37699687       v안심전세대출 v보증보험v 합정 코앞 신축 투룸v    33000     0  서울시 마포구 합정동   \n",
       "\n",
       "   size_m2 manage_cost  \n",
       "0    35.53           0  \n",
       "1    35.53           8  \n",
       "2    35.53           0  \n",
       "3    35.53           8  \n",
       "4    35.53           0  "
      ]
     },
     "execution_count": 46,
     "metadata": {},
     "output_type": "execute_result"
    }
   ],
   "source": [
    "%%time\n",
    "result = oneroom('마포구 합정동')\n",
    "result.head()"
   ]
  },
  {
   "cell_type": "code",
   "execution_count": 42,
   "id": "356b8f2c-e95b-41ce-9a70-c241652fb993",
   "metadata": {},
   "outputs": [
    {
     "name": "stdout",
     "output_type": "stream",
     "text": [
      "Variable   Type         Data/Info\n",
      "---------------------------------\n",
      "columns    list         n=12\n",
      "df         DataFrame         item_id sales_type  <...>         1  서울시 마포구 망원동  \n",
      "geohash    str          wydjx\n",
      "geohash2   module       <module 'geohash2' from '<...>\\\\geohash2\\\\__init__.py'>\n",
      "ids        list         n=581\n",
      "item       dict         n=3\n",
      "items      list         n=581\n",
      "lat        float        37.556785583496094\n",
      "lng        float        126.9013442993164\n",
      "oneroom    function     <function oneroom at 0x0000019ADAD21288>\n",
      "params     dict         n=2\n",
      "pd         module       <module 'pandas' from 'C:<...>es\\\\pandas\\\\__init__.py'>\n",
      "requests   module       <module 'requests' from '<...>\\\\requests\\\\__init__.py'>\n",
      "response   Response     <Response [200]>\n",
      "url        str          https://apis.zigbang.com/v2/items/list\n"
     ]
    }
   ],
   "source": [
    "%whos"
   ]
  },
  {
   "cell_type": "code",
   "execution_count": 48,
   "id": "5a784169-d03f-4cfc-a0dc-d190978c1b20",
   "metadata": {},
   "outputs": [
    {
     "name": "stdin",
     "output_type": "stream",
     "text": [
      "Once deleted, variables cannot be recovered. Proceed (y/[n])?  y\n"
     ]
    }
   ],
   "source": [
    "%reset"
   ]
  },
  {
   "cell_type": "code",
   "execution_count": 49,
   "id": "494e4ef4-33b2-461a-922a-38495318200f",
   "metadata": {},
   "outputs": [
    {
     "name": "stdout",
     "output_type": "stream",
     "text": [
      "Interactive namespace is empty.\n"
     ]
    }
   ],
   "source": [
    "%whos"
   ]
  },
  {
   "cell_type": "code",
   "execution_count": 52,
   "id": "b74ef969-7484-43f0-8e3f-668338027e90",
   "metadata": {},
   "outputs": [
    {
     "name": "stdout",
     "output_type": "stream",
     "text": [
      "Variable   Type      Data/Info\n",
      "------------------------------\n",
      "geohash2   module    <module 'geohash2' from '<...>\\\\geohash2\\\\__init__.py'>\n",
      "pd         module    <module 'pandas' from 'C:<...>es\\\\pandas\\\\__init__.py'>\n",
      "requests   module    <module 'requests' from '<...>\\\\requests\\\\__init__.py'>\n"
     ]
    }
   ],
   "source": [
    "%whos"
   ]
  },
  {
   "cell_type": "code",
   "execution_count": 54,
   "id": "ea0d8cac-8966-4169-a3cf-1a9f7ef01d61",
   "metadata": {},
   "outputs": [
    {
     "name": "stdout",
     "output_type": "stream",
     "text": [
      "Variable   Type        Data/Info\n",
      "--------------------------------\n",
      "geohash2   module      <module 'geohash2' from '<...>\\\\geohash2\\\\__init__.py'>\n",
      "oneroom    function    <function oneroom at 0x0000019ADA94A948>\n",
      "pd         module      <module 'pandas' from 'C:<...>es\\\\pandas\\\\__init__.py'>\n",
      "requests   module      <module 'requests' from '<...>\\\\requests\\\\__init__.py'>\n"
     ]
    }
   ],
   "source": [
    "%whos"
   ]
  },
  {
   "cell_type": "code",
   "execution_count": 55,
   "id": "b278278f-0d0c-4957-8b3d-454e6df316bc",
   "metadata": {},
   "outputs": [
    {
     "name": "stdout",
     "output_type": "stream",
     "text": [
      "Wall time: 848 ms\n"
     ]
    },
    {
     "data": {
      "text/html": [
       "<div>\n",
       "<style scoped>\n",
       "    .dataframe tbody tr th:only-of-type {\n",
       "        vertical-align: middle;\n",
       "    }\n",
       "\n",
       "    .dataframe tbody tr th {\n",
       "        vertical-align: top;\n",
       "    }\n",
       "\n",
       "    .dataframe thead th {\n",
       "        text-align: right;\n",
       "    }\n",
       "</style>\n",
       "<table border=\"1\" class=\"dataframe\">\n",
       "  <thead>\n",
       "    <tr style=\"text-align: right;\">\n",
       "      <th></th>\n",
       "      <th>item_id</th>\n",
       "      <th>title</th>\n",
       "      <th>deposit</th>\n",
       "      <th>rent</th>\n",
       "      <th>address1</th>\n",
       "      <th>size_m2</th>\n",
       "      <th>manage_cost</th>\n",
       "    </tr>\n",
       "  </thead>\n",
       "  <tbody>\n",
       "    <tr>\n",
       "      <th>0</th>\n",
       "      <td>37582011</td>\n",
       "      <td>합정역3분 이내 보증보험 가능한 신축 투룸</td>\n",
       "      <td>33000</td>\n",
       "      <td>0</td>\n",
       "      <td>서울시 마포구 합정동</td>\n",
       "      <td>35.53</td>\n",
       "      <td>0</td>\n",
       "    </tr>\n",
       "    <tr>\n",
       "      <th>1</th>\n",
       "      <td>37582669</td>\n",
       "      <td>합정역 바로입주, 보증보험 가능한 투룸 전세</td>\n",
       "      <td>33000</td>\n",
       "      <td>0</td>\n",
       "      <td>서울시 마포구 합정동</td>\n",
       "      <td>35.53</td>\n",
       "      <td>8</td>\n",
       "    </tr>\n",
       "    <tr>\n",
       "      <th>2</th>\n",
       "      <td>37587014</td>\n",
       "      <td>HUG신혼부부전세ㅣ안심전세ㅣ보증보험ㅣ합정역 4분ㅣ신축풀옵션</td>\n",
       "      <td>33000</td>\n",
       "      <td>0</td>\n",
       "      <td>서울시 마포구 합정동</td>\n",
       "      <td>35.53</td>\n",
       "      <td>0</td>\n",
       "    </tr>\n",
       "    <tr>\n",
       "      <th>3</th>\n",
       "      <td>37615982</td>\n",
       "      <td>합정역 도보5분 버팀목대출 가능한  2룸신축빌라</td>\n",
       "      <td>30000</td>\n",
       "      <td>0</td>\n",
       "      <td>서울시 마포구 합정동</td>\n",
       "      <td>35.53</td>\n",
       "      <td>8</td>\n",
       "    </tr>\n",
       "    <tr>\n",
       "      <th>4</th>\n",
       "      <td>37699687</td>\n",
       "      <td>v안심전세대출 v보증보험v 합정 코앞 신축 투룸v</td>\n",
       "      <td>33000</td>\n",
       "      <td>0</td>\n",
       "      <td>서울시 마포구 합정동</td>\n",
       "      <td>35.53</td>\n",
       "      <td>0</td>\n",
       "    </tr>\n",
       "  </tbody>\n",
       "</table>\n",
       "</div>"
      ],
      "text/plain": [
       "    item_id                             title  deposit  rent     address1  \\\n",
       "0  37582011           합정역3분 이내 보증보험 가능한 신축 투룸    33000     0  서울시 마포구 합정동   \n",
       "1  37582669          합정역 바로입주, 보증보험 가능한 투룸 전세    33000     0  서울시 마포구 합정동   \n",
       "2  37587014  HUG신혼부부전세ㅣ안심전세ㅣ보증보험ㅣ합정역 4분ㅣ신축풀옵션    33000     0  서울시 마포구 합정동   \n",
       "3  37615982        합정역 도보5분 버팀목대출 가능한  2룸신축빌라    30000     0  서울시 마포구 합정동   \n",
       "4  37699687       v안심전세대출 v보증보험v 합정 코앞 신축 투룸v    33000     0  서울시 마포구 합정동   \n",
       "\n",
       "   size_m2 manage_cost  \n",
       "0    35.53           0  \n",
       "1    35.53           8  \n",
       "2    35.53           0  \n",
       "3    35.53           8  \n",
       "4    35.53           0  "
      ]
     },
     "execution_count": 55,
     "metadata": {},
     "output_type": "execute_result"
    }
   ],
   "source": [
    "%%time\n",
    "result = oneroom('마포구 합정동')\n",
    "result.head()"
   ]
  },
  {
   "cell_type": "code",
   "execution_count": 56,
   "id": "0462e34e-c5e8-453a-a1d9-ea4936ec969b",
   "metadata": {},
   "outputs": [
    {
     "name": "stdout",
     "output_type": "stream",
     "text": [
      "Variable   Type         Data/Info\n",
      "---------------------------------\n",
      "geohash2   module       <module 'geohash2' from '<...>\\\\geohash2\\\\__init__.py'>\n",
      "oneroom    function     <function oneroom at 0x0000019ADA94A948>\n",
      "pd         module       <module 'pandas' from 'C:<...>es\\\\pandas\\\\__init__.py'>\n",
      "requests   module       <module 'requests' from '<...>\\\\requests\\\\__init__.py'>\n",
      "result     DataFrame         item_id             <...>\\n\\n[65 rows x 7 columns]\n"
     ]
    }
   ],
   "source": [
    "%whos"
   ]
  },
  {
   "cell_type": "markdown",
   "id": "fbd96e0c-5520-4ae8-b4ba-80e8c3a768a9",
   "metadata": {},
   "source": [
    "#### 6. 모듈화"
   ]
  },
  {
   "cell_type": "code",
   "execution_count": 57,
   "id": "6caa6db8-da25-47b0-8dde-5b37eda75fa0",
   "metadata": {},
   "outputs": [
    {
     "name": "stdout",
     "output_type": "stream",
     "text": [
      "Writing zigbang.py\n"
     ]
    }
   ],
   "source": [
    "%%writefile zigbang.py\n",
    "import pandas as pd\n",
    "import requests\n",
    "import geohash2\n",
    "\n",
    "def oneroom(addr):\n",
    "    # 1. 망원동의 위도, 경도 구하기\n",
    "    url = f'https://apis.zigbang.com/v2/search?leaseYn=N&q={addr}&serviceType=원룸'\n",
    "    response = requests.get(url)\n",
    "    lat = response.json()['items'][0]['lat']\n",
    "    lng = response.json()['items'][0]['lng']\n",
    "    \n",
    "    # 2. geohash 값 구하기\n",
    "    geohash = geohash2.encode(lat, lng, precision=5)\n",
    "    \n",
    "    # 3. geohash 위치의 매물아이디 찾아오기\n",
    "    url = f'https://apis.zigbang.com/v2/items?deposit_gteq=0&domain=zigbang&geohash={geohash}&needHasNoFiltered=true&rent_gteq=0&sales_type_in=전세|월세&service_type_eq=원룸'\n",
    "    response = requests.get(url)\n",
    "    \n",
    "    #4. response 값에서 아이디값만 가져오기\n",
    "    items = response.json()['items']\n",
    "    ids = []\n",
    "    for item in items:\n",
    "        ids.append(item['item_id'])\n",
    "        \n",
    "    #5. 해당 아이디의 매물 정보 가져와서 필요한 데이터 뽑아내기\n",
    "    url = 'https://apis.zigbang.com/v2/items/list'\n",
    "    params = {'domain': 'zigbang', 'item_ids': ids}\n",
    "    response = requests.post(url, params)\n",
    "    \n",
    "    items = response.json()['items']\n",
    "    df = pd.DataFrame(items)\n",
    "    \n",
    "    columns = ['item_id', 'title', 'deposit', 'rent', 'address1', 'size_m2', 'manage_cost']\n",
    "    df = df[columns]\n",
    "    df = df.loc[df['address1'].str.contains(addr)]\n",
    "    return df.reset_index(drop=True)"
   ]
  },
  {
   "cell_type": "code",
   "execution_count": null,
   "id": "01ff1e96-9161-49df-8734-0d57c872c04f",
   "metadata": {},
   "outputs": [],
   "source": []
  }
 ],
 "metadata": {
  "kernelspec": {
   "display_name": "lecture",
   "language": "python",
   "name": "lecture"
  },
  "language_info": {
   "codemirror_mode": {
    "name": "ipython",
    "version": 3
   },
   "file_extension": ".py",
   "mimetype": "text/x-python",
   "name": "python",
   "nbconvert_exporter": "python",
   "pygments_lexer": "ipython3",
   "version": "3.7.16"
  },
  "toc": {
   "base_numbering": 1,
   "nav_menu": {},
   "number_sections": false,
   "sideBar": true,
   "skip_h1_title": false,
   "title_cell": "Table of Contents",
   "title_sidebar": "Contents",
   "toc_cell": false,
   "toc_position": {},
   "toc_section_display": true,
   "toc_window_display": false
  }
 },
 "nbformat": 4,
 "nbformat_minor": 5
}
