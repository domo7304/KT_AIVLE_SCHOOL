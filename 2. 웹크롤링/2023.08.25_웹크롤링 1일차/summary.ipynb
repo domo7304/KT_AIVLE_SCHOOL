{
 "cells": [
  {
   "cell_type": "markdown",
   "id": "35c85f23-beb0-468a-8b1e-c0158a7f5e99",
   "metadata": {},
   "source": [
    "#### 1. class 복습"
   ]
  },
  {
   "cell_type": "code",
   "execution_count": 2,
   "id": "c679e6cf-b22d-469b-ba62-afcd21d65148",
   "metadata": {},
   "outputs": [],
   "source": [
    "# class\n",
    "# - 변수, 함수를 묶어서 코드 작성 및 실행\n",
    "# - 객체지향 구현\n",
    "# - 클래스 선언(코드작성) > 객체생성(메모리할당) > 메서드 실행(코드실행)\n",
    "# - 컨벤션 : PascalCase\n",
    "# - class, self, __init__(), \n",
    "# - 클래스는 사용자 정의 데이터타입이다.\n",
    "# - 데이터타입에 따라 사용가능한 변수와 메서드가 다르다.\n",
    "# - dir() : 객체의 메서드, 변수 목록 출력"
   ]
  },
  {
   "cell_type": "code",
   "execution_count": 25,
   "id": "e0e4e5f4-2d1b-4188-a9f3-ffa6f802620a",
   "metadata": {},
   "outputs": [],
   "source": [
    "# 클래스선언 : 코드 작성\n",
    "# 스타크래프트 Marine : health=40, attack=5, attack(target)\n",
    "class Marine:\n",
    "    \n",
    "    def __init__(self, health=40, ap=5):\n",
    "        self.health = health\n",
    "        self.ap = ap\n",
    "    \n",
    "    def attack(self, target):\n",
    "        target.health -= self.ap\n",
    "        if target.health < 0 :\n",
    "            target.health = 0            "
   ]
  },
  {
   "cell_type": "code",
   "execution_count": 26,
   "id": "76c859ba-fc21-400e-b227-52f8fe533d79",
   "metadata": {},
   "outputs": [
    {
     "data": {
      "text/plain": [
       "(40, 5, 60, 7)"
      ]
     },
     "execution_count": 26,
     "metadata": {},
     "output_type": "execute_result"
    }
   ],
   "source": [
    "# 객체생성 : 메모리 사용\n",
    "m1 = Marine()\n",
    "m2 = Marine(60, 7)\n",
    "m1.health, m1.ap, m2.health, m2.ap"
   ]
  },
  {
   "cell_type": "code",
   "execution_count": 27,
   "id": "e505a8de-4e24-423b-a8c0-1989a054cd16",
   "metadata": {},
   "outputs": [
    {
     "data": {
      "text/plain": [
       "(33, 5, 55, 7)"
      ]
     },
     "execution_count": 27,
     "metadata": {},
     "output_type": "execute_result"
    }
   ],
   "source": [
    "# 메서드실행 : 코드실행\n",
    "m1.attack(m2)\n",
    "m2.attack(m1)\n",
    "m1.health, m1.ap, m2.health, m2.ap"
   ]
  },
  {
   "cell_type": "code",
   "execution_count": 23,
   "id": "59eaae52-d1d2-48d4-bdb2-1ff6e07c1cee",
   "metadata": {},
   "outputs": [
    {
     "data": {
      "text/plain": [
       "(-2, 5, 55, 7)"
      ]
     },
     "execution_count": 23,
     "metadata": {},
     "output_type": "execute_result"
    }
   ],
   "source": [
    "for _ in range(5):\n",
    "    m2.attack(m1)\n",
    "m1.health, m1.ap, m2.health, m2.ap"
   ]
  },
  {
   "cell_type": "code",
   "execution_count": 28,
   "id": "41866408-3853-41a6-a422-5c5a399d7d4a",
   "metadata": {},
   "outputs": [
    {
     "data": {
      "text/plain": [
       "(0, 5, 55, 7)"
      ]
     },
     "execution_count": 28,
     "metadata": {},
     "output_type": "execute_result"
    }
   ],
   "source": [
    "# health가 음수로 내려갈 수는 없기 때문에 메소드 수정\n",
    "for _ in range(5):\n",
    "    m2.attack(m1)\n",
    "m1.health, m1.ap, m2.health, m2.ap"
   ]
  },
  {
   "cell_type": "code",
   "execution_count": null,
   "id": "889100ee-8186-4565-a6f9-8012ab9e8b7c",
   "metadata": {},
   "outputs": [],
   "source": []
  }
 ],
 "metadata": {
  "kernelspec": {
   "display_name": "lecture",
   "language": "python",
   "name": "lecture"
  },
  "language_info": {
   "codemirror_mode": {
    "name": "ipython",
    "version": 3
   },
   "file_extension": ".py",
   "mimetype": "text/x-python",
   "name": "python",
   "nbconvert_exporter": "python",
   "pygments_lexer": "ipython3",
   "version": "3.7.16"
  }
 },
 "nbformat": 4,
 "nbformat_minor": 5
}
