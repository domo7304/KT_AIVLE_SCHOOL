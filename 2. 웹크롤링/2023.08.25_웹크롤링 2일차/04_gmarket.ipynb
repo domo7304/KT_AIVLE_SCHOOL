{
 "cells": [
  {
   "cell_type": "markdown",
   "id": "eb136fd8",
   "metadata": {},
   "source": [
    "### Gmarket\n",
    "- 베스트 상품 200개 데이터 수집\n",
    "- 상품의 이미지 200개 다운로드"
   ]
  },
  {
   "cell_type": "code",
   "execution_count": 84,
   "id": "ed7b6956-d328-4b59-8ce7-ddd2dad2c7a7",
   "metadata": {},
   "outputs": [],
   "source": [
    "import numpy as np\n",
    "import pandas as pd\n",
    "import requests\n",
    "from bs4 import BeautifulSoup"
   ]
  },
  {
   "cell_type": "markdown",
   "id": "d0aec417",
   "metadata": {},
   "source": [
    "#### 1. URL 찾기"
   ]
  },
  {
   "cell_type": "code",
   "execution_count": 2,
   "id": "2677ed34",
   "metadata": {},
   "outputs": [],
   "source": [
    "url = 'https://www.gmarket.co.kr/n/best?jaehuid=200001169'"
   ]
  },
  {
   "cell_type": "markdown",
   "id": "ba6511ba",
   "metadata": {},
   "source": [
    "#### 2. request > response : str(html)"
   ]
  },
  {
   "cell_type": "code",
   "execution_count": 3,
   "id": "4001ce14",
   "metadata": {},
   "outputs": [
    {
     "data": {
      "text/plain": [
       "<Response [200]>"
      ]
     },
     "execution_count": 3,
     "metadata": {},
     "output_type": "execute_result"
    }
   ],
   "source": [
    "response = requests.get(url)\n",
    "response"
   ]
  },
  {
   "cell_type": "code",
   "execution_count": 4,
   "id": "e03bb5f8-d37e-48f6-be8a-03a42b5cdda4",
   "metadata": {},
   "outputs": [
    {
     "data": {
      "text/plain": [
       "'<!DOCTYPE html><html lang=\"ko\" class=\"no-js\"><head><meta name=\"viewport\" content=\"width=980\"/><meta '"
      ]
     },
     "execution_count": 4,
     "metadata": {},
     "output_type": "execute_result"
    }
   ],
   "source": [
    "response.text[:100]"
   ]
  },
  {
   "cell_type": "markdown",
   "id": "7ca93942",
   "metadata": {},
   "source": [
    "#### 3. bs > DataFrame"
   ]
  },
  {
   "cell_type": "code",
   "execution_count": 12,
   "id": "96388ef3-103b-44ff-af05-a58a46f6b46f",
   "metadata": {},
   "outputs": [],
   "source": [
    "dom = BeautifulSoup(response.text, 'html.parser')"
   ]
  },
  {
   "cell_type": "code",
   "execution_count": 17,
   "id": "cf4aab14",
   "metadata": {},
   "outputs": [
    {
     "data": {
      "text/plain": [
       "200"
      ]
     },
     "execution_count": 17,
     "metadata": {},
     "output_type": "execute_result"
    }
   ],
   "source": [
    "# elements = dom.select('.best-list > ul > li') 이렇게 눈으로 보고 할 수도 있고\n",
    "# elements = dom.select('#gBestWrap > div.best-list > ul > li') chrome 개발자도구 해당 element에서\n",
    "# 우클릭 -> Copy -> copy selector로 할 수도 있다.\n",
    "elements = dom.select('.best-list > ul > li')\n",
    "len(elements)"
   ]
  },
  {
   "cell_type": "code",
   "execution_count": 26,
   "id": "167afc8d-24e0-4556-a54d-c15f76ff72fc",
   "metadata": {},
   "outputs": [],
   "source": [
    "element = elements[0]"
   ]
  },
  {
   "cell_type": "code",
   "execution_count": 36,
   "id": "8220b802-2cc9-45ed-befc-ad4922ab0cf4",
   "metadata": {},
   "outputs": [
    {
     "data": {
      "text/plain": [
       "{'title': '네추럴라이즈 키즈 멀티비타민 C/D 60꾸미 3종 3병',\n",
       " 'link': 'http://item.gmarket.co.kr/Item?goodscode=3113057185&ver=20230825',\n",
       " 'img': 'https://gdimg.gmarket.co.kr/3113057185/still/300?ver=20230825',\n",
       " 'o_price': '정가22,900원',\n",
       " 's_price': '할인가21,760원'}"
      ]
     },
     "execution_count": 36,
     "metadata": {},
     "output_type": "execute_result"
    }
   ],
   "source": [
    "data = {\n",
    "    'title': element.select_one('.itemname').text,\n",
    "    'link': element.select_one('.itemname').get('href'),\n",
    "    'img': 'https:'+ element.select_one('.image__lazy').get('src'),\n",
    "    'o_price': element.select_one('.o-price').text,\n",
    "    's_price': element.select_one('.s-price').text.split(' ')[0],\n",
    "}\n",
    "\n",
    "data"
   ]
  },
  {
   "cell_type": "code",
   "execution_count": 38,
   "id": "abce5519-3374-4a50-8421-eb5f7747fc9d",
   "metadata": {},
   "outputs": [
    {
     "data": {
      "text/plain": [
       "[{'title': '네추럴라이즈 키즈 멀티비타민 C/D 60꾸미 3종 3병',\n",
       "  'link': 'http://item.gmarket.co.kr/Item?goodscode=3113057185&ver=20230825',\n",
       "  'img': 'https://gdimg.gmarket.co.kr/3113057185/still/300?ver=20230825',\n",
       "  'o_price': '정가22,900원',\n",
       "  's_price': '할인가21,760원'},\n",
       " {'title': '[CGV](CGV) G마켓 예매권(금요특가_8/25)',\n",
       "  'link': 'http://item.gmarket.co.kr/Item?goodscode=3075338164&ver=20230825',\n",
       "  'img': 'https://gdimg.gmarket.co.kr/3075338164/still/300?ver=20230825',\n",
       "  'o_price': '정가15,000원',\n",
       "  's_price': '할인가9,980원'}]"
      ]
     },
     "execution_count": 38,
     "metadata": {},
     "output_type": "execute_result"
    }
   ],
   "source": [
    "items = []\n",
    "for element in elements:\n",
    "    items.append({\n",
    "        'title': element.select_one('.itemname').text,\n",
    "        'link': element.select_one('.itemname').get('href'),\n",
    "        'img': 'https:'+ element.select_one('.image__lazy').get('src'),\n",
    "        'o_price': element.select_one('.o-price').text,\n",
    "        's_price': element.select_one('.s-price').text.split(' ')[0],\n",
    "    })\n",
    "\n",
    "items[:2]"
   ]
  },
  {
   "cell_type": "code",
   "execution_count": 39,
   "id": "a9f349f6-769b-4e6d-be48-31cda18ec54a",
   "metadata": {},
   "outputs": [
    {
     "data": {
      "text/html": [
       "<div>\n",
       "<style scoped>\n",
       "    .dataframe tbody tr th:only-of-type {\n",
       "        vertical-align: middle;\n",
       "    }\n",
       "\n",
       "    .dataframe tbody tr th {\n",
       "        vertical-align: top;\n",
       "    }\n",
       "\n",
       "    .dataframe thead th {\n",
       "        text-align: right;\n",
       "    }\n",
       "</style>\n",
       "<table border=\"1\" class=\"dataframe\">\n",
       "  <thead>\n",
       "    <tr style=\"text-align: right;\">\n",
       "      <th></th>\n",
       "      <th>title</th>\n",
       "      <th>link</th>\n",
       "      <th>img</th>\n",
       "      <th>o_price</th>\n",
       "      <th>s_price</th>\n",
       "    </tr>\n",
       "  </thead>\n",
       "  <tbody>\n",
       "    <tr>\n",
       "      <th>0</th>\n",
       "      <td>네추럴라이즈 키즈 멀티비타민 C/D 60꾸미 3종 3병</td>\n",
       "      <td>http://item.gmarket.co.kr/Item?goodscode=31130...</td>\n",
       "      <td>https://gdimg.gmarket.co.kr/3113057185/still/3...</td>\n",
       "      <td>정가22,900원</td>\n",
       "      <td>할인가21,760원</td>\n",
       "    </tr>\n",
       "    <tr>\n",
       "      <th>1</th>\n",
       "      <td>[CGV](CGV) G마켓 예매권(금요특가_8/25)</td>\n",
       "      <td>http://item.gmarket.co.kr/Item?goodscode=30753...</td>\n",
       "      <td>https://gdimg.gmarket.co.kr/3075338164/still/3...</td>\n",
       "      <td>정가15,000원</td>\n",
       "      <td>할인가9,980원</td>\n",
       "    </tr>\n",
       "    <tr>\n",
       "      <th>2</th>\n",
       "      <td>나이키 뉴발란스 스우시 6팩 크루삭스 운동 스포츠양말</td>\n",
       "      <td>http://item.gmarket.co.kr/Item?goodscode=21052...</td>\n",
       "      <td>https://gdimg.gmarket.co.kr/2105251652/still/3...</td>\n",
       "      <td>정가25,800원</td>\n",
       "      <td>할인가12,900원</td>\n",
       "    </tr>\n",
       "    <tr>\n",
       "      <th>3</th>\n",
       "      <td>[팸퍼스]팸퍼스 아르모니 팬티형 5단계(20X4)</td>\n",
       "      <td>http://item.gmarket.co.kr/Item?goodscode=22199...</td>\n",
       "      <td>https://gdimg.gmarket.co.kr/2219928058/still/3...</td>\n",
       "      <td></td>\n",
       "      <td>할인가45,900원</td>\n",
       "    </tr>\n",
       "    <tr>\n",
       "      <th>4</th>\n",
       "      <td>(특가) 우리 아기 첫 영어사전 First 100 Collection 전5권 세트 ...</td>\n",
       "      <td>http://item.gmarket.co.kr/Item?goodscode=31395...</td>\n",
       "      <td>https://gdimg.gmarket.co.kr/3139517831/still/3...</td>\n",
       "      <td>정가325,000원</td>\n",
       "      <td>할인가144,900원</td>\n",
       "    </tr>\n",
       "  </tbody>\n",
       "</table>\n",
       "</div>"
      ],
      "text/plain": [
       "                                               title  \\\n",
       "0                     네추럴라이즈 키즈 멀티비타민 C/D 60꾸미 3종 3병   \n",
       "1                      [CGV](CGV) G마켓 예매권(금요특가_8/25)   \n",
       "2                      나이키 뉴발란스 스우시 6팩 크루삭스 운동 스포츠양말   \n",
       "3                        [팸퍼스]팸퍼스 아르모니 팬티형 5단계(20X4)   \n",
       "4  (특가) 우리 아기 첫 영어사전 First 100 Collection 전5권 세트 ...   \n",
       "\n",
       "                                                link  \\\n",
       "0  http://item.gmarket.co.kr/Item?goodscode=31130...   \n",
       "1  http://item.gmarket.co.kr/Item?goodscode=30753...   \n",
       "2  http://item.gmarket.co.kr/Item?goodscode=21052...   \n",
       "3  http://item.gmarket.co.kr/Item?goodscode=22199...   \n",
       "4  http://item.gmarket.co.kr/Item?goodscode=31395...   \n",
       "\n",
       "                                                 img     o_price      s_price  \n",
       "0  https://gdimg.gmarket.co.kr/3113057185/still/3...   정가22,900원   할인가21,760원  \n",
       "1  https://gdimg.gmarket.co.kr/3075338164/still/3...   정가15,000원    할인가9,980원  \n",
       "2  https://gdimg.gmarket.co.kr/2105251652/still/3...   정가25,800원   할인가12,900원  \n",
       "3  https://gdimg.gmarket.co.kr/2219928058/still/3...               할인가45,900원  \n",
       "4  https://gdimg.gmarket.co.kr/3139517831/still/3...  정가325,000원  할인가144,900원  "
      ]
     },
     "execution_count": 39,
     "metadata": {},
     "output_type": "execute_result"
    }
   ],
   "source": [
    "df = pd.DataFrame(items)\n",
    "df.head()"
   ]
  },
  {
   "cell_type": "code",
   "execution_count": 41,
   "id": "747df95f-a4d5-4653-9c93-82101c60eccc",
   "metadata": {},
   "outputs": [
    {
     "data": {
      "text/html": [
       "<div>\n",
       "<style scoped>\n",
       "    .dataframe tbody tr th:only-of-type {\n",
       "        vertical-align: middle;\n",
       "    }\n",
       "\n",
       "    .dataframe tbody tr th {\n",
       "        vertical-align: top;\n",
       "    }\n",
       "\n",
       "    .dataframe thead th {\n",
       "        text-align: right;\n",
       "    }\n",
       "</style>\n",
       "<table border=\"1\" class=\"dataframe\">\n",
       "  <thead>\n",
       "    <tr style=\"text-align: right;\">\n",
       "      <th></th>\n",
       "      <th>o_price</th>\n",
       "      <th>s_price</th>\n",
       "    </tr>\n",
       "  </thead>\n",
       "  <tbody>\n",
       "    <tr>\n",
       "      <th>0</th>\n",
       "      <td>정가22,900원</td>\n",
       "      <td>할인가21,760원</td>\n",
       "    </tr>\n",
       "    <tr>\n",
       "      <th>1</th>\n",
       "      <td>정가15,000원</td>\n",
       "      <td>할인가9,980원</td>\n",
       "    </tr>\n",
       "    <tr>\n",
       "      <th>2</th>\n",
       "      <td>정가25,800원</td>\n",
       "      <td>할인가12,900원</td>\n",
       "    </tr>\n",
       "    <tr>\n",
       "      <th>3</th>\n",
       "      <td></td>\n",
       "      <td>할인가45,900원</td>\n",
       "    </tr>\n",
       "    <tr>\n",
       "      <th>4</th>\n",
       "      <td>정가325,000원</td>\n",
       "      <td>할인가144,900원</td>\n",
       "    </tr>\n",
       "  </tbody>\n",
       "</table>\n",
       "</div>"
      ],
      "text/plain": [
       "      o_price      s_price\n",
       "0   정가22,900원   할인가21,760원\n",
       "1   정가15,000원    할인가9,980원\n",
       "2   정가25,800원   할인가12,900원\n",
       "3               할인가45,900원\n",
       "4  정가325,000원  할인가144,900원"
      ]
     },
     "execution_count": 41,
     "metadata": {},
     "output_type": "execute_result"
    }
   ],
   "source": [
    "df[['o_price', 's_price']].head()"
   ]
  },
  {
   "cell_type": "code",
   "execution_count": 86,
   "id": "0f31a674-0698-4b69-9592-7cb0280f7a4a",
   "metadata": {},
   "outputs": [],
   "source": [
    "def change_number_o_price(data):\n",
    "    return data.replace(',', '')[2:-1]"
   ]
  },
  {
   "cell_type": "code",
   "execution_count": 87,
   "id": "6cd21444-aad6-4403-97c4-cc4764accfb9",
   "metadata": {},
   "outputs": [],
   "source": [
    "def change_number_s_price(data):\n",
    "    return data.replace(',', '')[3:-1]"
   ]
  },
  {
   "cell_type": "code",
   "execution_count": 88,
   "id": "0277d83c-27ff-4181-b281-f4ac1f20b019",
   "metadata": {},
   "outputs": [],
   "source": [
    "df1 = df.copy()"
   ]
  },
  {
   "cell_type": "code",
   "execution_count": 89,
   "id": "f2c112cb-f318-4dc0-ad64-3648042e8a9b",
   "metadata": {},
   "outputs": [
    {
     "data": {
      "text/html": [
       "<div>\n",
       "<style scoped>\n",
       "    .dataframe tbody tr th:only-of-type {\n",
       "        vertical-align: middle;\n",
       "    }\n",
       "\n",
       "    .dataframe tbody tr th {\n",
       "        vertical-align: top;\n",
       "    }\n",
       "\n",
       "    .dataframe thead th {\n",
       "        text-align: right;\n",
       "    }\n",
       "</style>\n",
       "<table border=\"1\" class=\"dataframe\">\n",
       "  <thead>\n",
       "    <tr style=\"text-align: right;\">\n",
       "      <th></th>\n",
       "      <th>title</th>\n",
       "      <th>link</th>\n",
       "      <th>img</th>\n",
       "      <th>o_price</th>\n",
       "      <th>s_price</th>\n",
       "    </tr>\n",
       "  </thead>\n",
       "  <tbody>\n",
       "    <tr>\n",
       "      <th>0</th>\n",
       "      <td>네추럴라이즈 키즈 멀티비타민 C/D 60꾸미 3종 3병</td>\n",
       "      <td>http://item.gmarket.co.kr/Item?goodscode=31130...</td>\n",
       "      <td>https://gdimg.gmarket.co.kr/3113057185/still/3...</td>\n",
       "      <td>22900</td>\n",
       "      <td>21760</td>\n",
       "    </tr>\n",
       "    <tr>\n",
       "      <th>1</th>\n",
       "      <td>[CGV](CGV) G마켓 예매권(금요특가_8/25)</td>\n",
       "      <td>http://item.gmarket.co.kr/Item?goodscode=30753...</td>\n",
       "      <td>https://gdimg.gmarket.co.kr/3075338164/still/3...</td>\n",
       "      <td>15000</td>\n",
       "      <td>9980</td>\n",
       "    </tr>\n",
       "    <tr>\n",
       "      <th>2</th>\n",
       "      <td>나이키 뉴발란스 스우시 6팩 크루삭스 운동 스포츠양말</td>\n",
       "      <td>http://item.gmarket.co.kr/Item?goodscode=21052...</td>\n",
       "      <td>https://gdimg.gmarket.co.kr/2105251652/still/3...</td>\n",
       "      <td>25800</td>\n",
       "      <td>12900</td>\n",
       "    </tr>\n",
       "    <tr>\n",
       "      <th>3</th>\n",
       "      <td>[팸퍼스]팸퍼스 아르모니 팬티형 5단계(20X4)</td>\n",
       "      <td>http://item.gmarket.co.kr/Item?goodscode=22199...</td>\n",
       "      <td>https://gdimg.gmarket.co.kr/2219928058/still/3...</td>\n",
       "      <td></td>\n",
       "      <td>45900</td>\n",
       "    </tr>\n",
       "    <tr>\n",
       "      <th>4</th>\n",
       "      <td>(특가) 우리 아기 첫 영어사전 First 100 Collection 전5권 세트 ...</td>\n",
       "      <td>http://item.gmarket.co.kr/Item?goodscode=31395...</td>\n",
       "      <td>https://gdimg.gmarket.co.kr/3139517831/still/3...</td>\n",
       "      <td>325000</td>\n",
       "      <td>144900</td>\n",
       "    </tr>\n",
       "  </tbody>\n",
       "</table>\n",
       "</div>"
      ],
      "text/plain": [
       "                                               title  \\\n",
       "0                     네추럴라이즈 키즈 멀티비타민 C/D 60꾸미 3종 3병   \n",
       "1                      [CGV](CGV) G마켓 예매권(금요특가_8/25)   \n",
       "2                      나이키 뉴발란스 스우시 6팩 크루삭스 운동 스포츠양말   \n",
       "3                        [팸퍼스]팸퍼스 아르모니 팬티형 5단계(20X4)   \n",
       "4  (특가) 우리 아기 첫 영어사전 First 100 Collection 전5권 세트 ...   \n",
       "\n",
       "                                                link  \\\n",
       "0  http://item.gmarket.co.kr/Item?goodscode=31130...   \n",
       "1  http://item.gmarket.co.kr/Item?goodscode=30753...   \n",
       "2  http://item.gmarket.co.kr/Item?goodscode=21052...   \n",
       "3  http://item.gmarket.co.kr/Item?goodscode=22199...   \n",
       "4  http://item.gmarket.co.kr/Item?goodscode=31395...   \n",
       "\n",
       "                                                 img o_price s_price  \n",
       "0  https://gdimg.gmarket.co.kr/3113057185/still/3...   22900   21760  \n",
       "1  https://gdimg.gmarket.co.kr/3075338164/still/3...   15000    9980  \n",
       "2  https://gdimg.gmarket.co.kr/2105251652/still/3...   25800   12900  \n",
       "3  https://gdimg.gmarket.co.kr/2219928058/still/3...           45900  \n",
       "4  https://gdimg.gmarket.co.kr/3139517831/still/3...  325000  144900  "
      ]
     },
     "execution_count": 89,
     "metadata": {},
     "output_type": "execute_result"
    }
   ],
   "source": [
    "df1['o_price'] = df1['o_price'].apply(change_number_o_price)\n",
    "df1['s_price'] = df1['s_price'].apply(change_number_s_price)\n",
    "df1.head()"
   ]
  },
  {
   "cell_type": "code",
   "execution_count": 90,
   "id": "6e642012-68a0-41dc-917f-f8a0c2e80b8a",
   "metadata": {},
   "outputs": [
    {
     "data": {
      "text/html": [
       "<div>\n",
       "<style scoped>\n",
       "    .dataframe tbody tr th:only-of-type {\n",
       "        vertical-align: middle;\n",
       "    }\n",
       "\n",
       "    .dataframe tbody tr th {\n",
       "        vertical-align: top;\n",
       "    }\n",
       "\n",
       "    .dataframe thead th {\n",
       "        text-align: right;\n",
       "    }\n",
       "</style>\n",
       "<table border=\"1\" class=\"dataframe\">\n",
       "  <thead>\n",
       "    <tr style=\"text-align: right;\">\n",
       "      <th></th>\n",
       "      <th>title</th>\n",
       "      <th>link</th>\n",
       "      <th>img</th>\n",
       "      <th>o_price</th>\n",
       "      <th>s_price</th>\n",
       "    </tr>\n",
       "  </thead>\n",
       "  <tbody>\n",
       "    <tr>\n",
       "      <th>0</th>\n",
       "      <td>네추럴라이즈 키즈 멀티비타민 C/D 60꾸미 3종 3병</td>\n",
       "      <td>http://item.gmarket.co.kr/Item?goodscode=31130...</td>\n",
       "      <td>https://gdimg.gmarket.co.kr/3113057185/still/3...</td>\n",
       "      <td>22900</td>\n",
       "      <td>21760</td>\n",
       "    </tr>\n",
       "    <tr>\n",
       "      <th>1</th>\n",
       "      <td>[CGV](CGV) G마켓 예매권(금요특가_8/25)</td>\n",
       "      <td>http://item.gmarket.co.kr/Item?goodscode=30753...</td>\n",
       "      <td>https://gdimg.gmarket.co.kr/3075338164/still/3...</td>\n",
       "      <td>15000</td>\n",
       "      <td>9980</td>\n",
       "    </tr>\n",
       "    <tr>\n",
       "      <th>2</th>\n",
       "      <td>나이키 뉴발란스 스우시 6팩 크루삭스 운동 스포츠양말</td>\n",
       "      <td>http://item.gmarket.co.kr/Item?goodscode=21052...</td>\n",
       "      <td>https://gdimg.gmarket.co.kr/2105251652/still/3...</td>\n",
       "      <td>25800</td>\n",
       "      <td>12900</td>\n",
       "    </tr>\n",
       "    <tr>\n",
       "      <th>3</th>\n",
       "      <td>[팸퍼스]팸퍼스 아르모니 팬티형 5단계(20X4)</td>\n",
       "      <td>http://item.gmarket.co.kr/Item?goodscode=22199...</td>\n",
       "      <td>https://gdimg.gmarket.co.kr/2219928058/still/3...</td>\n",
       "      <td>45900</td>\n",
       "      <td>45900</td>\n",
       "    </tr>\n",
       "    <tr>\n",
       "      <th>4</th>\n",
       "      <td>(특가) 우리 아기 첫 영어사전 First 100 Collection 전5권 세트 ...</td>\n",
       "      <td>http://item.gmarket.co.kr/Item?goodscode=31395...</td>\n",
       "      <td>https://gdimg.gmarket.co.kr/3139517831/still/3...</td>\n",
       "      <td>325000</td>\n",
       "      <td>144900</td>\n",
       "    </tr>\n",
       "  </tbody>\n",
       "</table>\n",
       "</div>"
      ],
      "text/plain": [
       "                                               title  \\\n",
       "0                     네추럴라이즈 키즈 멀티비타민 C/D 60꾸미 3종 3병   \n",
       "1                      [CGV](CGV) G마켓 예매권(금요특가_8/25)   \n",
       "2                      나이키 뉴발란스 스우시 6팩 크루삭스 운동 스포츠양말   \n",
       "3                        [팸퍼스]팸퍼스 아르모니 팬티형 5단계(20X4)   \n",
       "4  (특가) 우리 아기 첫 영어사전 First 100 Collection 전5권 세트 ...   \n",
       "\n",
       "                                                link  \\\n",
       "0  http://item.gmarket.co.kr/Item?goodscode=31130...   \n",
       "1  http://item.gmarket.co.kr/Item?goodscode=30753...   \n",
       "2  http://item.gmarket.co.kr/Item?goodscode=21052...   \n",
       "3  http://item.gmarket.co.kr/Item?goodscode=22199...   \n",
       "4  http://item.gmarket.co.kr/Item?goodscode=31395...   \n",
       "\n",
       "                                                 img o_price s_price  \n",
       "0  https://gdimg.gmarket.co.kr/3113057185/still/3...   22900   21760  \n",
       "1  https://gdimg.gmarket.co.kr/3075338164/still/3...   15000    9980  \n",
       "2  https://gdimg.gmarket.co.kr/2105251652/still/3...   25800   12900  \n",
       "3  https://gdimg.gmarket.co.kr/2219928058/still/3...   45900   45900  \n",
       "4  https://gdimg.gmarket.co.kr/3139517831/still/3...  325000  144900  "
      ]
     },
     "execution_count": 90,
     "metadata": {},
     "output_type": "execute_result"
    }
   ],
   "source": [
    "df1.loc[df1['o_price'] == '', 'o_price'] = df1['s_price']\n",
    "df1.head()"
   ]
  },
  {
   "cell_type": "code",
   "execution_count": 92,
   "id": "44212930-018e-4548-822e-5b3299a4c89c",
   "metadata": {},
   "outputs": [
    {
     "data": {
      "text/plain": [
       "title      object\n",
       "link       object\n",
       "img        object\n",
       "o_price     int32\n",
       "s_price     int32\n",
       "dtype: object"
      ]
     },
     "execution_count": 92,
     "metadata": {},
     "output_type": "execute_result"
    }
   ],
   "source": [
    "df1['o_price'] = df1['o_price'].astype('int')\n",
    "df1['s_price'] = df1['s_price'].astype('int')\n",
    "df1.dtypes"
   ]
  },
  {
   "cell_type": "code",
   "execution_count": 93,
   "id": "b26da12d-32af-4b01-8e26-b717c9a06763",
   "metadata": {},
   "outputs": [
    {
     "data": {
      "text/html": [
       "<div>\n",
       "<style scoped>\n",
       "    .dataframe tbody tr th:only-of-type {\n",
       "        vertical-align: middle;\n",
       "    }\n",
       "\n",
       "    .dataframe tbody tr th {\n",
       "        vertical-align: top;\n",
       "    }\n",
       "\n",
       "    .dataframe thead th {\n",
       "        text-align: right;\n",
       "    }\n",
       "</style>\n",
       "<table border=\"1\" class=\"dataframe\">\n",
       "  <thead>\n",
       "    <tr style=\"text-align: right;\">\n",
       "      <th></th>\n",
       "      <th>title</th>\n",
       "      <th>link</th>\n",
       "      <th>img</th>\n",
       "      <th>o_price</th>\n",
       "      <th>s_price</th>\n",
       "    </tr>\n",
       "  </thead>\n",
       "  <tbody>\n",
       "    <tr>\n",
       "      <th>0</th>\n",
       "      <td>네추럴라이즈 키즈 멀티비타민 C/D 60꾸미 3종 3병</td>\n",
       "      <td>http://item.gmarket.co.kr/Item?goodscode=31130...</td>\n",
       "      <td>https://gdimg.gmarket.co.kr/3113057185/still/3...</td>\n",
       "      <td>22900</td>\n",
       "      <td>21760</td>\n",
       "    </tr>\n",
       "    <tr>\n",
       "      <th>1</th>\n",
       "      <td>[CGV](CGV) G마켓 예매권(금요특가_8/25)</td>\n",
       "      <td>http://item.gmarket.co.kr/Item?goodscode=30753...</td>\n",
       "      <td>https://gdimg.gmarket.co.kr/3075338164/still/3...</td>\n",
       "      <td>15000</td>\n",
       "      <td>9980</td>\n",
       "    </tr>\n",
       "    <tr>\n",
       "      <th>2</th>\n",
       "      <td>나이키 뉴발란스 스우시 6팩 크루삭스 운동 스포츠양말</td>\n",
       "      <td>http://item.gmarket.co.kr/Item?goodscode=21052...</td>\n",
       "      <td>https://gdimg.gmarket.co.kr/2105251652/still/3...</td>\n",
       "      <td>25800</td>\n",
       "      <td>12900</td>\n",
       "    </tr>\n",
       "    <tr>\n",
       "      <th>3</th>\n",
       "      <td>[팸퍼스]팸퍼스 아르모니 팬티형 5단계(20X4)</td>\n",
       "      <td>http://item.gmarket.co.kr/Item?goodscode=22199...</td>\n",
       "      <td>https://gdimg.gmarket.co.kr/2219928058/still/3...</td>\n",
       "      <td>45900</td>\n",
       "      <td>45900</td>\n",
       "    </tr>\n",
       "    <tr>\n",
       "      <th>4</th>\n",
       "      <td>(특가) 우리 아기 첫 영어사전 First 100 Collection 전5권 세트 ...</td>\n",
       "      <td>http://item.gmarket.co.kr/Item?goodscode=31395...</td>\n",
       "      <td>https://gdimg.gmarket.co.kr/3139517831/still/3...</td>\n",
       "      <td>325000</td>\n",
       "      <td>144900</td>\n",
       "    </tr>\n",
       "  </tbody>\n",
       "</table>\n",
       "</div>"
      ],
      "text/plain": [
       "                                               title  \\\n",
       "0                     네추럴라이즈 키즈 멀티비타민 C/D 60꾸미 3종 3병   \n",
       "1                      [CGV](CGV) G마켓 예매권(금요특가_8/25)   \n",
       "2                      나이키 뉴발란스 스우시 6팩 크루삭스 운동 스포츠양말   \n",
       "3                        [팸퍼스]팸퍼스 아르모니 팬티형 5단계(20X4)   \n",
       "4  (특가) 우리 아기 첫 영어사전 First 100 Collection 전5권 세트 ...   \n",
       "\n",
       "                                                link  \\\n",
       "0  http://item.gmarket.co.kr/Item?goodscode=31130...   \n",
       "1  http://item.gmarket.co.kr/Item?goodscode=30753...   \n",
       "2  http://item.gmarket.co.kr/Item?goodscode=21052...   \n",
       "3  http://item.gmarket.co.kr/Item?goodscode=22199...   \n",
       "4  http://item.gmarket.co.kr/Item?goodscode=31395...   \n",
       "\n",
       "                                                 img  o_price  s_price  \n",
       "0  https://gdimg.gmarket.co.kr/3113057185/still/3...    22900    21760  \n",
       "1  https://gdimg.gmarket.co.kr/3075338164/still/3...    15000     9980  \n",
       "2  https://gdimg.gmarket.co.kr/2105251652/still/3...    25800    12900  \n",
       "3  https://gdimg.gmarket.co.kr/2219928058/still/3...    45900    45900  \n",
       "4  https://gdimg.gmarket.co.kr/3139517831/still/3...   325000   144900  "
      ]
     },
     "execution_count": 93,
     "metadata": {},
     "output_type": "execute_result"
    }
   ],
   "source": [
    "df1.head()"
   ]
  },
  {
   "cell_type": "code",
   "execution_count": 94,
   "id": "acd4c1fe-cab3-4a9a-a1d2-d4ddd3f4e68f",
   "metadata": {},
   "outputs": [
    {
     "data": {
      "text/html": [
       "<div>\n",
       "<style scoped>\n",
       "    .dataframe tbody tr th:only-of-type {\n",
       "        vertical-align: middle;\n",
       "    }\n",
       "\n",
       "    .dataframe tbody tr th {\n",
       "        vertical-align: top;\n",
       "    }\n",
       "\n",
       "    .dataframe thead th {\n",
       "        text-align: right;\n",
       "    }\n",
       "</style>\n",
       "<table border=\"1\" class=\"dataframe\">\n",
       "  <thead>\n",
       "    <tr style=\"text-align: right;\">\n",
       "      <th></th>\n",
       "      <th>title</th>\n",
       "      <th>link</th>\n",
       "      <th>img</th>\n",
       "      <th>o_price</th>\n",
       "      <th>s_price</th>\n",
       "      <th>discount_rate</th>\n",
       "    </tr>\n",
       "  </thead>\n",
       "  <tbody>\n",
       "    <tr>\n",
       "      <th>0</th>\n",
       "      <td>네추럴라이즈 키즈 멀티비타민 C/D 60꾸미 3종 3병</td>\n",
       "      <td>http://item.gmarket.co.kr/Item?goodscode=31130...</td>\n",
       "      <td>https://gdimg.gmarket.co.kr/3113057185/still/3...</td>\n",
       "      <td>22900</td>\n",
       "      <td>21760</td>\n",
       "      <td>4.98</td>\n",
       "    </tr>\n",
       "    <tr>\n",
       "      <th>1</th>\n",
       "      <td>[CGV](CGV) G마켓 예매권(금요특가_8/25)</td>\n",
       "      <td>http://item.gmarket.co.kr/Item?goodscode=30753...</td>\n",
       "      <td>https://gdimg.gmarket.co.kr/3075338164/still/3...</td>\n",
       "      <td>15000</td>\n",
       "      <td>9980</td>\n",
       "      <td>33.47</td>\n",
       "    </tr>\n",
       "    <tr>\n",
       "      <th>2</th>\n",
       "      <td>나이키 뉴발란스 스우시 6팩 크루삭스 운동 스포츠양말</td>\n",
       "      <td>http://item.gmarket.co.kr/Item?goodscode=21052...</td>\n",
       "      <td>https://gdimg.gmarket.co.kr/2105251652/still/3...</td>\n",
       "      <td>25800</td>\n",
       "      <td>12900</td>\n",
       "      <td>50.00</td>\n",
       "    </tr>\n",
       "    <tr>\n",
       "      <th>3</th>\n",
       "      <td>[팸퍼스]팸퍼스 아르모니 팬티형 5단계(20X4)</td>\n",
       "      <td>http://item.gmarket.co.kr/Item?goodscode=22199...</td>\n",
       "      <td>https://gdimg.gmarket.co.kr/2219928058/still/3...</td>\n",
       "      <td>45900</td>\n",
       "      <td>45900</td>\n",
       "      <td>0.00</td>\n",
       "    </tr>\n",
       "    <tr>\n",
       "      <th>4</th>\n",
       "      <td>(특가) 우리 아기 첫 영어사전 First 100 Collection 전5권 세트 ...</td>\n",
       "      <td>http://item.gmarket.co.kr/Item?goodscode=31395...</td>\n",
       "      <td>https://gdimg.gmarket.co.kr/3139517831/still/3...</td>\n",
       "      <td>325000</td>\n",
       "      <td>144900</td>\n",
       "      <td>55.42</td>\n",
       "    </tr>\n",
       "  </tbody>\n",
       "</table>\n",
       "</div>"
      ],
      "text/plain": [
       "                                               title  \\\n",
       "0                     네추럴라이즈 키즈 멀티비타민 C/D 60꾸미 3종 3병   \n",
       "1                      [CGV](CGV) G마켓 예매권(금요특가_8/25)   \n",
       "2                      나이키 뉴발란스 스우시 6팩 크루삭스 운동 스포츠양말   \n",
       "3                        [팸퍼스]팸퍼스 아르모니 팬티형 5단계(20X4)   \n",
       "4  (특가) 우리 아기 첫 영어사전 First 100 Collection 전5권 세트 ...   \n",
       "\n",
       "                                                link  \\\n",
       "0  http://item.gmarket.co.kr/Item?goodscode=31130...   \n",
       "1  http://item.gmarket.co.kr/Item?goodscode=30753...   \n",
       "2  http://item.gmarket.co.kr/Item?goodscode=21052...   \n",
       "3  http://item.gmarket.co.kr/Item?goodscode=22199...   \n",
       "4  http://item.gmarket.co.kr/Item?goodscode=31395...   \n",
       "\n",
       "                                                 img  o_price  s_price  \\\n",
       "0  https://gdimg.gmarket.co.kr/3113057185/still/3...    22900    21760   \n",
       "1  https://gdimg.gmarket.co.kr/3075338164/still/3...    15000     9980   \n",
       "2  https://gdimg.gmarket.co.kr/2105251652/still/3...    25800    12900   \n",
       "3  https://gdimg.gmarket.co.kr/2219928058/still/3...    45900    45900   \n",
       "4  https://gdimg.gmarket.co.kr/3139517831/still/3...   325000   144900   \n",
       "\n",
       "   discount_rate  \n",
       "0           4.98  \n",
       "1          33.47  \n",
       "2          50.00  \n",
       "3           0.00  \n",
       "4          55.42  "
      ]
     },
     "execution_count": 94,
     "metadata": {},
     "output_type": "execute_result"
    }
   ],
   "source": [
    "# 할인율 column 추가\n",
    "df1['discount_rate'] = np.round((1 - df1['s_price'] / df1['o_price']) * 100, 2)\n",
    "df1.head()"
   ]
  },
  {
   "cell_type": "code",
   "execution_count": 95,
   "id": "fbfb1e91-c316-48c3-8f32-e564e439aa93",
   "metadata": {},
   "outputs": [
    {
     "data": {
      "text/plain": [
       "title             object\n",
       "link              object\n",
       "img               object\n",
       "o_price            int32\n",
       "s_price            int32\n",
       "discount_rate    float64\n",
       "dtype: object"
      ]
     },
     "execution_count": 95,
     "metadata": {},
     "output_type": "execute_result"
    }
   ],
   "source": [
    "df1.dtypes"
   ]
  },
  {
   "cell_type": "markdown",
   "id": "3aa5186a",
   "metadata": {},
   "source": [
    "#### 4. download image"
   ]
  },
  {
   "cell_type": "code",
   "execution_count": 104,
   "id": "f1d4a3ef",
   "metadata": {},
   "outputs": [],
   "source": [
    "df2 = df1.copy()"
   ]
  },
  {
   "cell_type": "code",
   "execution_count": 105,
   "id": "f51ad0bd-ff41-4e8e-9fe9-cb46ab52f329",
   "metadata": {},
   "outputs": [
    {
     "data": {
      "text/html": [
       "<div>\n",
       "<style scoped>\n",
       "    .dataframe tbody tr th:only-of-type {\n",
       "        vertical-align: middle;\n",
       "    }\n",
       "\n",
       "    .dataframe tbody tr th {\n",
       "        vertical-align: top;\n",
       "    }\n",
       "\n",
       "    .dataframe thead th {\n",
       "        text-align: right;\n",
       "    }\n",
       "</style>\n",
       "<table border=\"1\" class=\"dataframe\">\n",
       "  <thead>\n",
       "    <tr style=\"text-align: right;\">\n",
       "      <th></th>\n",
       "      <th>title</th>\n",
       "      <th>img</th>\n",
       "    </tr>\n",
       "  </thead>\n",
       "  <tbody>\n",
       "    <tr>\n",
       "      <th>0</th>\n",
       "      <td>네추럴라이즈 키즈 멀티비타민 C/D 60꾸미 3종 3병</td>\n",
       "      <td>https://gdimg.gmarket.co.kr/3113057185/still/3...</td>\n",
       "    </tr>\n",
       "    <tr>\n",
       "      <th>1</th>\n",
       "      <td>[CGV](CGV) G마켓 예매권(금요특가_8/25)</td>\n",
       "      <td>https://gdimg.gmarket.co.kr/3075338164/still/3...</td>\n",
       "    </tr>\n",
       "    <tr>\n",
       "      <th>2</th>\n",
       "      <td>나이키 뉴발란스 스우시 6팩 크루삭스 운동 스포츠양말</td>\n",
       "      <td>https://gdimg.gmarket.co.kr/2105251652/still/3...</td>\n",
       "    </tr>\n",
       "    <tr>\n",
       "      <th>3</th>\n",
       "      <td>[팸퍼스]팸퍼스 아르모니 팬티형 5단계(20X4)</td>\n",
       "      <td>https://gdimg.gmarket.co.kr/2219928058/still/3...</td>\n",
       "    </tr>\n",
       "    <tr>\n",
       "      <th>4</th>\n",
       "      <td>(특가) 우리 아기 첫 영어사전 First 100 Collection 전5권 세트 ...</td>\n",
       "      <td>https://gdimg.gmarket.co.kr/3139517831/still/3...</td>\n",
       "    </tr>\n",
       "  </tbody>\n",
       "</table>\n",
       "</div>"
      ],
      "text/plain": [
       "                                               title  \\\n",
       "0                     네추럴라이즈 키즈 멀티비타민 C/D 60꾸미 3종 3병   \n",
       "1                      [CGV](CGV) G마켓 예매권(금요특가_8/25)   \n",
       "2                      나이키 뉴발란스 스우시 6팩 크루삭스 운동 스포츠양말   \n",
       "3                        [팸퍼스]팸퍼스 아르모니 팬티형 5단계(20X4)   \n",
       "4  (특가) 우리 아기 첫 영어사전 First 100 Collection 전5권 세트 ...   \n",
       "\n",
       "                                                 img  \n",
       "0  https://gdimg.gmarket.co.kr/3113057185/still/3...  \n",
       "1  https://gdimg.gmarket.co.kr/3075338164/still/3...  \n",
       "2  https://gdimg.gmarket.co.kr/2105251652/still/3...  \n",
       "3  https://gdimg.gmarket.co.kr/2219928058/still/3...  \n",
       "4  https://gdimg.gmarket.co.kr/3139517831/still/3...  "
      ]
     },
     "execution_count": 105,
     "metadata": {},
     "output_type": "execute_result"
    }
   ],
   "source": [
    "df2 = df2[['title', 'img']]\n",
    "df2.head()"
   ]
  },
  {
   "cell_type": "code",
   "execution_count": 101,
   "id": "f2840141-7777-4c1d-a59a-31813f1a02fc",
   "metadata": {},
   "outputs": [],
   "source": [
    "import os\n",
    "dname = 'imgs'\n",
    "if not os.path.exists(dname):\n",
    "    os.makedirs(dname)"
   ]
  },
  {
   "cell_type": "code",
   "execution_count": 107,
   "id": "f60cab8e-a1c3-4554-bbd5-8d31cc12292c",
   "metadata": {},
   "outputs": [
    {
     "data": {
      "text/plain": [
       "'https://gdimg.gmarket.co.kr/3113057185/still/300?ver=20230825'"
      ]
     },
     "execution_count": 107,
     "metadata": {},
     "output_type": "execute_result"
    }
   ],
   "source": [
    "link = df2.loc[0, 'img']\n",
    "link"
   ]
  },
  {
   "cell_type": "code",
   "execution_count": 108,
   "id": "9858895d-b8fa-495c-bfd8-e8c7c52397d3",
   "metadata": {},
   "outputs": [
    {
     "data": {
      "text/plain": [
       "<Response [200]>"
      ]
     },
     "execution_count": 108,
     "metadata": {},
     "output_type": "execute_result"
    }
   ],
   "source": [
    "response = requests.get(link)\n",
    "response"
   ]
  },
  {
   "cell_type": "code",
   "execution_count": 109,
   "id": "9d6eb572-40f5-43b4-8c78-3e3470575533",
   "metadata": {},
   "outputs": [
    {
     "data": {
      "text/plain": [
       "\"����\\x00\\x10JFIF\\x00\\x01\\x01\\x00\\x00\\x01\\x00\\x01\\x00\\x00��\\x00C\\x00\\x06\\x04\\x05\\x06\\x05\\x04\\x06\\x06\\x05\\x06\\x07\\x07\\x06\\x08\\n\\x10\\n\\n\\t\\t\\n\\x14\\x0e\\x0f\\x0c\\x10\\x17\\x14\\x18\\x18\\x17\\x14\\x16\\x16\\x1a\\x1d%\\x1f\\x1a\\x1b#\\x1c\\x16\\x16 , #&')*)\\x19\\x1f-0-(0%()(��\\x00C\\x01\\x07\\x07\\x07\\n\\x08\\n\""
      ]
     },
     "execution_count": 109,
     "metadata": {},
     "output_type": "execute_result"
    }
   ],
   "source": [
    "response.text[:100]"
   ]
  },
  {
   "cell_type": "code",
   "execution_count": 110,
   "id": "05363f0f-5b52-47ae-9ca1-26171382a407",
   "metadata": {},
   "outputs": [],
   "source": [
    "with open(f'{dname}/test.png', 'wb') as file:\n",
    "    file.write(response.content)"
   ]
  },
  {
   "cell_type": "code",
   "execution_count": 111,
   "id": "e67d3a56-0234-427e-8373-f636c60687d4",
   "metadata": {},
   "outputs": [],
   "source": [
    "from PIL import Image as pil"
   ]
  },
  {
   "cell_type": "code",
   "execution_count": 112,
   "id": "9ea0e95a-ca09-425c-8dad-de8b1b52b3aa",
   "metadata": {},
   "outputs": [
    {
     "data": {
      "image/png": "[encoded data removed]",
      "text/plain": [
       "<PIL.JpegImagePlugin.JpegImageFile image mode=RGB size=300x300>"
      ]
     },
     "execution_count": 112,
     "metadata": {},
     "output_type": "execute_result"
    }
   ],
   "source": [
    "pil.open(f'{dname}/test.png')"
   ]
  },
  {
   "cell_type": "code",
   "execution_count": 116,
   "id": "59e0cbdf-e261-4909-9dda-47c69eaae9d1",
   "metadata": {},
   "outputs": [
    {
     "name": "stdout",
     "output_type": "stream",
     "text": [
      "0 https://gdimg.gmarket.co.kr/3113057185/still/300?ver=20230825\n",
      "1 https://gdimg.gmarket.co.kr/3075338164/still/300?ver=20230825\n",
      "2 https://gdimg.gmarket.co.kr/2105251652/still/300?ver=20230825\n",
      "3 https://gdimg.gmarket.co.kr/2219928058/still/300?ver=20230825\n",
      "4 https://gdimg.gmarket.co.kr/3139517831/still/300?ver=20230825\n"
     ]
    }
   ],
   "source": [
    "for idx, data in df2[:5].iterrows(): \n",
    "    print(idx, data['img']) \n",
    "    response = requests.get(data['img']) \n",
    "    with open(f'{dname}/{idx}.png', 'wb') as file: \n",
    "        file.write(response.content)"
   ]
  },
  {
   "cell_type": "code",
   "execution_count": null,
   "id": "c0df8171-8bed-498d-9ceb-cfbb83c68494",
   "metadata": {},
   "outputs": [],
   "source": [
    "pil.open(f'{dname}/test.png')"
   ]
  }
 ],
 "metadata": {
  "kernelspec": {
   "display_name": "lecture",
   "language": "python",
   "name": "lecture"
  },
  "language_info": {
   "codemirror_mode": {
    "name": "ipython",
    "version": 3
   },
   "file_extension": ".py",
   "mimetype": "text/x-python",
   "name": "python",
   "nbconvert_exporter": "python",
   "pygments_lexer": "ipython3",
   "version": "3.7.16"
  },
  "toc": {
   "base_numbering": 1,
   "nav_menu": {},
   "number_sections": false,
   "sideBar": true,
   "skip_h1_title": false,
   "title_cell": "Table of Contents",
   "title_sidebar": "Contents",
   "toc_cell": false,
   "toc_position": {},
   "toc_section_display": true,
   "toc_window_display": false
  }
 },
 "nbformat": 4,
 "nbformat_minor": 5
}
