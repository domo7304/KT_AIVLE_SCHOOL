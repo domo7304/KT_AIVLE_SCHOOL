{
 "cells": [
  {
   "cell_type": "markdown",
   "id": "2f46af77",
   "metadata": {},
   "source": [
    "### 네이버 연관 검색어 수집\n",
    "- 정적(static) 웹페이지 데이터 수집 \n",
    "- BeautifulSoup을 이용하여 HTML 문자열 데이터 parsing"
   ]
  },
  {
   "cell_type": "code",
   "execution_count": 1,
   "id": "73e13c1f-8b6a-4d41-9eeb-b8e26634953a",
   "metadata": {},
   "outputs": [],
   "source": [
    "import pandas as pd\n",
    "import requests\n",
    "from bs4 import BeautifulSoup"
   ]
  },
  {
   "cell_type": "markdown",
   "id": "16030538",
   "metadata": {},
   "source": [
    "#### 1. 웹페이지 분석 : URL"
   ]
  },
  {
   "cell_type": "code",
   "execution_count": 2,
   "id": "c1581d54",
   "metadata": {},
   "outputs": [
    {
     "data": {
      "text/plain": [
       "'https://search.naver.com/search.naver?query=삼성전자'"
      ]
     },
     "execution_count": 2,
     "metadata": {},
     "output_type": "execute_result"
    }
   ],
   "source": [
    "query = '삼성전자'\n",
    "url = f'https://search.naver.com/search.naver?query={query}'\n",
    "url"
   ]
  },
  {
   "cell_type": "markdown",
   "id": "56e6ea93",
   "metadata": {},
   "source": [
    "#### 2. request(URL) > response : str(html)"
   ]
  },
  {
   "cell_type": "code",
   "execution_count": 3,
   "id": "ceda1c7b",
   "metadata": {},
   "outputs": [
    {
     "data": {
      "text/plain": [
       "<Response [200]>"
      ]
     },
     "execution_count": 3,
     "metadata": {},
     "output_type": "execute_result"
    }
   ],
   "source": [
    "response = requests.get(url)\n",
    "response"
   ]
  },
  {
   "cell_type": "code",
   "execution_count": 6,
   "id": "dff09a61-2ef3-40ae-bb4b-70fecbe8a39f",
   "metadata": {},
   "outputs": [
    {
     "data": {
      "text/plain": [
       "'<!doctype html> <html lang=\"ko\"><head> <meta charset=\"utf-8\"> <meta name=\"referrer\" content=\"always\">  <meta name=\"format-detection\" content=\"telephone=no,address=no,email=no\"> <meta name=\"viewport\" c'"
      ]
     },
     "execution_count": 6,
     "metadata": {},
     "output_type": "execute_result"
    }
   ],
   "source": [
    "response.text[:200] # html이 잘 가져와졌음을 확인할 수 있음"
   ]
  },
  {
   "cell_type": "markdown",
   "id": "1e2acb8e",
   "metadata": {},
   "source": [
    "#### 3. str(html) > bs object"
   ]
  },
  {
   "cell_type": "code",
   "execution_count": 7,
   "id": "8736bc68",
   "metadata": {},
   "outputs": [
    {
     "data": {
      "text/plain": [
       "bs4.BeautifulSoup"
      ]
     },
     "execution_count": 7,
     "metadata": {},
     "output_type": "execute_result"
    }
   ],
   "source": [
    "dom = BeautifulSoup(response.text, 'html.parser')\n",
    "type(dom)"
   ]
  },
  {
   "cell_type": "markdown",
   "id": "252cf193",
   "metadata": {},
   "source": [
    "#### 4. bs object > .select(css-selector), .select_one(css-selector) > str(text)"
   ]
  },
  {
   "cell_type": "code",
   "execution_count": null,
   "id": "525c3274",
   "metadata": {},
   "outputs": [],
   "source": [
    "dir(dom)"
   ]
  },
  {
   "cell_type": "code",
   "execution_count": 11,
   "id": "caa30f42-6320-4fcd-bb92-b97dd9e52586",
   "metadata": {},
   "outputs": [
    {
     "name": "stdout",
     "output_type": "stream",
     "text": [
      "Help on method select_one in module bs4.element:\n",
      "\n",
      "select_one(selector, namespaces=None, **kwargs) method of bs4.BeautifulSoup instance\n",
      "    Perform a CSS selection operation on the current element.\n",
      "    \n",
      "    :param selector: A CSS selector.\n",
      "    \n",
      "    :param namespaces: A dictionary mapping namespace prefixes\n",
      "       used in the CSS selector to namespace URIs. By default,\n",
      "       Beautiful Soup will use the prefixes it encountered while\n",
      "       parsing the document.\n",
      "    \n",
      "    :param kwargs: Keyword arguments to be passed into SoupSieve's \n",
      "       soupsieve.select() method.\n",
      "    \n",
      "    :return: A Tag.\n",
      "    :rtype: bs4.element.Tag\n",
      "\n"
     ]
    }
   ],
   "source": [
    "help(dom.select_one)"
   ]
  },
  {
   "cell_type": "code",
   "execution_count": 12,
   "id": "75b78c79-4de2-4026-9f6e-af7bd52e22c1",
   "metadata": {},
   "outputs": [
    {
     "data": {
      "text/plain": [
       "123"
      ]
     },
     "execution_count": 12,
     "metadata": {},
     "output_type": "execute_result"
    }
   ],
   "source": [
    "# 우리가 원하는 element만 가져올 수 있는지 일단 확인\n",
    "elements = dom.select('.item')\n",
    "len(elements)"
   ]
  },
  {
   "cell_type": "code",
   "execution_count": 15,
   "id": "5937155a-4bc7-4db5-acf9-98062fb2ba65",
   "metadata": {},
   "outputs": [
    {
     "data": {
      "text/plain": [
       "10"
      ]
     },
     "execution_count": 15,
     "metadata": {},
     "output_type": "execute_result"
    }
   ],
   "source": [
    "# item 이라는 클래스는 우리가 원하는 연관검색어 10개 말고도 더 많음을 알았으니\n",
    "# 한 단계 위에 있는 element 선택 후, 그 하위의 item 클래스 선택\n",
    "elements = dom.select('.lst_related_srch > .item')\n",
    "len(elements)"
   ]
  },
  {
   "cell_type": "code",
   "execution_count": 17,
   "id": "65224e42-d109-4de8-b72f-bb7046d6d04e",
   "metadata": {},
   "outputs": [
    {
     "data": {
      "text/plain": [
       "[<li class=\"item\"> <a class=\"keyword\" href=\"?where=nexearch&amp;query=%EC%82%BC%EC%84%B1%EC%A0%84%EC%9E%90%EC%A3%BC%EA%B0%80&amp;ie=utf8&amp;sm=tab_she&amp;qdt=0\" onclick=\"return goOtherCR(this, 'a=rsk_top*q.list1&amp;r=1&amp;u=' + urlencode(this.href))\"> <div class=\"tit\">삼성전자주가</div> </a> </li>,\n",
       " <li class=\"item\"> <a class=\"keyword\" href=\"?where=nexearch&amp;query=%EC%82%BC%EC%84%B1%EC%A0%84%EC%9E%90+%EB%B0%B0%EB%8B%B9%EA%B8%88&amp;ie=utf8&amp;sm=tab_she&amp;qdt=0\" onclick=\"return goOtherCR(this, 'a=rsk_top*a.list1&amp;r=2&amp;u=' + urlencode(this.href))\"> <div class=\"tit\">삼성전자 배당금</div> </a> </li>,\n",
       " <li class=\"item\"> <a class=\"keyword\" href=\"?where=nexearch&amp;query=%EC%82%BC%EC%84%B1%EC%A0%84%EC%9E%90%EC%84%9C%EB%B9%84%EC%8A%A4&amp;ie=utf8&amp;sm=tab_she&amp;qdt=0\" onclick=\"return goOtherCR(this, 'a=rsk_top*a.list1&amp;r=3&amp;u=' + urlencode(this.href))\"> <div class=\"tit\">삼성전자서비스</div> </a> </li>,\n",
       " <li class=\"item\"> <a class=\"keyword\" href=\"?where=nexearch&amp;query=%EC%82%BC%EC%84%B1%EC%A0%84%EC%9E%90%EC%A3%BC%EC%8B%9D&amp;ie=utf8&amp;sm=tab_she&amp;qdt=0\" onclick=\"return goOtherCR(this, 'a=rsk_top*a.list1&amp;r=4&amp;u=' + urlencode(this.href))\"> <div class=\"tit\">삼성전자주식</div> </a> </li>,\n",
       " <li class=\"item\"> <a class=\"keyword\" href=\"?where=nexearch&amp;query=%EC%98%A4%EB%8A%98+%EC%82%BC%EC%84%B1%EC%A0%84%EC%9E%90+%EC%A3%BC%EA%B0%80&amp;ie=utf8&amp;sm=tab_she&amp;qdt=0\" onclick=\"return goOtherCR(this, 'a=rsk_top*a.list1&amp;r=5&amp;u=' + urlencode(this.href))\"> <div class=\"tit\">오늘 삼성전자 주가</div> </a> </li>,\n",
       " <li class=\"item\"> <a class=\"keyword\" href=\"?where=nexearch&amp;query=%EC%82%BC%EC%84%B1%EC%A0%84%EC%9E%90+%EB%B0%B0%EB%8B%B9%EA%B8%88+%EC%A7%80%EA%B8%89%EC%9D%BC&amp;ie=utf8&amp;sm=tab_she&amp;qdt=0\" onclick=\"return goOtherCR(this, 'a=rsk_top*a.list1&amp;r=6&amp;u=' + urlencode(this.href))\"> <div class=\"tit\">삼성전자 배당금 지급일</div> </a> </li>,\n",
       " <li class=\"item\"> <a class=\"keyword\" href=\"?where=nexearch&amp;query=%EC%82%BC%EC%84%B1%EC%A0%84%EC%9E%90%EB%AA%B0&amp;ie=utf8&amp;sm=tab_she&amp;qdt=0\" onclick=\"return goOtherCR(this, 'a=rsk_top*q.list1&amp;r=7&amp;u=' + urlencode(this.href))\"> <div class=\"tit\">삼성전자몰</div> </a> </li>,\n",
       " <li class=\"item\"> <a class=\"keyword\" href=\"?where=nexearch&amp;query=%EC%82%BC%EC%84%B1+%EC%A0%84%EC%9E%90%EB%A0%88%EC%9D%B8%EC%A7%80&amp;ie=utf8&amp;sm=tab_she&amp;qdt=0\" onclick=\"return goOtherCR(this, 'a=rsk_top*a.list1&amp;r=8&amp;u=' + urlencode(this.href))\"> <div class=\"tit\">삼성 전자레인지</div> </a> </li>,\n",
       " <li class=\"item\"> <a class=\"keyword\" href=\"?where=nexearch&amp;query=%EC%82%BC%EC%84%B1%EC%A0%84%EC%9E%90+%EC%B1%84%EC%9A%A9&amp;ie=utf8&amp;sm=tab_she&amp;qdt=0\" onclick=\"return goOtherCR(this, 'a=rsk_top*a.list1&amp;r=9&amp;u=' + urlencode(this.href))\"> <div class=\"tit\">삼성전자 채용</div> </a> </li>,\n",
       " <li class=\"item\"> <a class=\"keyword\" href=\"?where=nexearch&amp;query=%EC%82%BC%EC%84%B1%EC%A0%84%EC%9E%90+%EA%B3%A0%EA%B0%9D%EC%84%BC%ED%84%B0&amp;ie=utf8&amp;sm=tab_she&amp;qdt=0\" onclick=\"return goOtherCR(this, 'a=rsk_top*a.list1&amp;r=10&amp;u=' + urlencode(this.href))\"> <div class=\"tit\">삼성전자 고객센터</div> </a> </li>]"
      ]
     },
     "execution_count": 17,
     "metadata": {},
     "output_type": "execute_result"
    }
   ],
   "source": [
    "elements"
   ]
  },
  {
   "cell_type": "markdown",
   "id": "1e9ebdd4",
   "metadata": {},
   "source": [
    "#### 5. str(text) > DataFrame"
   ]
  },
  {
   "cell_type": "code",
   "execution_count": 21,
   "id": "62e1ef05",
   "metadata": {},
   "outputs": [],
   "source": [
    "element = elements[0]"
   ]
  },
  {
   "cell_type": "code",
   "execution_count": 22,
   "id": "6db1a8be-1846-462e-9a24-128ced46a196",
   "metadata": {},
   "outputs": [
    {
     "data": {
      "text/plain": [
       "<div class=\"tit\">삼성전자주가</div>"
      ]
     },
     "execution_count": 22,
     "metadata": {},
     "output_type": "execute_result"
    }
   ],
   "source": [
    "# 필요한 것만 가져오기 위해 다시 한 번 css select 진행, 이번엔 select_one()으로\n",
    "element = element.select_one('.tit')\n",
    "element"
   ]
  },
  {
   "cell_type": "code",
   "execution_count": 25,
   "id": "a269e355-f993-443e-8575-47ce6315de23",
   "metadata": {},
   "outputs": [
    {
     "data": {
      "text/plain": [
       "'삼성전자주가'"
      ]
     },
     "execution_count": 25,
     "metadata": {},
     "output_type": "execute_result"
    }
   ],
   "source": [
    "keyword = element.text\n",
    "keyword"
   ]
  },
  {
   "cell_type": "code",
   "execution_count": 28,
   "id": "ecebcb1b-5d54-47bb-84a3-3cd6041838df",
   "metadata": {},
   "outputs": [
    {
     "data": {
      "text/plain": [
       "['삼성전자주가',\n",
       " '삼성전자 배당금',\n",
       " '삼성전자서비스',\n",
       " '삼성전자주식',\n",
       " '오늘 삼성전자 주가',\n",
       " '삼성전자 배당금 지급일',\n",
       " '삼성전자몰',\n",
       " '삼성 전자레인지',\n",
       " '삼성전자 채용',\n",
       " '삼성전자 고객센터']"
      ]
     },
     "execution_count": 28,
     "metadata": {},
     "output_type": "execute_result"
    }
   ],
   "source": [
    "# 이제 모든 데이터에 대해 연관 검색어만 가져오기\n",
    "keywords = []\n",
    "for element in elements:\n",
    "    keyword = element.select_one('.tit').text\n",
    "    keywords.append(keyword)\n",
    "keywords"
   ]
  },
  {
   "cell_type": "code",
   "execution_count": 29,
   "id": "4e52b690-f8c8-454d-8564-544f8c43c274",
   "metadata": {},
   "outputs": [
    {
     "data": {
      "text/plain": [
       "('삼성전자',\n",
       " ['삼성전자주가',\n",
       "  '삼성전자 배당금',\n",
       "  '삼성전자서비스',\n",
       "  '삼성전자주식',\n",
       "  '오늘 삼성전자 주가',\n",
       "  '삼성전자 배당금 지급일',\n",
       "  '삼성전자몰',\n",
       "  '삼성 전자레인지',\n",
       "  '삼성전자 채용',\n",
       "  '삼성전자 고객센터'])"
      ]
     },
     "execution_count": 29,
     "metadata": {},
     "output_type": "execute_result"
    }
   ],
   "source": [
    "# 데이터 프레임 만들기\n",
    "query, keywords"
   ]
  },
  {
   "cell_type": "code",
   "execution_count": 32,
   "id": "e4b13a46-35e1-446c-93f3-563c84dfc6bf",
   "metadata": {},
   "outputs": [
    {
     "data": {
      "text/html": [
       "<div>\n",
       "<style scoped>\n",
       "    .dataframe tbody tr th:only-of-type {\n",
       "        vertical-align: middle;\n",
       "    }\n",
       "\n",
       "    .dataframe tbody tr th {\n",
       "        vertical-align: top;\n",
       "    }\n",
       "\n",
       "    .dataframe thead th {\n",
       "        text-align: right;\n",
       "    }\n",
       "</style>\n",
       "<table border=\"1\" class=\"dataframe\">\n",
       "  <thead>\n",
       "    <tr style=\"text-align: right;\">\n",
       "      <th></th>\n",
       "      <th>keyword</th>\n",
       "    </tr>\n",
       "  </thead>\n",
       "  <tbody>\n",
       "    <tr>\n",
       "      <th>0</th>\n",
       "      <td>삼성전자주가</td>\n",
       "    </tr>\n",
       "    <tr>\n",
       "      <th>1</th>\n",
       "      <td>삼성전자 배당금</td>\n",
       "    </tr>\n",
       "    <tr>\n",
       "      <th>2</th>\n",
       "      <td>삼성전자서비스</td>\n",
       "    </tr>\n",
       "    <tr>\n",
       "      <th>3</th>\n",
       "      <td>삼성전자주식</td>\n",
       "    </tr>\n",
       "    <tr>\n",
       "      <th>4</th>\n",
       "      <td>오늘 삼성전자 주가</td>\n",
       "    </tr>\n",
       "    <tr>\n",
       "      <th>5</th>\n",
       "      <td>삼성전자 배당금 지급일</td>\n",
       "    </tr>\n",
       "    <tr>\n",
       "      <th>6</th>\n",
       "      <td>삼성전자몰</td>\n",
       "    </tr>\n",
       "    <tr>\n",
       "      <th>7</th>\n",
       "      <td>삼성 전자레인지</td>\n",
       "    </tr>\n",
       "    <tr>\n",
       "      <th>8</th>\n",
       "      <td>삼성전자 채용</td>\n",
       "    </tr>\n",
       "    <tr>\n",
       "      <th>9</th>\n",
       "      <td>삼성전자 고객센터</td>\n",
       "    </tr>\n",
       "  </tbody>\n",
       "</table>\n",
       "</div>"
      ],
      "text/plain": [
       "        keyword\n",
       "0        삼성전자주가\n",
       "1      삼성전자 배당금\n",
       "2       삼성전자서비스\n",
       "3        삼성전자주식\n",
       "4    오늘 삼성전자 주가\n",
       "5  삼성전자 배당금 지급일\n",
       "6         삼성전자몰\n",
       "7      삼성 전자레인지\n",
       "8       삼성전자 채용\n",
       "9     삼성전자 고객센터"
      ]
     },
     "execution_count": 32,
     "metadata": {},
     "output_type": "execute_result"
    }
   ],
   "source": [
    "df = pd.DataFrame({'keyword': keywords})\n",
    "df"
   ]
  },
  {
   "cell_type": "code",
   "execution_count": 33,
   "id": "d861fbb3-df23-44b3-9169-2804f36ea5bb",
   "metadata": {},
   "outputs": [
    {
     "data": {
      "text/html": [
       "<div>\n",
       "<style scoped>\n",
       "    .dataframe tbody tr th:only-of-type {\n",
       "        vertical-align: middle;\n",
       "    }\n",
       "\n",
       "    .dataframe tbody tr th {\n",
       "        vertical-align: top;\n",
       "    }\n",
       "\n",
       "    .dataframe thead th {\n",
       "        text-align: right;\n",
       "    }\n",
       "</style>\n",
       "<table border=\"1\" class=\"dataframe\">\n",
       "  <thead>\n",
       "    <tr style=\"text-align: right;\">\n",
       "      <th></th>\n",
       "      <th>keyword</th>\n",
       "      <th>query</th>\n",
       "    </tr>\n",
       "  </thead>\n",
       "  <tbody>\n",
       "    <tr>\n",
       "      <th>0</th>\n",
       "      <td>삼성전자주가</td>\n",
       "      <td>삼성전자</td>\n",
       "    </tr>\n",
       "    <tr>\n",
       "      <th>1</th>\n",
       "      <td>삼성전자 배당금</td>\n",
       "      <td>삼성전자</td>\n",
       "    </tr>\n",
       "    <tr>\n",
       "      <th>2</th>\n",
       "      <td>삼성전자서비스</td>\n",
       "      <td>삼성전자</td>\n",
       "    </tr>\n",
       "    <tr>\n",
       "      <th>3</th>\n",
       "      <td>삼성전자주식</td>\n",
       "      <td>삼성전자</td>\n",
       "    </tr>\n",
       "    <tr>\n",
       "      <th>4</th>\n",
       "      <td>오늘 삼성전자 주가</td>\n",
       "      <td>삼성전자</td>\n",
       "    </tr>\n",
       "    <tr>\n",
       "      <th>5</th>\n",
       "      <td>삼성전자 배당금 지급일</td>\n",
       "      <td>삼성전자</td>\n",
       "    </tr>\n",
       "    <tr>\n",
       "      <th>6</th>\n",
       "      <td>삼성전자몰</td>\n",
       "      <td>삼성전자</td>\n",
       "    </tr>\n",
       "    <tr>\n",
       "      <th>7</th>\n",
       "      <td>삼성 전자레인지</td>\n",
       "      <td>삼성전자</td>\n",
       "    </tr>\n",
       "    <tr>\n",
       "      <th>8</th>\n",
       "      <td>삼성전자 채용</td>\n",
       "      <td>삼성전자</td>\n",
       "    </tr>\n",
       "    <tr>\n",
       "      <th>9</th>\n",
       "      <td>삼성전자 고객센터</td>\n",
       "      <td>삼성전자</td>\n",
       "    </tr>\n",
       "  </tbody>\n",
       "</table>\n",
       "</div>"
      ],
      "text/plain": [
       "        keyword query\n",
       "0        삼성전자주가  삼성전자\n",
       "1      삼성전자 배당금  삼성전자\n",
       "2       삼성전자서비스  삼성전자\n",
       "3        삼성전자주식  삼성전자\n",
       "4    오늘 삼성전자 주가  삼성전자\n",
       "5  삼성전자 배당금 지급일  삼성전자\n",
       "6         삼성전자몰  삼성전자\n",
       "7      삼성 전자레인지  삼성전자\n",
       "8       삼성전자 채용  삼성전자\n",
       "9     삼성전자 고객센터  삼성전자"
      ]
     },
     "execution_count": 33,
     "metadata": {},
     "output_type": "execute_result"
    }
   ],
   "source": [
    "df['query'] = query\n",
    "df"
   ]
  },
  {
   "cell_type": "code",
   "execution_count": 5,
   "id": "3ce52c06-636f-44d1-b815-4ee4cd38c7a5",
   "metadata": {},
   "outputs": [],
   "source": [
    "import datetime as datetime"
   ]
  },
  {
   "cell_type": "code",
   "execution_count": 16,
   "id": "5504c6a9-fc47-4166-a09b-03ef88a3a052",
   "metadata": {},
   "outputs": [],
   "source": [
    "def naver_related_keywords(query):\n",
    "    url = f'https://search.naver.com/search.naver?query={query}'\n",
    "    response = requests.get(url)\n",
    "    dom = BeautifulSoup(response.text, 'html.parser')\n",
    "    elements = dom.select('.lst_related_srch > .item')\n",
    "    \n",
    "    keywords = []\n",
    "    for element in elements:\n",
    "        keyword = element.select_one('.tit').text\n",
    "        keywords.append(keyword)\n",
    "    df = pd.DataFrame({'keyword': keywords})\n",
    "    df['query'] = query\n",
    "    df['datetime'] = datetime.datetime.now().strftime('%Y-%m-%d %H:%M')\n",
    "    return df"
   ]
  },
  {
   "cell_type": "code",
   "execution_count": 19,
   "id": "ef3cb94f-a4a3-43e3-aa9d-212184c8b01b",
   "metadata": {},
   "outputs": [
    {
     "data": {
      "text/html": [
       "<div>\n",
       "<style scoped>\n",
       "    .dataframe tbody tr th:only-of-type {\n",
       "        vertical-align: middle;\n",
       "    }\n",
       "\n",
       "    .dataframe tbody tr th {\n",
       "        vertical-align: top;\n",
       "    }\n",
       "\n",
       "    .dataframe thead th {\n",
       "        text-align: right;\n",
       "    }\n",
       "</style>\n",
       "<table border=\"1\" class=\"dataframe\">\n",
       "  <thead>\n",
       "    <tr style=\"text-align: right;\">\n",
       "      <th></th>\n",
       "      <th>keyword</th>\n",
       "      <th>query</th>\n",
       "      <th>datetime</th>\n",
       "    </tr>\n",
       "  </thead>\n",
       "  <tbody>\n",
       "    <tr>\n",
       "      <th>0</th>\n",
       "      <td>삼성전자주가</td>\n",
       "      <td>삼성전자</td>\n",
       "      <td>2023-08-25 12:30</td>\n",
       "    </tr>\n",
       "    <tr>\n",
       "      <th>1</th>\n",
       "      <td>삼성전자 배당금</td>\n",
       "      <td>삼성전자</td>\n",
       "      <td>2023-08-25 12:30</td>\n",
       "    </tr>\n",
       "    <tr>\n",
       "      <th>2</th>\n",
       "      <td>삼성전자서비스</td>\n",
       "      <td>삼성전자</td>\n",
       "      <td>2023-08-25 12:30</td>\n",
       "    </tr>\n",
       "    <tr>\n",
       "      <th>3</th>\n",
       "      <td>삼성전자주식</td>\n",
       "      <td>삼성전자</td>\n",
       "      <td>2023-08-25 12:30</td>\n",
       "    </tr>\n",
       "    <tr>\n",
       "      <th>4</th>\n",
       "      <td>오늘 삼성전자 주가</td>\n",
       "      <td>삼성전자</td>\n",
       "      <td>2023-08-25 12:30</td>\n",
       "    </tr>\n",
       "    <tr>\n",
       "      <th>5</th>\n",
       "      <td>삼성전자 배당금 지급일</td>\n",
       "      <td>삼성전자</td>\n",
       "      <td>2023-08-25 12:30</td>\n",
       "    </tr>\n",
       "    <tr>\n",
       "      <th>6</th>\n",
       "      <td>삼성전자몰</td>\n",
       "      <td>삼성전자</td>\n",
       "      <td>2023-08-25 12:30</td>\n",
       "    </tr>\n",
       "    <tr>\n",
       "      <th>7</th>\n",
       "      <td>삼성 전자레인지</td>\n",
       "      <td>삼성전자</td>\n",
       "      <td>2023-08-25 12:30</td>\n",
       "    </tr>\n",
       "    <tr>\n",
       "      <th>8</th>\n",
       "      <td>삼성전자 채용</td>\n",
       "      <td>삼성전자</td>\n",
       "      <td>2023-08-25 12:30</td>\n",
       "    </tr>\n",
       "    <tr>\n",
       "      <th>9</th>\n",
       "      <td>삼성전자 고객센터</td>\n",
       "      <td>삼성전자</td>\n",
       "      <td>2023-08-25 12:30</td>\n",
       "    </tr>\n",
       "  </tbody>\n",
       "</table>\n",
       "</div>"
      ],
      "text/plain": [
       "        keyword query          datetime\n",
       "0        삼성전자주가  삼성전자  2023-08-25 12:30\n",
       "1      삼성전자 배당금  삼성전자  2023-08-25 12:30\n",
       "2       삼성전자서비스  삼성전자  2023-08-25 12:30\n",
       "3        삼성전자주식  삼성전자  2023-08-25 12:30\n",
       "4    오늘 삼성전자 주가  삼성전자  2023-08-25 12:30\n",
       "5  삼성전자 배당금 지급일  삼성전자  2023-08-25 12:30\n",
       "6         삼성전자몰  삼성전자  2023-08-25 12:30\n",
       "7      삼성 전자레인지  삼성전자  2023-08-25 12:30\n",
       "8       삼성전자 채용  삼성전자  2023-08-25 12:30\n",
       "9     삼성전자 고객센터  삼성전자  2023-08-25 12:30"
      ]
     },
     "execution_count": 19,
     "metadata": {},
     "output_type": "execute_result"
    }
   ],
   "source": [
    "df1 = naver_related_keywords('삼성전자')\n",
    "df1"
   ]
  },
  {
   "cell_type": "code",
   "execution_count": 20,
   "id": "3b82bd1e-0dce-4422-a79c-6d12dfef77ac",
   "metadata": {},
   "outputs": [
    {
     "data": {
      "text/html": [
       "<div>\n",
       "<style scoped>\n",
       "    .dataframe tbody tr th:only-of-type {\n",
       "        vertical-align: middle;\n",
       "    }\n",
       "\n",
       "    .dataframe tbody tr th {\n",
       "        vertical-align: top;\n",
       "    }\n",
       "\n",
       "    .dataframe thead th {\n",
       "        text-align: right;\n",
       "    }\n",
       "</style>\n",
       "<table border=\"1\" class=\"dataframe\">\n",
       "  <thead>\n",
       "    <tr style=\"text-align: right;\">\n",
       "      <th></th>\n",
       "      <th>keyword</th>\n",
       "      <th>query</th>\n",
       "      <th>datetime</th>\n",
       "    </tr>\n",
       "  </thead>\n",
       "  <tbody>\n",
       "    <tr>\n",
       "      <th>0</th>\n",
       "      <td>lg전자 주가</td>\n",
       "      <td>LG전자</td>\n",
       "      <td>2023-08-25 12:30</td>\n",
       "    </tr>\n",
       "    <tr>\n",
       "      <th>1</th>\n",
       "      <td>lg전자 서비스센터 전화번호</td>\n",
       "      <td>LG전자</td>\n",
       "      <td>2023-08-25 12:30</td>\n",
       "    </tr>\n",
       "    <tr>\n",
       "      <th>2</th>\n",
       "      <td>lg전자 베스트샵</td>\n",
       "      <td>LG전자</td>\n",
       "      <td>2023-08-25 12:30</td>\n",
       "    </tr>\n",
       "    <tr>\n",
       "      <th>3</th>\n",
       "      <td>lg전자 고객센터</td>\n",
       "      <td>LG전자</td>\n",
       "      <td>2023-08-25 12:30</td>\n",
       "    </tr>\n",
       "    <tr>\n",
       "      <th>4</th>\n",
       "      <td>lg 전자레인지</td>\n",
       "      <td>LG전자</td>\n",
       "      <td>2023-08-25 12:30</td>\n",
       "    </tr>\n",
       "    <tr>\n",
       "      <th>5</th>\n",
       "      <td>lg전자 에어컨 서비스센터</td>\n",
       "      <td>LG전자</td>\n",
       "      <td>2023-08-25 12:30</td>\n",
       "    </tr>\n",
       "    <tr>\n",
       "      <th>6</th>\n",
       "      <td>lg전자 as</td>\n",
       "      <td>LG전자</td>\n",
       "      <td>2023-08-25 12:30</td>\n",
       "    </tr>\n",
       "    <tr>\n",
       "      <th>7</th>\n",
       "      <td>lg전자 에어컨</td>\n",
       "      <td>LG전자</td>\n",
       "      <td>2023-08-25 12:30</td>\n",
       "    </tr>\n",
       "    <tr>\n",
       "      <th>8</th>\n",
       "      <td>lg전자 서비스센터 예약</td>\n",
       "      <td>LG전자</td>\n",
       "      <td>2023-08-25 12:30</td>\n",
       "    </tr>\n",
       "    <tr>\n",
       "      <th>9</th>\n",
       "      <td>lg전자렌지</td>\n",
       "      <td>LG전자</td>\n",
       "      <td>2023-08-25 12:30</td>\n",
       "    </tr>\n",
       "  </tbody>\n",
       "</table>\n",
       "</div>"
      ],
      "text/plain": [
       "           keyword query          datetime\n",
       "0          lg전자 주가  LG전자  2023-08-25 12:30\n",
       "1  lg전자 서비스센터 전화번호  LG전자  2023-08-25 12:30\n",
       "2        lg전자 베스트샵  LG전자  2023-08-25 12:30\n",
       "3        lg전자 고객센터  LG전자  2023-08-25 12:30\n",
       "4         lg 전자레인지  LG전자  2023-08-25 12:30\n",
       "5   lg전자 에어컨 서비스센터  LG전자  2023-08-25 12:30\n",
       "6          lg전자 as  LG전자  2023-08-25 12:30\n",
       "7         lg전자 에어컨  LG전자  2023-08-25 12:30\n",
       "8    lg전자 서비스센터 예약  LG전자  2023-08-25 12:30\n",
       "9           lg전자렌지  LG전자  2023-08-25 12:30"
      ]
     },
     "execution_count": 20,
     "metadata": {},
     "output_type": "execute_result"
    }
   ],
   "source": [
    "df2 = naver_related_keywords('LG전자')\n",
    "df2"
   ]
  },
  {
   "cell_type": "code",
   "execution_count": 21,
   "id": "2f2a3aee-e124-4000-8132-cce33bcef134",
   "metadata": {},
   "outputs": [
    {
     "data": {
      "text/html": [
       "<div>\n",
       "<style scoped>\n",
       "    .dataframe tbody tr th:only-of-type {\n",
       "        vertical-align: middle;\n",
       "    }\n",
       "\n",
       "    .dataframe tbody tr th {\n",
       "        vertical-align: top;\n",
       "    }\n",
       "\n",
       "    .dataframe thead th {\n",
       "        text-align: right;\n",
       "    }\n",
       "</style>\n",
       "<table border=\"1\" class=\"dataframe\">\n",
       "  <thead>\n",
       "    <tr style=\"text-align: right;\">\n",
       "      <th></th>\n",
       "      <th>keyword</th>\n",
       "      <th>query</th>\n",
       "      <th>datetime</th>\n",
       "    </tr>\n",
       "  </thead>\n",
       "  <tbody>\n",
       "    <tr>\n",
       "      <th>0</th>\n",
       "      <td>삼성전자주가</td>\n",
       "      <td>삼성전자</td>\n",
       "      <td>2023-08-25 12:30</td>\n",
       "    </tr>\n",
       "    <tr>\n",
       "      <th>1</th>\n",
       "      <td>삼성전자 배당금</td>\n",
       "      <td>삼성전자</td>\n",
       "      <td>2023-08-25 12:30</td>\n",
       "    </tr>\n",
       "    <tr>\n",
       "      <th>2</th>\n",
       "      <td>삼성전자서비스</td>\n",
       "      <td>삼성전자</td>\n",
       "      <td>2023-08-25 12:30</td>\n",
       "    </tr>\n",
       "    <tr>\n",
       "      <th>3</th>\n",
       "      <td>삼성전자주식</td>\n",
       "      <td>삼성전자</td>\n",
       "      <td>2023-08-25 12:30</td>\n",
       "    </tr>\n",
       "    <tr>\n",
       "      <th>4</th>\n",
       "      <td>오늘 삼성전자 주가</td>\n",
       "      <td>삼성전자</td>\n",
       "      <td>2023-08-25 12:30</td>\n",
       "    </tr>\n",
       "    <tr>\n",
       "      <th>5</th>\n",
       "      <td>삼성전자 배당금 지급일</td>\n",
       "      <td>삼성전자</td>\n",
       "      <td>2023-08-25 12:30</td>\n",
       "    </tr>\n",
       "    <tr>\n",
       "      <th>6</th>\n",
       "      <td>삼성전자몰</td>\n",
       "      <td>삼성전자</td>\n",
       "      <td>2023-08-25 12:30</td>\n",
       "    </tr>\n",
       "    <tr>\n",
       "      <th>7</th>\n",
       "      <td>삼성 전자레인지</td>\n",
       "      <td>삼성전자</td>\n",
       "      <td>2023-08-25 12:30</td>\n",
       "    </tr>\n",
       "    <tr>\n",
       "      <th>8</th>\n",
       "      <td>삼성전자 채용</td>\n",
       "      <td>삼성전자</td>\n",
       "      <td>2023-08-25 12:30</td>\n",
       "    </tr>\n",
       "    <tr>\n",
       "      <th>9</th>\n",
       "      <td>삼성전자 고객센터</td>\n",
       "      <td>삼성전자</td>\n",
       "      <td>2023-08-25 12:30</td>\n",
       "    </tr>\n",
       "    <tr>\n",
       "      <th>10</th>\n",
       "      <td>lg전자 주가</td>\n",
       "      <td>LG전자</td>\n",
       "      <td>2023-08-25 12:30</td>\n",
       "    </tr>\n",
       "    <tr>\n",
       "      <th>11</th>\n",
       "      <td>lg전자 서비스센터 전화번호</td>\n",
       "      <td>LG전자</td>\n",
       "      <td>2023-08-25 12:30</td>\n",
       "    </tr>\n",
       "    <tr>\n",
       "      <th>12</th>\n",
       "      <td>lg전자 베스트샵</td>\n",
       "      <td>LG전자</td>\n",
       "      <td>2023-08-25 12:30</td>\n",
       "    </tr>\n",
       "    <tr>\n",
       "      <th>13</th>\n",
       "      <td>lg전자 고객센터</td>\n",
       "      <td>LG전자</td>\n",
       "      <td>2023-08-25 12:30</td>\n",
       "    </tr>\n",
       "    <tr>\n",
       "      <th>14</th>\n",
       "      <td>lg 전자레인지</td>\n",
       "      <td>LG전자</td>\n",
       "      <td>2023-08-25 12:30</td>\n",
       "    </tr>\n",
       "    <tr>\n",
       "      <th>15</th>\n",
       "      <td>lg전자 에어컨 서비스센터</td>\n",
       "      <td>LG전자</td>\n",
       "      <td>2023-08-25 12:30</td>\n",
       "    </tr>\n",
       "    <tr>\n",
       "      <th>16</th>\n",
       "      <td>lg전자 as</td>\n",
       "      <td>LG전자</td>\n",
       "      <td>2023-08-25 12:30</td>\n",
       "    </tr>\n",
       "    <tr>\n",
       "      <th>17</th>\n",
       "      <td>lg전자 에어컨</td>\n",
       "      <td>LG전자</td>\n",
       "      <td>2023-08-25 12:30</td>\n",
       "    </tr>\n",
       "    <tr>\n",
       "      <th>18</th>\n",
       "      <td>lg전자 서비스센터 예약</td>\n",
       "      <td>LG전자</td>\n",
       "      <td>2023-08-25 12:30</td>\n",
       "    </tr>\n",
       "    <tr>\n",
       "      <th>19</th>\n",
       "      <td>lg전자렌지</td>\n",
       "      <td>LG전자</td>\n",
       "      <td>2023-08-25 12:30</td>\n",
       "    </tr>\n",
       "  </tbody>\n",
       "</table>\n",
       "</div>"
      ],
      "text/plain": [
       "            keyword query          datetime\n",
       "0            삼성전자주가  삼성전자  2023-08-25 12:30\n",
       "1          삼성전자 배당금  삼성전자  2023-08-25 12:30\n",
       "2           삼성전자서비스  삼성전자  2023-08-25 12:30\n",
       "3            삼성전자주식  삼성전자  2023-08-25 12:30\n",
       "4        오늘 삼성전자 주가  삼성전자  2023-08-25 12:30\n",
       "5      삼성전자 배당금 지급일  삼성전자  2023-08-25 12:30\n",
       "6             삼성전자몰  삼성전자  2023-08-25 12:30\n",
       "7          삼성 전자레인지  삼성전자  2023-08-25 12:30\n",
       "8           삼성전자 채용  삼성전자  2023-08-25 12:30\n",
       "9         삼성전자 고객센터  삼성전자  2023-08-25 12:30\n",
       "10          lg전자 주가  LG전자  2023-08-25 12:30\n",
       "11  lg전자 서비스센터 전화번호  LG전자  2023-08-25 12:30\n",
       "12        lg전자 베스트샵  LG전자  2023-08-25 12:30\n",
       "13        lg전자 고객센터  LG전자  2023-08-25 12:30\n",
       "14         lg 전자레인지  LG전자  2023-08-25 12:30\n",
       "15   lg전자 에어컨 서비스센터  LG전자  2023-08-25 12:30\n",
       "16          lg전자 as  LG전자  2023-08-25 12:30\n",
       "17         lg전자 에어컨  LG전자  2023-08-25 12:30\n",
       "18    lg전자 서비스센터 예약  LG전자  2023-08-25 12:30\n",
       "19           lg전자렌지  LG전자  2023-08-25 12:30"
      ]
     },
     "execution_count": 21,
     "metadata": {},
     "output_type": "execute_result"
    }
   ],
   "source": [
    "pd.concat([df1, df2], ignore_index=True)"
   ]
  }
 ],
 "metadata": {
  "kernelspec": {
   "display_name": "lecture",
   "language": "python",
   "name": "lecture"
  },
  "language_info": {
   "codemirror_mode": {
    "name": "ipython",
    "version": 3
   },
   "file_extension": ".py",
   "mimetype": "text/x-python",
   "name": "python",
   "nbconvert_exporter": "python",
   "pygments_lexer": "ipython3",
   "version": "3.7.16"
  },
  "toc": {
   "base_numbering": 1,
   "nav_menu": {},
   "number_sections": false,
   "sideBar": true,
   "skip_h1_title": false,
   "title_cell": "Table of Contents",
   "title_sidebar": "Contents",
   "toc_cell": false,
   "toc_position": {},
   "toc_section_display": true,
   "toc_window_display": false
  }
 },
 "nbformat": 4,
 "nbformat_minor": 5
}
