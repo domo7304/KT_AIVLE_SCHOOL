{
 "cells": [
  {
   "cell_type": "markdown",
   "id": "03fff3b4",
   "metadata": {},
   "source": [
    "### selenium\n",
    "- `https://www.selenium.dev`\n",
    "- 자동화를 목적으로 만들어진 다양한 브라우져와 언어를 지원하는 라이브러리\n",
    "- 크롬 브라우져 설치\n",
    "    - 크롬 브라우져 드라이버 다운로드 (크롬 브라우져와 같은 버전)\n",
    "    - 다운로드한 드라이버 압축 해제\n",
    "    - chromedriver, chromedriver.exe 생성\n",
    "    - windows : 주피터 노트북 파일과 동일한 디렉토리에 chromedriver.exe 파일 업로드\n",
    "    - mac : sudo cp ~/Download/chromedirver /usr/local/bin"
   ]
  },
  {
   "cell_type": "code",
   "execution_count": 1,
   "id": "a6e6bc99",
   "metadata": {},
   "outputs": [],
   "source": [
    "import pandas as pd \n",
    "from selenium import webdriver \n",
    "from selenium.webdriver.common.by import By"
   ]
  },
  {
   "cell_type": "code",
   "execution_count": 2,
   "id": "39e30c91",
   "metadata": {},
   "outputs": [],
   "source": [
    "driver = webdriver.Chrome()"
   ]
  },
  {
   "cell_type": "code",
   "execution_count": 3,
   "id": "18514fc0-6d1e-4331-ae83-ba267ace08be",
   "metadata": {},
   "outputs": [],
   "source": [
    "# 페이지 이동\n",
    "driver.get('https://daum.net')"
   ]
  },
  {
   "cell_type": "code",
   "execution_count": 4,
   "id": "992b6177-d7ca-4642-873d-79f613e82d2c",
   "metadata": {},
   "outputs": [],
   "source": [
    "# 브라우저 크기 조절\n",
    "driver.set_window_size(200, 600)"
   ]
  },
  {
   "cell_type": "code",
   "execution_count": 5,
   "id": "b9405c05-6c9e-4883-a376-3ab6bc02f845",
   "metadata": {},
   "outputs": [],
   "source": [
    "# 스크롤 : execute_script는 js 코드를 실행한다는 의미\n",
    "driver.execute_script('window.scrollTo(100, 200);')"
   ]
  },
  {
   "cell_type": "code",
   "execution_count": 6,
   "id": "6220c0ef-eca4-4f60-a141-cdddbbfb9732",
   "metadata": {},
   "outputs": [],
   "source": [
    "# 검색창에 문자열 입력해보기\n",
    "driver.find_element(By.CSS_SELECTOR, '#q').send_keys('셀레니움')"
   ]
  },
  {
   "cell_type": "code",
   "execution_count": 8,
   "id": "ae59bddd-784a-4e5f-bf3a-13daaec22157",
   "metadata": {},
   "outputs": [],
   "source": [
    "# 검색 버튼 클릭\n",
    "selector = '.ico_pctop.btn_search'\n",
    "driver.find_element(By.CSS_SELECTOR, selector).click()"
   ]
  },
  {
   "cell_type": "code",
   "execution_count": 10,
   "id": "3cbf0cfd-4e54-4f6c-80cf-5aa52cf43ead",
   "metadata": {},
   "outputs": [],
   "source": [
    "# 브라우저 종료\n",
    "driver.quit()"
   ]
  },
  {
   "cell_type": "markdown",
   "id": "804ecefd-c9f6-48b1-b61a-170929300511",
   "metadata": {},
   "source": [
    "#### 텍스트 데이터 가져오기\n",
    "- TED 사이트 : `https://www.ted.com`"
   ]
  },
  {
   "cell_type": "code",
   "execution_count": 11,
   "id": "c1b8b6a4-e431-4677-9782-1c7a5ab22a56",
   "metadata": {},
   "outputs": [],
   "source": [
    "driver = webdriver.Chrome()\n",
    "driver.get('https://www.ted.com/talks')"
   ]
  },
  {
   "cell_type": "code",
   "execution_count": 13,
   "id": "dea33786-e551-4ec1-96c4-be1d886fe1a3",
   "metadata": {},
   "outputs": [
    {
     "data": {
      "text/plain": [
       "'4300+ talks to stir your curiosity'"
      ]
     },
     "execution_count": 13,
     "metadata": {},
     "output_type": "execute_result"
    }
   ],
   "source": [
    "selector = '.talks-header__title'\n",
    "driver.find_element(By.CSS_SELECTOR, selector).text"
   ]
  },
  {
   "cell_type": "code",
   "execution_count": 15,
   "id": "0782d46e-0230-4b46-af8b-128785b1df5d",
   "metadata": {},
   "outputs": [
    {
     "data": {
      "text/plain": [
       "36"
      ]
     },
     "execution_count": 15,
     "metadata": {},
     "output_type": "execute_result"
    }
   ],
   "source": [
    "selector = '#browse-results > .row > div' \n",
    "contents = driver.find_elements(By.CSS_SELECTOR, selector) \n",
    "len(contents)"
   ]
  },
  {
   "cell_type": "code",
   "execution_count": 16,
   "id": "577b29f7-bd07-495f-83ed-b0654afd3203",
   "metadata": {},
   "outputs": [
    {
     "data": {
      "text/plain": [
       "'Can alligators survive this apex predator?'"
      ]
     },
     "execution_count": 16,
     "metadata": {},
     "output_type": "execute_result"
    }
   ],
   "source": [
    "selector = '.media__message .ga-link'\n",
    "content = contents[0]\n",
    "content.find_element(By.CSS_SELECTOR, selector).text"
   ]
  },
  {
   "cell_type": "code",
   "execution_count": 17,
   "id": "fa3489c6-5f27-45d2-9bc8-4e4c1e99e9b0",
   "metadata": {},
   "outputs": [
    {
     "data": {
      "text/plain": [
       "(36,\n",
       " ['Can alligators survive this apex predator?',\n",
       "  \"How AI art could enhance humanity's collective memory\",\n",
       "  \"What's it like to be a giant sequoia tree?\"])"
      ]
     },
     "execution_count": 17,
     "metadata": {},
     "output_type": "execute_result"
    }
   ],
   "source": [
    "titles = []\n",
    "for content in contents:\n",
    "    titles.append(content.find_element(By.CSS_SELECTOR, selector).text)\n",
    "len(titles), titles[:3]"
   ]
  },
  {
   "cell_type": "code",
   "execution_count": 18,
   "id": "74f71acc-778e-4ee8-9902-5c2b943c6027",
   "metadata": {},
   "outputs": [],
   "source": [
    "driver.quit()"
   ]
  },
  {
   "cell_type": "markdown",
   "id": "152eda00",
   "metadata": {},
   "source": [
    "#### Headless\n",
    "- 브라우져를 화면에 띄우지 않고 메모리상에서만 올려서 크롤링하는 방법 \n",
    "- window가 지원되지 않는 환경에서 사용이 가능\n",
    "- chrome version 60.0.0.0 이상부터 지원 합니다."
   ]
  },
  {
   "cell_type": "code",
   "execution_count": 19,
   "id": "ec5daf36",
   "metadata": {},
   "outputs": [
    {
     "name": "stdout",
     "output_type": "stream",
     "text": [
      "4300+ talks to stir your curiosity\n"
     ]
    }
   ],
   "source": [
    "options = webdriver.ChromeOptions()\n",
    "options.add_argument('headless')\n",
    "driver = webdriver.Chrome(options=options)\n",
    "\n",
    "driver.get('https://www.ted.com/talks')\n",
    "selector = '.talks-header__title'\n",
    "txt = driver.find_element(By.CSS_SELECTOR, selector).text\n",
    "\n",
    "driver.quit()\n",
    "\n",
    "print(txt)"
   ]
  },
  {
   "cell_type": "code",
   "execution_count": null,
   "id": "a5030dcb-9bd0-4bb3-80b8-6dc57827442e",
   "metadata": {},
   "outputs": [],
   "source": []
  }
 ],
 "metadata": {
  "kernelspec": {
   "display_name": "lecture",
   "language": "python",
   "name": "lecture"
  },
  "language_info": {
   "codemirror_mode": {
    "name": "ipython",
    "version": 3
   },
   "file_extension": ".py",
   "mimetype": "text/x-python",
   "name": "python",
   "nbconvert_exporter": "python",
   "pygments_lexer": "ipython3",
   "version": "3.7.16"
  },
  "toc": {
   "base_numbering": 1,
   "nav_menu": {},
   "number_sections": false,
   "sideBar": true,
   "skip_h1_title": false,
   "title_cell": "Table of Contents",
   "title_sidebar": "Contents",
   "toc_cell": false,
   "toc_position": {},
   "toc_section_display": true,
   "toc_window_display": false
  }
 },
 "nbformat": 4,
 "nbformat_minor": 5
}
